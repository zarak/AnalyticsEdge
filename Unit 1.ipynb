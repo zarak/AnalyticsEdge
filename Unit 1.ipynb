{
 "cells": [
  {
   "cell_type": "markdown",
   "metadata": {},
   "source": [
    "# Working with Data: An Introduction to R"
   ]
  },
  {
   "cell_type": "markdown",
   "metadata": {},
   "source": [
    "## Video 3: Vectors and Data Frames"
   ]
  },
  {
   "cell_type": "code",
   "execution_count": 2,
   "metadata": {
    "collapsed": false
   },
   "outputs": [
    {
     "data": {
      "text/html": [
       "<ol class=list-inline>\n",
       "\t<li>2</li>\n",
       "\t<li>3</li>\n",
       "\t<li>5</li>\n",
       "\t<li>8</li>\n",
       "\t<li>13</li>\n",
       "</ol>\n"
      ],
      "text/latex": [
       "\\begin{enumerate*}\n",
       "\\item 2\n",
       "\\item 3\n",
       "\\item 5\n",
       "\\item 8\n",
       "\\item 13\n",
       "\\end{enumerate*}\n"
      ],
      "text/markdown": [
       "1. 2\n",
       "2. 3\n",
       "3. 5\n",
       "4. 8\n",
       "5. 13\n",
       "\n",
       "\n"
      ],
      "text/plain": [
       "[1]  2  3  5  8 13"
      ]
     },
     "execution_count": 2,
     "metadata": {},
     "output_type": "execute_result"
    }
   ],
   "source": [
    "c(2,3,5,8,13)"
   ]
  },
  {
   "cell_type": "code",
   "execution_count": 3,
   "metadata": {
    "collapsed": true
   },
   "outputs": [],
   "source": [
    "Country = c(\"Brazil\", \"China\", \"India\", \"Switzerland\", \"USA\")\n",
    "LifeExpectancy = c(74, 76, 65, 83, 79)"
   ]
  },
  {
   "cell_type": "code",
   "execution_count": 4,
   "metadata": {
    "collapsed": false
   },
   "outputs": [
    {
     "data": {
      "text/html": [
       "<ol class=list-inline>\n",
       "\t<li>'Brazil'</li>\n",
       "\t<li>'China'</li>\n",
       "\t<li>'India'</li>\n",
       "\t<li>'Switzerland'</li>\n",
       "\t<li>'USA'</li>\n",
       "</ol>\n"
      ],
      "text/latex": [
       "\\begin{enumerate*}\n",
       "\\item 'Brazil'\n",
       "\\item 'China'\n",
       "\\item 'India'\n",
       "\\item 'Switzerland'\n",
       "\\item 'USA'\n",
       "\\end{enumerate*}\n"
      ],
      "text/markdown": [
       "1. 'Brazil'\n",
       "2. 'China'\n",
       "3. 'India'\n",
       "4. 'Switzerland'\n",
       "5. 'USA'\n",
       "\n",
       "\n"
      ],
      "text/plain": [
       "[1] \"Brazil\"      \"China\"       \"India\"       \"Switzerland\" \"USA\"        "
      ]
     },
     "execution_count": 4,
     "metadata": {},
     "output_type": "execute_result"
    }
   ],
   "source": [
    "Country"
   ]
  },
  {
   "cell_type": "code",
   "execution_count": 5,
   "metadata": {
    "collapsed": false
   },
   "outputs": [
    {
     "data": {
      "text/html": [
       "<ol class=list-inline>\n",
       "\t<li>74</li>\n",
       "\t<li>76</li>\n",
       "\t<li>65</li>\n",
       "\t<li>83</li>\n",
       "\t<li>79</li>\n",
       "</ol>\n"
      ],
      "text/latex": [
       "\\begin{enumerate*}\n",
       "\\item 74\n",
       "\\item 76\n",
       "\\item 65\n",
       "\\item 83\n",
       "\\item 79\n",
       "\\end{enumerate*}\n"
      ],
      "text/markdown": [
       "1. 74\n",
       "2. 76\n",
       "3. 65\n",
       "4. 83\n",
       "5. 79\n",
       "\n",
       "\n"
      ],
      "text/plain": [
       "[1] 74 76 65 83 79"
      ]
     },
     "execution_count": 5,
     "metadata": {},
     "output_type": "execute_result"
    }
   ],
   "source": [
    "LifeExpectancy"
   ]
  },
  {
   "cell_type": "code",
   "execution_count": 6,
   "metadata": {
    "collapsed": false
   },
   "outputs": [
    {
     "data": {
      "text/html": [
       "'Brazil'"
      ],
      "text/latex": [
       "'Brazil'"
      ],
      "text/markdown": [
       "'Brazil'"
      ],
      "text/plain": [
       "[1] \"Brazil\""
      ]
     },
     "execution_count": 6,
     "metadata": {},
     "output_type": "execute_result"
    }
   ],
   "source": [
    "Country[1]"
   ]
  },
  {
   "cell_type": "code",
   "execution_count": 7,
   "metadata": {
    "collapsed": false
   },
   "outputs": [
    {
     "data": {
      "text/html": [
       "<ol class=list-inline>\n",
       "\t<li>0</li>\n",
       "\t<li>2</li>\n",
       "\t<li>4</li>\n",
       "\t<li>6</li>\n",
       "\t<li>8</li>\n",
       "\t<li>10</li>\n",
       "\t<li>12</li>\n",
       "\t<li>14</li>\n",
       "\t<li>16</li>\n",
       "\t<li>18</li>\n",
       "\t<li>20</li>\n",
       "\t<li>22</li>\n",
       "\t<li>24</li>\n",
       "\t<li>26</li>\n",
       "\t<li>28</li>\n",
       "\t<li>30</li>\n",
       "\t<li>32</li>\n",
       "\t<li>34</li>\n",
       "\t<li>36</li>\n",
       "\t<li>38</li>\n",
       "\t<li>40</li>\n",
       "\t<li>42</li>\n",
       "\t<li>44</li>\n",
       "\t<li>46</li>\n",
       "\t<li>48</li>\n",
       "\t<li>50</li>\n",
       "\t<li>52</li>\n",
       "\t<li>54</li>\n",
       "\t<li>56</li>\n",
       "\t<li>58</li>\n",
       "\t<li>60</li>\n",
       "\t<li>62</li>\n",
       "\t<li>64</li>\n",
       "\t<li>66</li>\n",
       "\t<li>68</li>\n",
       "\t<li>70</li>\n",
       "\t<li>72</li>\n",
       "\t<li>74</li>\n",
       "\t<li>76</li>\n",
       "\t<li>78</li>\n",
       "\t<li>80</li>\n",
       "\t<li>82</li>\n",
       "\t<li>84</li>\n",
       "\t<li>86</li>\n",
       "\t<li>88</li>\n",
       "\t<li>90</li>\n",
       "\t<li>92</li>\n",
       "\t<li>94</li>\n",
       "\t<li>96</li>\n",
       "\t<li>98</li>\n",
       "\t<li>100</li>\n",
       "</ol>\n"
      ],
      "text/latex": [
       "\\begin{enumerate*}\n",
       "\\item 0\n",
       "\\item 2\n",
       "\\item 4\n",
       "\\item 6\n",
       "\\item 8\n",
       "\\item 10\n",
       "\\item 12\n",
       "\\item 14\n",
       "\\item 16\n",
       "\\item 18\n",
       "\\item 20\n",
       "\\item 22\n",
       "\\item 24\n",
       "\\item 26\n",
       "\\item 28\n",
       "\\item 30\n",
       "\\item 32\n",
       "\\item 34\n",
       "\\item 36\n",
       "\\item 38\n",
       "\\item 40\n",
       "\\item 42\n",
       "\\item 44\n",
       "\\item 46\n",
       "\\item 48\n",
       "\\item 50\n",
       "\\item 52\n",
       "\\item 54\n",
       "\\item 56\n",
       "\\item 58\n",
       "\\item 60\n",
       "\\item 62\n",
       "\\item 64\n",
       "\\item 66\n",
       "\\item 68\n",
       "\\item 70\n",
       "\\item 72\n",
       "\\item 74\n",
       "\\item 76\n",
       "\\item 78\n",
       "\\item 80\n",
       "\\item 82\n",
       "\\item 84\n",
       "\\item 86\n",
       "\\item 88\n",
       "\\item 90\n",
       "\\item 92\n",
       "\\item 94\n",
       "\\item 96\n",
       "\\item 98\n",
       "\\item 100\n",
       "\\end{enumerate*}\n"
      ],
      "text/markdown": [
       "1. 0\n",
       "2. 2\n",
       "3. 4\n",
       "4. 6\n",
       "5. 8\n",
       "6. 10\n",
       "7. 12\n",
       "8. 14\n",
       "9. 16\n",
       "10. 18\n",
       "11. 20\n",
       "12. 22\n",
       "13. 24\n",
       "14. 26\n",
       "15. 28\n",
       "16. 30\n",
       "17. 32\n",
       "18. 34\n",
       "19. 36\n",
       "20. 38\n",
       "21. 40\n",
       "22. 42\n",
       "23. 44\n",
       "24. 46\n",
       "25. 48\n",
       "26. 50\n",
       "27. 52\n",
       "28. 54\n",
       "29. 56\n",
       "30. 58\n",
       "31. 60\n",
       "32. 62\n",
       "33. 64\n",
       "34. 66\n",
       "35. 68\n",
       "36. 70\n",
       "37. 72\n",
       "38. 74\n",
       "39. 76\n",
       "40. 78\n",
       "41. 80\n",
       "42. 82\n",
       "43. 84\n",
       "44. 86\n",
       "45. 88\n",
       "46. 90\n",
       "47. 92\n",
       "48. 94\n",
       "49. 96\n",
       "50. 98\n",
       "51. 100\n",
       "\n",
       "\n"
      ],
      "text/plain": [
       " [1]   0   2   4   6   8  10  12  14  16  18  20  22  24  26  28  30  32  34  36\n",
       "[20]  38  40  42  44  46  48  50  52  54  56  58  60  62  64  66  68  70  72  74\n",
       "[39]  76  78  80  82  84  86  88  90  92  94  96  98 100"
      ]
     },
     "execution_count": 7,
     "metadata": {},
     "output_type": "execute_result"
    }
   ],
   "source": [
    "seq(0,100,2)"
   ]
  },
  {
   "cell_type": "code",
   "execution_count": 8,
   "metadata": {
    "collapsed": false
   },
   "outputs": [
    {
     "data": {
      "text/html": [
       "<table>\n",
       "<thead><tr><th></th><th scope=col>Country</th><th scope=col>LifeExpectancy</th></tr></thead>\n",
       "<tbody>\n",
       "\t<tr><th scope=row>1</th><td>Brazil</td><td>74</td></tr>\n",
       "\t<tr><th scope=row>2</th><td>China</td><td>76</td></tr>\n",
       "\t<tr><th scope=row>3</th><td>India</td><td>65</td></tr>\n",
       "\t<tr><th scope=row>4</th><td>Switzerland</td><td>83</td></tr>\n",
       "\t<tr><th scope=row>5</th><td>USA</td><td>79</td></tr>\n",
       "</tbody>\n",
       "</table>\n"
      ],
      "text/latex": [
       "\\begin{tabular}{r|ll}\n",
       "  & Country & LifeExpectancy\\\\\n",
       "\\hline\n",
       "\t1 & Brazil & 74\\\\\n",
       "\t2 & China & 76\\\\\n",
       "\t3 & India & 65\\\\\n",
       "\t4 & Switzerland & 83\\\\\n",
       "\t5 & USA & 79\\\\\n",
       "\\end{tabular}\n"
      ],
      "text/plain": [
       "      Country LifeExpectancy\n",
       "1      Brazil             74\n",
       "2       China             76\n",
       "3       India             65\n",
       "4 Switzerland             83\n",
       "5         USA             79"
      ]
     },
     "execution_count": 8,
     "metadata": {},
     "output_type": "execute_result"
    }
   ],
   "source": [
    "CountryData = data.frame(Country, LifeExpectancy)\n",
    "CountryData"
   ]
  },
  {
   "cell_type": "code",
   "execution_count": 10,
   "metadata": {
    "collapsed": false
   },
   "outputs": [
    {
     "data": {
      "text/html": [
       "<table>\n",
       "<thead><tr><th></th><th scope=col>Country</th><th scope=col>LifeExpectancy</th><th scope=col>Population</th></tr></thead>\n",
       "<tbody>\n",
       "\t<tr><th scope=row>1</th><td>Brazil</td><td>74</td><td>199000</td></tr>\n",
       "\t<tr><th scope=row>2</th><td>China</td><td>76</td><td>1390000</td></tr>\n",
       "\t<tr><th scope=row>3</th><td>India</td><td>65</td><td>1240000</td></tr>\n",
       "\t<tr><th scope=row>4</th><td>Switzerland</td><td>83</td><td>7997</td></tr>\n",
       "\t<tr><th scope=row>5</th><td>USA</td><td>79</td><td>318000</td></tr>\n",
       "</tbody>\n",
       "</table>\n"
      ],
      "text/latex": [
       "\\begin{tabular}{r|lll}\n",
       "  & Country & LifeExpectancy & Population\\\\\n",
       "\\hline\n",
       "\t1 & Brazil & 74 & 199000\\\\\n",
       "\t2 & China & 76 & 1390000\\\\\n",
       "\t3 & India & 65 & 1240000\\\\\n",
       "\t4 & Switzerland & 83 & 7997\\\\\n",
       "\t5 & USA & 79 & 318000\\\\\n",
       "\\end{tabular}\n"
      ],
      "text/plain": [
       "      Country LifeExpectancy Population\n",
       "1      Brazil             74     199000\n",
       "2       China             76    1390000\n",
       "3       India             65    1240000\n",
       "4 Switzerland             83       7997\n",
       "5         USA             79     318000"
      ]
     },
     "execution_count": 10,
     "metadata": {},
     "output_type": "execute_result"
    }
   ],
   "source": [
    "CountryData$Population = c(199000, 1390000, 1240000, 7997, 318000)\n",
    "CountryData"
   ]
  },
  {
   "cell_type": "code",
   "execution_count": 12,
   "metadata": {
    "collapsed": false
   },
   "outputs": [
    {
     "data": {
      "text/html": [
       "<table>\n",
       "<thead><tr><th></th><th scope=col>Country</th><th scope=col>LifeExpectancy</th><th scope=col>Population</th></tr></thead>\n",
       "<tbody>\n",
       "\t<tr><th scope=row>1</th><td>Australia</td><td>82</td><td>23050</td></tr>\n",
       "\t<tr><th scope=row>2</th><td>Greece</td><td>81</td><td>11125</td></tr>\n",
       "</tbody>\n",
       "</table>\n"
      ],
      "text/latex": [
       "\\begin{tabular}{r|lll}\n",
       "  & Country & LifeExpectancy & Population\\\\\n",
       "\\hline\n",
       "\t1 & Australia & 82 & 23050\\\\\n",
       "\t2 & Greece & 81 & 11125\\\\\n",
       "\\end{tabular}\n"
      ],
      "text/plain": [
       "    Country LifeExpectancy Population\n",
       "1 Australia             82      23050\n",
       "2    Greece             81      11125"
      ]
     },
     "execution_count": 12,
     "metadata": {},
     "output_type": "execute_result"
    }
   ],
   "source": [
    "Country = c(\"Australia\", \"Greece\")\n",
    "LifeExpectancy = c(82, 81)\n",
    "Population = c(23050, 11125)\n",
    "NewCountryData = data.frame(Country, LifeExpectancy, Population)\n",
    "NewCountryData"
   ]
  },
  {
   "cell_type": "code",
   "execution_count": 14,
   "metadata": {
    "collapsed": false
   },
   "outputs": [
    {
     "data": {
      "text/html": [
       "<table>\n",
       "<thead><tr><th></th><th scope=col>Country</th><th scope=col>LifeExpectancy</th><th scope=col>Population</th></tr></thead>\n",
       "<tbody>\n",
       "\t<tr><th scope=row>1</th><td>Brazil</td><td>74</td><td>199000</td></tr>\n",
       "\t<tr><th scope=row>2</th><td>China</td><td>76</td><td>1390000</td></tr>\n",
       "\t<tr><th scope=row>3</th><td>India</td><td>65</td><td>1240000</td></tr>\n",
       "\t<tr><th scope=row>4</th><td>Switzerland</td><td>83</td><td>7997</td></tr>\n",
       "\t<tr><th scope=row>5</th><td>USA</td><td>79</td><td>318000</td></tr>\n",
       "\t<tr><th scope=row>6</th><td>Australia</td><td>82</td><td>23050</td></tr>\n",
       "\t<tr><th scope=row>7</th><td>Greece</td><td>81</td><td>11125</td></tr>\n",
       "</tbody>\n",
       "</table>\n"
      ],
      "text/latex": [
       "\\begin{tabular}{r|lll}\n",
       "  & Country & LifeExpectancy & Population\\\\\n",
       "\\hline\n",
       "\t1 & Brazil & 74 & 199000\\\\\n",
       "\t2 & China & 76 & 1390000\\\\\n",
       "\t3 & India & 65 & 1240000\\\\\n",
       "\t4 & Switzerland & 83 & 7997\\\\\n",
       "\t5 & USA & 79 & 318000\\\\\n",
       "\t6 & Australia & 82 & 23050\\\\\n",
       "\t7 & Greece & 81 & 11125\\\\\n",
       "\\end{tabular}\n"
      ],
      "text/plain": [
       "      Country LifeExpectancy Population\n",
       "1      Brazil             74     199000\n",
       "2       China             76    1390000\n",
       "3       India             65    1240000\n",
       "4 Switzerland             83       7997\n",
       "5         USA             79     318000\n",
       "6   Australia             82      23050\n",
       "7      Greece             81      11125"
      ]
     },
     "execution_count": 14,
     "metadata": {},
     "output_type": "execute_result"
    }
   ],
   "source": [
    "AllCountryData = rbind(CountryData, NewCountryData)\n",
    "AllCountryData"
   ]
  },
  {
   "cell_type": "markdown",
   "metadata": {},
   "source": [
    "## Video 4: Loading Data Files"
   ]
  },
  {
   "cell_type": "code",
   "execution_count": 2,
   "metadata": {
    "collapsed": false
   },
   "outputs": [
    {
     "name": "stdout",
     "output_type": "stream",
     "text": [
      "'data.frame':\t194 obs. of  13 variables:\n",
      " $ Country                      : Factor w/ 194 levels \"Afghanistan\",..: 1 2 3 4 5 6 7 8 9 10 ...\n",
      " $ Region                       : Factor w/ 6 levels \"Africa\",\"Americas\",..: 3 4 1 4 1 2 2 4 6 4 ...\n",
      " $ Population                   : int  29825 3162 38482 78 20821 89 41087 2969 23050 8464 ...\n",
      " $ Under15                      : num  47.4 21.3 27.4 15.2 47.6 ...\n",
      " $ Over60                       : num  3.82 14.93 7.17 22.86 3.84 ...\n",
      " $ FertilityRate                : num  5.4 1.75 2.83 NA 6.1 2.12 2.2 1.74 1.89 1.44 ...\n",
      " $ LifeExpectancy               : int  60 74 73 82 51 75 76 71 82 81 ...\n",
      " $ ChildMortality               : num  98.5 16.7 20 3.2 163.5 ...\n",
      " $ CellularSubscribers          : num  54.3 96.4 99 75.5 48.4 ...\n",
      " $ LiteracyRate                 : num  NA NA NA NA 70.1 99 97.8 99.6 NA NA ...\n",
      " $ GNI                          : num  1140 8820 8310 NA 5230 ...\n",
      " $ PrimarySchoolEnrollmentMale  : num  NA NA 98.2 78.4 93.1 91.1 NA NA 96.9 NA ...\n",
      " $ PrimarySchoolEnrollmentFemale: num  NA NA 96.4 79.4 78.2 84.5 NA NA 97.5 NA ...\n"
     ]
    }
   ],
   "source": [
    "WHO = read.csv(\"WHO.csv\")\n",
    "str(WHO)"
   ]
  },
  {
   "cell_type": "code",
   "execution_count": 17,
   "metadata": {
    "collapsed": false
   },
   "outputs": [
    {
     "data": {
      "text/plain": [
       "                Country                      Region     Population     \n",
       " Afghanistan        :  1   Africa               :46   Min.   :      1  \n",
       " Albania            :  1   Americas             :35   1st Qu.:   1696  \n",
       " Algeria            :  1   Eastern Mediterranean:22   Median :   7790  \n",
       " Andorra            :  1   Europe               :53   Mean   :  36360  \n",
       " Angola             :  1   South-East Asia      :11   3rd Qu.:  24535  \n",
       " Antigua and Barbuda:  1   Western Pacific      :27   Max.   :1390000  \n",
       " (Other)            :188                                               \n",
       "    Under15          Over60      FertilityRate   LifeExpectancy \n",
       " Min.   :13.12   Min.   : 0.81   Min.   :1.260   Min.   :47.00  \n",
       " 1st Qu.:18.72   1st Qu.: 5.20   1st Qu.:1.835   1st Qu.:64.00  \n",
       " Median :28.65   Median : 8.53   Median :2.400   Median :72.50  \n",
       " Mean   :28.73   Mean   :11.16   Mean   :2.941   Mean   :70.01  \n",
       " 3rd Qu.:37.75   3rd Qu.:16.69   3rd Qu.:3.905   3rd Qu.:76.00  \n",
       " Max.   :49.99   Max.   :31.92   Max.   :7.580   Max.   :83.00  \n",
       "                                 NA's   :11                     \n",
       " ChildMortality    CellularSubscribers  LiteracyRate        GNI       \n",
       " Min.   :  2.200   Min.   :  2.57      Min.   :31.10   Min.   :  340  \n",
       " 1st Qu.:  8.425   1st Qu.: 63.57      1st Qu.:71.60   1st Qu.: 2335  \n",
       " Median : 18.600   Median : 97.75      Median :91.80   Median : 7870  \n",
       " Mean   : 36.149   Mean   : 93.64      Mean   :83.71   Mean   :13321  \n",
       " 3rd Qu.: 55.975   3rd Qu.:120.81      3rd Qu.:97.85   3rd Qu.:17558  \n",
       " Max.   :181.600   Max.   :196.41      Max.   :99.80   Max.   :86440  \n",
       "                   NA's   :10          NA's   :91      NA's   :32     \n",
       " PrimarySchoolEnrollmentMale PrimarySchoolEnrollmentFemale\n",
       " Min.   : 37.20              Min.   : 32.50               \n",
       " 1st Qu.: 87.70              1st Qu.: 87.30               \n",
       " Median : 94.70              Median : 95.10               \n",
       " Mean   : 90.85              Mean   : 89.63               \n",
       " 3rd Qu.: 98.10              3rd Qu.: 97.90               \n",
       " Max.   :100.00              Max.   :100.00               \n",
       " NA's   :93                  NA's   :93                   "
      ]
     },
     "execution_count": 17,
     "metadata": {},
     "output_type": "execute_result"
    }
   ],
   "source": [
    "summary(WHO)"
   ]
  },
  {
   "cell_type": "code",
   "execution_count": 21,
   "metadata": {
    "collapsed": false
   },
   "outputs": [
    {
     "name": "stdout",
     "output_type": "stream",
     "text": [
      "'data.frame':\t53 obs. of  13 variables:\n",
      " $ Country                      : Factor w/ 194 levels \"Afghanistan\",..: 2 4 8 10 11 16 17 22 26 42 ...\n",
      " $ Region                       : Factor w/ 6 levels \"Africa\",\"Americas\",..: 4 4 4 4 4 4 4 4 4 4 ...\n",
      " $ Population                   : int  3162 78 2969 8464 9309 9405 11060 3834 7278 4307 ...\n",
      " $ Under15                      : num  21.3 15.2 20.3 14.5 22.2 ...\n",
      " $ Over60                       : num  14.93 22.86 14.06 23.52 8.24 ...\n",
      " $ FertilityRate                : num  1.75 NA 1.74 1.44 1.96 1.47 1.85 1.26 1.51 1.48 ...\n",
      " $ LifeExpectancy               : int  74 82 71 81 71 71 80 76 74 77 ...\n",
      " $ ChildMortality               : num  16.7 3.2 16.4 4 35.2 5.2 4.2 6.7 12.1 4.7 ...\n",
      " $ CellularSubscribers          : num  96.4 75.5 103.6 154.8 108.8 ...\n",
      " $ LiteracyRate                 : num  NA NA 99.6 NA NA NA NA 97.9 NA 98.8 ...\n",
      " $ GNI                          : num  8820 NA 6100 42050 8960 ...\n",
      " $ PrimarySchoolEnrollmentMale  : num  NA 78.4 NA NA 85.3 NA 98.9 86.5 99.3 94.8 ...\n",
      " $ PrimarySchoolEnrollmentFemale: num  NA 79.4 NA NA 84.1 NA 99.2 88.4 99.7 97 ...\n"
     ]
    }
   ],
   "source": [
    "WHO_Europe = subset(WHO, Region == \"Europe\")\n",
    "str(WHO_Europe)"
   ]
  },
  {
   "cell_type": "code",
   "execution_count": 23,
   "metadata": {
    "collapsed": false
   },
   "outputs": [
    {
     "data": {
      "text/html": [
       "<ol class=list-inline>\n",
       "\t<li>'AllCountryData'</li>\n",
       "\t<li>'Country'</li>\n",
       "\t<li>'CountryData'</li>\n",
       "\t<li>'LifeExpectancy'</li>\n",
       "\t<li>'NewCountryData'</li>\n",
       "\t<li>'Population'</li>\n",
       "\t<li>'WHO'</li>\n",
       "\t<li>'WHO_Europe'</li>\n",
       "\t<li>'x'</li>\n",
       "</ol>\n"
      ],
      "text/latex": [
       "\\begin{enumerate*}\n",
       "\\item 'AllCountryData'\n",
       "\\item 'Country'\n",
       "\\item 'CountryData'\n",
       "\\item 'LifeExpectancy'\n",
       "\\item 'NewCountryData'\n",
       "\\item 'Population'\n",
       "\\item 'WHO'\n",
       "\\item 'WHO_Europe'\n",
       "\\item 'x'\n",
       "\\end{enumerate*}\n"
      ],
      "text/markdown": [
       "1. 'AllCountryData'\n",
       "2. 'Country'\n",
       "3. 'CountryData'\n",
       "4. 'LifeExpectancy'\n",
       "5. 'NewCountryData'\n",
       "6. 'Population'\n",
       "7. 'WHO'\n",
       "8. 'WHO_Europe'\n",
       "9. 'x'\n",
       "\n",
       "\n"
      ],
      "text/plain": [
       "[1] \"AllCountryData\" \"Country\"        \"CountryData\"    \"LifeExpectancy\"\n",
       "[5] \"NewCountryData\" \"Population\"     \"WHO\"            \"WHO_Europe\"    \n",
       "[9] \"x\"             "
      ]
     },
     "execution_count": 23,
     "metadata": {},
     "output_type": "execute_result"
    }
   ],
   "source": [
    "write.csv(WHO_Europe, \"WHO_Europe.csv\")\n",
    "ls()"
   ]
  },
  {
   "cell_type": "code",
   "execution_count": 24,
   "metadata": {
    "collapsed": false
   },
   "outputs": [
    {
     "data": {
      "text/html": [
       "<ol class=list-inline>\n",
       "\t<li>'AllCountryData'</li>\n",
       "\t<li>'Country'</li>\n",
       "\t<li>'CountryData'</li>\n",
       "\t<li>'LifeExpectancy'</li>\n",
       "\t<li>'NewCountryData'</li>\n",
       "\t<li>'Population'</li>\n",
       "\t<li>'WHO'</li>\n",
       "\t<li>'x'</li>\n",
       "</ol>\n"
      ],
      "text/latex": [
       "\\begin{enumerate*}\n",
       "\\item 'AllCountryData'\n",
       "\\item 'Country'\n",
       "\\item 'CountryData'\n",
       "\\item 'LifeExpectancy'\n",
       "\\item 'NewCountryData'\n",
       "\\item 'Population'\n",
       "\\item 'WHO'\n",
       "\\item 'x'\n",
       "\\end{enumerate*}\n"
      ],
      "text/markdown": [
       "1. 'AllCountryData'\n",
       "2. 'Country'\n",
       "3. 'CountryData'\n",
       "4. 'LifeExpectancy'\n",
       "5. 'NewCountryData'\n",
       "6. 'Population'\n",
       "7. 'WHO'\n",
       "8. 'x'\n",
       "\n",
       "\n"
      ],
      "text/plain": [
       "[1] \"AllCountryData\" \"Country\"        \"CountryData\"    \"LifeExpectancy\"\n",
       "[5] \"NewCountryData\" \"Population\"     \"WHO\"            \"x\"             "
      ]
     },
     "execution_count": 24,
     "metadata": {},
     "output_type": "execute_result"
    }
   ],
   "source": [
    "rm(WHO_Europe)\n",
    "ls()"
   ]
  },
  {
   "cell_type": "markdown",
   "metadata": {},
   "source": [
    "## Video 5: Data Analysis - Summary Statistics and Scatterplots"
   ]
  },
  {
   "cell_type": "code",
   "execution_count": 25,
   "metadata": {
    "collapsed": false
   },
   "outputs": [
    {
     "data": {
      "text/html": [
       "28.7324226804124"
      ],
      "text/latex": [
       "28.7324226804124"
      ],
      "text/markdown": [
       "28.7324226804124"
      ],
      "text/plain": [
       "[1] 28.73242"
      ]
     },
     "execution_count": 25,
     "metadata": {},
     "output_type": "execute_result"
    }
   ],
   "source": [
    "mean(WHO$Under15)"
   ]
  },
  {
   "cell_type": "code",
   "execution_count": 26,
   "metadata": {
    "collapsed": false
   },
   "outputs": [
    {
     "data": {
      "text/html": [
       "10.5345733199238"
      ],
      "text/latex": [
       "10.5345733199238"
      ],
      "text/markdown": [
       "10.5345733199238"
      ],
      "text/plain": [
       "[1] 10.53457"
      ]
     },
     "execution_count": 26,
     "metadata": {},
     "output_type": "execute_result"
    }
   ],
   "source": [
    "sd(WHO$Under15)"
   ]
  },
  {
   "cell_type": "code",
   "execution_count": 27,
   "metadata": {
    "collapsed": false
   },
   "outputs": [
    {
     "data": {
      "text/plain": [
       "   Min. 1st Qu.  Median    Mean 3rd Qu.    Max. \n",
       "  13.12   18.72   28.65   28.73   37.75   49.99 "
      ]
     },
     "execution_count": 27,
     "metadata": {},
     "output_type": "execute_result"
    }
   ],
   "source": [
    "summary(WHO$Under15)"
   ]
  },
  {
   "cell_type": "code",
   "execution_count": 28,
   "metadata": {
    "collapsed": false
   },
   "outputs": [
    {
     "data": {
      "text/html": [
       "86"
      ],
      "text/latex": [
       "86"
      ],
      "text/markdown": [
       "86"
      ],
      "text/plain": [
       "[1] 86"
      ]
     },
     "execution_count": 28,
     "metadata": {},
     "output_type": "execute_result"
    }
   ],
   "source": [
    "which.min(WHO$Under15)"
   ]
  },
  {
   "cell_type": "code",
   "execution_count": 29,
   "metadata": {
    "collapsed": false
   },
   "outputs": [
    {
     "data": {
      "text/html": [
       "Japan"
      ],
      "text/latex": [
       "Japan"
      ],
      "text/markdown": [
       "Japan"
      ],
      "text/plain": [
       "[1] Japan\n",
       "194 Levels: Afghanistan Albania Algeria Andorra Angola ... Zimbabwe"
      ]
     },
     "execution_count": 29,
     "metadata": {},
     "output_type": "execute_result"
    }
   ],
   "source": [
    "WHO$Country[86]"
   ]
  },
  {
   "cell_type": "code",
   "execution_count": 30,
   "metadata": {
    "collapsed": false
   },
   "outputs": [
    {
     "data": {
      "text/html": [
       "Niger"
      ],
      "text/latex": [
       "Niger"
      ],
      "text/markdown": [
       "Niger"
      ],
      "text/plain": [
       "[1] Niger\n",
       "194 Levels: Afghanistan Albania Algeria Andorra Angola ... Zimbabwe"
      ]
     },
     "execution_count": 30,
     "metadata": {},
     "output_type": "execute_result"
    }
   ],
   "source": [
    "WHO$Country[which.max(WHO$Under15)]"
   ]
  },
  {
   "cell_type": "code",
   "execution_count": 31,
   "metadata": {
    "collapsed": false
   },
   "outputs": [
    {
     "data": {
      "image/png": "[encoded data removed]",
      "image/svg+xml": [
       "<?xml version=\"1.0\" encoding=\"UTF-8\"?>\n",
       "<svg xmlns=\"http://www.w3.org/2000/svg\" xmlns:xlink=\"http://www.w3.org/1999/xlink\" width=\"504pt\" height=\"504pt\" viewBox=\"0 0 504 504\" version=\"1.1\">\n",
       "<defs>\n",
       "<g>\n",
       "<symbol overflow=\"visible\" id=\"glyph0-0\">\n",
       "<path style=\"stroke:none;\" d=\"\"/>\n",
       "</symbol>\n",
       "<symbol overflow=\"visible\" id=\"glyph0-1\">\n",
       "<path style=\"stroke:none;\" d=\"M 4.667969 -5.875 C 4.980469 -5.296875 5.136719 -4.507812 5.136719 -3.507812 C 5.136719 -2.554688 4.996094 -1.769531 4.710938 -1.148438 C 4.300781 -0.257812 3.632812 0.191406 2.699219 0.191406 C 1.859375 0.191406 1.234375 -0.175781 0.824219 -0.902344 C 0.484375 -1.511719 0.3125 -2.328125 0.3125 -3.355469 C 0.3125 -4.148438 0.414062 -4.832031 0.621094 -5.398438 C 1.003906 -6.460938 1.699219 -6.992188 2.703125 -6.992188 C 3.609375 -6.992188 4.265625 -6.621094 4.667969 -5.875 Z M 3.785156 -1.214844 C 4.054688 -1.617188 4.1875 -2.371094 4.1875 -3.472656 C 4.1875 -4.265625 4.09375 -4.917969 3.898438 -5.433594 C 3.703125 -5.945312 3.320312 -6.203125 2.757812 -6.203125 C 2.242188 -6.203125 1.863281 -5.957031 1.625 -5.472656 C 1.382812 -4.984375 1.265625 -4.265625 1.265625 -3.320312 C 1.265625 -2.609375 1.339844 -2.035156 1.492188 -1.601562 C 1.726562 -0.941406 2.128906 -0.609375 2.695312 -0.609375 C 3.152344 -0.609375 3.515625 -0.8125 3.785156 -1.214844 Z M 3.785156 -1.214844 \"/>\n",
       "</symbol>\n",
       "<symbol overflow=\"visible\" id=\"glyph0-2\">\n",
       "<path style=\"stroke:none;\" d=\"M 0.6875 -1.570312 C 0.902344 -2.015625 1.324219 -2.421875 1.953125 -2.789062 L 2.890625 -3.328125 C 3.3125 -3.574219 3.605469 -3.78125 3.773438 -3.953125 C 4.039062 -4.226562 4.175781 -4.535156 4.175781 -4.882812 C 4.175781 -5.289062 4.054688 -5.613281 3.808594 -5.851562 C 3.5625 -6.089844 3.238281 -6.210938 2.832031 -6.210938 C 2.230469 -6.210938 1.8125 -5.984375 1.582031 -5.527344 C 1.457031 -5.28125 1.390625 -4.945312 1.375 -4.511719 L 0.484375 -4.511719 C 0.492188 -5.121094 0.605469 -5.617188 0.820312 -6 C 1.203125 -6.679688 1.875 -7.015625 2.835938 -7.015625 C 3.636719 -7.015625 4.222656 -6.800781 4.59375 -6.367188 C 4.960938 -5.933594 5.148438 -5.453125 5.148438 -4.921875 C 5.148438 -4.363281 4.949219 -3.882812 4.554688 -3.484375 C 4.328125 -3.253906 3.917969 -2.976562 3.328125 -2.648438 L 2.660156 -2.273438 C 2.34375 -2.097656 2.089844 -1.933594 1.910156 -1.773438 C 1.585938 -1.488281 1.378906 -1.175781 1.292969 -0.828125 L 5.113281 -0.828125 L 5.113281 0 L 0.3125 0 C 0.34375 -0.601562 0.46875 -1.125 0.6875 -1.570312 Z M 0.6875 -1.570312 \"/>\n",
       "</symbol>\n",
       "<symbol overflow=\"visible\" id=\"glyph0-3\">\n",
       "<path style=\"stroke:none;\" d=\"M 3.304688 -2.476562 L 3.304688 -5.644531 L 1.0625 -2.476562 Z M 3.320312 0 L 3.320312 -1.710938 L 0.253906 -1.710938 L 0.253906 -2.570312 L 3.457031 -7.011719 L 4.199219 -7.011719 L 4.199219 -2.476562 L 5.230469 -2.476562 L 5.230469 -1.710938 L 4.199219 -1.710938 L 4.199219 0 Z M 3.320312 0 \"/>\n",
       "</symbol>\n",
       "<symbol overflow=\"visible\" id=\"glyph0-4\">\n",
       "<path style=\"stroke:none;\" d=\"M 4.558594 -6.414062 C 4.867188 -6.007812 5.019531 -5.589844 5.019531 -5.160156 L 4.148438 -5.160156 C 4.097656 -5.4375 4.015625 -5.65625 3.902344 -5.8125 C 3.691406 -6.105469 3.367188 -6.25 2.9375 -6.25 C 2.445312 -6.25 2.058594 -6.023438 1.765625 -5.570312 C 1.476562 -5.117188 1.316406 -4.464844 1.285156 -3.617188 C 1.484375 -3.914062 1.738281 -4.136719 2.046875 -4.28125 C 2.328125 -4.414062 2.636719 -4.476562 2.984375 -4.476562 C 3.570312 -4.476562 4.082031 -4.289062 4.515625 -3.914062 C 4.953125 -3.539062 5.171875 -2.984375 5.171875 -2.242188 C 5.171875 -1.605469 4.964844 -1.042969 4.550781 -0.554688 C 4.136719 -0.0625 3.546875 0.179688 2.78125 0.179688 C 2.128906 0.179688 1.5625 -0.0664062 1.089844 -0.5625 C 0.613281 -1.058594 0.375 -1.894531 0.375 -3.070312 C 0.375 -3.941406 0.480469 -4.679688 0.695312 -5.28125 C 1.101562 -6.441406 1.84375 -7.023438 2.925781 -7.023438 C 3.707031 -7.023438 4.25 -6.820312 4.558594 -6.414062 Z M 3.898438 -1.066406 C 4.128906 -1.378906 4.242188 -1.746094 4.242188 -2.167969 C 4.242188 -2.527344 4.140625 -2.867188 3.9375 -3.191406 C 3.730469 -3.515625 3.359375 -3.675781 2.816406 -3.675781 C 2.4375 -3.675781 2.109375 -3.550781 1.824219 -3.300781 C 1.539062 -3.050781 1.398438 -2.671875 1.398438 -2.167969 C 1.398438 -1.726562 1.527344 -1.351562 1.785156 -1.050781 C 2.042969 -0.75 2.402344 -0.601562 2.859375 -0.601562 C 3.324219 -0.601562 3.667969 -0.757812 3.898438 -1.066406 Z M 3.898438 -1.066406 \"/>\n",
       "</symbol>\n",
       "<symbol overflow=\"visible\" id=\"glyph0-5\">\n",
       "<path style=\"stroke:none;\" d=\"M 3.628906 -4.386719 C 3.847656 -4.601562 3.953125 -4.863281 3.953125 -5.160156 C 3.953125 -5.421875 3.851562 -5.660156 3.640625 -5.878906 C 3.433594 -6.097656 3.117188 -6.207031 2.691406 -6.207031 C 2.265625 -6.207031 1.960938 -6.097656 1.773438 -5.878906 C 1.585938 -5.660156 1.488281 -5.40625 1.488281 -5.113281 C 1.488281 -4.785156 1.609375 -4.527344 1.855469 -4.339844 C 2.101562 -4.15625 2.386719 -4.0625 2.71875 -4.0625 C 3.105469 -4.0625 3.410156 -4.171875 3.628906 -4.386719 Z M 3.785156 -0.929688 C 4.054688 -1.148438 4.1875 -1.476562 4.1875 -1.914062 C 4.1875 -2.367188 4.050781 -2.710938 3.773438 -2.945312 C 3.496094 -3.179688 3.144531 -3.296875 2.710938 -3.296875 C 2.289062 -3.296875 1.949219 -3.175781 1.683594 -2.9375 C 1.417969 -2.699219 1.285156 -2.367188 1.285156 -1.945312 C 1.285156 -1.578125 1.40625 -1.265625 1.648438 -1 C 1.890625 -0.734375 2.265625 -0.601562 2.773438 -0.601562 C 3.179688 -0.601562 3.519531 -0.710938 3.785156 -0.929688 Z M 0.953125 -4.09375 C 0.695312 -4.351562 0.566406 -4.691406 0.566406 -5.109375 C 0.566406 -5.628906 0.753906 -6.074219 1.132812 -6.449219 C 1.511719 -6.824219 2.046875 -7.011719 2.738281 -7.011719 C 3.410156 -7.011719 3.9375 -6.835938 4.316406 -6.480469 C 4.695312 -6.128906 4.886719 -5.714844 4.886719 -5.242188 C 4.886719 -4.808594 4.777344 -4.453125 4.554688 -4.183594 C 4.429688 -4.03125 4.238281 -3.882812 3.980469 -3.734375 C 4.269531 -3.601562 4.496094 -3.449219 4.664062 -3.277344 C 4.972656 -2.953125 5.125 -2.527344 5.125 -2.007812 C 5.125 -1.390625 4.921875 -0.871094 4.507812 -0.441406 C 4.09375 -0.015625 3.507812 0.199219 2.753906 0.199219 C 2.074219 0.199219 1.5 0.015625 1.027344 -0.355469 C 0.558594 -0.722656 0.320312 -1.257812 0.320312 -1.960938 C 0.320312 -2.375 0.421875 -2.734375 0.625 -3.035156 C 0.828125 -3.335938 1.125 -3.566406 1.523438 -3.726562 C 1.28125 -3.828125 1.089844 -3.953125 0.953125 -4.09375 Z M 0.953125 -4.09375 \"/>\n",
       "</symbol>\n",
       "<symbol overflow=\"visible\" id=\"glyph0-6\">\n",
       "<path style=\"stroke:none;\" d=\"M 1.234375 -7.171875 L 2.585938 -1.335938 L 4.210938 -7.171875 L 5.265625 -7.171875 L 6.882812 -1.335938 L 8.238281 -7.171875 L 9.300781 -7.171875 L 7.417969 0 L 6.398438 0 L 4.742188 -5.945312 L 3.078125 0 L 2.054688 0 L 0.179688 -7.171875 Z M 1.234375 -7.171875 \"/>\n",
       "</symbol>\n",
       "<symbol overflow=\"visible\" id=\"glyph0-7\">\n",
       "<path style=\"stroke:none;\" d=\"M 0.785156 -7.171875 L 1.765625 -7.171875 L 1.765625 -4.210938 L 5.5 -4.210938 L 5.5 -7.171875 L 6.480469 -7.171875 L 6.480469 0 L 5.5 0 L 5.5 -3.355469 L 1.765625 -3.355469 L 1.765625 0 L 0.785156 0 Z M 0.785156 -7.171875 \"/>\n",
       "</symbol>\n",
       "<symbol overflow=\"visible\" id=\"glyph0-8\">\n",
       "<path style=\"stroke:none;\" d=\"M 6.671875 -6.148438 C 7.144531 -5.511719 7.382812 -4.699219 7.382812 -3.710938 C 7.382812 -2.640625 7.109375 -1.75 6.566406 -1.039062 C 5.929688 -0.207031 5.019531 0.210938 3.835938 0.210938 C 2.734375 0.210938 1.867188 -0.15625 1.234375 -0.882812 C 0.671875 -1.585938 0.390625 -2.476562 0.390625 -3.550781 C 0.390625 -4.519531 0.632812 -5.351562 1.113281 -6.039062 C 1.730469 -6.925781 2.648438 -7.367188 3.859375 -7.367188 C 5.125 -7.367188 6.0625 -6.960938 6.671875 -6.148438 Z M 5.8125 -1.578125 C 6.195312 -2.191406 6.386719 -2.898438 6.386719 -3.695312 C 6.386719 -4.539062 6.167969 -5.21875 5.726562 -5.734375 C 5.285156 -6.246094 4.679688 -6.503906 3.914062 -6.503906 C 3.171875 -6.503906 2.570312 -6.25 2.101562 -5.738281 C 1.632812 -5.230469 1.398438 -4.480469 1.398438 -3.484375 C 1.398438 -2.691406 1.597656 -2.023438 2 -1.476562 C 2.402344 -0.929688 3.054688 -0.660156 3.953125 -0.660156 C 4.8125 -0.660156 5.429688 -0.964844 5.8125 -1.578125 Z M 5.8125 -1.578125 \"/>\n",
       "</symbol>\n",
       "<symbol overflow=\"visible\" id=\"glyph0-9\">\n",
       "<path style=\"stroke:none;\" d=\"M 4.136719 -1.117188 C 4.246094 -1.3125 4.300781 -1.539062 4.300781 -1.796875 C 4.300781 -2.203125 4.152344 -2.511719 3.851562 -2.726562 C 3.679688 -2.847656 3.390625 -2.964844 2.984375 -3.078125 L 2.984375 -0.507812 C 3.539062 -0.535156 3.925781 -0.738281 4.136719 -1.117188 Z M 1.648438 -4.460938 C 1.859375 -4.28125 2.148438 -4.152344 2.507812 -4.082031 L 2.507812 -6.375 C 2.082031 -6.359375 1.78125 -6.230469 1.597656 -5.984375 C 1.417969 -5.742188 1.328125 -5.488281 1.328125 -5.21875 C 1.328125 -4.898438 1.433594 -4.644531 1.648438 -4.460938 Z M 0.992188 -6.5 C 1.355469 -6.898438 1.867188 -7.097656 2.519531 -7.105469 L 2.519531 -7.753906 L 2.984375 -7.753906 L 2.984375 -7.113281 C 3.632812 -7.070312 4.128906 -6.878906 4.476562 -6.539062 C 4.820312 -6.203125 5.003906 -5.757812 5.019531 -5.203125 L 4.164062 -5.203125 C 4.140625 -5.453125 4.074219 -5.664062 3.964844 -5.84375 C 3.757812 -6.171875 3.433594 -6.347656 2.984375 -6.363281 L 2.984375 -3.988281 C 3.738281 -3.777344 4.25 -3.578125 4.523438 -3.394531 C 4.960938 -3.085938 5.179688 -2.636719 5.179688 -2.035156 C 5.179688 -1.171875 4.898438 -0.554688 4.335938 -0.191406 C 4.023438 0.0117188 3.574219 0.144531 2.984375 0.210938 L 2.984375 1.15625 L 2.519531 1.15625 L 2.519531 0.210938 C 1.570312 0.148438 0.929688 -0.1875 0.589844 -0.796875 C 0.40625 -1.125 0.3125 -1.570312 0.3125 -2.128906 L 1.175781 -2.128906 C 1.203125 -1.683594 1.273438 -1.359375 1.386719 -1.152344 C 1.589844 -0.785156 1.960938 -0.578125 2.507812 -0.53125 L 2.507812 -3.195312 C 1.804688 -3.328125 1.289062 -3.550781 0.953125 -3.863281 C 0.617188 -4.175781 0.449219 -4.609375 0.449219 -5.160156 C 0.449219 -5.65625 0.628906 -6.101562 0.992188 -6.5 Z M 0.992188 -6.5 \"/>\n",
       "</symbol>\n",
       "<symbol overflow=\"visible\" id=\"glyph0-10\">\n",
       "<path style=\"stroke:none;\" d=\"M 5.609375 -6.96875 C 6.324219 -6.59375 6.757812 -5.9375 6.917969 -5 L 5.957031 -5 C 5.839844 -5.523438 5.597656 -5.90625 5.230469 -6.144531 C 4.863281 -6.382812 4.398438 -6.503906 3.835938 -6.503906 C 3.171875 -6.503906 2.613281 -6.253906 2.160156 -5.757812 C 1.707031 -5.257812 1.480469 -4.515625 1.480469 -3.53125 C 1.480469 -2.679688 1.667969 -1.984375 2.039062 -1.449219 C 2.414062 -0.914062 3.027344 -0.644531 3.871094 -0.644531 C 4.519531 -0.644531 5.054688 -0.832031 5.480469 -1.207031 C 5.90625 -1.585938 6.125 -2.191406 6.132812 -3.03125 L 3.886719 -3.03125 L 3.886719 -3.835938 L 7.035156 -3.835938 L 7.035156 0 L 6.410156 0 L 6.175781 -0.921875 C 5.847656 -0.5625 5.554688 -0.3125 5.304688 -0.171875 C 4.875 0.0703125 4.335938 0.191406 3.675781 0.191406 C 2.828125 0.191406 2.097656 -0.0859375 1.484375 -0.632812 C 0.816406 -1.324219 0.484375 -2.273438 0.484375 -3.476562 C 0.484375 -4.679688 0.808594 -5.632812 1.460938 -6.34375 C 2.078125 -7.019531 2.878906 -7.359375 3.863281 -7.359375 C 4.535156 -7.359375 5.117188 -7.226562 5.609375 -6.96875 Z M 5.609375 -6.96875 \"/>\n",
       "</symbol>\n",
       "<symbol overflow=\"visible\" id=\"glyph0-11\">\n",
       "<path style=\"stroke:none;\" d=\"M 0.761719 -7.171875 L 1.910156 -7.171875 L 5.53125 -1.363281 L 5.53125 -7.171875 L 6.453125 -7.171875 L 6.453125 0 L 5.367188 0 L 1.6875 -5.804688 L 1.6875 0 L 0.761719 0 Z M 0.761719 -7.171875 \"/>\n",
       "</symbol>\n",
       "<symbol overflow=\"visible\" id=\"glyph0-12\">\n",
       "<path style=\"stroke:none;\" d=\"M 0.980469 -7.171875 L 1.960938 -7.171875 L 1.960938 0 L 0.980469 0 Z M 0.980469 -7.171875 \"/>\n",
       "</symbol>\n",
       "<symbol overflow=\"visible\" id=\"glyph1-0\">\n",
       "<path style=\"stroke:none;\" d=\"\"/>\n",
       "</symbol>\n",
       "<symbol overflow=\"visible\" id=\"glyph1-1\">\n",
       "<path style=\"stroke:none;\" d=\"M -1.570312 -0.6875 C -2.015625 -0.902344 -2.421875 -1.324219 -2.789062 -1.953125 L -3.328125 -2.890625 C -3.574219 -3.3125 -3.78125 -3.605469 -3.953125 -3.773438 C -4.226562 -4.039062 -4.535156 -4.175781 -4.882812 -4.175781 C -5.289062 -4.175781 -5.613281 -4.054688 -5.851562 -3.808594 C -6.089844 -3.5625 -6.210938 -3.238281 -6.210938 -2.832031 C -6.210938 -2.230469 -5.984375 -1.8125 -5.527344 -1.582031 C -5.28125 -1.457031 -4.945312 -1.390625 -4.511719 -1.378906 L -4.511719 -0.484375 C -5.121094 -0.492188 -5.617188 -0.605469 -6 -0.820312 C -6.679688 -1.203125 -7.015625 -1.875 -7.015625 -2.835938 C -7.015625 -3.636719 -6.800781 -4.222656 -6.367188 -4.59375 C -5.933594 -4.960938 -5.453125 -5.148438 -4.921875 -5.148438 C -4.363281 -5.148438 -3.882812 -4.949219 -3.484375 -4.554688 C -3.253906 -4.328125 -2.976562 -3.917969 -2.648438 -3.328125 L -2.273438 -2.660156 C -2.097656 -2.34375 -1.933594 -2.089844 -1.773438 -1.910156 C -1.488281 -1.585938 -1.175781 -1.378906 -0.828125 -1.292969 L -0.828125 -5.113281 L 0 -5.113281 L 0 -0.3125 C -0.601562 -0.34375 -1.125 -0.46875 -1.570312 -0.6875 Z M -1.570312 -0.6875 \"/>\n",
       "</symbol>\n",
       "<symbol overflow=\"visible\" id=\"glyph1-2\">\n",
       "<path style=\"stroke:none;\" d=\"M -0.492188 -0.796875 C -0.945312 -0.425781 -1.496094 -0.238281 -2.148438 -0.238281 L -2.148438 -1.15625 C -1.695312 -1.195312 -1.367188 -1.28125 -1.164062 -1.410156 C -0.796875 -1.640625 -0.609375 -2.050781 -0.609375 -2.648438 C -0.609375 -3.109375 -0.734375 -3.480469 -0.980469 -3.757812 C -1.226562 -4.039062 -1.546875 -4.179688 -1.9375 -4.179688 C -2.417969 -4.179688 -2.757812 -4.03125 -2.949219 -3.738281 C -3.140625 -3.445312 -3.238281 -3.035156 -3.238281 -2.507812 C -3.238281 -2.449219 -3.238281 -2.390625 -3.234375 -2.332031 C -3.234375 -2.273438 -3.230469 -2.210938 -3.226562 -2.148438 L -4.003906 -2.148438 C -3.992188 -2.238281 -3.988281 -2.316406 -3.984375 -2.378906 C -3.980469 -2.441406 -3.980469 -2.507812 -3.980469 -2.578125 C -3.980469 -2.90625 -4.03125 -3.175781 -4.136719 -3.390625 C -4.320312 -3.761719 -4.644531 -3.945312 -5.113281 -3.945312 C -5.460938 -3.945312 -5.730469 -3.820312 -5.917969 -3.574219 C -6.105469 -3.328125 -6.203125 -3.039062 -6.203125 -2.710938 C -6.203125 -2.125 -6.007812 -1.71875 -5.617188 -1.496094 C -5.402344 -1.371094 -5.09375 -1.300781 -4.695312 -1.285156 L -4.695312 -0.414062 C -5.21875 -0.414062 -5.660156 -0.519531 -6.023438 -0.726562 C -6.675781 -1.085938 -7 -1.714844 -7 -2.617188 C -7 -3.328125 -6.84375 -3.882812 -6.527344 -4.273438 C -6.210938 -4.664062 -5.75 -4.859375 -5.148438 -4.859375 C -4.71875 -4.859375 -4.367188 -4.742188 -4.101562 -4.511719 C -3.9375 -4.367188 -3.804688 -4.183594 -3.710938 -3.957031 C -3.609375 -4.324219 -3.414062 -4.609375 -3.128906 -4.816406 C -2.839844 -5.023438 -2.488281 -5.125 -2.070312 -5.125 C -1.402344 -5.125 -0.859375 -4.90625 -0.4375 -4.46875 C -0.0195312 -4.027344 0.191406 -3.40625 0.191406 -2.597656 C 0.191406 -1.769531 -0.0351562 -1.171875 -0.492188 -0.796875 Z M -0.492188 -0.796875 \"/>\n",
       "</symbol>\n",
       "<symbol overflow=\"visible\" id=\"glyph1-3\">\n",
       "<path style=\"stroke:none;\" d=\"M -2.476562 -3.304688 L -5.644531 -3.304688 L -2.476562 -1.066406 Z M 0 -3.320312 L -1.707031 -3.320312 L -1.710938 -0.253906 L -2.570312 -0.253906 L -7.011719 -3.457031 L -7.011719 -4.199219 L -2.476562 -4.199219 L -2.476562 -5.230469 L -1.707031 -5.230469 L -1.707031 -4.199219 L 0 -4.199219 Z M 0 -3.320312 \"/>\n",
       "</symbol>\n",
       "<symbol overflow=\"visible\" id=\"glyph1-4\">\n",
       "<path style=\"stroke:none;\" d=\"M -1.78125 -1.234375 C -1.28125 -1.292969 -0.933594 -1.527344 -0.742188 -1.933594 C -0.644531 -2.140625 -0.59375 -2.382812 -0.59375 -2.65625 C -0.59375 -3.175781 -0.761719 -3.5625 -1.09375 -3.8125 C -1.425781 -4.0625 -1.792969 -4.1875 -2.195312 -4.1875 C -2.683594 -4.1875 -3.0625 -4.039062 -3.328125 -3.742188 C -3.597656 -3.445312 -3.730469 -3.085938 -3.730469 -2.671875 C -3.730469 -2.367188 -3.671875 -2.109375 -3.554688 -1.890625 C -3.4375 -1.675781 -3.273438 -1.492188 -3.066406 -1.339844 L -3.109375 -0.578125 L -6.875 -1.109375 L -6.875 -4.742188 L -6.023438 -4.742188 L -6.023438 -1.769531 L -4.082031 -1.46875 C -4.207031 -1.632812 -4.296875 -1.789062 -4.359375 -1.933594 C -4.46875 -2.195312 -4.523438 -2.496094 -4.523438 -2.835938 C -4.523438 -3.476562 -4.316406 -4.023438 -3.902344 -4.46875 C -3.488281 -4.914062 -2.964844 -5.136719 -2.328125 -5.136719 C -1.667969 -5.136719 -1.085938 -4.933594 -0.582031 -4.523438 C -0.078125 -4.117188 0.175781 -3.464844 0.175781 -2.570312 C 0.175781 -2 0.015625 -1.496094 -0.304688 -1.058594 C -0.625 -0.621094 -1.117188 -0.375 -1.78125 -0.324219 Z M -1.78125 -1.234375 \"/>\n",
       "</symbol>\n",
       "<symbol overflow=\"visible\" id=\"glyph1-5\">\n",
       "<path style=\"stroke:none;\" d=\"M -6.414062 -4.558594 C -6.007812 -4.867188 -5.589844 -5.019531 -5.160156 -5.019531 L -5.160156 -4.148438 C -5.4375 -4.097656 -5.65625 -4.015625 -5.8125 -3.902344 C -6.105469 -3.691406 -6.25 -3.371094 -6.25 -2.941406 C -6.25 -2.449219 -6.023438 -2.058594 -5.570312 -1.769531 C -5.117188 -1.476562 -4.464844 -1.316406 -3.617188 -1.285156 C -3.914062 -1.484375 -4.136719 -1.738281 -4.28125 -2.046875 C -4.414062 -2.328125 -4.476562 -2.636719 -4.476562 -2.984375 C -4.476562 -3.570312 -4.289062 -4.082031 -3.914062 -4.515625 C -3.539062 -4.953125 -2.984375 -5.171875 -2.242188 -5.171875 C -1.605469 -5.171875 -1.042969 -4.964844 -0.554688 -4.550781 C -0.0625 -4.136719 0.179688 -3.546875 0.179688 -2.78125 C 0.179688 -2.128906 -0.0664062 -1.5625 -0.5625 -1.089844 C -1.058594 -0.613281 -1.894531 -0.375 -3.070312 -0.375 C -3.941406 -0.375 -4.679688 -0.480469 -5.28125 -0.695312 C -6.441406 -1.101562 -7.023438 -1.84375 -7.023438 -2.925781 C -7.023438 -3.707031 -6.820312 -4.25 -6.414062 -4.558594 Z M -1.066406 -3.898438 C -1.378906 -4.128906 -1.746094 -4.242188 -2.167969 -4.242188 C -2.527344 -4.242188 -2.867188 -4.140625 -3.191406 -3.9375 C -3.515625 -3.730469 -3.675781 -3.359375 -3.675781 -2.816406 C -3.675781 -2.441406 -3.550781 -2.109375 -3.300781 -1.824219 C -3.050781 -1.539062 -2.671875 -1.398438 -2.167969 -1.398438 C -1.726562 -1.398438 -1.351562 -1.527344 -1.050781 -1.785156 C -0.75 -2.042969 -0.601562 -2.402344 -0.601562 -2.859375 C -0.601562 -3.324219 -0.757812 -3.667969 -1.066406 -3.898438 Z M -1.066406 -3.898438 \"/>\n",
       "</symbol>\n",
       "<symbol overflow=\"visible\" id=\"glyph1-6\">\n",
       "<path style=\"stroke:none;\" d=\"M -6.875 -5.230469 L -6.109375 -5.230469 C -5.890625 -5.003906 -5.511719 -4.707031 -4.96875 -4.332031 C -4.429688 -3.960938 -3.847656 -3.632812 -3.222656 -3.34375 C -2.613281 -3.0625 -2.058594 -2.847656 -1.558594 -2.699219 C -1.234375 -2.605469 -0.714844 -2.484375 0 -2.335938 L 0 -1.363281 C -1.335938 -1.585938 -2.664062 -2.070312 -3.984375 -2.828125 C -4.757812 -3.273438 -5.429688 -3.742188 -5.992188 -4.234375 L -5.992188 -0.367188 L -6.875 -0.367188 Z M -6.875 -5.230469 \"/>\n",
       "</symbol>\n",
       "<symbol overflow=\"visible\" id=\"glyph1-7\">\n",
       "<path style=\"stroke:none;\" d=\"M -7.171875 -1.234375 L -1.335938 -2.585938 L -7.171875 -4.210938 L -7.171875 -5.265625 L -1.335938 -6.882812 L -7.171875 -8.238281 L -7.171875 -9.300781 L 0 -7.417969 L 0 -6.398438 L -5.945312 -4.742188 L 0 -3.078125 L 0 -2.054688 L -7.171875 -0.179688 Z M -7.171875 -1.234375 \"/>\n",
       "</symbol>\n",
       "<symbol overflow=\"visible\" id=\"glyph1-8\">\n",
       "<path style=\"stroke:none;\" d=\"M -7.171875 -0.785156 L -7.171875 -1.769531 L -4.210938 -1.769531 L -4.210938 -5.5 L -7.171875 -5.5 L -7.171875 -6.480469 L 0 -6.480469 L 0 -5.5 L -3.355469 -5.5 L -3.355469 -1.769531 L 0 -1.765625 L 0 -0.785156 Z M -7.171875 -0.785156 \"/>\n",
       "</symbol>\n",
       "<symbol overflow=\"visible\" id=\"glyph1-9\">\n",
       "<path style=\"stroke:none;\" d=\"M -6.148438 -6.671875 C -5.511719 -7.144531 -4.699219 -7.382812 -3.710938 -7.382812 C -2.640625 -7.382812 -1.75 -7.109375 -1.039062 -6.566406 C -0.207031 -5.929688 0.210938 -5.019531 0.210938 -3.835938 C 0.210938 -2.734375 -0.15625 -1.867188 -0.882812 -1.234375 C -1.585938 -0.671875 -2.476562 -0.390625 -3.550781 -0.390625 C -4.519531 -0.390625 -5.351562 -0.632812 -6.039062 -1.113281 C -6.925781 -1.730469 -7.367188 -2.648438 -7.367188 -3.859375 C -7.367188 -5.125 -6.960938 -6.0625 -6.148438 -6.671875 Z M -1.578125 -5.8125 C -2.191406 -6.195312 -2.898438 -6.386719 -3.695312 -6.386719 C -4.539062 -6.386719 -5.21875 -6.167969 -5.734375 -5.726562 C -6.246094 -5.285156 -6.503906 -4.679688 -6.503906 -3.917969 C -6.503906 -3.175781 -6.25 -2.570312 -5.738281 -2.101562 C -5.230469 -1.632812 -4.480469 -1.398438 -3.484375 -1.398438 C -2.691406 -1.398438 -2.023438 -1.597656 -1.476562 -2 C -0.929688 -2.402344 -0.660156 -3.054688 -0.660156 -3.953125 C -0.660156 -4.8125 -0.964844 -5.429688 -1.578125 -5.8125 Z M -1.578125 -5.8125 \"/>\n",
       "</symbol>\n",
       "<symbol overflow=\"visible\" id=\"glyph1-10\">\n",
       "<path style=\"stroke:none;\" d=\"M -1.117188 -4.136719 C -1.3125 -4.246094 -1.539062 -4.300781 -1.796875 -4.300781 C -2.203125 -4.300781 -2.511719 -4.152344 -2.722656 -3.851562 C -2.847656 -3.679688 -2.964844 -3.390625 -3.078125 -2.984375 L -0.507812 -2.984375 C -0.535156 -3.539062 -0.738281 -3.925781 -1.117188 -4.136719 Z M -4.460938 -1.648438 C -4.28125 -1.859375 -4.152344 -2.148438 -4.082031 -2.511719 L -6.375 -2.511719 C -6.359375 -2.085938 -6.230469 -1.78125 -5.984375 -1.597656 C -5.742188 -1.417969 -5.488281 -1.328125 -5.21875 -1.328125 C -4.898438 -1.328125 -4.644531 -1.433594 -4.460938 -1.648438 Z M -6.5 -0.992188 C -6.898438 -1.355469 -7.097656 -1.867188 -7.105469 -2.519531 L -7.753906 -2.519531 L -7.753906 -2.984375 L -7.113281 -2.984375 C -7.070312 -3.632812 -6.878906 -4.128906 -6.539062 -4.476562 C -6.203125 -4.820312 -5.757812 -5.003906 -5.203125 -5.019531 L -5.203125 -4.164062 C -5.453125 -4.140625 -5.664062 -4.074219 -5.84375 -3.964844 C -6.171875 -3.757812 -6.347656 -3.433594 -6.363281 -2.984375 L -3.988281 -2.984375 C -3.777344 -3.738281 -3.578125 -4.25 -3.394531 -4.523438 C -3.085938 -4.960938 -2.636719 -5.179688 -2.035156 -5.179688 C -1.167969 -5.179688 -0.554688 -4.898438 -0.191406 -4.335938 C 0.0117188 -4.023438 0.144531 -3.574219 0.210938 -2.984375 L 1.15625 -2.984375 L 1.15625 -2.519531 L 0.210938 -2.519531 C 0.148438 -1.570312 -0.1875 -0.929688 -0.796875 -0.589844 C -1.125 -0.40625 -1.570312 -0.3125 -2.128906 -0.3125 L -2.128906 -1.175781 C -1.683594 -1.203125 -1.359375 -1.273438 -1.152344 -1.386719 C -0.785156 -1.589844 -0.578125 -1.960938 -0.53125 -2.507812 L -3.195312 -2.507812 C -3.328125 -1.804688 -3.550781 -1.289062 -3.863281 -0.953125 C -4.175781 -0.617188 -4.609375 -0.449219 -5.160156 -0.449219 C -5.65625 -0.449219 -6.101562 -0.628906 -6.5 -0.992188 Z M -6.5 -0.992188 \"/>\n",
       "</symbol>\n",
       "<symbol overflow=\"visible\" id=\"glyph1-11\">\n",
       "<path style=\"stroke:none;\" d=\"M -7.171875 -0.855469 L -7.171875 -5.828125 L -6.292969 -5.828125 L -6.292969 -1.828125 L -4.117188 -1.828125 L -4.117188 -5.347656 L -3.261719 -5.347656 L -3.261719 -1.828125 L 0 -1.828125 L 0 -0.855469 Z M -7.171875 -0.855469 \"/>\n",
       "</symbol>\n",
       "<symbol overflow=\"visible\" id=\"glyph1-12\">\n",
       "<path style=\"stroke:none;\" d=\"M -5.085938 -3.902344 C -4.910156 -4.25 -4.6875 -4.515625 -4.410156 -4.695312 C -4.144531 -4.871094 -3.835938 -4.992188 -3.484375 -5.046875 C -3.246094 -5.101562 -2.859375 -5.125 -2.332031 -5.125 L -2.335938 -1.292969 C -1.804688 -1.308594 -1.378906 -1.4375 -1.058594 -1.671875 C -0.738281 -1.90625 -0.574219 -2.265625 -0.574219 -2.757812 C -0.574219 -3.21875 -0.726562 -3.585938 -1.03125 -3.859375 C -1.207031 -4.015625 -1.410156 -4.125 -1.640625 -4.1875 L -1.640625 -5.054688 C -1.449219 -5.03125 -1.234375 -4.957031 -1 -4.828125 C -0.761719 -4.699219 -0.570312 -4.554688 -0.417969 -4.394531 C -0.160156 -4.128906 0.015625 -3.796875 0.109375 -3.402344 C 0.160156 -3.191406 0.1875 -2.953125 0.1875 -2.6875 C 0.1875 -2.035156 -0.0507812 -1.484375 -0.523438 -1.03125 C -1 -0.578125 -1.660156 -0.351562 -2.515625 -0.351562 C -3.355469 -0.351562 -4.035156 -0.578125 -4.5625 -1.035156 C -5.085938 -1.492188 -5.347656 -2.085938 -5.347656 -2.824219 C -5.347656 -3.195312 -5.257812 -3.554688 -5.085938 -3.902344 Z M -3.03125 -4.222656 C -3.414062 -4.1875 -3.71875 -4.105469 -3.945312 -3.976562 C -4.367188 -3.734375 -4.578125 -3.332031 -4.578125 -2.769531 C -4.578125 -2.367188 -4.433594 -2.027344 -4.144531 -1.753906 C -3.851562 -1.480469 -3.480469 -1.335938 -3.03125 -1.320312 Z M -3.03125 -4.222656 \"/>\n",
       "</symbol>\n",
       "<symbol overflow=\"visible\" id=\"glyph1-13\">\n",
       "<path style=\"stroke:none;\" d=\"M -5.230469 -0.667969 L -5.230469 -1.503906 L -4.328125 -1.503906 C -4.503906 -1.570312 -4.714844 -1.738281 -4.96875 -2.007812 C -5.21875 -2.273438 -5.347656 -2.582031 -5.347656 -2.929688 C -5.347656 -2.945312 -5.34375 -2.972656 -5.34375 -3.011719 C -5.339844 -3.050781 -5.332031 -3.117188 -5.320312 -3.214844 L -4.394531 -3.214844 C -4.40625 -3.160156 -4.410156 -3.113281 -4.414062 -3.070312 C -4.417969 -3.023438 -4.417969 -2.976562 -4.417969 -2.925781 C -4.417969 -2.484375 -4.277344 -2.140625 -3.992188 -1.90625 C -3.707031 -1.667969 -3.378906 -1.546875 -3.007812 -1.546875 L 0 -1.546875 L 0 -0.667969 Z M -5.230469 -0.667969 \"/>\n",
       "</symbol>\n",
       "<symbol overflow=\"visible\" id=\"glyph1-14\">\n",
       "<path style=\"stroke:none;\" d=\"M -6.6875 -0.820312 L -6.6875 -1.710938 L -5.230469 -1.710938 L -5.230469 -2.542969 L -4.511719 -2.542969 L -4.511719 -1.710938 L -1.097656 -1.710938 C -0.914062 -1.710938 -0.792969 -1.769531 -0.730469 -1.894531 C -0.695312 -1.960938 -0.679688 -2.078125 -0.679688 -2.234375 C -0.679688 -2.277344 -0.679688 -2.324219 -0.679688 -2.375 C -0.683594 -2.421875 -0.6875 -2.480469 -0.691406 -2.542969 L 0 -2.542969 C 0.03125 -2.441406 0.0507812 -2.339844 0.0625 -2.230469 C 0.078125 -2.121094 0.0820312 -2 0.0820312 -1.875 C 0.0820312 -1.464844 -0.0234375 -1.1875 -0.230469 -1.039062 C -0.441406 -0.894531 -0.714844 -0.820312 -1.050781 -0.820312 L -4.511719 -0.820312 L -4.511719 -0.113281 L -5.230469 -0.113281 L -5.230469 -0.820312 Z M -6.6875 -0.820312 \"/>\n",
       "</symbol>\n",
       "<symbol overflow=\"visible\" id=\"glyph1-15\">\n",
       "<path style=\"stroke:none;\" d=\"M -5.203125 -0.644531 L -5.203125 -1.539062 L 0 -1.539062 L 0 -0.644531 Z M -7.171875 -0.644531 L -7.171875 -1.539062 L -6.175781 -1.539062 L -6.175781 -0.644531 Z M -7.171875 -0.644531 \"/>\n",
       "</symbol>\n",
       "<symbol overflow=\"visible\" id=\"glyph1-16\">\n",
       "<path style=\"stroke:none;\" d=\"M -7.171875 -0.667969 L -7.171875 -1.546875 L 0 -1.546875 L 0 -0.667969 Z M -7.171875 -0.667969 \"/>\n",
       "</symbol>\n",
       "<symbol overflow=\"visible\" id=\"glyph1-17\">\n",
       "<path style=\"stroke:none;\" d=\"M -5.230469 -3.910156 L -5.230469 -4.882812 C -4.894531 -4.757812 -4.128906 -4.484375 -2.933594 -4.058594 C -2.035156 -3.738281 -1.304688 -3.472656 -0.738281 -3.257812 C 0.597656 -2.75 1.410156 -2.390625 1.703125 -2.183594 C 1.996094 -1.976562 2.144531 -1.617188 2.144531 -1.109375 C 2.144531 -0.984375 2.140625 -0.890625 2.128906 -0.824219 C 2.117188 -0.757812 2.101562 -0.671875 2.074219 -0.574219 L 1.273438 -0.574219 C 1.316406 -0.726562 1.34375 -0.839844 1.351562 -0.90625 C 1.363281 -0.976562 1.367188 -1.035156 1.367188 -1.089844 C 1.367188 -1.25 1.339844 -1.371094 1.285156 -1.449219 C 1.234375 -1.523438 1.167969 -1.589844 1.089844 -1.640625 C 1.0625 -1.65625 0.929688 -1.714844 0.6875 -1.816406 C 0.449219 -1.917969 0.269531 -1.992188 0.152344 -2.035156 L -5.230469 -0.101562 L -5.230469 -1.097656 L -0.972656 -2.5 Z M -5.230469 -3.910156 \"/>\n",
       "</symbol>\n",
       "<symbol overflow=\"visible\" id=\"glyph1-18\">\n",
       "<path style=\"stroke:none;\" d=\"M -3.886719 -4.097656 C -3.886719 -4.554688 -3.976562 -4.914062 -4.160156 -5.179688 C -4.34375 -5.445312 -4.671875 -5.578125 -5.148438 -5.578125 C -5.65625 -5.578125 -6.007812 -5.390625 -6.191406 -5.019531 C -6.289062 -4.820312 -6.335938 -4.554688 -6.335938 -4.222656 L -6.335938 -1.851562 L -3.886719 -1.851562 Z M -7.171875 -0.878906 L -7.171875 -4.199219 C -7.171875 -4.746094 -7.09375 -5.195312 -6.933594 -5.550781 C -6.628906 -6.226562 -6.0625 -6.5625 -5.238281 -6.5625 C -4.808594 -6.5625 -4.457031 -6.472656 -4.183594 -6.296875 C -3.910156 -6.117188 -3.691406 -5.871094 -3.523438 -5.550781 C -3.410156 -5.832031 -3.261719 -6.042969 -3.074219 -6.183594 C -2.890625 -6.324219 -2.589844 -6.40625 -2.171875 -6.421875 L -1.210938 -6.453125 C -0.9375 -6.464844 -0.734375 -6.488281 -0.601562 -6.523438 C -0.371094 -6.582031 -0.226562 -6.6875 -0.160156 -6.835938 L 0 -6.835938 L 0 -5.644531 C -0.0625 -5.613281 -0.140625 -5.585938 -0.238281 -5.566406 C -0.335938 -5.546875 -0.527344 -5.53125 -0.804688 -5.515625 L -2 -5.460938 C -2.46875 -5.4375 -2.785156 -5.261719 -2.945312 -4.9375 C -3.03125 -4.75 -3.074219 -4.460938 -3.074219 -4.0625 L -3.078125 -1.851562 L 0 -1.851562 L 0 -0.878906 Z M -7.171875 -0.878906 \"/>\n",
       "</symbol>\n",
       "<symbol overflow=\"visible\" id=\"glyph1-19\">\n",
       "<path style=\"stroke:none;\" d=\"M -0.789062 -1.597656 C -0.644531 -1.78125 -0.570312 -2 -0.570312 -2.257812 C -0.570312 -2.566406 -0.644531 -2.863281 -0.785156 -3.15625 C -1.023438 -3.644531 -1.414062 -3.886719 -1.953125 -3.886719 L -2.660156 -3.886719 C -2.59375 -3.78125 -2.535156 -3.640625 -2.492188 -3.472656 C -2.445312 -3.304688 -2.414062 -3.136719 -2.390625 -2.972656 L -2.324219 -2.441406 C -2.28125 -2.121094 -2.214844 -1.882812 -2.125 -1.722656 C -1.972656 -1.453125 -1.726562 -1.320312 -1.390625 -1.320312 C -1.136719 -1.320312 -0.9375 -1.410156 -0.789062 -1.597656 Z M -3.167969 -3.445312 C -3.195312 -3.648438 -3.28125 -3.785156 -3.421875 -3.851562 C -3.5 -3.890625 -3.613281 -3.910156 -3.757812 -3.910156 C -4.058594 -3.910156 -4.277344 -3.804688 -4.410156 -3.589844 C -4.546875 -3.378906 -4.613281 -3.074219 -4.613281 -2.675781 C -4.613281 -2.21875 -4.492188 -1.890625 -4.242188 -1.699219 C -4.105469 -1.59375 -3.902344 -1.523438 -3.632812 -1.488281 L -3.632812 -0.667969 C -4.277344 -0.683594 -4.726562 -0.894531 -4.976562 -1.296875 C -5.230469 -1.699219 -5.355469 -2.164062 -5.355469 -2.695312 C -5.355469 -3.3125 -5.238281 -3.808594 -5.003906 -4.195312 C -4.769531 -4.574219 -4.40625 -4.765625 -3.910156 -4.765625 L -0.898438 -4.765625 C -0.808594 -4.765625 -0.734375 -4.785156 -0.679688 -4.820312 C -0.625 -4.859375 -0.59375 -4.9375 -0.59375 -5.058594 C -0.59375 -5.097656 -0.597656 -5.140625 -0.601562 -5.191406 C -0.605469 -5.238281 -0.613281 -5.292969 -0.625 -5.347656 L 0.0234375 -5.347656 C 0.0625 -5.210938 0.0898438 -5.105469 0.0976562 -5.035156 C 0.109375 -4.960938 0.113281 -4.863281 0.113281 -4.742188 C 0.113281 -4.4375 0.00390625 -4.21875 -0.210938 -4.082031 C -0.324219 -4.011719 -0.484375 -3.960938 -0.691406 -3.929688 C -0.457031 -3.75 -0.253906 -3.496094 -0.0820312 -3.160156 C 0.0898438 -2.824219 0.175781 -2.453125 0.175781 -2.050781 C 0.175781 -1.566406 0.0273438 -1.167969 -0.265625 -0.863281 C -0.5625 -0.554688 -0.929688 -0.402344 -1.371094 -0.402344 C -1.855469 -0.402344 -2.234375 -0.550781 -2.5 -0.855469 C -2.765625 -1.15625 -2.929688 -1.554688 -2.992188 -2.046875 Z M -3.167969 -3.445312 \"/>\n",
       "</symbol>\n",
       "</g>\n",
       "</defs>\n",
       "<g id=\"surface1\">\n",
       "<rect x=\"0\" y=\"0\" width=\"504\" height=\"504\" style=\"fill:rgb(100%,100%,100%);fill-opacity:1;stroke:none;\"/>\n",
       "<path style=\"fill:none;stroke-width:0.75;stroke-linecap:round;stroke-linejoin:round;stroke:rgb(0%,0%,0%);stroke-opacity:1;stroke-miterlimit:10;\" d=\"M 80.667969 191.457031 C 80.667969 195.058594 75.269531 195.058594 75.269531 191.457031 C 75.269531 187.859375 80.667969 187.859375 80.667969 191.457031 \"/>\n",
       "<path style=\"fill:none;stroke-width:0.75;stroke-linecap:round;stroke-linejoin:round;stroke:rgb(0%,0%,0%);stroke-opacity:1;stroke-miterlimit:10;\" d=\"M 114.921875 390.128906 C 114.921875 393.730469 109.519531 393.730469 109.519531 390.128906 C 109.519531 386.527344 114.921875 386.527344 114.921875 390.128906 \"/>\n",
       "<path style=\"fill:none;stroke-width:0.75;stroke-linecap:round;stroke-linejoin:round;stroke:rgb(0%,0%,0%);stroke-opacity:1;stroke-miterlimit:10;\" d=\"M 112.644531 331.34375 C 112.644531 334.945312 107.246094 334.945312 107.246094 331.34375 C 107.246094 327.746094 112.644531 327.746094 112.644531 331.34375 \"/>\n",
       "<path style=\"fill:none;stroke-width:0.75;stroke-linecap:round;stroke-linejoin:round;stroke:rgb(0%,0%,0%);stroke-opacity:1;stroke-miterlimit:10;\" d=\"M 98.910156 153.355469 C 98.910156 156.957031 93.507812 156.957031 93.507812 153.355469 C 93.507812 149.757812 98.910156 149.757812 98.910156 153.355469 \"/>\n",
       "<path style=\"fill:none;stroke-width:0.75;stroke-linecap:round;stroke-linejoin:round;stroke:rgb(0%,0%,0%);stroke-opacity:1;stroke-miterlimit:10;\" d=\"M 155.417969 369.988281 C 155.417969 373.589844 150.015625 373.589844 150.015625 369.988281 C 150.015625 366.390625 155.417969 366.390625 155.417969 369.988281 \"/>\n",
       "<path style=\"fill:none;stroke-width:0.75;stroke-linecap:round;stroke-linejoin:round;stroke:rgb(0%,0%,0%);stroke-opacity:1;stroke-miterlimit:10;\" d=\"M 151.980469 365.636719 C 151.980469 369.234375 146.582031 369.234375 146.582031 365.636719 C 146.582031 362.035156 151.980469 362.035156 151.980469 365.636719 \"/>\n",
       "<path style=\"fill:none;stroke-width:0.75;stroke-linecap:round;stroke-linejoin:round;stroke:rgb(0%,0%,0%);stroke-opacity:1;stroke-miterlimit:10;\" d=\"M 102.789062 390.671875 C 102.789062 394.273438 97.390625 394.273438 97.390625 390.671875 C 97.390625 387.074219 102.789062 387.074219 102.789062 390.671875 \"/>\n",
       "<path style=\"fill:none;stroke-width:0.75;stroke-linecap:round;stroke-linejoin:round;stroke:rgb(0%,0%,0%);stroke-opacity:1;stroke-miterlimit:10;\" d=\"M 245.550781 382.507812 C 245.550781 386.109375 240.152344 386.109375 240.152344 382.507812 C 240.152344 378.910156 245.550781 378.910156 245.550781 382.507812 \"/>\n",
       "<path style=\"fill:none;stroke-width:0.75;stroke-linecap:round;stroke-linejoin:round;stroke:rgb(0%,0%,0%);stroke-opacity:1;stroke-miterlimit:10;\" d=\"M 263.125 407.003906 C 263.125 410.601562 257.722656 410.601562 257.722656 407.003906 C 257.722656 403.402344 263.125 403.402344 263.125 407.003906 \"/>\n",
       "<path style=\"fill:none;stroke-width:0.75;stroke-linecap:round;stroke-linejoin:round;stroke:rgb(0%,0%,0%);stroke-opacity:1;stroke-miterlimit:10;\" d=\"M 115.542969 378.699219 C 115.542969 382.296875 110.144531 382.296875 110.144531 378.699219 C 110.144531 375.097656 115.542969 375.097656 115.542969 378.699219 \"/>\n",
       "<path style=\"fill:none;stroke-width:0.75;stroke-linecap:round;stroke-linejoin:round;stroke:rgb(0%,0%,0%);stroke-opacity:1;stroke-miterlimit:10;\" d=\"M 84.234375 363.457031 C 84.234375 367.058594 78.835938 367.058594 78.835938 363.457031 C 78.835938 359.859375 84.234375 359.859375 84.234375 363.457031 \"/>\n",
       "<path style=\"fill:none;stroke-width:0.75;stroke-linecap:round;stroke-linejoin:round;stroke:rgb(0%,0%,0%);stroke-opacity:1;stroke-miterlimit:10;\" d=\"M 140.074219 405.371094 C 140.074219 408.96875 134.675781 408.96875 134.675781 405.371094 C 134.675781 401.769531 140.074219 401.769531 140.074219 405.371094 \"/>\n",
       "<path style=\"fill:none;stroke-width:0.75;stroke-linecap:round;stroke-linejoin:round;stroke:rgb(0%,0%,0%);stroke-opacity:1;stroke-miterlimit:10;\" d=\"M 250.367188 384.6875 C 250.367188 388.285156 244.96875 388.285156 244.96875 384.6875 C 244.96875 381.085938 250.367188 381.085938 250.367188 384.6875 \"/>\n",
       "<path style=\"fill:none;stroke-width:0.75;stroke-linecap:round;stroke-linejoin:round;stroke:rgb(0%,0%,0%);stroke-opacity:1;stroke-miterlimit:10;\" d=\"M 102.746094 335.15625 C 102.746094 338.753906 97.34375 338.753906 97.34375 335.15625 C 97.34375 331.554688 102.746094 331.554688 102.746094 335.15625 \"/>\n",
       "<path style=\"fill:none;stroke-width:0.75;stroke-linecap:round;stroke-linejoin:round;stroke:rgb(0%,0%,0%);stroke-opacity:1;stroke-miterlimit:10;\" d=\"M 82.808594 212.6875 C 82.808594 216.285156 77.410156 216.285156 77.410156 212.6875 C 77.410156 209.085938 82.808594 209.085938 82.808594 212.6875 \"/>\n",
       "<path style=\"fill:none;stroke-width:0.75;stroke-linecap:round;stroke-linejoin:round;stroke:rgb(0%,0%,0%);stroke-opacity:1;stroke-miterlimit:10;\" d=\"M 100.425781 359.105469 C 100.425781 362.703125 95.027344 362.703125 95.027344 359.105469 C 95.027344 355.503906 100.425781 355.503906 100.425781 359.105469 \"/>\n",
       "<path style=\"fill:none;stroke-width:0.75;stroke-linecap:round;stroke-linejoin:round;stroke:rgb(0%,0%,0%);stroke-opacity:1;stroke-miterlimit:10;\" d=\"M 97.394531 305.21875 C 97.394531 308.816406 91.992188 308.816406 91.992188 305.21875 C 91.992188 301.617188 97.394531 301.617188 97.394531 305.21875 \"/>\n",
       "<path style=\"fill:none;stroke-width:0.75;stroke-linecap:round;stroke-linejoin:round;stroke:rgb(0%,0%,0%);stroke-opacity:1;stroke-miterlimit:10;\" d=\"M 116.570312 416.800781 C 116.570312 420.398438 111.171875 420.398438 111.171875 416.800781 C 111.171875 413.199219 116.570312 413.199219 116.570312 416.800781 \"/>\n",
       "<path style=\"fill:none;stroke-width:0.75;stroke-linecap:round;stroke-linejoin:round;stroke:rgb(0%,0%,0%);stroke-opacity:1;stroke-miterlimit:10;\" d=\"M 140.476562 337.875 C 140.476562 341.476562 135.074219 341.476562 135.074219 337.875 C 135.074219 334.277344 140.476562 334.277344 140.476562 337.875 \"/>\n",
       "<path style=\"fill:none;stroke-width:0.75;stroke-linecap:round;stroke-linejoin:round;stroke:rgb(0%,0%,0%);stroke-opacity:1;stroke-miterlimit:10;\" d=\"M 126.515625 386.320312 C 126.515625 389.917969 121.117188 389.917969 121.117188 386.320312 C 121.117188 382.71875 126.515625 382.71875 126.515625 386.320312 \"/>\n",
       "<path style=\"fill:none;stroke-width:0.75;stroke-linecap:round;stroke-linejoin:round;stroke:rgb(0%,0%,0%);stroke-opacity:1;stroke-miterlimit:10;\" d=\"M 138.734375 403.191406 C 138.734375 406.792969 133.335938 406.792969 133.335938 403.191406 C 133.335938 399.59375 138.734375 399.59375 138.734375 403.191406 \"/>\n",
       "<path style=\"fill:none;stroke-width:0.75;stroke-linecap:round;stroke-linejoin:round;stroke:rgb(0%,0%,0%);stroke-opacity:1;stroke-miterlimit:10;\" d=\"M 81.382812 170.773438 C 81.382812 174.375 75.980469 174.375 75.980469 170.773438 C 75.980469 167.175781 81.382812 167.175781 81.382812 170.773438 \"/>\n",
       "<path style=\"fill:none;stroke-width:0.75;stroke-linecap:round;stroke-linejoin:round;stroke:rgb(0%,0%,0%);stroke-opacity:1;stroke-miterlimit:10;\" d=\"M 78.304688 147.371094 C 78.304688 150.96875 72.902344 150.96875 72.902344 147.371094 C 72.902344 143.769531 78.304688 143.769531 78.304688 147.371094 \"/>\n",
       "<path style=\"fill:none;stroke-width:0.75;stroke-linecap:round;stroke-linejoin:round;stroke:rgb(0%,0%,0%);stroke-opacity:1;stroke-miterlimit:10;\" d=\"M 85.527344 325.902344 C 85.527344 329.5 80.128906 329.5 80.128906 325.902344 C 80.128906 322.300781 85.527344 322.300781 85.527344 325.902344 \"/>\n",
       "<path style=\"fill:none;stroke-width:0.75;stroke-linecap:round;stroke-linejoin:round;stroke:rgb(0%,0%,0%);stroke-opacity:1;stroke-miterlimit:10;\" d=\"M 85.976562 216.496094 C 85.976562 220.097656 80.574219 220.097656 80.574219 216.496094 C 80.574219 212.894531 85.976562 212.894531 85.976562 216.496094 \"/>\n",
       "<path style=\"fill:none;stroke-width:0.75;stroke-linecap:round;stroke-linejoin:round;stroke:rgb(0%,0%,0%);stroke-opacity:1;stroke-miterlimit:10;\" d=\"M 252.464844 395.027344 C 252.464844 398.628906 247.066406 398.628906 247.066406 395.027344 C 247.066406 391.429688 252.464844 391.429688 252.464844 395.027344 \"/>\n",
       "<path style=\"fill:none;stroke-width:0.75;stroke-linecap:round;stroke-linejoin:round;stroke:rgb(0%,0%,0%);stroke-opacity:1;stroke-miterlimit:10;\" d=\"M 93.335938 355.839844 C 93.335938 359.4375 87.933594 359.4375 87.933594 355.839844 C 87.933594 352.238281 93.335938 352.238281 93.335938 355.839844 \"/>\n",
       "<path style=\"fill:none;stroke-width:0.75;stroke-linecap:round;stroke-linejoin:round;stroke:rgb(0%,0%,0%);stroke-opacity:1;stroke-miterlimit:10;\" d=\"M 79.195312 238.269531 C 79.195312 241.867188 73.796875 241.867188 73.796875 238.269531 C 73.796875 234.667969 79.195312 234.667969 79.195312 238.269531 \"/>\n",
       "<path style=\"fill:none;stroke-width:0.75;stroke-linecap:round;stroke-linejoin:round;stroke:rgb(0%,0%,0%);stroke-opacity:1;stroke-miterlimit:10;\" d=\"M 81.648438 132.128906 C 81.648438 135.730469 76.25 135.730469 76.25 132.128906 C 76.25 128.527344 81.648438 128.527344 81.648438 132.128906 \"/>\n",
       "<path style=\"fill:none;stroke-width:0.75;stroke-linecap:round;stroke-linejoin:round;stroke:rgb(0%,0%,0%);stroke-opacity:1;stroke-miterlimit:10;\" d=\"M 148.414062 385.230469 C 148.414062 388.832031 143.015625 388.832031 143.015625 385.230469 C 143.015625 381.628906 148.414062 381.628906 148.414062 385.230469 \"/>\n",
       "<path style=\"fill:none;stroke-width:0.75;stroke-linecap:round;stroke-linejoin:round;stroke:rgb(0%,0%,0%);stroke-opacity:1;stroke-miterlimit:10;\" d=\"M 113.003906 395.027344 C 113.003906 398.628906 107.601562 398.628906 107.601562 395.027344 C 107.601562 391.429688 113.003906 391.429688 113.003906 395.027344 \"/>\n",
       "<path style=\"fill:none;stroke-width:0.75;stroke-linecap:round;stroke-linejoin:round;stroke:rgb(0%,0%,0%);stroke-opacity:1;stroke-miterlimit:10;\" d=\"M 118.21875 357.472656 C 118.21875 361.070312 112.820312 361.070312 112.820312 357.472656 C 112.820312 353.871094 118.21875 353.871094 118.21875 357.472656 \"/>\n",
       "<path style=\"fill:none;stroke-width:0.75;stroke-linecap:round;stroke-linejoin:round;stroke:rgb(0%,0%,0%);stroke-opacity:1;stroke-miterlimit:10;\" d=\"M 80.535156 221.394531 C 80.535156 224.996094 75.132812 224.996094 75.132812 221.394531 C 75.132812 217.796875 80.535156 217.796875 80.535156 221.394531 \"/>\n",
       "<path style=\"fill:none;stroke-width:0.75;stroke-linecap:round;stroke-linejoin:round;stroke:rgb(0%,0%,0%);stroke-opacity:1;stroke-miterlimit:10;\" d=\"M 90.035156 210.507812 C 90.035156 214.109375 84.632812 214.109375 84.632812 210.507812 C 84.632812 206.910156 90.035156 206.910156 90.035156 210.507812 \"/>\n",
       "<path style=\"fill:none;stroke-width:0.75;stroke-linecap:round;stroke-linejoin:round;stroke:rgb(0%,0%,0%);stroke-opacity:1;stroke-miterlimit:10;\" d=\"M 128.476562 385.773438 C 128.476562 389.375 123.078125 389.375 123.078125 385.773438 C 123.078125 382.175781 128.476562 382.175781 128.476562 385.773438 \"/>\n",
       "<path style=\"fill:none;stroke-width:0.75;stroke-linecap:round;stroke-linejoin:round;stroke:rgb(0%,0%,0%);stroke-opacity:1;stroke-miterlimit:10;\" d=\"M 83.210938 218.128906 C 83.210938 221.730469 77.808594 221.730469 77.808594 218.128906 C 77.808594 214.527344 83.210938 214.527344 83.210938 218.128906 \"/>\n",
       "<path style=\"fill:none;stroke-width:0.75;stroke-linecap:round;stroke-linejoin:round;stroke:rgb(0%,0%,0%);stroke-opacity:1;stroke-miterlimit:10;\" d=\"M 159.25 404.824219 C 159.25 408.425781 153.851562 408.425781 153.851562 404.824219 C 153.851562 401.226562 159.25 401.226562 159.25 404.824219 \"/>\n",
       "<path style=\"fill:none;stroke-width:0.75;stroke-linecap:round;stroke-linejoin:round;stroke:rgb(0%,0%,0%);stroke-opacity:1;stroke-miterlimit:10;\" d=\"M 184.273438 402.105469 C 184.273438 405.703125 178.871094 405.703125 178.871094 402.105469 C 178.871094 398.503906 184.273438 398.503906 184.273438 402.105469 \"/>\n",
       "<path style=\"fill:none;stroke-width:0.75;stroke-linecap:round;stroke-linejoin:round;stroke:rgb(0%,0%,0%);stroke-opacity:1;stroke-miterlimit:10;\" d=\"M 77.101562 150.636719 C 77.101562 154.234375 71.699219 154.234375 71.699219 150.636719 C 71.699219 147.035156 77.101562 147.035156 77.101562 150.636719 \"/>\n",
       "<path style=\"fill:none;stroke-width:0.75;stroke-linecap:round;stroke-linejoin:round;stroke:rgb(0%,0%,0%);stroke-opacity:1;stroke-miterlimit:10;\" d=\"M 262.453125 383.054688 C 262.453125 386.652344 257.054688 386.652344 257.054688 383.054688 C 257.054688 379.453125 262.453125 379.453125 262.453125 383.054688 \"/>\n",
       "<path style=\"fill:none;stroke-width:0.75;stroke-linecap:round;stroke-linejoin:round;stroke:rgb(0%,0%,0%);stroke-opacity:1;stroke-miterlimit:10;\" d=\"M 117.597656 346.585938 C 117.597656 350.183594 112.195312 350.183594 112.195312 346.585938 C 112.195312 342.984375 117.597656 342.984375 117.597656 346.585938 \"/>\n",
       "<path style=\"fill:none;stroke-width:0.75;stroke-linecap:round;stroke-linejoin:round;stroke:rgb(0%,0%,0%);stroke-opacity:1;stroke-miterlimit:10;\" d=\"M 113.539062 342.773438 C 113.539062 346.375 108.136719 346.375 108.136719 342.773438 C 108.136719 339.175781 113.539062 339.175781 113.539062 342.773438 \"/>\n",
       "<path style=\"fill:none;stroke-width:0.75;stroke-linecap:round;stroke-linejoin:round;stroke:rgb(0%,0%,0%);stroke-opacity:1;stroke-miterlimit:10;\" d=\"M 102.878906 330.253906 C 102.878906 333.855469 97.476562 333.855469 97.476562 330.253906 C 97.476562 326.65625 102.878906 326.65625 102.878906 330.253906 \"/>\n",
       "<path style=\"fill:none;stroke-width:0.75;stroke-linecap:round;stroke-linejoin:round;stroke:rgb(0%,0%,0%);stroke-opacity:1;stroke-miterlimit:10;\" d=\"M 105.199219 363.457031 C 105.199219 367.058594 99.796875 367.058594 99.796875 363.457031 C 99.796875 359.859375 105.199219 359.859375 105.199219 363.457031 \"/>\n",
       "<path style=\"fill:none;stroke-width:0.75;stroke-linecap:round;stroke-linejoin:round;stroke:rgb(0%,0%,0%);stroke-opacity:1;stroke-miterlimit:10;\" d=\"M 189.847656 211.054688 C 189.847656 214.652344 184.445312 214.652344 184.445312 211.054688 C 184.445312 207.453125 189.847656 207.453125 189.847656 211.054688 \"/>\n",
       "<path style=\"fill:none;stroke-width:0.75;stroke-linecap:round;stroke-linejoin:round;stroke:rgb(0%,0%,0%);stroke-opacity:1;stroke-miterlimit:10;\" d=\"M 78.171875 219.761719 C 78.171875 223.363281 72.769531 223.363281 72.769531 219.761719 C 72.769531 216.160156 78.171875 216.160156 78.171875 219.761719 \"/>\n",
       "<path style=\"fill:none;stroke-width:0.75;stroke-linecap:round;stroke-linejoin:round;stroke:rgb(0%,0%,0%);stroke-opacity:1;stroke-miterlimit:10;\" d=\"M 168.574219 397.203125 C 168.574219 400.804688 163.171875 400.804688 163.171875 397.203125 C 163.171875 393.605469 168.574219 393.605469 168.574219 397.203125 \"/>\n",
       "<path style=\"fill:none;stroke-width:0.75;stroke-linecap:round;stroke-linejoin:round;stroke:rgb(0%,0%,0%);stroke-opacity:1;stroke-miterlimit:10;\" d=\"M 80.535156 225.75 C 80.535156 229.347656 75.132812 229.347656 75.132812 225.75 C 75.132812 222.148438 80.535156 222.148438 80.535156 225.75 \"/>\n",
       "<path style=\"fill:none;stroke-width:0.75;stroke-linecap:round;stroke-linejoin:round;stroke:rgb(0%,0%,0%);stroke-opacity:1;stroke-miterlimit:10;\" d=\"M 96.144531 341.6875 C 96.144531 345.285156 90.742188 345.285156 90.742188 341.6875 C 90.742188 338.085938 96.144531 338.085938 96.144531 341.6875 \"/>\n",
       "<path style=\"fill:none;stroke-width:0.75;stroke-linecap:round;stroke-linejoin:round;stroke:rgb(0%,0%,0%);stroke-opacity:1;stroke-miterlimit:10;\" d=\"M 243.589844 384.6875 C 243.589844 388.285156 238.1875 388.285156 238.1875 384.6875 C 238.1875 381.085938 243.589844 381.085938 243.589844 384.6875 \"/>\n",
       "<path style=\"fill:none;stroke-width:0.75;stroke-linecap:round;stroke-linejoin:round;stroke:rgb(0%,0%,0%);stroke-opacity:1;stroke-miterlimit:10;\" d=\"M 235.738281 377.609375 C 235.738281 381.210938 230.339844 381.210938 230.339844 377.609375 C 230.339844 374.011719 235.738281 374.011719 235.738281 377.609375 \"/>\n",
       "<path style=\"fill:none;stroke-width:0.75;stroke-linecap:round;stroke-linejoin:round;stroke:rgb(0%,0%,0%);stroke-opacity:1;stroke-miterlimit:10;\" d=\"M 136.863281 257.863281 C 136.863281 261.464844 131.464844 261.464844 131.464844 257.863281 C 131.464844 254.261719 136.863281 254.261719 136.863281 257.863281 \"/>\n",
       "<path style=\"fill:none;stroke-width:0.75;stroke-linecap:round;stroke-linejoin:round;stroke:rgb(0%,0%,0%);stroke-opacity:1;stroke-miterlimit:10;\" d=\"M 83.386719 170.230469 C 83.386719 173.832031 77.988281 173.832031 77.988281 170.230469 C 77.988281 166.628906 83.386719 166.628906 83.386719 170.230469 \"/>\n",
       "<path style=\"fill:none;stroke-width:0.75;stroke-linecap:round;stroke-linejoin:round;stroke:rgb(0%,0%,0%);stroke-opacity:1;stroke-miterlimit:10;\" d=\"M 99.445312 386.320312 C 99.445312 389.917969 94.042969 389.917969 94.042969 386.320312 C 94.042969 382.71875 99.445312 382.71875 99.445312 386.320312 \"/>\n",
       "<path style=\"fill:none;stroke-width:0.75;stroke-linecap:round;stroke-linejoin:round;stroke:rgb(0%,0%,0%);stroke-opacity:1;stroke-miterlimit:10;\" d=\"M 255.007812 409.179688 C 255.007812 412.78125 249.605469 412.78125 249.605469 409.179688 C 249.605469 405.578125 255.007812 405.578125 255.007812 409.179688 \"/>\n",
       "<path style=\"fill:none;stroke-width:0.75;stroke-linecap:round;stroke-linejoin:round;stroke:rgb(0%,0%,0%);stroke-opacity:1;stroke-miterlimit:10;\" d=\"M 83.65625 268.203125 C 83.65625 271.804688 78.257812 271.804688 78.257812 268.203125 C 78.257812 264.605469 83.65625 264.605469 83.65625 268.203125 \"/>\n",
       "<path style=\"fill:none;stroke-width:0.75;stroke-linecap:round;stroke-linejoin:round;stroke:rgb(0%,0%,0%);stroke-opacity:1;stroke-miterlimit:10;\" d=\"M 187.527344 403.191406 C 187.527344 406.792969 182.128906 406.792969 182.128906 403.191406 C 182.128906 399.59375 187.527344 399.59375 187.527344 403.191406 \"/>\n",
       "<path style=\"fill:none;stroke-width:0.75;stroke-linecap:round;stroke-linejoin:round;stroke:rgb(0%,0%,0%);stroke-opacity:1;stroke-miterlimit:10;\" d=\"M 121.742188 364.546875 C 121.742188 368.148438 116.34375 368.148438 116.34375 364.546875 C 116.34375 360.945312 121.742188 360.945312 121.742188 364.546875 \"/>\n",
       "<path style=\"fill:none;stroke-width:0.75;stroke-linecap:round;stroke-linejoin:round;stroke:rgb(0%,0%,0%);stroke-opacity:1;stroke-miterlimit:10;\" d=\"M 96.8125 272.558594 C 96.8125 276.160156 91.414062 276.160156 91.414062 272.558594 C 91.414062 268.960938 96.8125 268.960938 96.8125 272.558594 \"/>\n",
       "<path style=\"fill:none;stroke-width:0.75;stroke-linecap:round;stroke-linejoin:round;stroke:rgb(0%,0%,0%);stroke-opacity:1;stroke-miterlimit:10;\" d=\"M 80.132812 208.332031 C 80.132812 211.933594 74.734375 211.933594 74.734375 208.332031 C 74.734375 204.730469 80.132812 204.730469 80.132812 208.332031 \"/>\n",
       "<path style=\"fill:none;stroke-width:0.75;stroke-linecap:round;stroke-linejoin:round;stroke:rgb(0%,0%,0%);stroke-opacity:1;stroke-miterlimit:10;\" d=\"M 81.113281 210.507812 C 81.113281 214.109375 75.714844 214.109375 75.714844 210.507812 C 75.714844 206.910156 81.113281 206.910156 81.113281 210.507812 \"/>\n",
       "<path style=\"fill:none;stroke-width:0.75;stroke-linecap:round;stroke-linejoin:round;stroke:rgb(0%,0%,0%);stroke-opacity:1;stroke-miterlimit:10;\" d=\"M 80.847656 306.851562 C 80.847656 310.449219 75.445312 310.449219 75.445312 306.851562 C 75.445312 303.25 80.847656 303.25 80.847656 306.851562 \"/>\n",
       "<path style=\"fill:none;stroke-width:0.75;stroke-linecap:round;stroke-linejoin:round;stroke:rgb(0%,0%,0%);stroke-opacity:1;stroke-miterlimit:10;\" d=\"M 92.621094 316.648438 C 92.621094 320.25 87.21875 320.25 87.21875 316.648438 C 87.21875 313.046875 92.621094 313.046875 92.621094 316.648438 \"/>\n",
       "<path style=\"fill:none;stroke-width:0.75;stroke-linecap:round;stroke-linejoin:round;stroke:rgb(0%,0%,0%);stroke-opacity:1;stroke-miterlimit:10;\" d=\"M 166.164062 410.269531 C 166.164062 413.867188 160.765625 413.867188 160.765625 410.269531 C 160.765625 406.667969 166.164062 406.667969 166.164062 410.269531 \"/>\n",
       "<path style=\"fill:none;stroke-width:0.75;stroke-linecap:round;stroke-linejoin:round;stroke:rgb(0%,0%,0%);stroke-opacity:1;stroke-miterlimit:10;\" d=\"M 213.929688 370.535156 C 213.929688 374.132812 208.53125 374.132812 208.53125 370.535156 C 208.53125 366.933594 213.929688 366.933594 213.929688 370.535156 \"/>\n",
       "<path style=\"fill:none;stroke-width:0.75;stroke-linecap:round;stroke-linejoin:round;stroke:rgb(0%,0%,0%);stroke-opacity:1;stroke-miterlimit:10;\" d=\"M 91.59375 347.671875 C 91.59375 351.273438 86.195312 351.273438 86.195312 347.671875 C 86.195312 344.074219 91.59375 344.074219 91.59375 347.671875 \"/>\n",
       "<path style=\"fill:none;stroke-width:0.75;stroke-linecap:round;stroke-linejoin:round;stroke:rgb(0%,0%,0%);stroke-opacity:1;stroke-miterlimit:10;\" d=\"M 95.652344 354.75 C 95.652344 358.347656 90.253906 358.347656 90.253906 354.75 C 90.253906 351.148438 95.652344 351.148438 95.652344 354.75 \"/>\n",
       "<path style=\"fill:none;stroke-width:0.75;stroke-linecap:round;stroke-linejoin:round;stroke:rgb(0%,0%,0%);stroke-opacity:1;stroke-miterlimit:10;\" d=\"M 92.308594 259.496094 C 92.308594 263.097656 86.910156 263.097656 86.910156 259.496094 C 86.910156 255.894531 92.308594 255.894531 92.308594 259.496094 \"/>\n",
       "<path style=\"fill:none;stroke-width:0.75;stroke-linecap:round;stroke-linejoin:round;stroke:rgb(0%,0%,0%);stroke-opacity:1;stroke-miterlimit:10;\" d=\"M 228.023438 376.523438 C 228.023438 380.121094 222.625 380.121094 222.625 376.523438 C 222.625 372.921875 228.023438 372.921875 228.023438 376.523438 \"/>\n",
       "<path style=\"fill:none;stroke-width:0.75;stroke-linecap:round;stroke-linejoin:round;stroke:rgb(0%,0%,0%);stroke-opacity:1;stroke-miterlimit:10;\" d=\"M 196.492188 326.445312 C 196.492188 330.046875 191.09375 330.046875 191.09375 326.445312 C 191.09375 322.84375 196.492188 322.84375 196.492188 326.445312 \"/>\n",
       "<path style=\"fill:none;stroke-width:0.75;stroke-linecap:round;stroke-linejoin:round;stroke:rgb(0%,0%,0%);stroke-opacity:1;stroke-miterlimit:10;\" d=\"M 220.085938 406.457031 C 220.085938 410.058594 214.683594 410.058594 214.683594 406.457031 C 214.683594 402.859375 220.085938 402.859375 220.085938 406.457031 \"/>\n",
       "<path style=\"fill:none;stroke-width:0.75;stroke-linecap:round;stroke-linejoin:round;stroke:rgb(0%,0%,0%);stroke-opacity:1;stroke-miterlimit:10;\" d=\"M 233.152344 409.722656 C 233.152344 413.324219 227.753906 413.324219 227.753906 409.722656 C 227.753906 406.125 233.152344 406.125 233.152344 409.722656 \"/>\n",
       "<path style=\"fill:none;stroke-width:0.75;stroke-linecap:round;stroke-linejoin:round;stroke:rgb(0%,0%,0%);stroke-opacity:1;stroke-miterlimit:10;\" d=\"M 102.03125 300.863281 C 102.03125 304.464844 96.632812 304.464844 96.632812 300.863281 C 96.632812 297.261719 102.03125 297.261719 102.03125 300.863281 \"/>\n",
       "<path style=\"fill:none;stroke-width:0.75;stroke-linecap:round;stroke-linejoin:round;stroke:rgb(0%,0%,0%);stroke-opacity:1;stroke-miterlimit:10;\" d=\"M 125.757812 348.21875 C 125.757812 351.816406 120.359375 351.816406 120.359375 348.21875 C 120.359375 344.617188 125.757812 344.617188 125.757812 348.21875 \"/>\n",
       "<path style=\"fill:none;stroke-width:0.75;stroke-linecap:round;stroke-linejoin:round;stroke:rgb(0%,0%,0%);stroke-opacity:1;stroke-miterlimit:10;\" d=\"M 83.210938 238.269531 C 83.210938 241.867188 77.808594 241.867188 77.808594 238.269531 C 77.808594 234.667969 83.210938 234.667969 83.210938 238.269531 \"/>\n",
       "<path style=\"fill:none;stroke-width:0.75;stroke-linecap:round;stroke-linejoin:round;stroke:rgb(0%,0%,0%);stroke-opacity:1;stroke-miterlimit:10;\" d=\"M 90.300781 321.546875 C 90.300781 325.148438 84.902344 325.148438 84.902344 321.546875 C 84.902344 317.945312 90.300781 317.945312 90.300781 321.546875 \"/>\n",
       "<path style=\"fill:none;stroke-width:0.75;stroke-linecap:round;stroke-linejoin:round;stroke:rgb(0%,0%,0%);stroke-opacity:1;stroke-miterlimit:10;\" d=\"M 85.304688 320.457031 C 85.304688 324.058594 79.90625 324.058594 79.90625 320.457031 C 79.90625 316.859375 85.304688 316.859375 85.304688 320.457031 \"/>\n",
       "<path style=\"fill:none;stroke-width:0.75;stroke-linecap:round;stroke-linejoin:round;stroke:rgb(0%,0%,0%);stroke-opacity:1;stroke-miterlimit:10;\" d=\"M 87.089844 311.203125 C 87.089844 314.804688 81.691406 314.804688 81.691406 311.203125 C 81.691406 307.605469 87.089844 307.605469 87.089844 311.203125 \"/>\n",
       "<path style=\"fill:none;stroke-width:0.75;stroke-linecap:round;stroke-linejoin:round;stroke:rgb(0%,0%,0%);stroke-opacity:1;stroke-miterlimit:10;\" d=\"M 154.523438 399.925781 C 154.523438 403.527344 149.125 403.527344 149.125 399.925781 C 149.125 396.328125 154.523438 396.328125 154.523438 399.925781 \"/>\n",
       "<path style=\"fill:none;stroke-width:0.75;stroke-linecap:round;stroke-linejoin:round;stroke:rgb(0%,0%,0%);stroke-opacity:1;stroke-miterlimit:10;\" d=\"M 140.117188 403.738281 C 140.117188 407.335938 134.71875 407.335938 134.71875 403.738281 C 134.71875 400.136719 140.117188 400.136719 140.117188 403.738281 \"/>\n",
       "<path style=\"fill:none;stroke-width:0.75;stroke-linecap:round;stroke-linejoin:round;stroke:rgb(0%,0%,0%);stroke-opacity:1;stroke-miterlimit:10;\" d=\"M 84.726562 313.925781 C 84.726562 317.527344 79.328125 317.527344 79.328125 313.925781 C 79.328125 310.328125 84.726562 310.328125 84.726562 313.925781 \"/>\n",
       "<path style=\"fill:none;stroke-width:0.75;stroke-linecap:round;stroke-linejoin:round;stroke:rgb(0%,0%,0%);stroke-opacity:1;stroke-miterlimit:10;\" d=\"M 77.992188 215.953125 C 77.992188 219.550781 72.59375 219.550781 72.59375 215.953125 C 72.59375 212.351562 77.992188 212.351562 77.992188 215.953125 \"/>\n",
       "<path style=\"fill:none;stroke-width:0.75;stroke-linecap:round;stroke-linejoin:round;stroke:rgb(0%,0%,0%);stroke-opacity:1;stroke-miterlimit:10;\" d=\"M 163.175781 404.28125 C 163.175781 407.882812 157.777344 407.882812 157.777344 404.28125 C 157.777344 400.679688 163.175781 400.679688 163.175781 404.28125 \"/>\n",
       "<path style=\"fill:none;stroke-width:0.75;stroke-linecap:round;stroke-linejoin:round;stroke:rgb(0%,0%,0%);stroke-opacity:1;stroke-miterlimit:10;\" d=\"M 362.179688 395.570312 C 362.179688 399.171875 356.777344 399.171875 356.777344 395.570312 C 356.777344 391.972656 362.179688 391.972656 362.179688 395.570312 \"/>\n",
       "<path style=\"fill:none;stroke-width:0.75;stroke-linecap:round;stroke-linejoin:round;stroke:rgb(0%,0%,0%);stroke-opacity:1;stroke-miterlimit:10;\" d=\"M 79.820312 235.546875 C 79.820312 239.148438 74.421875 239.148438 74.421875 235.546875 C 74.421875 231.945312 79.820312 231.945312 79.820312 235.546875 \"/>\n",
       "<path style=\"fill:none;stroke-width:0.75;stroke-linecap:round;stroke-linejoin:round;stroke:rgb(0%,0%,0%);stroke-opacity:1;stroke-miterlimit:10;\" d=\"M 79.464844 183.292969 C 79.464844 186.894531 74.0625 186.894531 74.0625 183.292969 C 74.0625 179.695312 79.464844 179.695312 79.464844 183.292969 \"/>\n",
       "<path style=\"fill:none;stroke-width:0.75;stroke-linecap:round;stroke-linejoin:round;stroke:rgb(0%,0%,0%);stroke-opacity:1;stroke-miterlimit:10;\" d=\"M 145.382812 377.066406 C 145.382812 380.664062 139.980469 380.664062 139.980469 377.066406 C 139.980469 373.464844 145.382812 373.464844 145.382812 377.066406 \"/>\n",
       "<path style=\"fill:none;stroke-width:0.75;stroke-linecap:round;stroke-linejoin:round;stroke:rgb(0%,0%,0%);stroke-opacity:1;stroke-miterlimit:10;\" d=\"M 108.722656 359.648438 C 108.722656 363.25 103.320312 363.25 103.320312 359.648438 C 103.320312 356.046875 108.722656 356.046875 108.722656 359.648438 \"/>\n",
       "<path style=\"fill:none;stroke-width:0.75;stroke-linecap:round;stroke-linejoin:round;stroke:rgb(0%,0%,0%);stroke-opacity:1;stroke-miterlimit:10;\" d=\"M 80.222656 112.535156 C 80.222656 116.132812 74.820312 116.132812 74.820312 112.535156 C 74.820312 108.933594 80.222656 108.933594 80.222656 112.535156 \"/>\n",
       "<path style=\"fill:none;stroke-width:0.75;stroke-linecap:round;stroke-linejoin:round;stroke:rgb(0%,0%,0%);stroke-opacity:1;stroke-miterlimit:10;\" d=\"M 86.289062 225.203125 C 86.289062 228.804688 80.886719 228.804688 80.886719 225.203125 C 80.886719 221.605469 86.289062 221.605469 86.289062 225.203125 \"/>\n",
       "<path style=\"fill:none;stroke-width:0.75;stroke-linecap:round;stroke-linejoin:round;stroke:rgb(0%,0%,0%);stroke-opacity:1;stroke-miterlimit:10;\" d=\"M 139.496094 403.191406 C 139.496094 406.792969 134.09375 406.792969 134.09375 403.191406 C 134.09375 399.59375 139.496094 399.59375 139.496094 403.191406 \"/>\n",
       "<path style=\"fill:none;stroke-width:0.75;stroke-linecap:round;stroke-linejoin:round;stroke:rgb(0%,0%,0%);stroke-opacity:1;stroke-miterlimit:10;\" d=\"M 144.222656 362.914062 C 144.222656 366.515625 138.820312 366.515625 138.820312 362.914062 C 138.820312 359.3125 144.222656 359.3125 144.222656 362.914062 \"/>\n",
       "<path style=\"fill:none;stroke-width:0.75;stroke-linecap:round;stroke-linejoin:round;stroke:rgb(0%,0%,0%);stroke-opacity:1;stroke-miterlimit:10;\" d=\"M 91.550781 300.320312 C 91.550781 303.917969 86.148438 303.917969 86.148438 300.320312 C 86.148438 296.71875 91.550781 296.71875 91.550781 300.320312 \"/>\n",
       "<path style=\"fill:none;stroke-width:0.75;stroke-linecap:round;stroke-linejoin:round;stroke:rgb(0%,0%,0%);stroke-opacity:1;stroke-miterlimit:10;\" d=\"M 94.714844 352.027344 C 94.714844 355.628906 89.316406 355.628906 89.316406 352.027344 C 89.316406 348.429688 94.714844 348.429688 94.714844 352.027344 \"/>\n",
       "<path style=\"fill:none;stroke-width:0.75;stroke-linecap:round;stroke-linejoin:round;stroke:rgb(0%,0%,0%);stroke-opacity:1;stroke-miterlimit:10;\" d=\"M 136.683594 393.394531 C 136.683594 396.996094 131.285156 396.996094 131.285156 393.394531 C 131.285156 389.796875 136.683594 389.796875 136.683594 393.394531 \"/>\n",
       "<path style=\"fill:none;stroke-width:0.75;stroke-linecap:round;stroke-linejoin:round;stroke:rgb(0%,0%,0%);stroke-opacity:1;stroke-miterlimit:10;\" d=\"M 97.347656 341.140625 C 97.347656 344.742188 91.949219 344.742188 91.949219 341.140625 C 91.949219 337.542969 97.347656 337.542969 97.347656 341.140625 \"/>\n",
       "<path style=\"fill:none;stroke-width:0.75;stroke-linecap:round;stroke-linejoin:round;stroke:rgb(0%,0%,0%);stroke-opacity:1;stroke-miterlimit:10;\" d=\"M 79.910156 194.722656 C 79.910156 198.324219 74.507812 198.324219 74.507812 194.722656 C 74.507812 191.125 79.910156 191.125 79.910156 194.722656 \"/>\n",
       "<path style=\"fill:none;stroke-width:0.75;stroke-linecap:round;stroke-linejoin:round;stroke:rgb(0%,0%,0%);stroke-opacity:1;stroke-miterlimit:10;\" d=\"M 104.839844 312.839844 C 104.839844 316.4375 99.441406 316.4375 99.441406 312.839844 C 99.441406 309.238281 104.839844 309.238281 104.839844 312.839844 \"/>\n",
       "<path style=\"fill:none;stroke-width:0.75;stroke-linecap:round;stroke-linejoin:round;stroke:rgb(0%,0%,0%);stroke-opacity:1;stroke-miterlimit:10;\" d=\"M 81.203125 349.304688 C 81.203125 352.90625 75.804688 352.90625 75.804688 349.304688 C 75.804688 345.707031 81.203125 345.707031 81.203125 349.304688 \"/>\n",
       "<path style=\"fill:none;stroke-width:0.75;stroke-linecap:round;stroke-linejoin:round;stroke:rgb(0%,0%,0%);stroke-opacity:1;stroke-miterlimit:10;\" d=\"M 267.984375 389.585938 C 267.984375 393.183594 262.585938 393.183594 262.585938 389.585938 C 262.585938 385.984375 267.984375 385.984375 267.984375 389.585938 \"/>\n",
       "<path style=\"fill:none;stroke-width:0.75;stroke-linecap:round;stroke-linejoin:round;stroke:rgb(0%,0%,0%);stroke-opacity:1;stroke-miterlimit:10;\" d=\"M 92.21875 344.40625 C 92.21875 348.007812 86.820312 348.007812 86.820312 344.40625 C 86.820312 340.808594 92.21875 340.808594 92.21875 344.40625 \"/>\n",
       "<path style=\"fill:none;stroke-width:0.75;stroke-linecap:round;stroke-linejoin:round;stroke:rgb(0%,0%,0%);stroke-opacity:1;stroke-miterlimit:10;\" d=\"M 78.792969 72.800781 C 78.792969 76.398438 73.394531 76.398438 73.394531 72.800781 C 73.394531 69.199219 78.792969 69.199219 78.792969 72.800781 \"/>\n",
       "<path style=\"fill:none;stroke-width:0.75;stroke-linecap:round;stroke-linejoin:round;stroke:rgb(0%,0%,0%);stroke-opacity:1;stroke-miterlimit:10;\" d=\"M 85.796875 157.710938 C 85.796875 161.3125 80.398438 161.3125 80.398438 157.710938 C 80.398438 154.113281 85.796875 154.113281 85.796875 157.710938 \"/>\n",
       "<path style=\"fill:none;stroke-width:0.75;stroke-linecap:round;stroke-linejoin:round;stroke:rgb(0%,0%,0%);stroke-opacity:1;stroke-miterlimit:10;\" d=\"M 349.691406 380.332031 C 349.691406 383.933594 344.289062 383.933594 344.289062 380.332031 C 344.289062 376.730469 349.691406 376.730469 349.691406 380.332031 \"/>\n",
       "<path style=\"fill:none;stroke-width:0.75;stroke-linecap:round;stroke-linejoin:round;stroke:rgb(0%,0%,0%);stroke-opacity:1;stroke-miterlimit:10;\" d=\"M 88.382812 303.039062 C 88.382812 306.640625 82.984375 306.640625 82.984375 303.039062 C 82.984375 299.441406 88.382812 299.441406 88.382812 303.039062 \"/>\n",
       "<path style=\"fill:none;stroke-width:0.75;stroke-linecap:round;stroke-linejoin:round;stroke:rgb(0%,0%,0%);stroke-opacity:1;stroke-miterlimit:10;\" d=\"M 140.296875 348.21875 C 140.296875 351.816406 134.898438 351.816406 134.898438 348.21875 C 134.898438 344.617188 140.296875 344.617188 140.296875 348.21875 \"/>\n",
       "<path style=\"fill:none;stroke-width:0.75;stroke-linecap:round;stroke-linejoin:round;stroke:rgb(0%,0%,0%);stroke-opacity:1;stroke-miterlimit:10;\" d=\"M 87.046875 273.105469 C 87.046875 276.703125 81.644531 276.703125 81.644531 273.105469 C 81.644531 269.503906 87.046875 269.503906 87.046875 273.105469 \"/>\n",
       "<path style=\"fill:none;stroke-width:0.75;stroke-linecap:round;stroke-linejoin:round;stroke:rgb(0%,0%,0%);stroke-opacity:1;stroke-miterlimit:10;\" d=\"M 99.621094 325.902344 C 99.621094 329.5 94.222656 329.5 94.222656 325.902344 C 94.222656 322.300781 99.621094 322.300781 99.621094 325.902344 \"/>\n",
       "<path style=\"fill:none;stroke-width:0.75;stroke-linecap:round;stroke-linejoin:round;stroke:rgb(0%,0%,0%);stroke-opacity:1;stroke-miterlimit:10;\" d=\"M 117.683594 350.394531 C 117.683594 353.996094 112.285156 353.996094 112.285156 350.394531 C 112.285156 346.796875 117.683594 346.796875 117.683594 350.394531 \"/>\n",
       "<path style=\"fill:none;stroke-width:0.75;stroke-linecap:round;stroke-linejoin:round;stroke:rgb(0%,0%,0%);stroke-opacity:1;stroke-miterlimit:10;\" d=\"M 94.046875 316.105469 C 94.046875 319.703125 88.648438 319.703125 88.648438 316.105469 C 88.648438 312.503906 94.046875 312.503906 94.046875 316.105469 \"/>\n",
       "<path style=\"fill:none;stroke-width:0.75;stroke-linecap:round;stroke-linejoin:round;stroke:rgb(0%,0%,0%);stroke-opacity:1;stroke-miterlimit:10;\" d=\"M 166.699219 409.722656 C 166.699219 413.324219 161.300781 413.324219 161.300781 409.722656 C 161.300781 406.125 166.699219 406.125 166.699219 409.722656 \"/>\n",
       "<path style=\"fill:none;stroke-width:0.75;stroke-linecap:round;stroke-linejoin:round;stroke:rgb(0%,0%,0%);stroke-opacity:1;stroke-miterlimit:10;\" d=\"M 184.585938 412.988281 C 184.585938 416.589844 179.183594 416.589844 179.183594 412.988281 C 179.183594 409.390625 184.585938 409.390625 184.585938 412.988281 \"/>\n",
       "<path style=\"fill:none;stroke-width:0.75;stroke-linecap:round;stroke-linejoin:round;stroke:rgb(0%,0%,0%);stroke-opacity:1;stroke-miterlimit:10;\" d=\"M 461.101562 373.253906 C 461.101562 376.855469 455.699219 376.855469 455.699219 373.253906 C 455.699219 369.65625 461.101562 369.65625 461.101562 373.253906 \"/>\n",
       "<path style=\"fill:none;stroke-width:0.75;stroke-linecap:round;stroke-linejoin:round;stroke:rgb(0%,0%,0%);stroke-opacity:1;stroke-miterlimit:10;\" d=\"M 211.03125 415.167969 C 211.03125 418.765625 205.632812 418.765625 205.632812 415.167969 C 205.632812 411.566406 211.03125 411.566406 211.03125 415.167969 \"/>\n",
       "<path style=\"fill:none;stroke-width:0.75;stroke-linecap:round;stroke-linejoin:round;stroke:rgb(0%,0%,0%);stroke-opacity:1;stroke-miterlimit:10;\" d=\"M 91.816406 405.371094 C 91.816406 408.96875 86.417969 408.96875 86.417969 405.371094 C 86.417969 401.769531 91.816406 401.769531 91.816406 405.371094 \"/>\n",
       "<path style=\"fill:none;stroke-width:0.75;stroke-linecap:round;stroke-linejoin:round;stroke:rgb(0%,0%,0%);stroke-opacity:1;stroke-miterlimit:10;\" d=\"M 143.019531 409.722656 C 143.019531 413.324219 137.617188 413.324219 137.617188 409.722656 C 137.617188 406.125 143.019531 406.125 143.019531 409.722656 \"/>\n",
       "<path style=\"fill:none;stroke-width:0.75;stroke-linecap:round;stroke-linejoin:round;stroke:rgb(0%,0%,0%);stroke-opacity:1;stroke-miterlimit:10;\" d=\"M 167.28125 403.191406 C 167.28125 406.792969 161.878906 406.792969 161.878906 403.191406 C 161.878906 399.59375 167.28125 399.59375 167.28125 403.191406 \"/>\n",
       "<path style=\"fill:none;stroke-width:0.75;stroke-linecap:round;stroke-linejoin:round;stroke:rgb(0%,0%,0%);stroke-opacity:1;stroke-miterlimit:10;\" d=\"M 81.246094 227.925781 C 81.246094 231.527344 75.847656 231.527344 75.847656 227.925781 C 75.847656 224.328125 81.246094 224.328125 81.246094 227.925781 \"/>\n",
       "<path style=\"fill:none;stroke-width:0.75;stroke-linecap:round;stroke-linejoin:round;stroke:rgb(0%,0%,0%);stroke-opacity:1;stroke-miterlimit:10;\" d=\"M 125.625 378.699219 C 125.625 382.296875 120.222656 382.296875 120.222656 378.699219 C 120.222656 375.097656 125.625 375.097656 125.625 378.699219 \"/>\n",
       "<path style=\"fill:none;stroke-width:0.75;stroke-linecap:round;stroke-linejoin:round;stroke:rgb(0%,0%,0%);stroke-opacity:1;stroke-miterlimit:10;\" d=\"M 122.144531 373.800781 C 122.144531 377.398438 116.746094 377.398438 116.746094 373.800781 C 116.746094 370.199219 122.144531 370.199219 122.144531 373.800781 \"/>\n",
       "<path style=\"fill:none;stroke-width:0.75;stroke-linecap:round;stroke-linejoin:round;stroke:rgb(0%,0%,0%);stroke-opacity:1;stroke-miterlimit:10;\" d=\"M 94.628906 252.421875 C 94.628906 256.019531 89.226562 256.019531 89.226562 252.421875 C 89.226562 248.820312 94.628906 248.820312 94.628906 252.421875 \"/>\n",
       "<path style=\"fill:none;stroke-width:0.75;stroke-linecap:round;stroke-linejoin:round;stroke:rgb(0%,0%,0%);stroke-opacity:1;stroke-miterlimit:10;\" d=\"M 84.859375 255.6875 C 84.859375 259.285156 79.460938 259.285156 79.460938 255.6875 C 79.460938 252.085938 84.859375 252.085938 84.859375 255.6875 \"/>\n",
       "<path style=\"fill:none;stroke-width:0.75;stroke-linecap:round;stroke-linejoin:round;stroke:rgb(0%,0%,0%);stroke-opacity:1;stroke-miterlimit:10;\" d=\"M 185.742188 335.15625 C 185.742188 338.753906 180.34375 338.753906 180.34375 335.15625 C 180.34375 331.554688 185.742188 331.554688 185.742188 335.15625 \"/>\n",
       "<path style=\"fill:none;stroke-width:0.75;stroke-linecap:round;stroke-linejoin:round;stroke:rgb(0%,0%,0%);stroke-opacity:1;stroke-miterlimit:10;\" d=\"M 84.234375 212.140625 C 84.234375 215.742188 78.835938 215.742188 78.835938 212.140625 C 78.835938 208.542969 84.234375 208.542969 84.234375 212.140625 \"/>\n",
       "<path style=\"fill:none;stroke-width:0.75;stroke-linecap:round;stroke-linejoin:round;stroke:rgb(0%,0%,0%);stroke-opacity:1;stroke-miterlimit:10;\" d=\"M 127.050781 410.8125 C 127.050781 414.414062 121.652344 414.414062 121.652344 410.8125 C 121.652344 407.210938 127.050781 407.210938 127.050781 410.8125 \"/>\n",
       "<path style=\"fill:none;stroke-width:0.75;stroke-linecap:round;stroke-linejoin:round;stroke:rgb(0%,0%,0%);stroke-opacity:1;stroke-miterlimit:10;\" d=\"M 187.707031 364.003906 C 187.707031 367.601562 182.304688 367.601562 182.304688 364.003906 C 182.304688 360.402344 187.707031 360.402344 187.707031 364.003906 \"/>\n",
       "<path style=\"fill:none;stroke-width:0.75;stroke-linecap:round;stroke-linejoin:round;stroke:rgb(0%,0%,0%);stroke-opacity:1;stroke-miterlimit:10;\" d=\"M 79.328125 220.851562 C 79.328125 224.449219 73.929688 224.449219 73.929688 220.851562 C 73.929688 217.25 79.328125 217.25 79.328125 220.851562 \"/>\n",
       "<path style=\"fill:none;stroke-width:0.75;stroke-linecap:round;stroke-linejoin:round;stroke:rgb(0%,0%,0%);stroke-opacity:1;stroke-miterlimit:10;\" d=\"M 340.414062 416.253906 C 340.414062 419.855469 335.015625 419.855469 335.015625 416.253906 C 335.015625 412.65625 340.414062 412.65625 340.414062 416.253906 \"/>\n",
       "<path style=\"fill:none;stroke-width:0.75;stroke-linecap:round;stroke-linejoin:round;stroke:rgb(0%,0%,0%);stroke-opacity:1;stroke-miterlimit:10;\" d=\"M 174.28125 410.8125 C 174.28125 414.414062 168.882812 414.414062 168.882812 410.8125 C 168.882812 407.210938 174.28125 407.210938 174.28125 410.8125 \"/>\n",
       "<path style=\"fill:none;stroke-width:0.75;stroke-linecap:round;stroke-linejoin:round;stroke:rgb(0%,0%,0%);stroke-opacity:1;stroke-miterlimit:10;\" d=\"M 193.816406 404.28125 C 193.816406 407.882812 188.417969 407.882812 188.417969 404.28125 C 188.417969 400.679688 193.816406 400.679688 193.816406 404.28125 \"/>\n",
       "<path style=\"fill:none;stroke-width:0.75;stroke-linecap:round;stroke-linejoin:round;stroke:rgb(0%,0%,0%);stroke-opacity:1;stroke-miterlimit:10;\" d=\"M 86.066406 258.40625 C 86.066406 262.007812 80.664062 262.007812 80.664062 258.40625 C 80.664062 254.808594 86.066406 254.808594 86.066406 258.40625 \"/>\n",
       "<path style=\"fill:none;stroke-width:0.75;stroke-linecap:round;stroke-linejoin:round;stroke:rgb(0%,0%,0%);stroke-opacity:1;stroke-miterlimit:10;\" d=\"M 123.347656 352.570312 C 123.347656 356.171875 117.949219 356.171875 117.949219 352.570312 C 117.949219 348.972656 123.347656 348.972656 123.347656 352.570312 \"/>\n",
       "<path style=\"fill:none;stroke-width:0.75;stroke-linecap:round;stroke-linejoin:round;stroke:rgb(0%,0%,0%);stroke-opacity:1;stroke-miterlimit:10;\" d=\"M 215.625 405.371094 C 215.625 408.96875 210.226562 408.96875 210.226562 405.371094 C 210.226562 401.769531 215.625 401.769531 215.625 405.371094 \"/>\n",
       "<path style=\"fill:none;stroke-width:0.75;stroke-linecap:round;stroke-linejoin:round;stroke:rgb(0%,0%,0%);stroke-opacity:1;stroke-miterlimit:10;\" d=\"M 100.203125 357.472656 C 100.203125 361.070312 94.800781 361.070312 94.800781 357.472656 C 94.800781 353.871094 100.203125 353.871094 100.203125 357.472656 \"/>\n",
       "<path style=\"fill:none;stroke-width:0.75;stroke-linecap:round;stroke-linejoin:round;stroke:rgb(0%,0%,0%);stroke-opacity:1;stroke-miterlimit:10;\" d=\"M 85.039062 237.179688 C 85.039062 240.78125 79.640625 240.78125 79.640625 237.179688 C 79.640625 233.578125 85.039062 233.578125 85.039062 237.179688 \"/>\n",
       "<path style=\"fill:none;stroke-width:0.75;stroke-linecap:round;stroke-linejoin:round;stroke:rgb(0%,0%,0%);stroke-opacity:1;stroke-miterlimit:10;\" d=\"M 102.03125 295.964844 C 102.03125 299.566406 96.632812 299.566406 96.632812 295.964844 C 96.632812 292.363281 102.03125 292.363281 102.03125 295.964844 \"/>\n",
       "<path style=\"fill:none;stroke-width:0.75;stroke-linecap:round;stroke-linejoin:round;stroke:rgb(0%,0%,0%);stroke-opacity:1;stroke-miterlimit:10;\" d=\"M 263.792969 380.332031 C 263.792969 383.933594 258.394531 383.933594 258.394531 380.332031 C 258.394531 376.730469 263.792969 376.730469 263.792969 380.332031 \"/>\n",
       "<path style=\"fill:none;stroke-width:0.75;stroke-linecap:round;stroke-linejoin:round;stroke:rgb(0%,0%,0%);stroke-opacity:1;stroke-miterlimit:10;\" d=\"M 310.042969 403.191406 C 310.042969 406.792969 304.640625 406.792969 304.640625 403.191406 C 304.640625 399.59375 310.042969 399.59375 310.042969 403.191406 \"/>\n",
       "<path style=\"fill:none;stroke-width:0.75;stroke-linecap:round;stroke-linejoin:round;stroke:rgb(0%,0%,0%);stroke-opacity:1;stroke-miterlimit:10;\" d=\"M 85.839844 278.003906 C 85.839844 281.601562 80.441406 281.601562 80.441406 278.003906 C 80.441406 274.402344 85.839844 274.402344 85.839844 278.003906 \"/>\n",
       "<path style=\"fill:none;stroke-width:0.75;stroke-linecap:round;stroke-linejoin:round;stroke:rgb(0%,0%,0%);stroke-opacity:1;stroke-miterlimit:10;\" d=\"M 112.867188 407.546875 C 112.867188 411.148438 107.46875 411.148438 107.46875 407.546875 C 107.46875 403.945312 112.867188 403.945312 112.867188 407.546875 \"/>\n",
       "<path style=\"fill:none;stroke-width:0.75;stroke-linecap:round;stroke-linejoin:round;stroke:rgb(0%,0%,0%);stroke-opacity:1;stroke-miterlimit:10;\" d=\"M 125.042969 407.003906 C 125.042969 410.601562 119.644531 410.601562 119.644531 407.003906 C 119.644531 403.402344 125.042969 403.402344 125.042969 407.003906 \"/>\n",
       "<path style=\"fill:none;stroke-width:0.75;stroke-linecap:round;stroke-linejoin:round;stroke:rgb(0%,0%,0%);stroke-opacity:1;stroke-miterlimit:10;\" d=\"M 80.222656 226.839844 C 80.222656 230.4375 74.820312 230.4375 74.820312 226.839844 C 74.820312 223.238281 80.222656 223.238281 80.222656 226.839844 \"/>\n",
       "<path style=\"fill:none;stroke-width:0.75;stroke-linecap:round;stroke-linejoin:round;stroke:rgb(0%,0%,0%);stroke-opacity:1;stroke-miterlimit:10;\" d=\"M 97.882812 275.28125 C 97.882812 278.882812 92.484375 278.882812 92.484375 275.28125 C 92.484375 271.679688 97.882812 271.679688 97.882812 275.28125 \"/>\n",
       "<path style=\"fill:none;stroke-width:0.75;stroke-linecap:round;stroke-linejoin:round;stroke:rgb(0%,0%,0%);stroke-opacity:1;stroke-miterlimit:10;\" d=\"M 115.855469 374.34375 C 115.855469 377.945312 110.457031 377.945312 110.457031 374.34375 C 110.457031 370.746094 115.855469 370.746094 115.855469 374.34375 \"/>\n",
       "<path style=\"fill:none;stroke-width:0.75;stroke-linecap:round;stroke-linejoin:round;stroke:rgb(0%,0%,0%);stroke-opacity:1;stroke-miterlimit:10;\" d=\"M 151.136719 372.167969 C 151.136719 375.765625 145.734375 375.765625 145.734375 372.167969 C 145.734375 368.566406 151.136719 368.566406 151.136719 372.167969 \"/>\n",
       "<path style=\"fill:none;stroke-width:0.75;stroke-linecap:round;stroke-linejoin:round;stroke:rgb(0%,0%,0%);stroke-opacity:1;stroke-miterlimit:10;\" d=\"M 114.339844 355.839844 C 114.339844 359.4375 108.941406 359.4375 108.941406 355.839844 C 108.941406 352.238281 114.339844 352.238281 114.339844 355.839844 \"/>\n",
       "<path style=\"fill:none;stroke-width:0.75;stroke-linecap:round;stroke-linejoin:round;stroke:rgb(0%,0%,0%);stroke-opacity:1;stroke-miterlimit:10;\" d=\"M 81.425781 155.535156 C 81.425781 159.132812 76.027344 159.132812 76.027344 155.535156 C 76.027344 151.933594 81.425781 151.933594 81.425781 155.535156 \"/>\n",
       "<path style=\"fill:none;stroke-width:0.75;stroke-linecap:round;stroke-linejoin:round;stroke:rgb(0%,0%,0%);stroke-opacity:1;stroke-miterlimit:10;\" d=\"M 106.980469 406.457031 C 106.980469 410.058594 101.582031 410.058594 101.582031 406.457031 C 101.582031 402.859375 106.980469 402.859375 106.980469 406.457031 \"/>\n",
       "<path style=\"fill:none;stroke-width:0.75;stroke-linecap:round;stroke-linejoin:round;stroke:rgb(0%,0%,0%);stroke-opacity:1;stroke-miterlimit:10;\" d=\"M 289.167969 385.230469 C 289.167969 388.832031 283.769531 388.832031 283.769531 385.230469 C 283.769531 381.628906 289.167969 381.628906 289.167969 385.230469 \"/>\n",
       "<path style=\"fill:none;stroke-width:0.75;stroke-linecap:round;stroke-linejoin:round;stroke:rgb(0%,0%,0%);stroke-opacity:1;stroke-miterlimit:10;\" d=\"M 236.1875 381.964844 C 236.1875 385.566406 230.785156 385.566406 230.785156 381.964844 C 230.785156 378.363281 236.1875 378.363281 236.1875 381.964844 \"/>\n",
       "<path style=\"fill:none;stroke-width:0.75;stroke-linecap:round;stroke-linejoin:round;stroke:rgb(0%,0%,0%);stroke-opacity:1;stroke-miterlimit:10;\" d=\"M 82.273438 193.636719 C 82.273438 197.234375 76.875 197.234375 76.875 193.636719 C 76.875 190.035156 82.273438 190.035156 82.273438 193.636719 \"/>\n",
       "<path style=\"fill:none;stroke-width:0.75;stroke-linecap:round;stroke-linejoin:round;stroke:rgb(0%,0%,0%);stroke-opacity:1;stroke-miterlimit:10;\" d=\"M 293.316406 376.523438 C 293.316406 380.121094 287.917969 380.121094 287.917969 376.523438 C 287.917969 372.921875 293.316406 372.921875 293.316406 376.523438 \"/>\n",
       "<path style=\"fill:none;stroke-width:0.75;stroke-linecap:round;stroke-linejoin:round;stroke:rgb(0%,0%,0%);stroke-opacity:1;stroke-miterlimit:10;\" d=\"M 140.878906 372.710938 C 140.878906 376.3125 135.476562 376.3125 135.476562 372.710938 C 135.476562 369.113281 140.878906 369.113281 140.878906 372.710938 \"/>\n",
       "<path style=\"fill:none;stroke-width:0.75;stroke-linecap:round;stroke-linejoin:round;stroke:rgb(0%,0%,0%);stroke-opacity:1;stroke-miterlimit:10;\" d=\"M 90.835938 355.839844 C 90.835938 359.4375 85.4375 359.4375 85.4375 355.839844 C 85.4375 352.238281 90.835938 352.238281 90.835938 355.839844 \"/>\n",
       "<path style=\"fill:none;stroke-width:0.75;stroke-linecap:round;stroke-linejoin:round;stroke:rgb(0%,0%,0%);stroke-opacity:1;stroke-miterlimit:10;\" d=\"M 94.894531 297.054688 C 94.894531 300.652344 89.496094 300.652344 89.496094 297.054688 C 89.496094 293.453125 94.894531 293.453125 94.894531 297.054688 \"/>\n",
       "<path style=\"fill:none;stroke-width:0.75;stroke-linecap:round;stroke-linejoin:round;stroke:rgb(0%,0%,0%);stroke-opacity:1;stroke-miterlimit:10;\" d=\"M 131.019531 352.570312 C 131.019531 356.171875 125.621094 356.171875 125.621094 352.570312 C 125.621094 348.972656 131.019531 348.972656 131.019531 352.570312 \"/>\n",
       "<path style=\"fill:none;stroke-width:0.75;stroke-linecap:round;stroke-linejoin:round;stroke:rgb(0%,0%,0%);stroke-opacity:1;stroke-miterlimit:10;\" d=\"M 90.078125 387.953125 C 90.078125 391.550781 84.679688 391.550781 84.679688 387.953125 C 84.679688 384.351562 90.078125 384.351562 90.078125 387.953125 \"/>\n",
       "<path style=\"fill:none;stroke-width:0.75;stroke-linecap:round;stroke-linejoin:round;stroke:rgb(0%,0%,0%);stroke-opacity:1;stroke-miterlimit:10;\" d=\"M 85.261719 248.609375 C 85.261719 252.210938 79.863281 252.210938 79.863281 248.609375 C 79.863281 245.011719 85.261719 245.011719 85.261719 248.609375 \"/>\n",
       "<path style=\"fill:none;stroke-width:0.75;stroke-linecap:round;stroke-linejoin:round;stroke:rgb(0%,0%,0%);stroke-opacity:1;stroke-miterlimit:10;\" d=\"M 82.230469 171.320312 C 82.230469 174.917969 76.828125 174.917969 76.828125 171.320312 C 76.828125 167.71875 82.230469 167.71875 82.230469 171.320312 \"/>\n",
       "<path style=\"fill:none;stroke-width:0.75;stroke-linecap:round;stroke-linejoin:round;stroke:rgb(0%,0%,0%);stroke-opacity:1;stroke-miterlimit:10;\" d=\"M 72.882812 430.558594 L 429.679688 430.558594 \"/>\n",
       "<path style=\"fill:none;stroke-width:0.75;stroke-linecap:round;stroke-linejoin:round;stroke:rgb(0%,0%,0%);stroke-opacity:1;stroke-miterlimit:10;\" d=\"M 72.882812 430.558594 L 72.882812 437.761719 \"/>\n",
       "<path style=\"fill:none;stroke-width:0.75;stroke-linecap:round;stroke-linejoin:round;stroke:rgb(0%,0%,0%);stroke-opacity:1;stroke-miterlimit:10;\" d=\"M 162.082031 430.558594 L 162.082031 437.761719 \"/>\n",
       "<path style=\"fill:none;stroke-width:0.75;stroke-linecap:round;stroke-linejoin:round;stroke:rgb(0%,0%,0%);stroke-opacity:1;stroke-miterlimit:10;\" d=\"M 251.28125 430.558594 L 251.28125 437.761719 \"/>\n",
       "<path style=\"fill:none;stroke-width:0.75;stroke-linecap:round;stroke-linejoin:round;stroke:rgb(0%,0%,0%);stroke-opacity:1;stroke-miterlimit:10;\" d=\"M 340.480469 430.558594 L 340.480469 437.761719 \"/>\n",
       "<path style=\"fill:none;stroke-width:0.75;stroke-linecap:round;stroke-linejoin:round;stroke:rgb(0%,0%,0%);stroke-opacity:1;stroke-miterlimit:10;\" d=\"M 429.679688 430.558594 L 429.679688 437.761719 \"/>\n",
       "<g style=\"fill:rgb(0%,0%,0%);fill-opacity:1;\">\n",
       "  <use xlink:href=\"#glyph0-1\" x=\"70.101562\" y=\"456.480469\"/>\n",
       "</g>\n",
       "<g style=\"fill:rgb(0%,0%,0%);fill-opacity:1;\">\n",
       "  <use xlink:href=\"#glyph0-2\" x=\"148.179688\" y=\"456.480469\"/>\n",
       "  <use xlink:href=\"#glyph0-1\" x=\"153.741211\" y=\"456.480469\"/>\n",
       "  <use xlink:href=\"#glyph0-1\" x=\"159.302734\" y=\"456.480469\"/>\n",
       "  <use xlink:href=\"#glyph0-1\" x=\"164.864258\" y=\"456.480469\"/>\n",
       "  <use xlink:href=\"#glyph0-1\" x=\"170.425781\" y=\"456.480469\"/>\n",
       "</g>\n",
       "<g style=\"fill:rgb(0%,0%,0%);fill-opacity:1;\">\n",
       "  <use xlink:href=\"#glyph0-3\" x=\"237.378906\" y=\"456.480469\"/>\n",
       "  <use xlink:href=\"#glyph0-1\" x=\"242.94043\" y=\"456.480469\"/>\n",
       "  <use xlink:href=\"#glyph0-1\" x=\"248.501953\" y=\"456.480469\"/>\n",
       "  <use xlink:href=\"#glyph0-1\" x=\"254.063477\" y=\"456.480469\"/>\n",
       "  <use xlink:href=\"#glyph0-1\" x=\"259.625\" y=\"456.480469\"/>\n",
       "</g>\n",
       "<g style=\"fill:rgb(0%,0%,0%);fill-opacity:1;\">\n",
       "  <use xlink:href=\"#glyph0-4\" x=\"326.578125\" y=\"456.480469\"/>\n",
       "  <use xlink:href=\"#glyph0-1\" x=\"332.139648\" y=\"456.480469\"/>\n",
       "  <use xlink:href=\"#glyph0-1\" x=\"337.701172\" y=\"456.480469\"/>\n",
       "  <use xlink:href=\"#glyph0-1\" x=\"343.262695\" y=\"456.480469\"/>\n",
       "  <use xlink:href=\"#glyph0-1\" x=\"348.824219\" y=\"456.480469\"/>\n",
       "</g>\n",
       "<g style=\"fill:rgb(0%,0%,0%);fill-opacity:1;\">\n",
       "  <use xlink:href=\"#glyph0-5\" x=\"415.777344\" y=\"456.480469\"/>\n",
       "  <use xlink:href=\"#glyph0-1\" x=\"421.338867\" y=\"456.480469\"/>\n",
       "  <use xlink:href=\"#glyph0-1\" x=\"426.900391\" y=\"456.480469\"/>\n",
       "  <use xlink:href=\"#glyph0-1\" x=\"432.461914\" y=\"456.480469\"/>\n",
       "  <use xlink:href=\"#glyph0-1\" x=\"438.023438\" y=\"456.480469\"/>\n",
       "</g>\n",
       "<path style=\"fill:none;stroke-width:0.75;stroke-linecap:round;stroke-linejoin:round;stroke:rgb(0%,0%,0%);stroke-opacity:1;stroke-miterlimit:10;\" d=\"M 59.039062 376.523438 L 59.039062 104.371094 \"/>\n",
       "<path style=\"fill:none;stroke-width:0.75;stroke-linecap:round;stroke-linejoin:round;stroke:rgb(0%,0%,0%);stroke-opacity:1;stroke-miterlimit:10;\" d=\"M 59.039062 376.523438 L 51.839844 376.523438 \"/>\n",
       "<path style=\"fill:none;stroke-width:0.75;stroke-linecap:round;stroke-linejoin:round;stroke:rgb(0%,0%,0%);stroke-opacity:1;stroke-miterlimit:10;\" d=\"M 59.039062 322.089844 L 51.839844 322.089844 \"/>\n",
       "<path style=\"fill:none;stroke-width:0.75;stroke-linecap:round;stroke-linejoin:round;stroke:rgb(0%,0%,0%);stroke-opacity:1;stroke-miterlimit:10;\" d=\"M 59.039062 267.660156 L 51.839844 267.660156 \"/>\n",
       "<path style=\"fill:none;stroke-width:0.75;stroke-linecap:round;stroke-linejoin:round;stroke:rgb(0%,0%,0%);stroke-opacity:1;stroke-miterlimit:10;\" d=\"M 59.039062 213.230469 L 51.839844 213.230469 \"/>\n",
       "<path style=\"fill:none;stroke-width:0.75;stroke-linecap:round;stroke-linejoin:round;stroke:rgb(0%,0%,0%);stroke-opacity:1;stroke-miterlimit:10;\" d=\"M 59.039062 158.800781 L 51.839844 158.800781 \"/>\n",
       "<path style=\"fill:none;stroke-width:0.75;stroke-linecap:round;stroke-linejoin:round;stroke:rgb(0%,0%,0%);stroke-opacity:1;stroke-miterlimit:10;\" d=\"M 59.039062 104.371094 L 51.839844 104.371094 \"/>\n",
       "<g style=\"fill:rgb(0%,0%,0%);fill-opacity:1;\">\n",
       "  <use xlink:href=\"#glyph1-1\" x=\"41.761719\" y=\"379.304688\"/>\n",
       "</g>\n",
       "<g style=\"fill:rgb(0%,0%,0%);fill-opacity:1;\">\n",
       "  <use xlink:href=\"#glyph1-2\" x=\"41.761719\" y=\"324.871094\"/>\n",
       "</g>\n",
       "<g style=\"fill:rgb(0%,0%,0%);fill-opacity:1;\">\n",
       "  <use xlink:href=\"#glyph1-3\" x=\"41.761719\" y=\"270.441406\"/>\n",
       "</g>\n",
       "<g style=\"fill:rgb(0%,0%,0%);fill-opacity:1;\">\n",
       "  <use xlink:href=\"#glyph1-4\" x=\"41.761719\" y=\"216.011719\"/>\n",
       "</g>\n",
       "<g style=\"fill:rgb(0%,0%,0%);fill-opacity:1;\">\n",
       "  <use xlink:href=\"#glyph1-5\" x=\"41.761719\" y=\"161.582031\"/>\n",
       "</g>\n",
       "<g style=\"fill:rgb(0%,0%,0%);fill-opacity:1;\">\n",
       "  <use xlink:href=\"#glyph1-6\" x=\"41.761719\" y=\"107.152344\"/>\n",
       "</g>\n",
       "<path style=\"fill:none;stroke-width:0.75;stroke-linecap:round;stroke-linejoin:round;stroke:rgb(0%,0%,0%);stroke-opacity:1;stroke-miterlimit:10;\" d=\"M 59.039062 430.558594 L 473.761719 430.558594 L 473.761719 59.039062 L 59.039062 59.039062 L 59.039062 430.558594 \"/>\n",
       "<g style=\"fill:rgb(0%,0%,0%);fill-opacity:1;\">\n",
       "  <use xlink:href=\"#glyph0-6\" x=\"242.507812\" y=\"485.28125\"/>\n",
       "  <use xlink:href=\"#glyph0-7\" x=\"251.946289\" y=\"485.28125\"/>\n",
       "  <use xlink:href=\"#glyph0-8\" x=\"259.167969\" y=\"485.28125\"/>\n",
       "  <use xlink:href=\"#glyph0-9\" x=\"266.946289\" y=\"485.28125\"/>\n",
       "  <use xlink:href=\"#glyph0-10\" x=\"272.507812\" y=\"485.28125\"/>\n",
       "  <use xlink:href=\"#glyph0-11\" x=\"280.286133\" y=\"485.28125\"/>\n",
       "  <use xlink:href=\"#glyph0-12\" x=\"287.507812\" y=\"485.28125\"/>\n",
       "</g>\n",
       "<g style=\"fill:rgb(0%,0%,0%);fill-opacity:1;\">\n",
       "  <use xlink:href=\"#glyph1-7\" x=\"12.960938\" y=\"286.472656\"/>\n",
       "  <use xlink:href=\"#glyph1-8\" x=\"12.960938\" y=\"277.03418\"/>\n",
       "  <use xlink:href=\"#glyph1-9\" x=\"12.960938\" y=\"269.8125\"/>\n",
       "  <use xlink:href=\"#glyph1-10\" x=\"12.960938\" y=\"262.03418\"/>\n",
       "  <use xlink:href=\"#glyph1-11\" x=\"12.960938\" y=\"256.472656\"/>\n",
       "  <use xlink:href=\"#glyph1-12\" x=\"12.960938\" y=\"250.364258\"/>\n",
       "  <use xlink:href=\"#glyph1-13\" x=\"12.960938\" y=\"244.802734\"/>\n",
       "  <use xlink:href=\"#glyph1-14\" x=\"12.960938\" y=\"241.472656\"/>\n",
       "  <use xlink:href=\"#glyph1-15\" x=\"12.960938\" y=\"238.694336\"/>\n",
       "  <use xlink:href=\"#glyph1-16\" x=\"12.960938\" y=\"236.472656\"/>\n",
       "  <use xlink:href=\"#glyph1-15\" x=\"12.960938\" y=\"234.250977\"/>\n",
       "  <use xlink:href=\"#glyph1-14\" x=\"12.960938\" y=\"232.029297\"/>\n",
       "  <use xlink:href=\"#glyph1-17\" x=\"12.960938\" y=\"229.250977\"/>\n",
       "  <use xlink:href=\"#glyph1-18\" x=\"12.960938\" y=\"224.250977\"/>\n",
       "  <use xlink:href=\"#glyph1-19\" x=\"12.960938\" y=\"217.029297\"/>\n",
       "  <use xlink:href=\"#glyph1-14\" x=\"12.960938\" y=\"211.467773\"/>\n",
       "  <use xlink:href=\"#glyph1-12\" x=\"12.960938\" y=\"208.689453\"/>\n",
       "</g>\n",
       "</g>\n",
       "</svg>\n"
      ],
      "text/plain": [
       "plot without title"
      ]
     },
     "metadata": {
      "image/svg+xml": {
       "isolated": true
      }
     },
     "output_type": "display_data"
    }
   ],
   "source": [
    "plot(WHO$GNI, WHO$FertilityRate)"
   ]
  },
  {
   "cell_type": "code",
   "execution_count": 35,
   "metadata": {
    "collapsed": false
   },
   "outputs": [
    {
     "data": {
      "text/html": [
       "7"
      ],
      "text/latex": [
       "7"
      ],
      "text/markdown": [
       "7"
      ],
      "text/plain": [
       "[1] 7"
      ]
     },
     "execution_count": 35,
     "metadata": {},
     "output_type": "execute_result"
    }
   ],
   "source": [
    "Outliers = subset(WHO, GNI > 10000 & FertilityRate > 2.5)\n",
    "nrow(Outliers)"
   ]
  },
  {
   "cell_type": "code",
   "execution_count": 36,
   "metadata": {
    "collapsed": false
   },
   "outputs": [
    {
     "data": {
      "text/html": [
       "<table>\n",
       "<thead><tr><th></th><th scope=col>Country</th><th scope=col>GNI</th><th scope=col>FertilityRate</th></tr></thead>\n",
       "<tbody>\n",
       "\t<tr><th scope=row>23</th><td>Botswana</td><td>14550</td><td>2.71</td></tr>\n",
       "\t<tr><th scope=row>56</th><td>Equatorial Guinea</td><td>25620</td><td>5.04</td></tr>\n",
       "\t<tr><th scope=row>63</th><td>Gabon</td><td>13740</td><td>4.18</td></tr>\n",
       "\t<tr><th scope=row>83</th><td>Israel</td><td>27110</td><td>2.92</td></tr>\n",
       "\t<tr><th scope=row>88</th><td>Kazakhstan</td><td>11250</td><td>2.52</td></tr>\n",
       "\t<tr><th scope=row>131</th><td>Panama</td><td>14510</td><td>2.52</td></tr>\n",
       "\t<tr><th scope=row>150</th><td>Saudi Arabia</td><td>24700</td><td>2.76</td></tr>\n",
       "</tbody>\n",
       "</table>\n"
      ],
      "text/latex": [
       "\\begin{tabular}{r|lll}\n",
       "  & Country & GNI & FertilityRate\\\\\n",
       "\\hline\n",
       "\t23 & Botswana & 14550 & 2.71\\\\\n",
       "\t56 & Equatorial Guinea & 25620 & 5.04\\\\\n",
       "\t63 & Gabon & 13740 & 4.18\\\\\n",
       "\t83 & Israel & 27110 & 2.92\\\\\n",
       "\t88 & Kazakhstan & 11250 & 2.52\\\\\n",
       "\t131 & Panama & 14510 & 2.52\\\\\n",
       "\t150 & Saudi Arabia & 24700 & 2.76\\\\\n",
       "\\end{tabular}\n"
      ],
      "text/plain": [
       "              Country   GNI FertilityRate\n",
       "23           Botswana 14550          2.71\n",
       "56  Equatorial Guinea 25620          5.04\n",
       "63              Gabon 13740          4.18\n",
       "83             Israel 27110          2.92\n",
       "88         Kazakhstan 11250          2.52\n",
       "131            Panama 14510          2.52\n",
       "150      Saudi Arabia 24700          2.76"
      ]
     },
     "execution_count": 36,
     "metadata": {},
     "output_type": "execute_result"
    }
   ],
   "source": [
    "Outliers[c(\"Country\", \"GNI\", \"FertilityRate\")]"
   ]
  },
  {
   "cell_type": "markdown",
   "metadata": {},
   "source": [
    "### Quick Question\n",
    "What is the mean of the Over60 variable?"
   ]
  },
  {
   "cell_type": "code",
   "execution_count": 37,
   "metadata": {
    "collapsed": false
   },
   "outputs": [
    {
     "data": {
      "text/html": [
       "11.1636597938144"
      ],
      "text/latex": [
       "11.1636597938144"
      ],
      "text/markdown": [
       "11.1636597938144"
      ],
      "text/plain": [
       "[1] 11.16366"
      ]
     },
     "execution_count": 37,
     "metadata": {},
     "output_type": "execute_result"
    }
   ],
   "source": [
    "mean(WHO$Over60)"
   ]
  },
  {
   "cell_type": "code",
   "execution_count": 3,
   "metadata": {
    "collapsed": false
   },
   "outputs": [
    {
     "data": {
      "text/html": [
       "United Arab Emirates"
      ],
      "text/latex": [
       "United Arab Emirates"
      ],
      "text/markdown": [
       "United Arab Emirates"
      ],
      "text/plain": [
       "[1] United Arab Emirates\n",
       "194 Levels: Afghanistan Albania Algeria Andorra Angola ... Zimbabwe"
      ]
     },
     "execution_count": 3,
     "metadata": {},
     "output_type": "execute_result"
    }
   ],
   "source": [
    "WHO$Country[which.min(WHO$Over60)]"
   ]
  },
  {
   "cell_type": "code",
   "execution_count": 4,
   "metadata": {
    "collapsed": false
   },
   "outputs": [
    {
     "data": {
      "text/html": [
       "Cuba"
      ],
      "text/latex": [
       "Cuba"
      ],
      "text/markdown": [
       "Cuba"
      ],
      "text/plain": [
       "[1] Cuba\n",
       "194 Levels: Afghanistan Albania Algeria Andorra Angola ... Zimbabwe"
      ]
     },
     "execution_count": 4,
     "metadata": {},
     "output_type": "execute_result"
    }
   ],
   "source": [
    "WHO$Country[which.max(WHO$LiteracyRate)]"
   ]
  },
  {
   "cell_type": "markdown",
   "metadata": {},
   "source": [
    "## Video 6: Data Analysis - Plots and Summary Tables"
   ]
  },
  {
   "cell_type": "code",
   "execution_count": null,
   "metadata": {
    "collapsed": true
   },
   "outputs": [],
   "source": []
  },
  {
   "cell_type": "code",
   "execution_count": null,
   "metadata": {
    "collapsed": true
   },
   "outputs": [],
   "source": []
  },
  {
   "cell_type": "markdown",
   "metadata": {},
   "source": [
    "# Understanding Food: Nutritional Education with Data (Recitation)"
   ]
  }
 ],
 "metadata": {
  "kernelspec": {
   "display_name": "R",
   "language": "R",
   "name": "ir"
  },
  "language_info": {
   "codemirror_mode": "r",
   "file_extension": ".r",
   "mimetype": "text/x-r-source",
   "name": "R",
   "pygments_lexer": "r",
   "version": "3.2.4"
  }
 },
 "nbformat": 4,
 "nbformat_minor": 0
}
