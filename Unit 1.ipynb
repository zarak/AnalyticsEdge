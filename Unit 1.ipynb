{
 "cells": [
  {
   "cell_type": "markdown",
   "metadata": {},
   "source": [
    "# Working with Data: An Introduction to R"
   ]
  },
  {
   "cell_type": "markdown",
   "metadata": {},
   "source": [
    "## Video 3: Vectors and Data Frames"
   ]
  },
  {
   "cell_type": "code",
   "execution_count": 2,
   "metadata": {
    "collapsed": false
   },
   "outputs": [
    {
     "data": {
      "text/html": [
       "<ol class=list-inline>\n",
       "\t<li>2</li>\n",
       "\t<li>3</li>\n",
       "\t<li>5</li>\n",
       "\t<li>8</li>\n",
       "\t<li>13</li>\n",
       "</ol>\n"
      ],
      "text/latex": [
       "\\begin{enumerate*}\n",
       "\\item 2\n",
       "\\item 3\n",
       "\\item 5\n",
       "\\item 8\n",
       "\\item 13\n",
       "\\end{enumerate*}\n"
      ],
      "text/markdown": [
       "1. 2\n",
       "2. 3\n",
       "3. 5\n",
       "4. 8\n",
       "5. 13\n",
       "\n",
       "\n"
      ],
      "text/plain": [
       "[1]  2  3  5  8 13"
      ]
     },
     "execution_count": 2,
     "metadata": {},
     "output_type": "execute_result"
    }
   ],
   "source": [
    "c(2,3,5,8,13)"
   ]
  },
  {
   "cell_type": "code",
   "execution_count": 3,
   "metadata": {
    "collapsed": true
   },
   "outputs": [],
   "source": [
    "Country = c(\"Brazil\", \"China\", \"India\", \"Switzerland\", \"USA\")\n",
    "LifeExpectancy = c(74, 76, 65, 83, 79)"
   ]
  },
  {
   "cell_type": "code",
   "execution_count": 4,
   "metadata": {
    "collapsed": false
   },
   "outputs": [
    {
     "data": {
      "text/html": [
       "<ol class=list-inline>\n",
       "\t<li>'Brazil'</li>\n",
       "\t<li>'China'</li>\n",
       "\t<li>'India'</li>\n",
       "\t<li>'Switzerland'</li>\n",
       "\t<li>'USA'</li>\n",
       "</ol>\n"
      ],
      "text/latex": [
       "\\begin{enumerate*}\n",
       "\\item 'Brazil'\n",
       "\\item 'China'\n",
       "\\item 'India'\n",
       "\\item 'Switzerland'\n",
       "\\item 'USA'\n",
       "\\end{enumerate*}\n"
      ],
      "text/markdown": [
       "1. 'Brazil'\n",
       "2. 'China'\n",
       "3. 'India'\n",
       "4. 'Switzerland'\n",
       "5. 'USA'\n",
       "\n",
       "\n"
      ],
      "text/plain": [
       "[1] \"Brazil\"      \"China\"       \"India\"       \"Switzerland\" \"USA\"        "
      ]
     },
     "execution_count": 4,
     "metadata": {},
     "output_type": "execute_result"
    }
   ],
   "source": [
    "Country"
   ]
  },
  {
   "cell_type": "code",
   "execution_count": 5,
   "metadata": {
    "collapsed": false
   },
   "outputs": [
    {
     "data": {
      "text/html": [
       "<ol class=list-inline>\n",
       "\t<li>74</li>\n",
       "\t<li>76</li>\n",
       "\t<li>65</li>\n",
       "\t<li>83</li>\n",
       "\t<li>79</li>\n",
       "</ol>\n"
      ],
      "text/latex": [
       "\\begin{enumerate*}\n",
       "\\item 74\n",
       "\\item 76\n",
       "\\item 65\n",
       "\\item 83\n",
       "\\item 79\n",
       "\\end{enumerate*}\n"
      ],
      "text/markdown": [
       "1. 74\n",
       "2. 76\n",
       "3. 65\n",
       "4. 83\n",
       "5. 79\n",
       "\n",
       "\n"
      ],
      "text/plain": [
       "[1] 74 76 65 83 79"
      ]
     },
     "execution_count": 5,
     "metadata": {},
     "output_type": "execute_result"
    }
   ],
   "source": [
    "LifeExpectancy"
   ]
  },
  {
   "cell_type": "code",
   "execution_count": 6,
   "metadata": {
    "collapsed": false
   },
   "outputs": [
    {
     "data": {
      "text/html": [
       "'Brazil'"
      ],
      "text/latex": [
       "'Brazil'"
      ],
      "text/markdown": [
       "'Brazil'"
      ],
      "text/plain": [
       "[1] \"Brazil\""
      ]
     },
     "execution_count": 6,
     "metadata": {},
     "output_type": "execute_result"
    }
   ],
   "source": [
    "Country[1]"
   ]
  },
  {
   "cell_type": "code",
   "execution_count": 7,
   "metadata": {
    "collapsed": false
   },
   "outputs": [
    {
     "data": {
      "text/html": [
       "<ol class=list-inline>\n",
       "\t<li>0</li>\n",
       "\t<li>2</li>\n",
       "\t<li>4</li>\n",
       "\t<li>6</li>\n",
       "\t<li>8</li>\n",
       "\t<li>10</li>\n",
       "\t<li>12</li>\n",
       "\t<li>14</li>\n",
       "\t<li>16</li>\n",
       "\t<li>18</li>\n",
       "\t<li>20</li>\n",
       "\t<li>22</li>\n",
       "\t<li>24</li>\n",
       "\t<li>26</li>\n",
       "\t<li>28</li>\n",
       "\t<li>30</li>\n",
       "\t<li>32</li>\n",
       "\t<li>34</li>\n",
       "\t<li>36</li>\n",
       "\t<li>38</li>\n",
       "\t<li>40</li>\n",
       "\t<li>42</li>\n",
       "\t<li>44</li>\n",
       "\t<li>46</li>\n",
       "\t<li>48</li>\n",
       "\t<li>50</li>\n",
       "\t<li>52</li>\n",
       "\t<li>54</li>\n",
       "\t<li>56</li>\n",
       "\t<li>58</li>\n",
       "\t<li>60</li>\n",
       "\t<li>62</li>\n",
       "\t<li>64</li>\n",
       "\t<li>66</li>\n",
       "\t<li>68</li>\n",
       "\t<li>70</li>\n",
       "\t<li>72</li>\n",
       "\t<li>74</li>\n",
       "\t<li>76</li>\n",
       "\t<li>78</li>\n",
       "\t<li>80</li>\n",
       "\t<li>82</li>\n",
       "\t<li>84</li>\n",
       "\t<li>86</li>\n",
       "\t<li>88</li>\n",
       "\t<li>90</li>\n",
       "\t<li>92</li>\n",
       "\t<li>94</li>\n",
       "\t<li>96</li>\n",
       "\t<li>98</li>\n",
       "\t<li>100</li>\n",
       "</ol>\n"
      ],
      "text/latex": [
       "\\begin{enumerate*}\n",
       "\\item 0\n",
       "\\item 2\n",
       "\\item 4\n",
       "\\item 6\n",
       "\\item 8\n",
       "\\item 10\n",
       "\\item 12\n",
       "\\item 14\n",
       "\\item 16\n",
       "\\item 18\n",
       "\\item 20\n",
       "\\item 22\n",
       "\\item 24\n",
       "\\item 26\n",
       "\\item 28\n",
       "\\item 30\n",
       "\\item 32\n",
       "\\item 34\n",
       "\\item 36\n",
       "\\item 38\n",
       "\\item 40\n",
       "\\item 42\n",
       "\\item 44\n",
       "\\item 46\n",
       "\\item 48\n",
       "\\item 50\n",
       "\\item 52\n",
       "\\item 54\n",
       "\\item 56\n",
       "\\item 58\n",
       "\\item 60\n",
       "\\item 62\n",
       "\\item 64\n",
       "\\item 66\n",
       "\\item 68\n",
       "\\item 70\n",
       "\\item 72\n",
       "\\item 74\n",
       "\\item 76\n",
       "\\item 78\n",
       "\\item 80\n",
       "\\item 82\n",
       "\\item 84\n",
       "\\item 86\n",
       "\\item 88\n",
       "\\item 90\n",
       "\\item 92\n",
       "\\item 94\n",
       "\\item 96\n",
       "\\item 98\n",
       "\\item 100\n",
       "\\end{enumerate*}\n"
      ],
      "text/markdown": [
       "1. 0\n",
       "2. 2\n",
       "3. 4\n",
       "4. 6\n",
       "5. 8\n",
       "6. 10\n",
       "7. 12\n",
       "8. 14\n",
       "9. 16\n",
       "10. 18\n",
       "11. 20\n",
       "12. 22\n",
       "13. 24\n",
       "14. 26\n",
       "15. 28\n",
       "16. 30\n",
       "17. 32\n",
       "18. 34\n",
       "19. 36\n",
       "20. 38\n",
       "21. 40\n",
       "22. 42\n",
       "23. 44\n",
       "24. 46\n",
       "25. 48\n",
       "26. 50\n",
       "27. 52\n",
       "28. 54\n",
       "29. 56\n",
       "30. 58\n",
       "31. 60\n",
       "32. 62\n",
       "33. 64\n",
       "34. 66\n",
       "35. 68\n",
       "36. 70\n",
       "37. 72\n",
       "38. 74\n",
       "39. 76\n",
       "40. 78\n",
       "41. 80\n",
       "42. 82\n",
       "43. 84\n",
       "44. 86\n",
       "45. 88\n",
       "46. 90\n",
       "47. 92\n",
       "48. 94\n",
       "49. 96\n",
       "50. 98\n",
       "51. 100\n",
       "\n",
       "\n"
      ],
      "text/plain": [
       " [1]   0   2   4   6   8  10  12  14  16  18  20  22  24  26  28  30  32  34  36\n",
       "[20]  38  40  42  44  46  48  50  52  54  56  58  60  62  64  66  68  70  72  74\n",
       "[39]  76  78  80  82  84  86  88  90  92  94  96  98 100"
      ]
     },
     "execution_count": 7,
     "metadata": {},
     "output_type": "execute_result"
    }
   ],
   "source": [
    "seq(0,100,2)"
   ]
  },
  {
   "cell_type": "code",
   "execution_count": 8,
   "metadata": {
    "collapsed": false
   },
   "outputs": [
    {
     "data": {
      "text/html": [
       "<table>\n",
       "<thead><tr><th></th><th scope=col>Country</th><th scope=col>LifeExpectancy</th></tr></thead>\n",
       "<tbody>\n",
       "\t<tr><th scope=row>1</th><td>Brazil</td><td>74</td></tr>\n",
       "\t<tr><th scope=row>2</th><td>China</td><td>76</td></tr>\n",
       "\t<tr><th scope=row>3</th><td>India</td><td>65</td></tr>\n",
       "\t<tr><th scope=row>4</th><td>Switzerland</td><td>83</td></tr>\n",
       "\t<tr><th scope=row>5</th><td>USA</td><td>79</td></tr>\n",
       "</tbody>\n",
       "</table>\n"
      ],
      "text/latex": [
       "\\begin{tabular}{r|ll}\n",
       "  & Country & LifeExpectancy\\\\\n",
       "\\hline\n",
       "\t1 & Brazil & 74\\\\\n",
       "\t2 & China & 76\\\\\n",
       "\t3 & India & 65\\\\\n",
       "\t4 & Switzerland & 83\\\\\n",
       "\t5 & USA & 79\\\\\n",
       "\\end{tabular}\n"
      ],
      "text/plain": [
       "      Country LifeExpectancy\n",
       "1      Brazil             74\n",
       "2       China             76\n",
       "3       India             65\n",
       "4 Switzerland             83\n",
       "5         USA             79"
      ]
     },
     "execution_count": 8,
     "metadata": {},
     "output_type": "execute_result"
    }
   ],
   "source": [
    "CountryData = data.frame(Country, LifeExpectancy)\n",
    "CountryData"
   ]
  },
  {
   "cell_type": "code",
   "execution_count": 10,
   "metadata": {
    "collapsed": false
   },
   "outputs": [
    {
     "data": {
      "text/html": [
       "<table>\n",
       "<thead><tr><th></th><th scope=col>Country</th><th scope=col>LifeExpectancy</th><th scope=col>Population</th></tr></thead>\n",
       "<tbody>\n",
       "\t<tr><th scope=row>1</th><td>Brazil</td><td>74</td><td>199000</td></tr>\n",
       "\t<tr><th scope=row>2</th><td>China</td><td>76</td><td>1390000</td></tr>\n",
       "\t<tr><th scope=row>3</th><td>India</td><td>65</td><td>1240000</td></tr>\n",
       "\t<tr><th scope=row>4</th><td>Switzerland</td><td>83</td><td>7997</td></tr>\n",
       "\t<tr><th scope=row>5</th><td>USA</td><td>79</td><td>318000</td></tr>\n",
       "</tbody>\n",
       "</table>\n"
      ],
      "text/latex": [
       "\\begin{tabular}{r|lll}\n",
       "  & Country & LifeExpectancy & Population\\\\\n",
       "\\hline\n",
       "\t1 & Brazil & 74 & 199000\\\\\n",
       "\t2 & China & 76 & 1390000\\\\\n",
       "\t3 & India & 65 & 1240000\\\\\n",
       "\t4 & Switzerland & 83 & 7997\\\\\n",
       "\t5 & USA & 79 & 318000\\\\\n",
       "\\end{tabular}\n"
      ],
      "text/plain": [
       "      Country LifeExpectancy Population\n",
       "1      Brazil             74     199000\n",
       "2       China             76    1390000\n",
       "3       India             65    1240000\n",
       "4 Switzerland             83       7997\n",
       "5         USA             79     318000"
      ]
     },
     "execution_count": 10,
     "metadata": {},
     "output_type": "execute_result"
    }
   ],
   "source": [
    "CountryData$Population = c(199000, 1390000, 1240000, 7997, 318000)\n",
    "CountryData"
   ]
  },
  {
   "cell_type": "code",
   "execution_count": 12,
   "metadata": {
    "collapsed": false
   },
   "outputs": [
    {
     "data": {
      "text/html": [
       "<table>\n",
       "<thead><tr><th></th><th scope=col>Country</th><th scope=col>LifeExpectancy</th><th scope=col>Population</th></tr></thead>\n",
       "<tbody>\n",
       "\t<tr><th scope=row>1</th><td>Australia</td><td>82</td><td>23050</td></tr>\n",
       "\t<tr><th scope=row>2</th><td>Greece</td><td>81</td><td>11125</td></tr>\n",
       "</tbody>\n",
       "</table>\n"
      ],
      "text/latex": [
       "\\begin{tabular}{r|lll}\n",
       "  & Country & LifeExpectancy & Population\\\\\n",
       "\\hline\n",
       "\t1 & Australia & 82 & 23050\\\\\n",
       "\t2 & Greece & 81 & 11125\\\\\n",
       "\\end{tabular}\n"
      ],
      "text/plain": [
       "    Country LifeExpectancy Population\n",
       "1 Australia             82      23050\n",
       "2    Greece             81      11125"
      ]
     },
     "execution_count": 12,
     "metadata": {},
     "output_type": "execute_result"
    }
   ],
   "source": [
    "Country = c(\"Australia\", \"Greece\")\n",
    "LifeExpectancy = c(82, 81)\n",
    "Population = c(23050, 11125)\n",
    "NewCountryData = data.frame(Country, LifeExpectancy, Population)\n",
    "NewCountryData"
   ]
  },
  {
   "cell_type": "code",
   "execution_count": 14,
   "metadata": {
    "collapsed": false
   },
   "outputs": [
    {
     "data": {
      "text/html": [
       "<table>\n",
       "<thead><tr><th></th><th scope=col>Country</th><th scope=col>LifeExpectancy</th><th scope=col>Population</th></tr></thead>\n",
       "<tbody>\n",
       "\t<tr><th scope=row>1</th><td>Brazil</td><td>74</td><td>199000</td></tr>\n",
       "\t<tr><th scope=row>2</th><td>China</td><td>76</td><td>1390000</td></tr>\n",
       "\t<tr><th scope=row>3</th><td>India</td><td>65</td><td>1240000</td></tr>\n",
       "\t<tr><th scope=row>4</th><td>Switzerland</td><td>83</td><td>7997</td></tr>\n",
       "\t<tr><th scope=row>5</th><td>USA</td><td>79</td><td>318000</td></tr>\n",
       "\t<tr><th scope=row>6</th><td>Australia</td><td>82</td><td>23050</td></tr>\n",
       "\t<tr><th scope=row>7</th><td>Greece</td><td>81</td><td>11125</td></tr>\n",
       "</tbody>\n",
       "</table>\n"
      ],
      "text/latex": [
       "\\begin{tabular}{r|lll}\n",
       "  & Country & LifeExpectancy & Population\\\\\n",
       "\\hline\n",
       "\t1 & Brazil & 74 & 199000\\\\\n",
       "\t2 & China & 76 & 1390000\\\\\n",
       "\t3 & India & 65 & 1240000\\\\\n",
       "\t4 & Switzerland & 83 & 7997\\\\\n",
       "\t5 & USA & 79 & 318000\\\\\n",
       "\t6 & Australia & 82 & 23050\\\\\n",
       "\t7 & Greece & 81 & 11125\\\\\n",
       "\\end{tabular}\n"
      ],
      "text/plain": [
       "      Country LifeExpectancy Population\n",
       "1      Brazil             74     199000\n",
       "2       China             76    1390000\n",
       "3       India             65    1240000\n",
       "4 Switzerland             83       7997\n",
       "5         USA             79     318000\n",
       "6   Australia             82      23050\n",
       "7      Greece             81      11125"
      ]
     },
     "execution_count": 14,
     "metadata": {},
     "output_type": "execute_result"
    }
   ],
   "source": [
    "AllCountryData = rbind(CountryData, NewCountryData)\n",
    "AllCountryData"
   ]
  },
  {
   "cell_type": "markdown",
   "metadata": {},
   "source": [
    "## Video 4: Loading Data Files"
   ]
  },
  {
   "cell_type": "code",
   "execution_count": 16,
   "metadata": {
    "collapsed": false
   },
   "outputs": [
    {
     "name": "stdout",
     "output_type": "stream",
     "text": [
      "'data.frame':\t194 obs. of  13 variables:\n",
      " $ Country                      : Factor w/ 194 levels \"Afghanistan\",..: 1 2 3 4 5 6 7 8 9 10 ...\n",
      " $ Region                       : Factor w/ 6 levels \"Africa\",\"Americas\",..: 3 4 1 4 1 2 2 4 6 4 ...\n",
      " $ Population                   : int  29825 3162 38482 78 20821 89 41087 2969 23050 8464 ...\n",
      " $ Under15                      : num  47.4 21.3 27.4 15.2 47.6 ...\n",
      " $ Over60                       : num  3.82 14.93 7.17 22.86 3.84 ...\n",
      " $ FertilityRate                : num  5.4 1.75 2.83 NA 6.1 2.12 2.2 1.74 1.89 1.44 ...\n",
      " $ LifeExpectancy               : int  60 74 73 82 51 75 76 71 82 81 ...\n",
      " $ ChildMortality               : num  98.5 16.7 20 3.2 163.5 ...\n",
      " $ CellularSubscribers          : num  54.3 96.4 99 75.5 48.4 ...\n",
      " $ LiteracyRate                 : num  NA NA NA NA 70.1 99 97.8 99.6 NA NA ...\n",
      " $ GNI                          : num  1140 8820 8310 NA 5230 ...\n",
      " $ PrimarySchoolEnrollmentMale  : num  NA NA 98.2 78.4 93.1 91.1 NA NA 96.9 NA ...\n",
      " $ PrimarySchoolEnrollmentFemale: num  NA NA 96.4 79.4 78.2 84.5 NA NA 97.5 NA ...\n"
     ]
    }
   ],
   "source": [
    "WHO = read.csv(\"WHO.csv\")\n",
    "str(WHO)"
   ]
  },
  {
   "cell_type": "code",
   "execution_count": 17,
   "metadata": {
    "collapsed": false
   },
   "outputs": [
    {
     "data": {
      "text/plain": [
       "                Country                      Region     Population     \n",
       " Afghanistan        :  1   Africa               :46   Min.   :      1  \n",
       " Albania            :  1   Americas             :35   1st Qu.:   1696  \n",
       " Algeria            :  1   Eastern Mediterranean:22   Median :   7790  \n",
       " Andorra            :  1   Europe               :53   Mean   :  36360  \n",
       " Angola             :  1   South-East Asia      :11   3rd Qu.:  24535  \n",
       " Antigua and Barbuda:  1   Western Pacific      :27   Max.   :1390000  \n",
       " (Other)            :188                                               \n",
       "    Under15          Over60      FertilityRate   LifeExpectancy \n",
       " Min.   :13.12   Min.   : 0.81   Min.   :1.260   Min.   :47.00  \n",
       " 1st Qu.:18.72   1st Qu.: 5.20   1st Qu.:1.835   1st Qu.:64.00  \n",
       " Median :28.65   Median : 8.53   Median :2.400   Median :72.50  \n",
       " Mean   :28.73   Mean   :11.16   Mean   :2.941   Mean   :70.01  \n",
       " 3rd Qu.:37.75   3rd Qu.:16.69   3rd Qu.:3.905   3rd Qu.:76.00  \n",
       " Max.   :49.99   Max.   :31.92   Max.   :7.580   Max.   :83.00  \n",
       "                                 NA's   :11                     \n",
       " ChildMortality    CellularSubscribers  LiteracyRate        GNI       \n",
       " Min.   :  2.200   Min.   :  2.57      Min.   :31.10   Min.   :  340  \n",
       " 1st Qu.:  8.425   1st Qu.: 63.57      1st Qu.:71.60   1st Qu.: 2335  \n",
       " Median : 18.600   Median : 97.75      Median :91.80   Median : 7870  \n",
       " Mean   : 36.149   Mean   : 93.64      Mean   :83.71   Mean   :13321  \n",
       " 3rd Qu.: 55.975   3rd Qu.:120.81      3rd Qu.:97.85   3rd Qu.:17558  \n",
       " Max.   :181.600   Max.   :196.41      Max.   :99.80   Max.   :86440  \n",
       "                   NA's   :10          NA's   :91      NA's   :32     \n",
       " PrimarySchoolEnrollmentMale PrimarySchoolEnrollmentFemale\n",
       " Min.   : 37.20              Min.   : 32.50               \n",
       " 1st Qu.: 87.70              1st Qu.: 87.30               \n",
       " Median : 94.70              Median : 95.10               \n",
       " Mean   : 90.85              Mean   : 89.63               \n",
       " 3rd Qu.: 98.10              3rd Qu.: 97.90               \n",
       " Max.   :100.00              Max.   :100.00               \n",
       " NA's   :93                  NA's   :93                   "
      ]
     },
     "execution_count": 17,
     "metadata": {},
     "output_type": "execute_result"
    }
   ],
   "source": [
    "summary(WHO)"
   ]
  },
  {
   "cell_type": "code",
   "execution_count": 21,
   "metadata": {
    "collapsed": false
   },
   "outputs": [
    {
     "name": "stdout",
     "output_type": "stream",
     "text": [
      "'data.frame':\t53 obs. of  13 variables:\n",
      " $ Country                      : Factor w/ 194 levels \"Afghanistan\",..: 2 4 8 10 11 16 17 22 26 42 ...\n",
      " $ Region                       : Factor w/ 6 levels \"Africa\",\"Americas\",..: 4 4 4 4 4 4 4 4 4 4 ...\n",
      " $ Population                   : int  3162 78 2969 8464 9309 9405 11060 3834 7278 4307 ...\n",
      " $ Under15                      : num  21.3 15.2 20.3 14.5 22.2 ...\n",
      " $ Over60                       : num  14.93 22.86 14.06 23.52 8.24 ...\n",
      " $ FertilityRate                : num  1.75 NA 1.74 1.44 1.96 1.47 1.85 1.26 1.51 1.48 ...\n",
      " $ LifeExpectancy               : int  74 82 71 81 71 71 80 76 74 77 ...\n",
      " $ ChildMortality               : num  16.7 3.2 16.4 4 35.2 5.2 4.2 6.7 12.1 4.7 ...\n",
      " $ CellularSubscribers          : num  96.4 75.5 103.6 154.8 108.8 ...\n",
      " $ LiteracyRate                 : num  NA NA 99.6 NA NA NA NA 97.9 NA 98.8 ...\n",
      " $ GNI                          : num  8820 NA 6100 42050 8960 ...\n",
      " $ PrimarySchoolEnrollmentMale  : num  NA 78.4 NA NA 85.3 NA 98.9 86.5 99.3 94.8 ...\n",
      " $ PrimarySchoolEnrollmentFemale: num  NA 79.4 NA NA 84.1 NA 99.2 88.4 99.7 97 ...\n"
     ]
    }
   ],
   "source": [
    "WHO_Europe = subset(WHO, Region == \"Europe\")\n",
    "str(WHO_Europe)"
   ]
  },
  {
   "cell_type": "code",
   "execution_count": 23,
   "metadata": {
    "collapsed": false
   },
   "outputs": [
    {
     "data": {
      "text/html": [
       "<ol class=list-inline>\n",
       "\t<li>'AllCountryData'</li>\n",
       "\t<li>'Country'</li>\n",
       "\t<li>'CountryData'</li>\n",
       "\t<li>'LifeExpectancy'</li>\n",
       "\t<li>'NewCountryData'</li>\n",
       "\t<li>'Population'</li>\n",
       "\t<li>'WHO'</li>\n",
       "\t<li>'WHO_Europe'</li>\n",
       "\t<li>'x'</li>\n",
       "</ol>\n"
      ],
      "text/latex": [
       "\\begin{enumerate*}\n",
       "\\item 'AllCountryData'\n",
       "\\item 'Country'\n",
       "\\item 'CountryData'\n",
       "\\item 'LifeExpectancy'\n",
       "\\item 'NewCountryData'\n",
       "\\item 'Population'\n",
       "\\item 'WHO'\n",
       "\\item 'WHO_Europe'\n",
       "\\item 'x'\n",
       "\\end{enumerate*}\n"
      ],
      "text/markdown": [
       "1. 'AllCountryData'\n",
       "2. 'Country'\n",
       "3. 'CountryData'\n",
       "4. 'LifeExpectancy'\n",
       "5. 'NewCountryData'\n",
       "6. 'Population'\n",
       "7. 'WHO'\n",
       "8. 'WHO_Europe'\n",
       "9. 'x'\n",
       "\n",
       "\n"
      ],
      "text/plain": [
       "[1] \"AllCountryData\" \"Country\"        \"CountryData\"    \"LifeExpectancy\"\n",
       "[5] \"NewCountryData\" \"Population\"     \"WHO\"            \"WHO_Europe\"    \n",
       "[9] \"x\"             "
      ]
     },
     "execution_count": 23,
     "metadata": {},
     "output_type": "execute_result"
    }
   ],
   "source": [
    "write.csv(WHO_Europe, \"WHO_Europe.csv\")\n",
    "ls()"
   ]
  },
  {
   "cell_type": "code",
   "execution_count": 24,
   "metadata": {
    "collapsed": false
   },
   "outputs": [
    {
     "data": {
      "text/html": [
       "<ol class=list-inline>\n",
       "\t<li>'AllCountryData'</li>\n",
       "\t<li>'Country'</li>\n",
       "\t<li>'CountryData'</li>\n",
       "\t<li>'LifeExpectancy'</li>\n",
       "\t<li>'NewCountryData'</li>\n",
       "\t<li>'Population'</li>\n",
       "\t<li>'WHO'</li>\n",
       "\t<li>'x'</li>\n",
       "</ol>\n"
      ],
      "text/latex": [
       "\\begin{enumerate*}\n",
       "\\item 'AllCountryData'\n",
       "\\item 'Country'\n",
       "\\item 'CountryData'\n",
       "\\item 'LifeExpectancy'\n",
       "\\item 'NewCountryData'\n",
       "\\item 'Population'\n",
       "\\item 'WHO'\n",
       "\\item 'x'\n",
       "\\end{enumerate*}\n"
      ],
      "text/markdown": [
       "1. 'AllCountryData'\n",
       "2. 'Country'\n",
       "3. 'CountryData'\n",
       "4. 'LifeExpectancy'\n",
       "5. 'NewCountryData'\n",
       "6. 'Population'\n",
       "7. 'WHO'\n",
       "8. 'x'\n",
       "\n",
       "\n"
      ],
      "text/plain": [
       "[1] \"AllCountryData\" \"Country\"        \"CountryData\"    \"LifeExpectancy\"\n",
       "[5] \"NewCountryData\" \"Population\"     \"WHO\"            \"x\"             "
      ]
     },
     "execution_count": 24,
     "metadata": {},
     "output_type": "execute_result"
    }
   ],
   "source": [
    "rm(WHO_Europe)\n",
    "ls()"
   ]
  },
  {
   "cell_type": "code",
   "execution_count": null,
   "metadata": {
    "collapsed": true
   },
   "outputs": [],
   "source": []
  },
  {
   "cell_type": "markdown",
   "metadata": {},
   "source": [
    "## Understanding Food: Nutritional Education with Data (Recitation)"
   ]
  },
  {
   "cell_type": "code",
   "execution_count": null,
   "metadata": {
    "collapsed": true
   },
   "outputs": [],
   "source": []
  }
 ],
 "metadata": {
  "kernelspec": {
   "display_name": "R",
   "language": "R",
   "name": "ir"
  },
  "language_info": {
   "codemirror_mode": "r",
   "file_extension": ".r",
   "mimetype": "text/x-r-source",
   "name": "R",
   "pygments_lexer": "r",
   "version": "3.2.4"
  }
 },
 "nbformat": 4,
 "nbformat_minor": 0
}
