{
 "cells": [
  {
   "cell_type": "markdown",
   "metadata": {},
   "source": [
    "# Working with Data: An Introduction to R"
   ]
  },
  {
   "cell_type": "markdown",
   "metadata": {},
   "source": [
    "## Video 3: Vectors and Data Frames"
   ]
  },
  {
   "cell_type": "code",
   "execution_count": 2,
   "metadata": {
    "collapsed": false
   },
   "outputs": [
    {
     "data": {
      "text/html": [
       "<ol class=list-inline>\n",
       "\t<li>2</li>\n",
       "\t<li>3</li>\n",
       "\t<li>5</li>\n",
       "\t<li>8</li>\n",
       "\t<li>13</li>\n",
       "</ol>\n"
      ],
      "text/latex": [
       "\\begin{enumerate*}\n",
       "\\item 2\n",
       "\\item 3\n",
       "\\item 5\n",
       "\\item 8\n",
       "\\item 13\n",
       "\\end{enumerate*}\n"
      ],
      "text/markdown": [
       "1. 2\n",
       "2. 3\n",
       "3. 5\n",
       "4. 8\n",
       "5. 13\n",
       "\n",
       "\n"
      ],
      "text/plain": [
       "[1]  2  3  5  8 13"
      ]
     },
     "execution_count": 2,
     "metadata": {},
     "output_type": "execute_result"
    }
   ],
   "source": [
    "c(2,3,5,8,13)"
   ]
  },
  {
   "cell_type": "code",
   "execution_count": 3,
   "metadata": {
    "collapsed": true
   },
   "outputs": [],
   "source": [
    "Country = c(\"Brazil\", \"China\", \"India\", \"Switzerland\", \"USA\")\n",
    "LifeExpectancy = c(74, 76, 65, 83, 79)"
   ]
  },
  {
   "cell_type": "code",
   "execution_count": 4,
   "metadata": {
    "collapsed": false
   },
   "outputs": [
    {
     "data": {
      "text/html": [
       "<ol class=list-inline>\n",
       "\t<li>'Brazil'</li>\n",
       "\t<li>'China'</li>\n",
       "\t<li>'India'</li>\n",
       "\t<li>'Switzerland'</li>\n",
       "\t<li>'USA'</li>\n",
       "</ol>\n"
      ],
      "text/latex": [
       "\\begin{enumerate*}\n",
       "\\item 'Brazil'\n",
       "\\item 'China'\n",
       "\\item 'India'\n",
       "\\item 'Switzerland'\n",
       "\\item 'USA'\n",
       "\\end{enumerate*}\n"
      ],
      "text/markdown": [
       "1. 'Brazil'\n",
       "2. 'China'\n",
       "3. 'India'\n",
       "4. 'Switzerland'\n",
       "5. 'USA'\n",
       "\n",
       "\n"
      ],
      "text/plain": [
       "[1] \"Brazil\"      \"China\"       \"India\"       \"Switzerland\" \"USA\"        "
      ]
     },
     "execution_count": 4,
     "metadata": {},
     "output_type": "execute_result"
    }
   ],
   "source": [
    "Country"
   ]
  },
  {
   "cell_type": "code",
   "execution_count": 5,
   "metadata": {
    "collapsed": false
   },
   "outputs": [
    {
     "data": {
      "text/html": [
       "<ol class=list-inline>\n",
       "\t<li>74</li>\n",
       "\t<li>76</li>\n",
       "\t<li>65</li>\n",
       "\t<li>83</li>\n",
       "\t<li>79</li>\n",
       "</ol>\n"
      ],
      "text/latex": [
       "\\begin{enumerate*}\n",
       "\\item 74\n",
       "\\item 76\n",
       "\\item 65\n",
       "\\item 83\n",
       "\\item 79\n",
       "\\end{enumerate*}\n"
      ],
      "text/markdown": [
       "1. 74\n",
       "2. 76\n",
       "3. 65\n",
       "4. 83\n",
       "5. 79\n",
       "\n",
       "\n"
      ],
      "text/plain": [
       "[1] 74 76 65 83 79"
      ]
     },
     "execution_count": 5,
     "metadata": {},
     "output_type": "execute_result"
    }
   ],
   "source": [
    "LifeExpectancy"
   ]
  },
  {
   "cell_type": "code",
   "execution_count": 6,
   "metadata": {
    "collapsed": false
   },
   "outputs": [
    {
     "data": {
      "text/html": [
       "'Brazil'"
      ],
      "text/latex": [
       "'Brazil'"
      ],
      "text/markdown": [
       "'Brazil'"
      ],
      "text/plain": [
       "[1] \"Brazil\""
      ]
     },
     "execution_count": 6,
     "metadata": {},
     "output_type": "execute_result"
    }
   ],
   "source": [
    "Country[1]"
   ]
  },
  {
   "cell_type": "code",
   "execution_count": 7,
   "metadata": {
    "collapsed": false
   },
   "outputs": [
    {
     "data": {
      "text/html": [
       "<ol class=list-inline>\n",
       "\t<li>0</li>\n",
       "\t<li>2</li>\n",
       "\t<li>4</li>\n",
       "\t<li>6</li>\n",
       "\t<li>8</li>\n",
       "\t<li>10</li>\n",
       "\t<li>12</li>\n",
       "\t<li>14</li>\n",
       "\t<li>16</li>\n",
       "\t<li>18</li>\n",
       "\t<li>20</li>\n",
       "\t<li>22</li>\n",
       "\t<li>24</li>\n",
       "\t<li>26</li>\n",
       "\t<li>28</li>\n",
       "\t<li>30</li>\n",
       "\t<li>32</li>\n",
       "\t<li>34</li>\n",
       "\t<li>36</li>\n",
       "\t<li>38</li>\n",
       "\t<li>40</li>\n",
       "\t<li>42</li>\n",
       "\t<li>44</li>\n",
       "\t<li>46</li>\n",
       "\t<li>48</li>\n",
       "\t<li>50</li>\n",
       "\t<li>52</li>\n",
       "\t<li>54</li>\n",
       "\t<li>56</li>\n",
       "\t<li>58</li>\n",
       "\t<li>60</li>\n",
       "\t<li>62</li>\n",
       "\t<li>64</li>\n",
       "\t<li>66</li>\n",
       "\t<li>68</li>\n",
       "\t<li>70</li>\n",
       "\t<li>72</li>\n",
       "\t<li>74</li>\n",
       "\t<li>76</li>\n",
       "\t<li>78</li>\n",
       "\t<li>80</li>\n",
       "\t<li>82</li>\n",
       "\t<li>84</li>\n",
       "\t<li>86</li>\n",
       "\t<li>88</li>\n",
       "\t<li>90</li>\n",
       "\t<li>92</li>\n",
       "\t<li>94</li>\n",
       "\t<li>96</li>\n",
       "\t<li>98</li>\n",
       "\t<li>100</li>\n",
       "</ol>\n"
      ],
      "text/latex": [
       "\\begin{enumerate*}\n",
       "\\item 0\n",
       "\\item 2\n",
       "\\item 4\n",
       "\\item 6\n",
       "\\item 8\n",
       "\\item 10\n",
       "\\item 12\n",
       "\\item 14\n",
       "\\item 16\n",
       "\\item 18\n",
       "\\item 20\n",
       "\\item 22\n",
       "\\item 24\n",
       "\\item 26\n",
       "\\item 28\n",
       "\\item 30\n",
       "\\item 32\n",
       "\\item 34\n",
       "\\item 36\n",
       "\\item 38\n",
       "\\item 40\n",
       "\\item 42\n",
       "\\item 44\n",
       "\\item 46\n",
       "\\item 48\n",
       "\\item 50\n",
       "\\item 52\n",
       "\\item 54\n",
       "\\item 56\n",
       "\\item 58\n",
       "\\item 60\n",
       "\\item 62\n",
       "\\item 64\n",
       "\\item 66\n",
       "\\item 68\n",
       "\\item 70\n",
       "\\item 72\n",
       "\\item 74\n",
       "\\item 76\n",
       "\\item 78\n",
       "\\item 80\n",
       "\\item 82\n",
       "\\item 84\n",
       "\\item 86\n",
       "\\item 88\n",
       "\\item 90\n",
       "\\item 92\n",
       "\\item 94\n",
       "\\item 96\n",
       "\\item 98\n",
       "\\item 100\n",
       "\\end{enumerate*}\n"
      ],
      "text/markdown": [
       "1. 0\n",
       "2. 2\n",
       "3. 4\n",
       "4. 6\n",
       "5. 8\n",
       "6. 10\n",
       "7. 12\n",
       "8. 14\n",
       "9. 16\n",
       "10. 18\n",
       "11. 20\n",
       "12. 22\n",
       "13. 24\n",
       "14. 26\n",
       "15. 28\n",
       "16. 30\n",
       "17. 32\n",
       "18. 34\n",
       "19. 36\n",
       "20. 38\n",
       "21. 40\n",
       "22. 42\n",
       "23. 44\n",
       "24. 46\n",
       "25. 48\n",
       "26. 50\n",
       "27. 52\n",
       "28. 54\n",
       "29. 56\n",
       "30. 58\n",
       "31. 60\n",
       "32. 62\n",
       "33. 64\n",
       "34. 66\n",
       "35. 68\n",
       "36. 70\n",
       "37. 72\n",
       "38. 74\n",
       "39. 76\n",
       "40. 78\n",
       "41. 80\n",
       "42. 82\n",
       "43. 84\n",
       "44. 86\n",
       "45. 88\n",
       "46. 90\n",
       "47. 92\n",
       "48. 94\n",
       "49. 96\n",
       "50. 98\n",
       "51. 100\n",
       "\n",
       "\n"
      ],
      "text/plain": [
       " [1]   0   2   4   6   8  10  12  14  16  18  20  22  24  26  28  30  32  34  36\n",
       "[20]  38  40  42  44  46  48  50  52  54  56  58  60  62  64  66  68  70  72  74\n",
       "[39]  76  78  80  82  84  86  88  90  92  94  96  98 100"
      ]
     },
     "execution_count": 7,
     "metadata": {},
     "output_type": "execute_result"
    }
   ],
   "source": [
    "seq(0,100,2)"
   ]
  },
  {
   "cell_type": "code",
   "execution_count": 8,
   "metadata": {
    "collapsed": false
   },
   "outputs": [
    {
     "data": {
      "text/html": [
       "<table>\n",
       "<thead><tr><th></th><th scope=col>Country</th><th scope=col>LifeExpectancy</th></tr></thead>\n",
       "<tbody>\n",
       "\t<tr><th scope=row>1</th><td>Brazil</td><td>74</td></tr>\n",
       "\t<tr><th scope=row>2</th><td>China</td><td>76</td></tr>\n",
       "\t<tr><th scope=row>3</th><td>India</td><td>65</td></tr>\n",
       "\t<tr><th scope=row>4</th><td>Switzerland</td><td>83</td></tr>\n",
       "\t<tr><th scope=row>5</th><td>USA</td><td>79</td></tr>\n",
       "</tbody>\n",
       "</table>\n"
      ],
      "text/latex": [
       "\\begin{tabular}{r|ll}\n",
       "  & Country & LifeExpectancy\\\\\n",
       "\\hline\n",
       "\t1 & Brazil & 74\\\\\n",
       "\t2 & China & 76\\\\\n",
       "\t3 & India & 65\\\\\n",
       "\t4 & Switzerland & 83\\\\\n",
       "\t5 & USA & 79\\\\\n",
       "\\end{tabular}\n"
      ],
      "text/plain": [
       "      Country LifeExpectancy\n",
       "1      Brazil             74\n",
       "2       China             76\n",
       "3       India             65\n",
       "4 Switzerland             83\n",
       "5         USA             79"
      ]
     },
     "execution_count": 8,
     "metadata": {},
     "output_type": "execute_result"
    }
   ],
   "source": [
    "CountryData = data.frame(Country, LifeExpectancy)\n",
    "CountryData"
   ]
  },
  {
   "cell_type": "code",
   "execution_count": 10,
   "metadata": {
    "collapsed": false
   },
   "outputs": [
    {
     "data": {
      "text/html": [
       "<table>\n",
       "<thead><tr><th></th><th scope=col>Country</th><th scope=col>LifeExpectancy</th><th scope=col>Population</th></tr></thead>\n",
       "<tbody>\n",
       "\t<tr><th scope=row>1</th><td>Brazil</td><td>74</td><td>199000</td></tr>\n",
       "\t<tr><th scope=row>2</th><td>China</td><td>76</td><td>1390000</td></tr>\n",
       "\t<tr><th scope=row>3</th><td>India</td><td>65</td><td>1240000</td></tr>\n",
       "\t<tr><th scope=row>4</th><td>Switzerland</td><td>83</td><td>7997</td></tr>\n",
       "\t<tr><th scope=row>5</th><td>USA</td><td>79</td><td>318000</td></tr>\n",
       "</tbody>\n",
       "</table>\n"
      ],
      "text/latex": [
       "\\begin{tabular}{r|lll}\n",
       "  & Country & LifeExpectancy & Population\\\\\n",
       "\\hline\n",
       "\t1 & Brazil & 74 & 199000\\\\\n",
       "\t2 & China & 76 & 1390000\\\\\n",
       "\t3 & India & 65 & 1240000\\\\\n",
       "\t4 & Switzerland & 83 & 7997\\\\\n",
       "\t5 & USA & 79 & 318000\\\\\n",
       "\\end{tabular}\n"
      ],
      "text/plain": [
       "      Country LifeExpectancy Population\n",
       "1      Brazil             74     199000\n",
       "2       China             76    1390000\n",
       "3       India             65    1240000\n",
       "4 Switzerland             83       7997\n",
       "5         USA             79     318000"
      ]
     },
     "execution_count": 10,
     "metadata": {},
     "output_type": "execute_result"
    }
   ],
   "source": [
    "CountryData$Population = c(199000, 1390000, 1240000, 7997, 318000)\n",
    "CountryData"
   ]
  },
  {
   "cell_type": "code",
   "execution_count": 12,
   "metadata": {
    "collapsed": false
   },
   "outputs": [
    {
     "data": {
      "text/html": [
       "<table>\n",
       "<thead><tr><th></th><th scope=col>Country</th><th scope=col>LifeExpectancy</th><th scope=col>Population</th></tr></thead>\n",
       "<tbody>\n",
       "\t<tr><th scope=row>1</th><td>Australia</td><td>82</td><td>23050</td></tr>\n",
       "\t<tr><th scope=row>2</th><td>Greece</td><td>81</td><td>11125</td></tr>\n",
       "</tbody>\n",
       "</table>\n"
      ],
      "text/latex": [
       "\\begin{tabular}{r|lll}\n",
       "  & Country & LifeExpectancy & Population\\\\\n",
       "\\hline\n",
       "\t1 & Australia & 82 & 23050\\\\\n",
       "\t2 & Greece & 81 & 11125\\\\\n",
       "\\end{tabular}\n"
      ],
      "text/plain": [
       "    Country LifeExpectancy Population\n",
       "1 Australia             82      23050\n",
       "2    Greece             81      11125"
      ]
     },
     "execution_count": 12,
     "metadata": {},
     "output_type": "execute_result"
    }
   ],
   "source": [
    "Country = c(\"Australia\", \"Greece\")\n",
    "LifeExpectancy = c(82, 81)\n",
    "Population = c(23050, 11125)\n",
    "NewCountryData = data.frame(Country, LifeExpectancy, Population)\n",
    "NewCountryData"
   ]
  },
  {
   "cell_type": "code",
   "execution_count": 14,
   "metadata": {
    "collapsed": false
   },
   "outputs": [
    {
     "data": {
      "text/html": [
       "<table>\n",
       "<thead><tr><th></th><th scope=col>Country</th><th scope=col>LifeExpectancy</th><th scope=col>Population</th></tr></thead>\n",
       "<tbody>\n",
       "\t<tr><th scope=row>1</th><td>Brazil</td><td>74</td><td>199000</td></tr>\n",
       "\t<tr><th scope=row>2</th><td>China</td><td>76</td><td>1390000</td></tr>\n",
       "\t<tr><th scope=row>3</th><td>India</td><td>65</td><td>1240000</td></tr>\n",
       "\t<tr><th scope=row>4</th><td>Switzerland</td><td>83</td><td>7997</td></tr>\n",
       "\t<tr><th scope=row>5</th><td>USA</td><td>79</td><td>318000</td></tr>\n",
       "\t<tr><th scope=row>6</th><td>Australia</td><td>82</td><td>23050</td></tr>\n",
       "\t<tr><th scope=row>7</th><td>Greece</td><td>81</td><td>11125</td></tr>\n",
       "</tbody>\n",
       "</table>\n"
      ],
      "text/latex": [
       "\\begin{tabular}{r|lll}\n",
       "  & Country & LifeExpectancy & Population\\\\\n",
       "\\hline\n",
       "\t1 & Brazil & 74 & 199000\\\\\n",
       "\t2 & China & 76 & 1390000\\\\\n",
       "\t3 & India & 65 & 1240000\\\\\n",
       "\t4 & Switzerland & 83 & 7997\\\\\n",
       "\t5 & USA & 79 & 318000\\\\\n",
       "\t6 & Australia & 82 & 23050\\\\\n",
       "\t7 & Greece & 81 & 11125\\\\\n",
       "\\end{tabular}\n"
      ],
      "text/plain": [
       "      Country LifeExpectancy Population\n",
       "1      Brazil             74     199000\n",
       "2       China             76    1390000\n",
       "3       India             65    1240000\n",
       "4 Switzerland             83       7997\n",
       "5         USA             79     318000\n",
       "6   Australia             82      23050\n",
       "7      Greece             81      11125"
      ]
     },
     "execution_count": 14,
     "metadata": {},
     "output_type": "execute_result"
    }
   ],
   "source": [
    "AllCountryData = rbind(CountryData, NewCountryData)\n",
    "AllCountryData"
   ]
  },
  {
   "cell_type": "markdown",
   "metadata": {},
   "source": [
    "## Video 4: Loading Data Files"
   ]
  },
  {
   "cell_type": "code",
   "execution_count": 2,
   "metadata": {
    "collapsed": false
   },
   "outputs": [
    {
     "name": "stdout",
     "output_type": "stream",
     "text": [
      "'data.frame':\t194 obs. of  13 variables:\n",
      " $ Country                      : Factor w/ 194 levels \"Afghanistan\",..: 1 2 3 4 5 6 7 8 9 10 ...\n",
      " $ Region                       : Factor w/ 6 levels \"Africa\",\"Americas\",..: 3 4 1 4 1 2 2 4 6 4 ...\n",
      " $ Population                   : int  29825 3162 38482 78 20821 89 41087 2969 23050 8464 ...\n",
      " $ Under15                      : num  47.4 21.3 27.4 15.2 47.6 ...\n",
      " $ Over60                       : num  3.82 14.93 7.17 22.86 3.84 ...\n",
      " $ FertilityRate                : num  5.4 1.75 2.83 NA 6.1 2.12 2.2 1.74 1.89 1.44 ...\n",
      " $ LifeExpectancy               : int  60 74 73 82 51 75 76 71 82 81 ...\n",
      " $ ChildMortality               : num  98.5 16.7 20 3.2 163.5 ...\n",
      " $ CellularSubscribers          : num  54.3 96.4 99 75.5 48.4 ...\n",
      " $ LiteracyRate                 : num  NA NA NA NA 70.1 99 97.8 99.6 NA NA ...\n",
      " $ GNI                          : num  1140 8820 8310 NA 5230 ...\n",
      " $ PrimarySchoolEnrollmentMale  : num  NA NA 98.2 78.4 93.1 91.1 NA NA 96.9 NA ...\n",
      " $ PrimarySchoolEnrollmentFemale: num  NA NA 96.4 79.4 78.2 84.5 NA NA 97.5 NA ...\n"
     ]
    }
   ],
   "source": [
    "WHO = read.csv(\"WHO.csv\")\n",
    "str(WHO)"
   ]
  },
  {
   "cell_type": "code",
   "execution_count": 17,
   "metadata": {
    "collapsed": false
   },
   "outputs": [
    {
     "data": {
      "text/plain": [
       "                Country                      Region     Population     \n",
       " Afghanistan        :  1   Africa               :46   Min.   :      1  \n",
       " Albania            :  1   Americas             :35   1st Qu.:   1696  \n",
       " Algeria            :  1   Eastern Mediterranean:22   Median :   7790  \n",
       " Andorra            :  1   Europe               :53   Mean   :  36360  \n",
       " Angola             :  1   South-East Asia      :11   3rd Qu.:  24535  \n",
       " Antigua and Barbuda:  1   Western Pacific      :27   Max.   :1390000  \n",
       " (Other)            :188                                               \n",
       "    Under15          Over60      FertilityRate   LifeExpectancy \n",
       " Min.   :13.12   Min.   : 0.81   Min.   :1.260   Min.   :47.00  \n",
       " 1st Qu.:18.72   1st Qu.: 5.20   1st Qu.:1.835   1st Qu.:64.00  \n",
       " Median :28.65   Median : 8.53   Median :2.400   Median :72.50  \n",
       " Mean   :28.73   Mean   :11.16   Mean   :2.941   Mean   :70.01  \n",
       " 3rd Qu.:37.75   3rd Qu.:16.69   3rd Qu.:3.905   3rd Qu.:76.00  \n",
       " Max.   :49.99   Max.   :31.92   Max.   :7.580   Max.   :83.00  \n",
       "                                 NA's   :11                     \n",
       " ChildMortality    CellularSubscribers  LiteracyRate        GNI       \n",
       " Min.   :  2.200   Min.   :  2.57      Min.   :31.10   Min.   :  340  \n",
       " 1st Qu.:  8.425   1st Qu.: 63.57      1st Qu.:71.60   1st Qu.: 2335  \n",
       " Median : 18.600   Median : 97.75      Median :91.80   Median : 7870  \n",
       " Mean   : 36.149   Mean   : 93.64      Mean   :83.71   Mean   :13321  \n",
       " 3rd Qu.: 55.975   3rd Qu.:120.81      3rd Qu.:97.85   3rd Qu.:17558  \n",
       " Max.   :181.600   Max.   :196.41      Max.   :99.80   Max.   :86440  \n",
       "                   NA's   :10          NA's   :91      NA's   :32     \n",
       " PrimarySchoolEnrollmentMale PrimarySchoolEnrollmentFemale\n",
       " Min.   : 37.20              Min.   : 32.50               \n",
       " 1st Qu.: 87.70              1st Qu.: 87.30               \n",
       " Median : 94.70              Median : 95.10               \n",
       " Mean   : 90.85              Mean   : 89.63               \n",
       " 3rd Qu.: 98.10              3rd Qu.: 97.90               \n",
       " Max.   :100.00              Max.   :100.00               \n",
       " NA's   :93                  NA's   :93                   "
      ]
     },
     "execution_count": 17,
     "metadata": {},
     "output_type": "execute_result"
    }
   ],
   "source": [
    "summary(WHO)"
   ]
  },
  {
   "cell_type": "code",
   "execution_count": 21,
   "metadata": {
    "collapsed": false
   },
   "outputs": [
    {
     "name": "stdout",
     "output_type": "stream",
     "text": [
      "'data.frame':\t53 obs. of  13 variables:\n",
      " $ Country                      : Factor w/ 194 levels \"Afghanistan\",..: 2 4 8 10 11 16 17 22 26 42 ...\n",
      " $ Region                       : Factor w/ 6 levels \"Africa\",\"Americas\",..: 4 4 4 4 4 4 4 4 4 4 ...\n",
      " $ Population                   : int  3162 78 2969 8464 9309 9405 11060 3834 7278 4307 ...\n",
      " $ Under15                      : num  21.3 15.2 20.3 14.5 22.2 ...\n",
      " $ Over60                       : num  14.93 22.86 14.06 23.52 8.24 ...\n",
      " $ FertilityRate                : num  1.75 NA 1.74 1.44 1.96 1.47 1.85 1.26 1.51 1.48 ...\n",
      " $ LifeExpectancy               : int  74 82 71 81 71 71 80 76 74 77 ...\n",
      " $ ChildMortality               : num  16.7 3.2 16.4 4 35.2 5.2 4.2 6.7 12.1 4.7 ...\n",
      " $ CellularSubscribers          : num  96.4 75.5 103.6 154.8 108.8 ...\n",
      " $ LiteracyRate                 : num  NA NA 99.6 NA NA NA NA 97.9 NA 98.8 ...\n",
      " $ GNI                          : num  8820 NA 6100 42050 8960 ...\n",
      " $ PrimarySchoolEnrollmentMale  : num  NA 78.4 NA NA 85.3 NA 98.9 86.5 99.3 94.8 ...\n",
      " $ PrimarySchoolEnrollmentFemale: num  NA 79.4 NA NA 84.1 NA 99.2 88.4 99.7 97 ...\n"
     ]
    }
   ],
   "source": [
    "WHO_Europe = subset(WHO, Region == \"Europe\")\n",
    "str(WHO_Europe)"
   ]
  },
  {
   "cell_type": "code",
   "execution_count": 23,
   "metadata": {
    "collapsed": false
   },
   "outputs": [
    {
     "data": {
      "text/html": [
       "<ol class=list-inline>\n",
       "\t<li>'AllCountryData'</li>\n",
       "\t<li>'Country'</li>\n",
       "\t<li>'CountryData'</li>\n",
       "\t<li>'LifeExpectancy'</li>\n",
       "\t<li>'NewCountryData'</li>\n",
       "\t<li>'Population'</li>\n",
       "\t<li>'WHO'</li>\n",
       "\t<li>'WHO_Europe'</li>\n",
       "\t<li>'x'</li>\n",
       "</ol>\n"
      ],
      "text/latex": [
       "\\begin{enumerate*}\n",
       "\\item 'AllCountryData'\n",
       "\\item 'Country'\n",
       "\\item 'CountryData'\n",
       "\\item 'LifeExpectancy'\n",
       "\\item 'NewCountryData'\n",
       "\\item 'Population'\n",
       "\\item 'WHO'\n",
       "\\item 'WHO_Europe'\n",
       "\\item 'x'\n",
       "\\end{enumerate*}\n"
      ],
      "text/markdown": [
       "1. 'AllCountryData'\n",
       "2. 'Country'\n",
       "3. 'CountryData'\n",
       "4. 'LifeExpectancy'\n",
       "5. 'NewCountryData'\n",
       "6. 'Population'\n",
       "7. 'WHO'\n",
       "8. 'WHO_Europe'\n",
       "9. 'x'\n",
       "\n",
       "\n"
      ],
      "text/plain": [
       "[1] \"AllCountryData\" \"Country\"        \"CountryData\"    \"LifeExpectancy\"\n",
       "[5] \"NewCountryData\" \"Population\"     \"WHO\"            \"WHO_Europe\"    \n",
       "[9] \"x\"             "
      ]
     },
     "execution_count": 23,
     "metadata": {},
     "output_type": "execute_result"
    }
   ],
   "source": [
    "write.csv(WHO_Europe, \"WHO_Europe.csv\")\n",
    "ls()"
   ]
  },
  {
   "cell_type": "code",
   "execution_count": 24,
   "metadata": {
    "collapsed": false
   },
   "outputs": [
    {
     "data": {
      "text/html": [
       "<ol class=list-inline>\n",
       "\t<li>'AllCountryData'</li>\n",
       "\t<li>'Country'</li>\n",
       "\t<li>'CountryData'</li>\n",
       "\t<li>'LifeExpectancy'</li>\n",
       "\t<li>'NewCountryData'</li>\n",
       "\t<li>'Population'</li>\n",
       "\t<li>'WHO'</li>\n",
       "\t<li>'x'</li>\n",
       "</ol>\n"
      ],
      "text/latex": [
       "\\begin{enumerate*}\n",
       "\\item 'AllCountryData'\n",
       "\\item 'Country'\n",
       "\\item 'CountryData'\n",
       "\\item 'LifeExpectancy'\n",
       "\\item 'NewCountryData'\n",
       "\\item 'Population'\n",
       "\\item 'WHO'\n",
       "\\item 'x'\n",
       "\\end{enumerate*}\n"
      ],
      "text/markdown": [
       "1. 'AllCountryData'\n",
       "2. 'Country'\n",
       "3. 'CountryData'\n",
       "4. 'LifeExpectancy'\n",
       "5. 'NewCountryData'\n",
       "6. 'Population'\n",
       "7. 'WHO'\n",
       "8. 'x'\n",
       "\n",
       "\n"
      ],
      "text/plain": [
       "[1] \"AllCountryData\" \"Country\"        \"CountryData\"    \"LifeExpectancy\"\n",
       "[5] \"NewCountryData\" \"Population\"     \"WHO\"            \"x\"             "
      ]
     },
     "execution_count": 24,
     "metadata": {},
     "output_type": "execute_result"
    }
   ],
   "source": [
    "rm(WHO_Europe)\n",
    "ls()"
   ]
  },
  {
   "cell_type": "markdown",
   "metadata": {},
   "source": [
    "## Video 5: Data Analysis - Summary Statistics and Scatterplots"
   ]
  },
  {
   "cell_type": "code",
   "execution_count": 25,
   "metadata": {
    "collapsed": false
   },
   "outputs": [
    {
     "data": {
      "text/html": [
       "28.7324226804124"
      ],
      "text/latex": [
       "28.7324226804124"
      ],
      "text/markdown": [
       "28.7324226804124"
      ],
      "text/plain": [
       "[1] 28.73242"
      ]
     },
     "execution_count": 25,
     "metadata": {},
     "output_type": "execute_result"
    }
   ],
   "source": [
    "mean(WHO$Under15)"
   ]
  },
  {
   "cell_type": "code",
   "execution_count": 26,
   "metadata": {
    "collapsed": false
   },
   "outputs": [
    {
     "data": {
      "text/html": [
       "10.5345733199238"
      ],
      "text/latex": [
       "10.5345733199238"
      ],
      "text/markdown": [
       "10.5345733199238"
      ],
      "text/plain": [
       "[1] 10.53457"
      ]
     },
     "execution_count": 26,
     "metadata": {},
     "output_type": "execute_result"
    }
   ],
   "source": [
    "sd(WHO$Under15)"
   ]
  },
  {
   "cell_type": "code",
   "execution_count": 27,
   "metadata": {
    "collapsed": false
   },
   "outputs": [
    {
     "data": {
      "text/plain": [
       "   Min. 1st Qu.  Median    Mean 3rd Qu.    Max. \n",
       "  13.12   18.72   28.65   28.73   37.75   49.99 "
      ]
     },
     "execution_count": 27,
     "metadata": {},
     "output_type": "execute_result"
    }
   ],
   "source": [
    "summary(WHO$Under15)"
   ]
  },
  {
   "cell_type": "code",
   "execution_count": 28,
   "metadata": {
    "collapsed": false
   },
   "outputs": [
    {
     "data": {
      "text/html": [
       "86"
      ],
      "text/latex": [
       "86"
      ],
      "text/markdown": [
       "86"
      ],
      "text/plain": [
       "[1] 86"
      ]
     },
     "execution_count": 28,
     "metadata": {},
     "output_type": "execute_result"
    }
   ],
   "source": [
    "which.min(WHO$Under15)"
   ]
  },
  {
   "cell_type": "code",
   "execution_count": 29,
   "metadata": {
    "collapsed": false
   },
   "outputs": [
    {
     "data": {
      "text/html": [
       "Japan"
      ],
      "text/latex": [
       "Japan"
      ],
      "text/markdown": [
       "Japan"
      ],
      "text/plain": [
       "[1] Japan\n",
       "194 Levels: Afghanistan Albania Algeria Andorra Angola ... Zimbabwe"
      ]
     },
     "execution_count": 29,
     "metadata": {},
     "output_type": "execute_result"
    }
   ],
   "source": [
    "WHO$Country[86]"
   ]
  },
  {
   "cell_type": "code",
   "execution_count": 30,
   "metadata": {
    "collapsed": false
   },
   "outputs": [
    {
     "data": {
      "text/html": [
       "Niger"
      ],
      "text/latex": [
       "Niger"
      ],
      "text/markdown": [
       "Niger"
      ],
      "text/plain": [
       "[1] Niger\n",
       "194 Levels: Afghanistan Albania Algeria Andorra Angola ... Zimbabwe"
      ]
     },
     "execution_count": 30,
     "metadata": {},
     "output_type": "execute_result"
    }
   ],
   "source": [
    "WHO$Country[which.max(WHO$Under15)]"
   ]
  },
  {
   "cell_type": "code",
   "execution_count": 31,
   "metadata": {
    "collapsed": false
   },
   "outputs": [
    {
     "data": {
      "image/png": "[encoded data removed]",
      "image/svg+xml": [
       "<?xml version=\"1.0\" encoding=\"UTF-8\"?>\n",
       "<svg xmlns=\"http://www.w3.org/2000/svg\" xmlns:xlink=\"http://www.w3.org/1999/xlink\" width=\"504pt\" height=\"504pt\" viewBox=\"0 0 504 504\" version=\"1.1\">\n",
       "<defs>\n",
       "<g>\n",
       "<symbol overflow=\"visible\" id=\"glyph0-0\">\n",
       "<path style=\"stroke:none;\" d=\"\"/>\n",
       "</symbol>\n",
       "<symbol overflow=\"visible\" id=\"glyph0-1\">\n",
       "<path style=\"stroke:none;\" d=\"M 4.667969 -5.875 C 4.980469 -5.296875 5.136719 -4.507812 5.136719 -3.507812 C 5.136719 -2.554688 4.996094 -1.769531 4.710938 -1.148438 C 4.300781 -0.257812 3.632812 0.191406 2.699219 0.191406 C 1.859375 0.191406 1.234375 -0.175781 0.824219 -0.902344 C 0.484375 -1.511719 0.3125 -2.328125 0.3125 -3.355469 C 0.3125 -4.148438 0.414062 -4.832031 0.621094 -5.398438 C 1.003906 -6.460938 1.699219 -6.992188 2.703125 -6.992188 C 3.609375 -6.992188 4.265625 -6.621094 4.667969 -5.875 Z M 3.785156 -1.214844 C 4.054688 -1.617188 4.1875 -2.371094 4.1875 -3.472656 C 4.1875 -4.265625 4.09375 -4.917969 3.898438 -5.433594 C 3.703125 -5.945312 3.320312 -6.203125 2.757812 -6.203125 C 2.242188 -6.203125 1.863281 -5.957031 1.625 -5.472656 C 1.382812 -4.984375 1.265625 -4.265625 1.265625 -3.320312 C 1.265625 -2.609375 1.339844 -2.035156 1.492188 -1.601562 C 1.726562 -0.941406 2.128906 -0.609375 2.695312 -0.609375 C 3.152344 -0.609375 3.515625 -0.8125 3.785156 -1.214844 Z M 3.785156 -1.214844 \"/>\n",
       "</symbol>\n",
       "<symbol overflow=\"visible\" id=\"glyph0-2\">\n",
       "<path style=\"stroke:none;\" d=\"M 0.6875 -1.570312 C 0.902344 -2.015625 1.324219 -2.421875 1.953125 -2.789062 L 2.890625 -3.328125 C 3.3125 -3.574219 3.605469 -3.78125 3.773438 -3.953125 C 4.039062 -4.226562 4.175781 -4.535156 4.175781 -4.882812 C 4.175781 -5.289062 4.054688 -5.613281 3.808594 -5.851562 C 3.5625 -6.089844 3.238281 -6.210938 2.832031 -6.210938 C 2.230469 -6.210938 1.8125 -5.984375 1.582031 -5.527344 C 1.457031 -5.28125 1.390625 -4.945312 1.375 -4.511719 L 0.484375 -4.511719 C 0.492188 -5.121094 0.605469 -5.617188 0.820312 -6 C 1.203125 -6.679688 1.875 -7.015625 2.835938 -7.015625 C 3.636719 -7.015625 4.222656 -6.800781 4.59375 -6.367188 C 4.960938 -5.933594 5.148438 -5.453125 5.148438 -4.921875 C 5.148438 -4.363281 4.949219 -3.882812 4.554688 -3.484375 C 4.328125 -3.253906 3.917969 -2.976562 3.328125 -2.648438 L 2.660156 -2.273438 C 2.34375 -2.097656 2.089844 -1.933594 1.910156 -1.773438 C 1.585938 -1.488281 1.378906 -1.175781 1.292969 -0.828125 L 5.113281 -0.828125 L 5.113281 0 L 0.3125 0 C 0.34375 -0.601562 0.46875 -1.125 0.6875 -1.570312 Z M 0.6875 -1.570312 \"/>\n",
       "</symbol>\n",
       "<symbol overflow=\"visible\" id=\"glyph0-3\">\n",
       "<path style=\"stroke:none;\" d=\"M 3.304688 -2.476562 L 3.304688 -5.644531 L 1.0625 -2.476562 Z M 3.320312 0 L 3.320312 -1.710938 L 0.253906 -1.710938 L 0.253906 -2.570312 L 3.457031 -7.011719 L 4.199219 -7.011719 L 4.199219 -2.476562 L 5.230469 -2.476562 L 5.230469 -1.710938 L 4.199219 -1.710938 L 4.199219 0 Z M 3.320312 0 \"/>\n",
       "</symbol>\n",
       "<symbol overflow=\"visible\" id=\"glyph0-4\">\n",
       "<path style=\"stroke:none;\" d=\"M 4.558594 -6.414062 C 4.867188 -6.007812 5.019531 -5.589844 5.019531 -5.160156 L 4.148438 -5.160156 C 4.097656 -5.4375 4.015625 -5.65625 3.902344 -5.8125 C 3.691406 -6.105469 3.367188 -6.25 2.9375 -6.25 C 2.445312 -6.25 2.058594 -6.023438 1.765625 -5.570312 C 1.476562 -5.117188 1.316406 -4.464844 1.285156 -3.617188 C 1.484375 -3.914062 1.738281 -4.136719 2.046875 -4.28125 C 2.328125 -4.414062 2.636719 -4.476562 2.984375 -4.476562 C 3.570312 -4.476562 4.082031 -4.289062 4.515625 -3.914062 C 4.953125 -3.539062 5.171875 -2.984375 5.171875 -2.242188 C 5.171875 -1.605469 4.964844 -1.042969 4.550781 -0.554688 C 4.136719 -0.0625 3.546875 0.179688 2.78125 0.179688 C 2.128906 0.179688 1.5625 -0.0664062 1.089844 -0.5625 C 0.613281 -1.058594 0.375 -1.894531 0.375 -3.070312 C 0.375 -3.941406 0.480469 -4.679688 0.695312 -5.28125 C 1.101562 -6.441406 1.84375 -7.023438 2.925781 -7.023438 C 3.707031 -7.023438 4.25 -6.820312 4.558594 -6.414062 Z M 3.898438 -1.066406 C 4.128906 -1.378906 4.242188 -1.746094 4.242188 -2.167969 C 4.242188 -2.527344 4.140625 -2.867188 3.9375 -3.191406 C 3.730469 -3.515625 3.359375 -3.675781 2.816406 -3.675781 C 2.4375 -3.675781 2.109375 -3.550781 1.824219 -3.300781 C 1.539062 -3.050781 1.398438 -2.671875 1.398438 -2.167969 C 1.398438 -1.726562 1.527344 -1.351562 1.785156 -1.050781 C 2.042969 -0.75 2.402344 -0.601562 2.859375 -0.601562 C 3.324219 -0.601562 3.667969 -0.757812 3.898438 -1.066406 Z M 3.898438 -1.066406 \"/>\n",
       "</symbol>\n",
       "<symbol overflow=\"visible\" id=\"glyph0-5\">\n",
       "<path style=\"stroke:none;\" d=\"M 3.628906 -4.386719 C 3.847656 -4.601562 3.953125 -4.863281 3.953125 -5.160156 C 3.953125 -5.421875 3.851562 -5.660156 3.640625 -5.878906 C 3.433594 -6.097656 3.117188 -6.207031 2.691406 -6.207031 C 2.265625 -6.207031 1.960938 -6.097656 1.773438 -5.878906 C 1.585938 -5.660156 1.488281 -5.40625 1.488281 -5.113281 C 1.488281 -4.785156 1.609375 -4.527344 1.855469 -4.339844 C 2.101562 -4.15625 2.386719 -4.0625 2.71875 -4.0625 C 3.105469 -4.0625 3.410156 -4.171875 3.628906 -4.386719 Z M 3.785156 -0.929688 C 4.054688 -1.148438 4.1875 -1.476562 4.1875 -1.914062 C 4.1875 -2.367188 4.050781 -2.710938 3.773438 -2.945312 C 3.496094 -3.179688 3.144531 -3.296875 2.710938 -3.296875 C 2.289062 -3.296875 1.949219 -3.175781 1.683594 -2.9375 C 1.417969 -2.699219 1.285156 -2.367188 1.285156 -1.945312 C 1.285156 -1.578125 1.40625 -1.265625 1.648438 -1 C 1.890625 -0.734375 2.265625 -0.601562 2.773438 -0.601562 C 3.179688 -0.601562 3.519531 -0.710938 3.785156 -0.929688 Z M 0.953125 -4.09375 C 0.695312 -4.351562 0.566406 -4.691406 0.566406 -5.109375 C 0.566406 -5.628906 0.753906 -6.074219 1.132812 -6.449219 C 1.511719 -6.824219 2.046875 -7.011719 2.738281 -7.011719 C 3.410156 -7.011719 3.9375 -6.835938 4.316406 -6.480469 C 4.695312 -6.128906 4.886719 -5.714844 4.886719 -5.242188 C 4.886719 -4.808594 4.777344 -4.453125 4.554688 -4.183594 C 4.429688 -4.03125 4.238281 -3.882812 3.980469 -3.734375 C 4.269531 -3.601562 4.496094 -3.449219 4.664062 -3.277344 C 4.972656 -2.953125 5.125 -2.527344 5.125 -2.007812 C 5.125 -1.390625 4.921875 -0.871094 4.507812 -0.441406 C 4.09375 -0.015625 3.507812 0.199219 2.753906 0.199219 C 2.074219 0.199219 1.5 0.015625 1.027344 -0.355469 C 0.558594 -0.722656 0.320312 -1.257812 0.320312 -1.960938 C 0.320312 -2.375 0.421875 -2.734375 0.625 -3.035156 C 0.828125 -3.335938 1.125 -3.566406 1.523438 -3.726562 C 1.28125 -3.828125 1.089844 -3.953125 0.953125 -4.09375 Z M 0.953125 -4.09375 \"/>\n",
       "</symbol>\n",
       "<symbol overflow=\"visible\" id=\"glyph0-6\">\n",
       "<path style=\"stroke:none;\" d=\"M 1.234375 -7.171875 L 2.585938 -1.335938 L 4.210938 -7.171875 L 5.265625 -7.171875 L 6.882812 -1.335938 L 8.238281 -7.171875 L 9.300781 -7.171875 L 7.417969 0 L 6.398438 0 L 4.742188 -5.945312 L 3.078125 0 L 2.054688 0 L 0.179688 -7.171875 Z M 1.234375 -7.171875 \"/>\n",
       "</symbol>\n",
       "<symbol overflow=\"visible\" id=\"glyph0-7\">\n",
       "<path style=\"stroke:none;\" d=\"M 0.785156 -7.171875 L 1.765625 -7.171875 L 1.765625 -4.210938 L 5.5 -4.210938 L 5.5 -7.171875 L 6.480469 -7.171875 L 6.480469 0 L 5.5 0 L 5.5 -3.355469 L 1.765625 -3.355469 L 1.765625 0 L 0.785156 0 Z M 0.785156 -7.171875 \"/>\n",
       "</symbol>\n",
       "<symbol overflow=\"visible\" id=\"glyph0-8\">\n",
       "<path style=\"stroke:none;\" d=\"M 6.671875 -6.148438 C 7.144531 -5.511719 7.382812 -4.699219 7.382812 -3.710938 C 7.382812 -2.640625 7.109375 -1.75 6.566406 -1.039062 C 5.929688 -0.207031 5.019531 0.210938 3.835938 0.210938 C 2.734375 0.210938 1.867188 -0.15625 1.234375 -0.882812 C 0.671875 -1.585938 0.390625 -2.476562 0.390625 -3.550781 C 0.390625 -4.519531 0.632812 -5.351562 1.113281 -6.039062 C 1.730469 -6.925781 2.648438 -7.367188 3.859375 -7.367188 C 5.125 -7.367188 6.0625 -6.960938 6.671875 -6.148438 Z M 5.8125 -1.578125 C 6.195312 -2.191406 6.386719 -2.898438 6.386719 -3.695312 C 6.386719 -4.539062 6.167969 -5.21875 5.726562 -5.734375 C 5.285156 -6.246094 4.679688 -6.503906 3.914062 -6.503906 C 3.171875 -6.503906 2.570312 -6.25 2.101562 -5.738281 C 1.632812 -5.230469 1.398438 -4.480469 1.398438 -3.484375 C 1.398438 -2.691406 1.597656 -2.023438 2 -1.476562 C 2.402344 -0.929688 3.054688 -0.660156 3.953125 -0.660156 C 4.8125 -0.660156 5.429688 -0.964844 5.8125 -1.578125 Z M 5.8125 -1.578125 \"/>\n",
       "</symbol>\n",
       "<symbol overflow=\"visible\" id=\"glyph0-9\">\n",
       "<path style=\"stroke:none;\" d=\"M 4.136719 -1.117188 C 4.246094 -1.3125 4.300781 -1.539062 4.300781 -1.796875 C 4.300781 -2.203125 4.152344 -2.511719 3.851562 -2.726562 C 3.679688 -2.847656 3.390625 -2.964844 2.984375 -3.078125 L 2.984375 -0.507812 C 3.539062 -0.535156 3.925781 -0.738281 4.136719 -1.117188 Z M 1.648438 -4.460938 C 1.859375 -4.28125 2.148438 -4.152344 2.507812 -4.082031 L 2.507812 -6.375 C 2.082031 -6.359375 1.78125 -6.230469 1.597656 -5.984375 C 1.417969 -5.742188 1.328125 -5.488281 1.328125 -5.21875 C 1.328125 -4.898438 1.433594 -4.644531 1.648438 -4.460938 Z M 0.992188 -6.5 C 1.355469 -6.898438 1.867188 -7.097656 2.519531 -7.105469 L 2.519531 -7.753906 L 2.984375 -7.753906 L 2.984375 -7.113281 C 3.632812 -7.070312 4.128906 -6.878906 4.476562 -6.539062 C 4.820312 -6.203125 5.003906 -5.757812 5.019531 -5.203125 L 4.164062 -5.203125 C 4.140625 -5.453125 4.074219 -5.664062 3.964844 -5.84375 C 3.757812 -6.171875 3.433594 -6.347656 2.984375 -6.363281 L 2.984375 -3.988281 C 3.738281 -3.777344 4.25 -3.578125 4.523438 -3.394531 C 4.960938 -3.085938 5.179688 -2.636719 5.179688 -2.035156 C 5.179688 -1.171875 4.898438 -0.554688 4.335938 -0.191406 C 4.023438 0.0117188 3.574219 0.144531 2.984375 0.210938 L 2.984375 1.15625 L 2.519531 1.15625 L 2.519531 0.210938 C 1.570312 0.148438 0.929688 -0.1875 0.589844 -0.796875 C 0.40625 -1.125 0.3125 -1.570312 0.3125 -2.128906 L 1.175781 -2.128906 C 1.203125 -1.683594 1.273438 -1.359375 1.386719 -1.152344 C 1.589844 -0.785156 1.960938 -0.578125 2.507812 -0.53125 L 2.507812 -3.195312 C 1.804688 -3.328125 1.289062 -3.550781 0.953125 -3.863281 C 0.617188 -4.175781 0.449219 -4.609375 0.449219 -5.160156 C 0.449219 -5.65625 0.628906 -6.101562 0.992188 -6.5 Z M 0.992188 -6.5 \"/>\n",
       "</symbol>\n",
       "<symbol overflow=\"visible\" id=\"glyph0-10\">\n",
       "<path style=\"stroke:none;\" d=\"M 5.609375 -6.96875 C 6.324219 -6.59375 6.757812 -5.9375 6.917969 -5 L 5.957031 -5 C 5.839844 -5.523438 5.597656 -5.90625 5.230469 -6.144531 C 4.863281 -6.382812 4.398438 -6.503906 3.835938 -6.503906 C 3.171875 -6.503906 2.613281 -6.253906 2.160156 -5.757812 C 1.707031 -5.257812 1.480469 -4.515625 1.480469 -3.53125 C 1.480469 -2.679688 1.667969 -1.984375 2.039062 -1.449219 C 2.414062 -0.914062 3.027344 -0.644531 3.871094 -0.644531 C 4.519531 -0.644531 5.054688 -0.832031 5.480469 -1.207031 C 5.90625 -1.585938 6.125 -2.191406 6.132812 -3.03125 L 3.886719 -3.03125 L 3.886719 -3.835938 L 7.035156 -3.835938 L 7.035156 0 L 6.410156 0 L 6.175781 -0.921875 C 5.847656 -0.5625 5.554688 -0.3125 5.304688 -0.171875 C 4.875 0.0703125 4.335938 0.191406 3.675781 0.191406 C 2.828125 0.191406 2.097656 -0.0859375 1.484375 -0.632812 C 0.816406 -1.324219 0.484375 -2.273438 0.484375 -3.476562 C 0.484375 -4.679688 0.808594 -5.632812 1.460938 -6.34375 C 2.078125 -7.019531 2.878906 -7.359375 3.863281 -7.359375 C 4.535156 -7.359375 5.117188 -7.226562 5.609375 -6.96875 Z M 5.609375 -6.96875 \"/>\n",
       "</symbol>\n",
       "<symbol overflow=\"visible\" id=\"glyph0-11\">\n",
       "<path style=\"stroke:none;\" d=\"M 0.761719 -7.171875 L 1.910156 -7.171875 L 5.53125 -1.363281 L 5.53125 -7.171875 L 6.453125 -7.171875 L 6.453125 0 L 5.367188 0 L 1.6875 -5.804688 L 1.6875 0 L 0.761719 0 Z M 0.761719 -7.171875 \"/>\n",
       "</symbol>\n",
       "<symbol overflow=\"visible\" id=\"glyph0-12\">\n",
       "<path style=\"stroke:none;\" d=\"M 0.980469 -7.171875 L 1.960938 -7.171875 L 1.960938 0 L 0.980469 0 Z M 0.980469 -7.171875 \"/>\n",
       "</symbol>\n",
       "<symbol overflow=\"visible\" id=\"glyph1-0\">\n",
       "<path style=\"stroke:none;\" d=\"\"/>\n",
       "</symbol>\n",
       "<symbol overflow=\"visible\" id=\"glyph1-1\">\n",
       "<path style=\"stroke:none;\" d=\"M -1.570312 -0.6875 C -2.015625 -0.902344 -2.421875 -1.324219 -2.789062 -1.953125 L -3.328125 -2.890625 C -3.574219 -3.3125 -3.78125 -3.605469 -3.953125 -3.773438 C -4.226562 -4.039062 -4.535156 -4.175781 -4.882812 -4.175781 C -5.289062 -4.175781 -5.613281 -4.054688 -5.851562 -3.808594 C -6.089844 -3.5625 -6.210938 -3.238281 -6.210938 -2.832031 C -6.210938 -2.230469 -5.984375 -1.8125 -5.527344 -1.582031 C -5.28125 -1.457031 -4.945312 -1.390625 -4.511719 -1.378906 L -4.511719 -0.484375 C -5.121094 -0.492188 -5.617188 -0.605469 -6 -0.820312 C -6.679688 -1.203125 -7.015625 -1.875 -7.015625 -2.835938 C -7.015625 -3.636719 -6.800781 -4.222656 -6.367188 -4.59375 C -5.933594 -4.960938 -5.453125 -5.148438 -4.921875 -5.148438 C -4.363281 -5.148438 -3.882812 -4.949219 -3.484375 -4.554688 C -3.253906 -4.328125 -2.976562 -3.917969 -2.648438 -3.328125 L -2.273438 -2.660156 C -2.097656 -2.34375 -1.933594 -2.089844 -1.773438 -1.910156 C -1.488281 -1.585938 -1.175781 -1.378906 -0.828125 -1.292969 L -0.828125 -5.113281 L 0 -5.113281 L 0 -0.3125 C -0.601562 -0.34375 -1.125 -0.46875 -1.570312 -0.6875 Z M -1.570312 -0.6875 \"/>\n",
       "</symbol>\n",
       "<symbol overflow=\"visible\" id=\"glyph1-2\">\n",
       "<path style=\"stroke:none;\" d=\"M -0.492188 -0.796875 C -0.945312 -0.425781 -1.496094 -0.238281 -2.148438 -0.238281 L -2.148438 -1.15625 C -1.695312 -1.195312 -1.367188 -1.28125 -1.164062 -1.410156 C -0.796875 -1.640625 -0.609375 -2.050781 -0.609375 -2.648438 C -0.609375 -3.109375 -0.734375 -3.480469 -0.980469 -3.757812 C -1.226562 -4.039062 -1.546875 -4.179688 -1.9375 -4.179688 C -2.417969 -4.179688 -2.757812 -4.03125 -2.949219 -3.738281 C -3.140625 -3.445312 -3.238281 -3.035156 -3.238281 -2.507812 C -3.238281 -2.449219 -3.238281 -2.390625 -3.234375 -2.332031 C -3.234375 -2.273438 -3.230469 -2.210938 -3.226562 -2.148438 L -4.003906 -2.148438 C -3.992188 -2.238281 -3.988281 -2.316406 -3.984375 -2.378906 C -3.980469 -2.441406 -3.980469 -2.507812 -3.980469 -2.578125 C -3.980469 -2.90625 -4.03125 -3.175781 -4.136719 -3.390625 C -4.320312 -3.761719 -4.644531 -3.945312 -5.113281 -3.945312 C -5.460938 -3.945312 -5.730469 -3.820312 -5.917969 -3.574219 C -6.105469 -3.328125 -6.203125 -3.039062 -6.203125 -2.710938 C -6.203125 -2.125 -6.007812 -1.71875 -5.617188 -1.496094 C -5.402344 -1.371094 -5.09375 -1.300781 -4.695312 -1.285156 L -4.695312 -0.414062 C -5.21875 -0.414062 -5.660156 -0.519531 -6.023438 -0.726562 C -6.675781 -1.085938 -7 -1.714844 -7 -2.617188 C -7 -3.328125 -6.84375 -3.882812 -6.527344 -4.273438 C -6.210938 -4.664062 -5.75 -4.859375 -5.148438 -4.859375 C -4.71875 -4.859375 -4.367188 -4.742188 -4.101562 -4.511719 C -3.9375 -4.367188 -3.804688 -4.183594 -3.710938 -3.957031 C -3.609375 -4.324219 -3.414062 -4.609375 -3.128906 -4.816406 C -2.839844 -5.023438 -2.488281 -5.125 -2.070312 -5.125 C -1.402344 -5.125 -0.859375 -4.90625 -0.4375 -4.46875 C -0.0195312 -4.027344 0.191406 -3.40625 0.191406 -2.597656 C 0.191406 -1.769531 -0.0351562 -1.171875 -0.492188 -0.796875 Z M -0.492188 -0.796875 \"/>\n",
       "</symbol>\n",
       "<symbol overflow=\"visible\" id=\"glyph1-3\">\n",
       "<path style=\"stroke:none;\" d=\"M -2.476562 -3.304688 L -5.644531 -3.304688 L -2.476562 -1.066406 Z M 0 -3.320312 L -1.707031 -3.320312 L -1.710938 -0.253906 L -2.570312 -0.253906 L -7.011719 -3.457031 L -7.011719 -4.199219 L -2.476562 -4.199219 L -2.476562 -5.230469 L -1.707031 -5.230469 L -1.707031 -4.199219 L 0 -4.199219 Z M 0 -3.320312 \"/>\n",
       "</symbol>\n",
       "<symbol overflow=\"visible\" id=\"glyph1-4\">\n",
       "<path style=\"stroke:none;\" d=\"M -1.78125 -1.234375 C -1.28125 -1.292969 -0.933594 -1.527344 -0.742188 -1.933594 C -0.644531 -2.140625 -0.59375 -2.382812 -0.59375 -2.65625 C -0.59375 -3.175781 -0.761719 -3.5625 -1.09375 -3.8125 C -1.425781 -4.0625 -1.792969 -4.1875 -2.195312 -4.1875 C -2.683594 -4.1875 -3.0625 -4.039062 -3.328125 -3.742188 C -3.597656 -3.445312 -3.730469 -3.085938 -3.730469 -2.671875 C -3.730469 -2.367188 -3.671875 -2.109375 -3.554688 -1.890625 C -3.4375 -1.675781 -3.273438 -1.492188 -3.066406 -1.339844 L -3.109375 -0.578125 L -6.875 -1.109375 L -6.875 -4.742188 L -6.023438 -4.742188 L -6.023438 -1.769531 L -4.082031 -1.46875 C -4.207031 -1.632812 -4.296875 -1.789062 -4.359375 -1.933594 C -4.46875 -2.195312 -4.523438 -2.496094 -4.523438 -2.835938 C -4.523438 -3.476562 -4.316406 -4.023438 -3.902344 -4.46875 C -3.488281 -4.914062 -2.964844 -5.136719 -2.328125 -5.136719 C -1.667969 -5.136719 -1.085938 -4.933594 -0.582031 -4.523438 C -0.078125 -4.117188 0.175781 -3.464844 0.175781 -2.570312 C 0.175781 -2 0.015625 -1.496094 -0.304688 -1.058594 C -0.625 -0.621094 -1.117188 -0.375 -1.78125 -0.324219 Z M -1.78125 -1.234375 \"/>\n",
       "</symbol>\n",
       "<symbol overflow=\"visible\" id=\"glyph1-5\">\n",
       "<path style=\"stroke:none;\" d=\"M -6.414062 -4.558594 C -6.007812 -4.867188 -5.589844 -5.019531 -5.160156 -5.019531 L -5.160156 -4.148438 C -5.4375 -4.097656 -5.65625 -4.015625 -5.8125 -3.902344 C -6.105469 -3.691406 -6.25 -3.371094 -6.25 -2.941406 C -6.25 -2.449219 -6.023438 -2.058594 -5.570312 -1.769531 C -5.117188 -1.476562 -4.464844 -1.316406 -3.617188 -1.285156 C -3.914062 -1.484375 -4.136719 -1.738281 -4.28125 -2.046875 C -4.414062 -2.328125 -4.476562 -2.636719 -4.476562 -2.984375 C -4.476562 -3.570312 -4.289062 -4.082031 -3.914062 -4.515625 C -3.539062 -4.953125 -2.984375 -5.171875 -2.242188 -5.171875 C -1.605469 -5.171875 -1.042969 -4.964844 -0.554688 -4.550781 C -0.0625 -4.136719 0.179688 -3.546875 0.179688 -2.78125 C 0.179688 -2.128906 -0.0664062 -1.5625 -0.5625 -1.089844 C -1.058594 -0.613281 -1.894531 -0.375 -3.070312 -0.375 C -3.941406 -0.375 -4.679688 -0.480469 -5.28125 -0.695312 C -6.441406 -1.101562 -7.023438 -1.84375 -7.023438 -2.925781 C -7.023438 -3.707031 -6.820312 -4.25 -6.414062 -4.558594 Z M -1.066406 -3.898438 C -1.378906 -4.128906 -1.746094 -4.242188 -2.167969 -4.242188 C -2.527344 -4.242188 -2.867188 -4.140625 -3.191406 -3.9375 C -3.515625 -3.730469 -3.675781 -3.359375 -3.675781 -2.816406 C -3.675781 -2.441406 -3.550781 -2.109375 -3.300781 -1.824219 C -3.050781 -1.539062 -2.671875 -1.398438 -2.167969 -1.398438 C -1.726562 -1.398438 -1.351562 -1.527344 -1.050781 -1.785156 C -0.75 -2.042969 -0.601562 -2.402344 -0.601562 -2.859375 C -0.601562 -3.324219 -0.757812 -3.667969 -1.066406 -3.898438 Z M -1.066406 -3.898438 \"/>\n",
       "</symbol>\n",
       "<symbol overflow=\"visible\" id=\"glyph1-6\">\n",
       "<path style=\"stroke:none;\" d=\"M -6.875 -5.230469 L -6.109375 -5.230469 C -5.890625 -5.003906 -5.511719 -4.707031 -4.96875 -4.332031 C -4.429688 -3.960938 -3.847656 -3.632812 -3.222656 -3.34375 C -2.613281 -3.0625 -2.058594 -2.847656 -1.558594 -2.699219 C -1.234375 -2.605469 -0.714844 -2.484375 0 -2.335938 L 0 -1.363281 C -1.335938 -1.585938 -2.664062 -2.070312 -3.984375 -2.828125 C -4.757812 -3.273438 -5.429688 -3.742188 -5.992188 -4.234375 L -5.992188 -0.367188 L -6.875 -0.367188 Z M -6.875 -5.230469 \"/>\n",
       "</symbol>\n",
       "<symbol overflow=\"visible\" id=\"glyph1-7\">\n",
       "<path style=\"stroke:none;\" d=\"M -7.171875 -1.234375 L -1.335938 -2.585938 L -7.171875 -4.210938 L -7.171875 -5.265625 L -1.335938 -6.882812 L -7.171875 -8.238281 L -7.171875 -9.300781 L 0 -7.417969 L 0 -6.398438 L -5.945312 -4.742188 L 0 -3.078125 L 0 -2.054688 L -7.171875 -0.179688 Z M -7.171875 -1.234375 \"/>\n",
       "</symbol>\n",
       "<symbol overflow=\"visible\" id=\"glyph1-8\">\n",
       "<path style=\"stroke:none;\" d=\"M -7.171875 -0.785156 L -7.171875 -1.769531 L -4.210938 -1.769531 L -4.210938 -5.5 L -7.171875 -5.5 L -7.171875 -6.480469 L 0 -6.480469 L 0 -5.5 L -3.355469 -5.5 L -3.355469 -1.769531 L 0 -1.765625 L 0 -0.785156 Z M -7.171875 -0.785156 \"/>\n",
       "</symbol>\n",
       "<symbol overflow=\"visible\" id=\"glyph1-9\">\n",
       "<path style=\"stroke:none;\" d=\"M -6.148438 -6.671875 C -5.511719 -7.144531 -4.699219 -7.382812 -3.710938 -7.382812 C -2.640625 -7.382812 -1.75 -7.109375 -1.039062 -6.566406 C -0.207031 -5.929688 0.210938 -5.019531 0.210938 -3.835938 C 0.210938 -2.734375 -0.15625 -1.867188 -0.882812 -1.234375 C -1.585938 -0.671875 -2.476562 -0.390625 -3.550781 -0.390625 C -4.519531 -0.390625 -5.351562 -0.632812 -6.039062 -1.113281 C -6.925781 -1.730469 -7.367188 -2.648438 -7.367188 -3.859375 C -7.367188 -5.125 -6.960938 -6.0625 -6.148438 -6.671875 Z M -1.578125 -5.8125 C -2.191406 -6.195312 -2.898438 -6.386719 -3.695312 -6.386719 C -4.539062 -6.386719 -5.21875 -6.167969 -5.734375 -5.726562 C -6.246094 -5.285156 -6.503906 -4.679688 -6.503906 -3.917969 C -6.503906 -3.175781 -6.25 -2.570312 -5.738281 -2.101562 C -5.230469 -1.632812 -4.480469 -1.398438 -3.484375 -1.398438 C -2.691406 -1.398438 -2.023438 -1.597656 -1.476562 -2 C -0.929688 -2.402344 -0.660156 -3.054688 -0.660156 -3.953125 C -0.660156 -4.8125 -0.964844 -5.429688 -1.578125 -5.8125 Z M -1.578125 -5.8125 \"/>\n",
       "</symbol>\n",
       "<symbol overflow=\"visible\" id=\"glyph1-10\">\n",
       "<path style=\"stroke:none;\" d=\"M -1.117188 -4.136719 C -1.3125 -4.246094 -1.539062 -4.300781 -1.796875 -4.300781 C -2.203125 -4.300781 -2.511719 -4.152344 -2.722656 -3.851562 C -2.847656 -3.679688 -2.964844 -3.390625 -3.078125 -2.984375 L -0.507812 -2.984375 C -0.535156 -3.539062 -0.738281 -3.925781 -1.117188 -4.136719 Z M -4.460938 -1.648438 C -4.28125 -1.859375 -4.152344 -2.148438 -4.082031 -2.511719 L -6.375 -2.511719 C -6.359375 -2.085938 -6.230469 -1.78125 -5.984375 -1.597656 C -5.742188 -1.417969 -5.488281 -1.328125 -5.21875 -1.328125 C -4.898438 -1.328125 -4.644531 -1.433594 -4.460938 -1.648438 Z M -6.5 -0.992188 C -6.898438 -1.355469 -7.097656 -1.867188 -7.105469 -2.519531 L -7.753906 -2.519531 L -7.753906 -2.984375 L -7.113281 -2.984375 C -7.070312 -3.632812 -6.878906 -4.128906 -6.539062 -4.476562 C -6.203125 -4.820312 -5.757812 -5.003906 -5.203125 -5.019531 L -5.203125 -4.164062 C -5.453125 -4.140625 -5.664062 -4.074219 -5.84375 -3.964844 C -6.171875 -3.757812 -6.347656 -3.433594 -6.363281 -2.984375 L -3.988281 -2.984375 C -3.777344 -3.738281 -3.578125 -4.25 -3.394531 -4.523438 C -3.085938 -4.960938 -2.636719 -5.179688 -2.035156 -5.179688 C -1.167969 -5.179688 -0.554688 -4.898438 -0.191406 -4.335938 C 0.0117188 -4.023438 0.144531 -3.574219 0.210938 -2.984375 L 1.15625 -2.984375 L 1.15625 -2.519531 L 0.210938 -2.519531 C 0.148438 -1.570312 -0.1875 -0.929688 -0.796875 -0.589844 C -1.125 -0.40625 -1.570312 -0.3125 -2.128906 -0.3125 L -2.128906 -1.175781 C -1.683594 -1.203125 -1.359375 -1.273438 -1.152344 -1.386719 C -0.785156 -1.589844 -0.578125 -1.960938 -0.53125 -2.507812 L -3.195312 -2.507812 C -3.328125 -1.804688 -3.550781 -1.289062 -3.863281 -0.953125 C -4.175781 -0.617188 -4.609375 -0.449219 -5.160156 -0.449219 C -5.65625 -0.449219 -6.101562 -0.628906 -6.5 -0.992188 Z M -6.5 -0.992188 \"/>\n",
       "</symbol>\n",
       "<symbol overflow=\"visible\" id=\"glyph1-11\">\n",
       "<path style=\"stroke:none;\" d=\"M -7.171875 -0.855469 L -7.171875 -5.828125 L -6.292969 -5.828125 L -6.292969 -1.828125 L -4.117188 -1.828125 L -4.117188 -5.347656 L -3.261719 -5.347656 L -3.261719 -1.828125 L 0 -1.828125 L 0 -0.855469 Z M -7.171875 -0.855469 \"/>\n",
       "</symbol>\n",
       "<symbol overflow=\"visible\" id=\"glyph1-12\">\n",
       "<path style=\"stroke:none;\" d=\"M -5.085938 -3.902344 C -4.910156 -4.25 -4.6875 -4.515625 -4.410156 -4.695312 C -4.144531 -4.871094 -3.835938 -4.992188 -3.484375 -5.046875 C -3.246094 -5.101562 -2.859375 -5.125 -2.332031 -5.125 L -2.335938 -1.292969 C -1.804688 -1.308594 -1.378906 -1.4375 -1.058594 -1.671875 C -0.738281 -1.90625 -0.574219 -2.265625 -0.574219 -2.757812 C -0.574219 -3.21875 -0.726562 -3.585938 -1.03125 -3.859375 C -1.207031 -4.015625 -1.410156 -4.125 -1.640625 -4.1875 L -1.640625 -5.054688 C -1.449219 -5.03125 -1.234375 -4.957031 -1 -4.828125 C -0.761719 -4.699219 -0.570312 -4.554688 -0.417969 -4.394531 C -0.160156 -4.128906 0.015625 -3.796875 0.109375 -3.402344 C 0.160156 -3.191406 0.1875 -2.953125 0.1875 -2.6875 C 0.1875 -2.035156 -0.0507812 -1.484375 -0.523438 -1.03125 C -1 -0.578125 -1.660156 -0.351562 -2.515625 -0.351562 C -3.355469 -0.351562 -4.035156 -0.578125 -4.5625 -1.035156 C -5.085938 -1.492188 -5.347656 -2.085938 -5.347656 -2.824219 C -5.347656 -3.195312 -5.257812 -3.554688 -5.085938 -3.902344 Z M -3.03125 -4.222656 C -3.414062 -4.1875 -3.71875 -4.105469 -3.945312 -3.976562 C -4.367188 -3.734375 -4.578125 -3.332031 -4.578125 -2.769531 C -4.578125 -2.367188 -4.433594 -2.027344 -4.144531 -1.753906 C -3.851562 -1.480469 -3.480469 -1.335938 -3.03125 -1.320312 Z M -3.03125 -4.222656 \"/>\n",
       "</symbol>\n",
       "<symbol overflow=\"visible\" id=\"glyph1-13\">\n",
       "<path style=\"stroke:none;\" d=\"M -5.230469 -0.667969 L -5.230469 -1.503906 L -4.328125 -1.503906 C -4.503906 -1.570312 -4.714844 -1.738281 -4.96875 -2.007812 C -5.21875 -2.273438 -5.347656 -2.582031 -5.347656 -2.929688 C -5.347656 -2.945312 -5.34375 -2.972656 -5.34375 -3.011719 C -5.339844 -3.050781 -5.332031 -3.117188 -5.320312 -3.214844 L -4.394531 -3.214844 C -4.40625 -3.160156 -4.410156 -3.113281 -4.414062 -3.070312 C -4.417969 -3.023438 -4.417969 -2.976562 -4.417969 -2.925781 C -4.417969 -2.484375 -4.277344 -2.140625 -3.992188 -1.90625 C -3.707031 -1.667969 -3.378906 -1.546875 -3.007812 -1.546875 L 0 -1.546875 L 0 -0.667969 Z M -5.230469 -0.667969 \"/>\n",
       "</symbol>\n",
       "<symbol overflow=\"visible\" id=\"glyph1-14\">\n",
       "<path style=\"stroke:none;\" d=\"M -6.6875 -0.820312 L -6.6875 -1.710938 L -5.230469 -1.710938 L -5.230469 -2.542969 L -4.511719 -2.542969 L -4.511719 -1.710938 L -1.097656 -1.710938 C -0.914062 -1.710938 -0.792969 -1.769531 -0.730469 -1.894531 C -0.695312 -1.960938 -0.679688 -2.078125 -0.679688 -2.234375 C -0.679688 -2.277344 -0.679688 -2.324219 -0.679688 -2.375 C -0.683594 -2.421875 -0.6875 -2.480469 -0.691406 -2.542969 L 0 -2.542969 C 0.03125 -2.441406 0.0507812 -2.339844 0.0625 -2.230469 C 0.078125 -2.121094 0.0820312 -2 0.0820312 -1.875 C 0.0820312 -1.464844 -0.0234375 -1.1875 -0.230469 -1.039062 C -0.441406 -0.894531 -0.714844 -0.820312 -1.050781 -0.820312 L -4.511719 -0.820312 L -4.511719 -0.113281 L -5.230469 -0.113281 L -5.230469 -0.820312 Z M -6.6875 -0.820312 \"/>\n",
       "</symbol>\n",
       "<symbol overflow=\"visible\" id=\"glyph1-15\">\n",
       "<path style=\"stroke:none;\" d=\"M -5.203125 -0.644531 L -5.203125 -1.539062 L 0 -1.539062 L 0 -0.644531 Z M -7.171875 -0.644531 L -7.171875 -1.539062 L -6.175781 -1.539062 L -6.175781 -0.644531 Z M -7.171875 -0.644531 \"/>\n",
       "</symbol>\n",
       "<symbol overflow=\"visible\" id=\"glyph1-16\">\n",
       "<path style=\"stroke:none;\" d=\"M -7.171875 -0.667969 L -7.171875 -1.546875 L 0 -1.546875 L 0 -0.667969 Z M -7.171875 -0.667969 \"/>\n",
       "</symbol>\n",
       "<symbol overflow=\"visible\" id=\"glyph1-17\">\n",
       "<path style=\"stroke:none;\" d=\"M -5.230469 -3.910156 L -5.230469 -4.882812 C -4.894531 -4.757812 -4.128906 -4.484375 -2.933594 -4.058594 C -2.035156 -3.738281 -1.304688 -3.472656 -0.738281 -3.257812 C 0.597656 -2.75 1.410156 -2.390625 1.703125 -2.183594 C 1.996094 -1.976562 2.144531 -1.617188 2.144531 -1.109375 C 2.144531 -0.984375 2.140625 -0.890625 2.128906 -0.824219 C 2.117188 -0.757812 2.101562 -0.671875 2.074219 -0.574219 L 1.273438 -0.574219 C 1.316406 -0.726562 1.34375 -0.839844 1.351562 -0.90625 C 1.363281 -0.976562 1.367188 -1.035156 1.367188 -1.089844 C 1.367188 -1.25 1.339844 -1.371094 1.285156 -1.449219 C 1.234375 -1.523438 1.167969 -1.589844 1.089844 -1.640625 C 1.0625 -1.65625 0.929688 -1.714844 0.6875 -1.816406 C 0.449219 -1.917969 0.269531 -1.992188 0.152344 -2.035156 L -5.230469 -0.101562 L -5.230469 -1.097656 L -0.972656 -2.5 Z M -5.230469 -3.910156 \"/>\n",
       "</symbol>\n",
       "<symbol overflow=\"visible\" id=\"glyph1-18\">\n",
       "<path style=\"stroke:none;\" d=\"M -3.886719 -4.097656 C -3.886719 -4.554688 -3.976562 -4.914062 -4.160156 -5.179688 C -4.34375 -5.445312 -4.671875 -5.578125 -5.148438 -5.578125 C -5.65625 -5.578125 -6.007812 -5.390625 -6.191406 -5.019531 C -6.289062 -4.820312 -6.335938 -4.554688 -6.335938 -4.222656 L -6.335938 -1.851562 L -3.886719 -1.851562 Z M -7.171875 -0.878906 L -7.171875 -4.199219 C -7.171875 -4.746094 -7.09375 -5.195312 -6.933594 -5.550781 C -6.628906 -6.226562 -6.0625 -6.5625 -5.238281 -6.5625 C -4.808594 -6.5625 -4.457031 -6.472656 -4.183594 -6.296875 C -3.910156 -6.117188 -3.691406 -5.871094 -3.523438 -5.550781 C -3.410156 -5.832031 -3.261719 -6.042969 -3.074219 -6.183594 C -2.890625 -6.324219 -2.589844 -6.40625 -2.171875 -6.421875 L -1.210938 -6.453125 C -0.9375 -6.464844 -0.734375 -6.488281 -0.601562 -6.523438 C -0.371094 -6.582031 -0.226562 -6.6875 -0.160156 -6.835938 L 0 -6.835938 L 0 -5.644531 C -0.0625 -5.613281 -0.140625 -5.585938 -0.238281 -5.566406 C -0.335938 -5.546875 -0.527344 -5.53125 -0.804688 -5.515625 L -2 -5.460938 C -2.46875 -5.4375 -2.785156 -5.261719 -2.945312 -4.9375 C -3.03125 -4.75 -3.074219 -4.460938 -3.074219 -4.0625 L -3.078125 -1.851562 L 0 -1.851562 L 0 -0.878906 Z M -7.171875 -0.878906 \"/>\n",
       "</symbol>\n",
       "<symbol overflow=\"visible\" id=\"glyph1-19\">\n",
       "<path style=\"stroke:none;\" d=\"M -0.789062 -1.597656 C -0.644531 -1.78125 -0.570312 -2 -0.570312 -2.257812 C -0.570312 -2.566406 -0.644531 -2.863281 -0.785156 -3.15625 C -1.023438 -3.644531 -1.414062 -3.886719 -1.953125 -3.886719 L -2.660156 -3.886719 C -2.59375 -3.78125 -2.535156 -3.640625 -2.492188 -3.472656 C -2.445312 -3.304688 -2.414062 -3.136719 -2.390625 -2.972656 L -2.324219 -2.441406 C -2.28125 -2.121094 -2.214844 -1.882812 -2.125 -1.722656 C -1.972656 -1.453125 -1.726562 -1.320312 -1.390625 -1.320312 C -1.136719 -1.320312 -0.9375 -1.410156 -0.789062 -1.597656 Z M -3.167969 -3.445312 C -3.195312 -3.648438 -3.28125 -3.785156 -3.421875 -3.851562 C -3.5 -3.890625 -3.613281 -3.910156 -3.757812 -3.910156 C -4.058594 -3.910156 -4.277344 -3.804688 -4.410156 -3.589844 C -4.546875 -3.378906 -4.613281 -3.074219 -4.613281 -2.675781 C -4.613281 -2.21875 -4.492188 -1.890625 -4.242188 -1.699219 C -4.105469 -1.59375 -3.902344 -1.523438 -3.632812 -1.488281 L -3.632812 -0.667969 C -4.277344 -0.683594 -4.726562 -0.894531 -4.976562 -1.296875 C -5.230469 -1.699219 -5.355469 -2.164062 -5.355469 -2.695312 C -5.355469 -3.3125 -5.238281 -3.808594 -5.003906 -4.195312 C -4.769531 -4.574219 -4.40625 -4.765625 -3.910156 -4.765625 L -0.898438 -4.765625 C -0.808594 -4.765625 -0.734375 -4.785156 -0.679688 -4.820312 C -0.625 -4.859375 -0.59375 -4.9375 -0.59375 -5.058594 C -0.59375 -5.097656 -0.597656 -5.140625 -0.601562 -5.191406 C -0.605469 -5.238281 -0.613281 -5.292969 -0.625 -5.347656 L 0.0234375 -5.347656 C 0.0625 -5.210938 0.0898438 -5.105469 0.0976562 -5.035156 C 0.109375 -4.960938 0.113281 -4.863281 0.113281 -4.742188 C 0.113281 -4.4375 0.00390625 -4.21875 -0.210938 -4.082031 C -0.324219 -4.011719 -0.484375 -3.960938 -0.691406 -3.929688 C -0.457031 -3.75 -0.253906 -3.496094 -0.0820312 -3.160156 C 0.0898438 -2.824219 0.175781 -2.453125 0.175781 -2.050781 C 0.175781 -1.566406 0.0273438 -1.167969 -0.265625 -0.863281 C -0.5625 -0.554688 -0.929688 -0.402344 -1.371094 -0.402344 C -1.855469 -0.402344 -2.234375 -0.550781 -2.5 -0.855469 C -2.765625 -1.15625 -2.929688 -1.554688 -2.992188 -2.046875 Z M -3.167969 -3.445312 \"/>\n",
       "</symbol>\n",
       "</g>\n",
       "</defs>\n",
       "<g id=\"surface1\">\n",
       "<rect x=\"0\" y=\"0\" width=\"504\" height=\"504\" style=\"fill:rgb(100%,100%,100%);fill-opacity:1;stroke:none;\"/>\n",
       "<path style=\"fill:none;stroke-width:0.75;stroke-linecap:round;stroke-linejoin:round;stroke:rgb(0%,0%,0%);stroke-opacity:1;stroke-miterlimit:10;\" d=\"M 80.667969 191.457031 C 80.667969 195.058594 75.269531 195.058594 75.269531 191.457031 C 75.269531 187.859375 80.667969 187.859375 80.667969 191.457031 \"/>\n",
       "<path style=\"fill:none;stroke-width:0.75;stroke-linecap:round;stroke-linejoin:round;stroke:rgb(0%,0%,0%);stroke-opacity:1;stroke-miterlimit:10;\" d=\"M 114.921875 390.128906 C 114.921875 393.730469 109.519531 393.730469 109.519531 390.128906 C 109.519531 386.527344 114.921875 386.527344 114.921875 390.128906 \"/>\n",
       "<path style=\"fill:none;stroke-width:0.75;stroke-linecap:round;stroke-linejoin:round;stroke:rgb(0%,0%,0%);stroke-opacity:1;stroke-miterlimit:10;\" d=\"M 112.644531 331.34375 C 112.644531 334.945312 107.246094 334.945312 107.246094 331.34375 C 107.246094 327.746094 112.644531 327.746094 112.644531 331.34375 \"/>\n",
       "<path style=\"fill:none;stroke-width:0.75;stroke-linecap:round;stroke-linejoin:round;stroke:rgb(0%,0%,0%);stroke-opacity:1;stroke-miterlimit:10;\" d=\"M 98.910156 153.355469 C 98.910156 156.957031 93.507812 156.957031 93.507812 153.355469 C 93.507812 149.757812 98.910156 149.757812 98.910156 153.355469 \"/>\n",
       "<path style=\"fill:none;stroke-width:0.75;stroke-linecap:round;stroke-linejoin:round;stroke:rgb(0%,0%,0%);stroke-opacity:1;stroke-miterlimit:10;\" d=\"M 155.417969 369.988281 C 155.417969 373.589844 150.015625 373.589844 150.015625 369.988281 C 150.015625 366.390625 155.417969 366.390625 155.417969 369.988281 \"/>\n",
       "<path style=\"fill:none;stroke-width:0.75;stroke-linecap:round;stroke-linejoin:round;stroke:rgb(0%,0%,0%);stroke-opacity:1;stroke-miterlimit:10;\" d=\"M 151.980469 365.636719 C 151.980469 369.234375 146.582031 369.234375 146.582031 365.636719 C 146.582031 362.035156 151.980469 362.035156 151.980469 365.636719 \"/>\n",
       "<path style=\"fill:none;stroke-width:0.75;stroke-linecap:round;stroke-linejoin:round;stroke:rgb(0%,0%,0%);stroke-opacity:1;stroke-miterlimit:10;\" d=\"M 102.789062 390.671875 C 102.789062 394.273438 97.390625 394.273438 97.390625 390.671875 C 97.390625 387.074219 102.789062 387.074219 102.789062 390.671875 \"/>\n",
       "<path style=\"fill:none;stroke-width:0.75;stroke-linecap:round;stroke-linejoin:round;stroke:rgb(0%,0%,0%);stroke-opacity:1;stroke-miterlimit:10;\" d=\"M 245.550781 382.507812 C 245.550781 386.109375 240.152344 386.109375 240.152344 382.507812 C 240.152344 378.910156 245.550781 378.910156 245.550781 382.507812 \"/>\n",
       "<path style=\"fill:none;stroke-width:0.75;stroke-linecap:round;stroke-linejoin:round;stroke:rgb(0%,0%,0%);stroke-opacity:1;stroke-miterlimit:10;\" d=\"M 263.125 407.003906 C 263.125 410.601562 257.722656 410.601562 257.722656 407.003906 C 257.722656 403.402344 263.125 403.402344 263.125 407.003906 \"/>\n",
       "<path style=\"fill:none;stroke-width:0.75;stroke-linecap:round;stroke-linejoin:round;stroke:rgb(0%,0%,0%);stroke-opacity:1;stroke-miterlimit:10;\" d=\"M 115.542969 378.699219 C 115.542969 382.296875 110.144531 382.296875 110.144531 378.699219 C 110.144531 375.097656 115.542969 375.097656 115.542969 378.699219 \"/>\n",
       "<path style=\"fill:none;stroke-width:0.75;stroke-linecap:round;stroke-linejoin:round;stroke:rgb(0%,0%,0%);stroke-opacity:1;stroke-miterlimit:10;\" d=\"M 84.234375 363.457031 C 84.234375 367.058594 78.835938 367.058594 78.835938 363.457031 C 78.835938 359.859375 84.234375 359.859375 84.234375 363.457031 \"/>\n",
       "<path style=\"fill:none;stroke-width:0.75;stroke-linecap:round;stroke-linejoin:round;stroke:rgb(0%,0%,0%);stroke-opacity:1;stroke-miterlimit:10;\" d=\"M 140.074219 405.371094 C 140.074219 408.96875 134.675781 408.96875 134.675781 405.371094 C 134.675781 401.769531 140.074219 401.769531 140.074219 405.371094 \"/>\n",
       "<path style=\"fill:none;stroke-width:0.75;stroke-linecap:round;stroke-linejoin:round;stroke:rgb(0%,0%,0%);stroke-opacity:1;stroke-miterlimit:10;\" d=\"M 250.367188 384.6875 C 250.367188 388.285156 244.96875 388.285156 244.96875 384.6875 C 244.96875 381.085938 250.367188 381.085938 250.367188 384.6875 \"/>\n",
       "<path style=\"fill:none;stroke-width:0.75;stroke-linecap:round;stroke-linejoin:round;stroke:rgb(0%,0%,0%);stroke-opacity:1;stroke-miterlimit:10;\" d=\"M 102.746094 335.15625 C 102.746094 338.753906 97.34375 338.753906 97.34375 335.15625 C 97.34375 331.554688 102.746094 331.554688 102.746094 335.15625 \"/>\n",
       "<path style=\"fill:none;stroke-width:0.75;stroke-linecap:round;stroke-linejoin:round;stroke:rgb(0%,0%,0%);stroke-opacity:1;stroke-miterlimit:10;\" d=\"M 82.808594 212.6875 C 82.808594 216.285156 77.410156 216.285156 77.410156 212.6875 C 77.410156 209.085938 82.808594 209.085938 82.808594 212.6875 \"/>\n",
       "<path style=\"fill:none;stroke-width:0.75;stroke-linecap:round;stroke-linejoin:round;stroke:rgb(0%,0%,0%);stroke-opacity:1;stroke-miterlimit:10;\" d=\"M 100.425781 359.105469 C 100.425781 362.703125 95.027344 362.703125 95.027344 359.105469 C 95.027344 355.503906 100.425781 355.503906 100.425781 359.105469 \"/>\n",
       "<path style=\"fill:none;stroke-width:0.75;stroke-linecap:round;stroke-linejoin:round;stroke:rgb(0%,0%,0%);stroke-opacity:1;stroke-miterlimit:10;\" d=\"M 97.394531 305.21875 C 97.394531 308.816406 91.992188 308.816406 91.992188 305.21875 C 91.992188 301.617188 97.394531 301.617188 97.394531 305.21875 \"/>\n",
       "<path style=\"fill:none;stroke-width:0.75;stroke-linecap:round;stroke-linejoin:round;stroke:rgb(0%,0%,0%);stroke-opacity:1;stroke-miterlimit:10;\" d=\"M 116.570312 416.800781 C 116.570312 420.398438 111.171875 420.398438 111.171875 416.800781 C 111.171875 413.199219 116.570312 413.199219 116.570312 416.800781 \"/>\n",
       "<path style=\"fill:none;stroke-width:0.75;stroke-linecap:round;stroke-linejoin:round;stroke:rgb(0%,0%,0%);stroke-opacity:1;stroke-miterlimit:10;\" d=\"M 140.476562 337.875 C 140.476562 341.476562 135.074219 341.476562 135.074219 337.875 C 135.074219 334.277344 140.476562 334.277344 140.476562 337.875 \"/>\n",
       "<path style=\"fill:none;stroke-width:0.75;stroke-linecap:round;stroke-linejoin:round;stroke:rgb(0%,0%,0%);stroke-opacity:1;stroke-miterlimit:10;\" d=\"M 126.515625 386.320312 C 126.515625 389.917969 121.117188 389.917969 121.117188 386.320312 C 121.117188 382.71875 126.515625 382.71875 126.515625 386.320312 \"/>\n",
       "<path style=\"fill:none;stroke-width:0.75;stroke-linecap:round;stroke-linejoin:round;stroke:rgb(0%,0%,0%);stroke-opacity:1;stroke-miterlimit:10;\" d=\"M 138.734375 403.191406 C 138.734375 406.792969 133.335938 406.792969 133.335938 403.191406 C 133.335938 399.59375 138.734375 399.59375 138.734375 403.191406 \"/>\n",
       "<path style=\"fill:none;stroke-width:0.75;stroke-linecap:round;stroke-linejoin:round;stroke:rgb(0%,0%,0%);stroke-opacity:1;stroke-miterlimit:10;\" d=\"M 81.382812 170.773438 C 81.382812 174.375 75.980469 174.375 75.980469 170.773438 C 75.980469 167.175781 81.382812 167.175781 81.382812 170.773438 \"/>\n",
       "<path style=\"fill:none;stroke-width:0.75;stroke-linecap:round;stroke-linejoin:round;stroke:rgb(0%,0%,0%);stroke-opacity:1;stroke-miterlimit:10;\" d=\"M 78.304688 147.371094 C 78.304688 150.96875 72.902344 150.96875 72.902344 147.371094 C 72.902344 143.769531 78.304688 143.769531 78.304688 147.371094 \"/>\n",
       "<path style=\"fill:none;stroke-width:0.75;stroke-linecap:round;stroke-linejoin:round;stroke:rgb(0%,0%,0%);stroke-opacity:1;stroke-miterlimit:10;\" d=\"M 85.527344 325.902344 C 85.527344 329.5 80.128906 329.5 80.128906 325.902344 C 80.128906 322.300781 85.527344 322.300781 85.527344 325.902344 \"/>\n",
       "<path style=\"fill:none;stroke-width:0.75;stroke-linecap:round;stroke-linejoin:round;stroke:rgb(0%,0%,0%);stroke-opacity:1;stroke-miterlimit:10;\" d=\"M 85.976562 216.496094 C 85.976562 220.097656 80.574219 220.097656 80.574219 216.496094 C 80.574219 212.894531 85.976562 212.894531 85.976562 216.496094 \"/>\n",
       "<path style=\"fill:none;stroke-width:0.75;stroke-linecap:round;stroke-linejoin:round;stroke:rgb(0%,0%,0%);stroke-opacity:1;stroke-miterlimit:10;\" d=\"M 252.464844 395.027344 C 252.464844 398.628906 247.066406 398.628906 247.066406 395.027344 C 247.066406 391.429688 252.464844 391.429688 252.464844 395.027344 \"/>\n",
       "<path style=\"fill:none;stroke-width:0.75;stroke-linecap:round;stroke-linejoin:round;stroke:rgb(0%,0%,0%);stroke-opacity:1;stroke-miterlimit:10;\" d=\"M 93.335938 355.839844 C 93.335938 359.4375 87.933594 359.4375 87.933594 355.839844 C 87.933594 352.238281 93.335938 352.238281 93.335938 355.839844 \"/>\n",
       "<path style=\"fill:none;stroke-width:0.75;stroke-linecap:round;stroke-linejoin:round;stroke:rgb(0%,0%,0%);stroke-opacity:1;stroke-miterlimit:10;\" d=\"M 79.195312 238.269531 C 79.195312 241.867188 73.796875 241.867188 73.796875 238.269531 C 73.796875 234.667969 79.195312 234.667969 79.195312 238.269531 \"/>\n",
       "<path style=\"fill:none;stroke-width:0.75;stroke-linecap:round;stroke-linejoin:round;stroke:rgb(0%,0%,0%);stroke-opacity:1;stroke-miterlimit:10;\" d=\"M 81.648438 132.128906 C 81.648438 135.730469 76.25 135.730469 76.25 132.128906 C 76.25 128.527344 81.648438 128.527344 81.648438 132.128906 \"/>\n",
       "<path style=\"fill:none;stroke-width:0.75;stroke-linecap:round;stroke-linejoin:round;stroke:rgb(0%,0%,0%);stroke-opacity:1;stroke-miterlimit:10;\" d=\"M 148.414062 385.230469 C 148.414062 388.832031 143.015625 388.832031 143.015625 385.230469 C 143.015625 381.628906 148.414062 381.628906 148.414062 385.230469 \"/>\n",
       "<path style=\"fill:none;stroke-width:0.75;stroke-linecap:round;stroke-linejoin:round;stroke:rgb(0%,0%,0%);stroke-opacity:1;stroke-miterlimit:10;\" d=\"M 113.003906 395.027344 C 113.003906 398.628906 107.601562 398.628906 107.601562 395.027344 C 107.601562 391.429688 113.003906 391.429688 113.003906 395.027344 \"/>\n",
       "<path style=\"fill:none;stroke-width:0.75;stroke-linecap:round;stroke-linejoin:round;stroke:rgb(0%,0%,0%);stroke-opacity:1;stroke-miterlimit:10;\" d=\"M 118.21875 357.472656 C 118.21875 361.070312 112.820312 361.070312 112.820312 357.472656 C 112.820312 353.871094 118.21875 353.871094 118.21875 357.472656 \"/>\n",
       "<path style=\"fill:none;stroke-width:0.75;stroke-linecap:round;stroke-linejoin:round;stroke:rgb(0%,0%,0%);stroke-opacity:1;stroke-miterlimit:10;\" d=\"M 80.535156 221.394531 C 80.535156 224.996094 75.132812 224.996094 75.132812 221.394531 C 75.132812 217.796875 80.535156 217.796875 80.535156 221.394531 \"/>\n",
       "<path style=\"fill:none;stroke-width:0.75;stroke-linecap:round;stroke-linejoin:round;stroke:rgb(0%,0%,0%);stroke-opacity:1;stroke-miterlimit:10;\" d=\"M 90.035156 210.507812 C 90.035156 214.109375 84.632812 214.109375 84.632812 210.507812 C 84.632812 206.910156 90.035156 206.910156 90.035156 210.507812 \"/>\n",
       "<path style=\"fill:none;stroke-width:0.75;stroke-linecap:round;stroke-linejoin:round;stroke:rgb(0%,0%,0%);stroke-opacity:1;stroke-miterlimit:10;\" d=\"M 128.476562 385.773438 C 128.476562 389.375 123.078125 389.375 123.078125 385.773438 C 123.078125 382.175781 128.476562 382.175781 128.476562 385.773438 \"/>\n",
       "<path style=\"fill:none;stroke-width:0.75;stroke-linecap:round;stroke-linejoin:round;stroke:rgb(0%,0%,0%);stroke-opacity:1;stroke-miterlimit:10;\" d=\"M 83.210938 218.128906 C 83.210938 221.730469 77.808594 221.730469 77.808594 218.128906 C 77.808594 214.527344 83.210938 214.527344 83.210938 218.128906 \"/>\n",
       "<path style=\"fill:none;stroke-width:0.75;stroke-linecap:round;stroke-linejoin:round;stroke:rgb(0%,0%,0%);stroke-opacity:1;stroke-miterlimit:10;\" d=\"M 159.25 404.824219 C 159.25 408.425781 153.851562 408.425781 153.851562 404.824219 C 153.851562 401.226562 159.25 401.226562 159.25 404.824219 \"/>\n",
       "<path style=\"fill:none;stroke-width:0.75;stroke-linecap:round;stroke-linejoin:round;stroke:rgb(0%,0%,0%);stroke-opacity:1;stroke-miterlimit:10;\" d=\"M 184.273438 402.105469 C 184.273438 405.703125 178.871094 405.703125 178.871094 402.105469 C 178.871094 398.503906 184.273438 398.503906 184.273438 402.105469 \"/>\n",
       "<path style=\"fill:none;stroke-width:0.75;stroke-linecap:round;stroke-linejoin:round;stroke:rgb(0%,0%,0%);stroke-opacity:1;stroke-miterlimit:10;\" d=\"M 77.101562 150.636719 C 77.101562 154.234375 71.699219 154.234375 71.699219 150.636719 C 71.699219 147.035156 77.101562 147.035156 77.101562 150.636719 \"/>\n",
       "<path style=\"fill:none;stroke-width:0.75;stroke-linecap:round;stroke-linejoin:round;stroke:rgb(0%,0%,0%);stroke-opacity:1;stroke-miterlimit:10;\" d=\"M 262.453125 383.054688 C 262.453125 386.652344 257.054688 386.652344 257.054688 383.054688 C 257.054688 379.453125 262.453125 379.453125 262.453125 383.054688 \"/>\n",
       "<path style=\"fill:none;stroke-width:0.75;stroke-linecap:round;stroke-linejoin:round;stroke:rgb(0%,0%,0%);stroke-opacity:1;stroke-miterlimit:10;\" d=\"M 117.597656 346.585938 C 117.597656 350.183594 112.195312 350.183594 112.195312 346.585938 C 112.195312 342.984375 117.597656 342.984375 117.597656 346.585938 \"/>\n",
       "<path style=\"fill:none;stroke-width:0.75;stroke-linecap:round;stroke-linejoin:round;stroke:rgb(0%,0%,0%);stroke-opacity:1;stroke-miterlimit:10;\" d=\"M 113.539062 342.773438 C 113.539062 346.375 108.136719 346.375 108.136719 342.773438 C 108.136719 339.175781 113.539062 339.175781 113.539062 342.773438 \"/>\n",
       "<path style=\"fill:none;stroke-width:0.75;stroke-linecap:round;stroke-linejoin:round;stroke:rgb(0%,0%,0%);stroke-opacity:1;stroke-miterlimit:10;\" d=\"M 102.878906 330.253906 C 102.878906 333.855469 97.476562 333.855469 97.476562 330.253906 C 97.476562 326.65625 102.878906 326.65625 102.878906 330.253906 \"/>\n",
       "<path style=\"fill:none;stroke-width:0.75;stroke-linecap:round;stroke-linejoin:round;stroke:rgb(0%,0%,0%);stroke-opacity:1;stroke-miterlimit:10;\" d=\"M 105.199219 363.457031 C 105.199219 367.058594 99.796875 367.058594 99.796875 363.457031 C 99.796875 359.859375 105.199219 359.859375 105.199219 363.457031 \"/>\n",
       "<path style=\"fill:none;stroke-width:0.75;stroke-linecap:round;stroke-linejoin:round;stroke:rgb(0%,0%,0%);stroke-opacity:1;stroke-miterlimit:10;\" d=\"M 189.847656 211.054688 C 189.847656 214.652344 184.445312 214.652344 184.445312 211.054688 C 184.445312 207.453125 189.847656 207.453125 189.847656 211.054688 \"/>\n",
       "<path style=\"fill:none;stroke-width:0.75;stroke-linecap:round;stroke-linejoin:round;stroke:rgb(0%,0%,0%);stroke-opacity:1;stroke-miterlimit:10;\" d=\"M 78.171875 219.761719 C 78.171875 223.363281 72.769531 223.363281 72.769531 219.761719 C 72.769531 216.160156 78.171875 216.160156 78.171875 219.761719 \"/>\n",
       "<path style=\"fill:none;stroke-width:0.75;stroke-linecap:round;stroke-linejoin:round;stroke:rgb(0%,0%,0%);stroke-opacity:1;stroke-miterlimit:10;\" d=\"M 168.574219 397.203125 C 168.574219 400.804688 163.171875 400.804688 163.171875 397.203125 C 163.171875 393.605469 168.574219 393.605469 168.574219 397.203125 \"/>\n",
       "<path style=\"fill:none;stroke-width:0.75;stroke-linecap:round;stroke-linejoin:round;stroke:rgb(0%,0%,0%);stroke-opacity:1;stroke-miterlimit:10;\" d=\"M 80.535156 225.75 C 80.535156 229.347656 75.132812 229.347656 75.132812 225.75 C 75.132812 222.148438 80.535156 222.148438 80.535156 225.75 \"/>\n",
       "<path style=\"fill:none;stroke-width:0.75;stroke-linecap:round;stroke-linejoin:round;stroke:rgb(0%,0%,0%);stroke-opacity:1;stroke-miterlimit:10;\" d=\"M 96.144531 341.6875 C 96.144531 345.285156 90.742188 345.285156 90.742188 341.6875 C 90.742188 338.085938 96.144531 338.085938 96.144531 341.6875 \"/>\n",
       "<path style=\"fill:none;stroke-width:0.75;stroke-linecap:round;stroke-linejoin:round;stroke:rgb(0%,0%,0%);stroke-opacity:1;stroke-miterlimit:10;\" d=\"M 243.589844 384.6875 C 243.589844 388.285156 238.1875 388.285156 238.1875 384.6875 C 238.1875 381.085938 243.589844 381.085938 243.589844 384.6875 \"/>\n",
       "<path style=\"fill:none;stroke-width:0.75;stroke-linecap:round;stroke-linejoin:round;stroke:rgb(0%,0%,0%);stroke-opacity:1;stroke-miterlimit:10;\" d=\"M 235.738281 377.609375 C 235.738281 381.210938 230.339844 381.210938 230.339844 377.609375 C 230.339844 374.011719 235.738281 374.011719 235.738281 377.609375 \"/>\n",
       "<path style=\"fill:none;stroke-width:0.75;stroke-linecap:round;stroke-linejoin:round;stroke:rgb(0%,0%,0%);stroke-opacity:1;stroke-miterlimit:10;\" d=\"M 136.863281 257.863281 C 136.863281 261.464844 131.464844 261.464844 131.464844 257.863281 C 131.464844 254.261719 136.863281 254.261719 136.863281 257.863281 \"/>\n",
       "<path style=\"fill:none;stroke-width:0.75;stroke-linecap:round;stroke-linejoin:round;stroke:rgb(0%,0%,0%);stroke-opacity:1;stroke-miterlimit:10;\" d=\"M 83.386719 170.230469 C 83.386719 173.832031 77.988281 173.832031 77.988281 170.230469 C 77.988281 166.628906 83.386719 166.628906 83.386719 170.230469 \"/>\n",
       "<path style=\"fill:none;stroke-width:0.75;stroke-linecap:round;stroke-linejoin:round;stroke:rgb(0%,0%,0%);stroke-opacity:1;stroke-miterlimit:10;\" d=\"M 99.445312 386.320312 C 99.445312 389.917969 94.042969 389.917969 94.042969 386.320312 C 94.042969 382.71875 99.445312 382.71875 99.445312 386.320312 \"/>\n",
       "<path style=\"fill:none;stroke-width:0.75;stroke-linecap:round;stroke-linejoin:round;stroke:rgb(0%,0%,0%);stroke-opacity:1;stroke-miterlimit:10;\" d=\"M 255.007812 409.179688 C 255.007812 412.78125 249.605469 412.78125 249.605469 409.179688 C 249.605469 405.578125 255.007812 405.578125 255.007812 409.179688 \"/>\n",
       "<path style=\"fill:none;stroke-width:0.75;stroke-linecap:round;stroke-linejoin:round;stroke:rgb(0%,0%,0%);stroke-opacity:1;stroke-miterlimit:10;\" d=\"M 83.65625 268.203125 C 83.65625 271.804688 78.257812 271.804688 78.257812 268.203125 C 78.257812 264.605469 83.65625 264.605469 83.65625 268.203125 \"/>\n",
       "<path style=\"fill:none;stroke-width:0.75;stroke-linecap:round;stroke-linejoin:round;stroke:rgb(0%,0%,0%);stroke-opacity:1;stroke-miterlimit:10;\" d=\"M 187.527344 403.191406 C 187.527344 406.792969 182.128906 406.792969 182.128906 403.191406 C 182.128906 399.59375 187.527344 399.59375 187.527344 403.191406 \"/>\n",
       "<path style=\"fill:none;stroke-width:0.75;stroke-linecap:round;stroke-linejoin:round;stroke:rgb(0%,0%,0%);stroke-opacity:1;stroke-miterlimit:10;\" d=\"M 121.742188 364.546875 C 121.742188 368.148438 116.34375 368.148438 116.34375 364.546875 C 116.34375 360.945312 121.742188 360.945312 121.742188 364.546875 \"/>\n",
       "<path style=\"fill:none;stroke-width:0.75;stroke-linecap:round;stroke-linejoin:round;stroke:rgb(0%,0%,0%);stroke-opacity:1;stroke-miterlimit:10;\" d=\"M 96.8125 272.558594 C 96.8125 276.160156 91.414062 276.160156 91.414062 272.558594 C 91.414062 268.960938 96.8125 268.960938 96.8125 272.558594 \"/>\n",
       "<path style=\"fill:none;stroke-width:0.75;stroke-linecap:round;stroke-linejoin:round;stroke:rgb(0%,0%,0%);stroke-opacity:1;stroke-miterlimit:10;\" d=\"M 80.132812 208.332031 C 80.132812 211.933594 74.734375 211.933594 74.734375 208.332031 C 74.734375 204.730469 80.132812 204.730469 80.132812 208.332031 \"/>\n",
       "<path style=\"fill:none;stroke-width:0.75;stroke-linecap:round;stroke-linejoin:round;stroke:rgb(0%,0%,0%);stroke-opacity:1;stroke-miterlimit:10;\" d=\"M 81.113281 210.507812 C 81.113281 214.109375 75.714844 214.109375 75.714844 210.507812 C 75.714844 206.910156 81.113281 206.910156 81.113281 210.507812 \"/>\n",
       "<path style=\"fill:none;stroke-width:0.75;stroke-linecap:round;stroke-linejoin:round;stroke:rgb(0%,0%,0%);stroke-opacity:1;stroke-miterlimit:10;\" d=\"M 80.847656 306.851562 C 80.847656 310.449219 75.445312 310.449219 75.445312 306.851562 C 75.445312 303.25 80.847656 303.25 80.847656 306.851562 \"/>\n",
       "<path style=\"fill:none;stroke-width:0.75;stroke-linecap:round;stroke-linejoin:round;stroke:rgb(0%,0%,0%);stroke-opacity:1;stroke-miterlimit:10;\" d=\"M 92.621094 316.648438 C 92.621094 320.25 87.21875 320.25 87.21875 316.648438 C 87.21875 313.046875 92.621094 313.046875 92.621094 316.648438 \"/>\n",
       "<path style=\"fill:none;stroke-width:0.75;stroke-linecap:round;stroke-linejoin:round;stroke:rgb(0%,0%,0%);stroke-opacity:1;stroke-miterlimit:10;\" d=\"M 166.164062 410.269531 C 166.164062 413.867188 160.765625 413.867188 160.765625 410.269531 C 160.765625 406.667969 166.164062 406.667969 166.164062 410.269531 \"/>\n",
       "<path style=\"fill:none;stroke-width:0.75;stroke-linecap:round;stroke-linejoin:round;stroke:rgb(0%,0%,0%);stroke-opacity:1;stroke-miterlimit:10;\" d=\"M 213.929688 370.535156 C 213.929688 374.132812 208.53125 374.132812 208.53125 370.535156 C 208.53125 366.933594 213.929688 366.933594 213.929688 370.535156 \"/>\n",
       "<path style=\"fill:none;stroke-width:0.75;stroke-linecap:round;stroke-linejoin:round;stroke:rgb(0%,0%,0%);stroke-opacity:1;stroke-miterlimit:10;\" d=\"M 91.59375 347.671875 C 91.59375 351.273438 86.195312 351.273438 86.195312 347.671875 C 86.195312 344.074219 91.59375 344.074219 91.59375 347.671875 \"/>\n",
       "<path style=\"fill:none;stroke-width:0.75;stroke-linecap:round;stroke-linejoin:round;stroke:rgb(0%,0%,0%);stroke-opacity:1;stroke-miterlimit:10;\" d=\"M 95.652344 354.75 C 95.652344 358.347656 90.253906 358.347656 90.253906 354.75 C 90.253906 351.148438 95.652344 351.148438 95.652344 354.75 \"/>\n",
       "<path style=\"fill:none;stroke-width:0.75;stroke-linecap:round;stroke-linejoin:round;stroke:rgb(0%,0%,0%);stroke-opacity:1;stroke-miterlimit:10;\" d=\"M 92.308594 259.496094 C 92.308594 263.097656 86.910156 263.097656 86.910156 259.496094 C 86.910156 255.894531 92.308594 255.894531 92.308594 259.496094 \"/>\n",
       "<path style=\"fill:none;stroke-width:0.75;stroke-linecap:round;stroke-linejoin:round;stroke:rgb(0%,0%,0%);stroke-opacity:1;stroke-miterlimit:10;\" d=\"M 228.023438 376.523438 C 228.023438 380.121094 222.625 380.121094 222.625 376.523438 C 222.625 372.921875 228.023438 372.921875 228.023438 376.523438 \"/>\n",
       "<path style=\"fill:none;stroke-width:0.75;stroke-linecap:round;stroke-linejoin:round;stroke:rgb(0%,0%,0%);stroke-opacity:1;stroke-miterlimit:10;\" d=\"M 196.492188 326.445312 C 196.492188 330.046875 191.09375 330.046875 191.09375 326.445312 C 191.09375 322.84375 196.492188 322.84375 196.492188 326.445312 \"/>\n",
       "<path style=\"fill:none;stroke-width:0.75;stroke-linecap:round;stroke-linejoin:round;stroke:rgb(0%,0%,0%);stroke-opacity:1;stroke-miterlimit:10;\" d=\"M 220.085938 406.457031 C 220.085938 410.058594 214.683594 410.058594 214.683594 406.457031 C 214.683594 402.859375 220.085938 402.859375 220.085938 406.457031 \"/>\n",
       "<path style=\"fill:none;stroke-width:0.75;stroke-linecap:round;stroke-linejoin:round;stroke:rgb(0%,0%,0%);stroke-opacity:1;stroke-miterlimit:10;\" d=\"M 233.152344 409.722656 C 233.152344 413.324219 227.753906 413.324219 227.753906 409.722656 C 227.753906 406.125 233.152344 406.125 233.152344 409.722656 \"/>\n",
       "<path style=\"fill:none;stroke-width:0.75;stroke-linecap:round;stroke-linejoin:round;stroke:rgb(0%,0%,0%);stroke-opacity:1;stroke-miterlimit:10;\" d=\"M 102.03125 300.863281 C 102.03125 304.464844 96.632812 304.464844 96.632812 300.863281 C 96.632812 297.261719 102.03125 297.261719 102.03125 300.863281 \"/>\n",
       "<path style=\"fill:none;stroke-width:0.75;stroke-linecap:round;stroke-linejoin:round;stroke:rgb(0%,0%,0%);stroke-opacity:1;stroke-miterlimit:10;\" d=\"M 125.757812 348.21875 C 125.757812 351.816406 120.359375 351.816406 120.359375 348.21875 C 120.359375 344.617188 125.757812 344.617188 125.757812 348.21875 \"/>\n",
       "<path style=\"fill:none;stroke-width:0.75;stroke-linecap:round;stroke-linejoin:round;stroke:rgb(0%,0%,0%);stroke-opacity:1;stroke-miterlimit:10;\" d=\"M 83.210938 238.269531 C 83.210938 241.867188 77.808594 241.867188 77.808594 238.269531 C 77.808594 234.667969 83.210938 234.667969 83.210938 238.269531 \"/>\n",
       "<path style=\"fill:none;stroke-width:0.75;stroke-linecap:round;stroke-linejoin:round;stroke:rgb(0%,0%,0%);stroke-opacity:1;stroke-miterlimit:10;\" d=\"M 90.300781 321.546875 C 90.300781 325.148438 84.902344 325.148438 84.902344 321.546875 C 84.902344 317.945312 90.300781 317.945312 90.300781 321.546875 \"/>\n",
       "<path style=\"fill:none;stroke-width:0.75;stroke-linecap:round;stroke-linejoin:round;stroke:rgb(0%,0%,0%);stroke-opacity:1;stroke-miterlimit:10;\" d=\"M 85.304688 320.457031 C 85.304688 324.058594 79.90625 324.058594 79.90625 320.457031 C 79.90625 316.859375 85.304688 316.859375 85.304688 320.457031 \"/>\n",
       "<path style=\"fill:none;stroke-width:0.75;stroke-linecap:round;stroke-linejoin:round;stroke:rgb(0%,0%,0%);stroke-opacity:1;stroke-miterlimit:10;\" d=\"M 87.089844 311.203125 C 87.089844 314.804688 81.691406 314.804688 81.691406 311.203125 C 81.691406 307.605469 87.089844 307.605469 87.089844 311.203125 \"/>\n",
       "<path style=\"fill:none;stroke-width:0.75;stroke-linecap:round;stroke-linejoin:round;stroke:rgb(0%,0%,0%);stroke-opacity:1;stroke-miterlimit:10;\" d=\"M 154.523438 399.925781 C 154.523438 403.527344 149.125 403.527344 149.125 399.925781 C 149.125 396.328125 154.523438 396.328125 154.523438 399.925781 \"/>\n",
       "<path style=\"fill:none;stroke-width:0.75;stroke-linecap:round;stroke-linejoin:round;stroke:rgb(0%,0%,0%);stroke-opacity:1;stroke-miterlimit:10;\" d=\"M 140.117188 403.738281 C 140.117188 407.335938 134.71875 407.335938 134.71875 403.738281 C 134.71875 400.136719 140.117188 400.136719 140.117188 403.738281 \"/>\n",
       "<path style=\"fill:none;stroke-width:0.75;stroke-linecap:round;stroke-linejoin:round;stroke:rgb(0%,0%,0%);stroke-opacity:1;stroke-miterlimit:10;\" d=\"M 84.726562 313.925781 C 84.726562 317.527344 79.328125 317.527344 79.328125 313.925781 C 79.328125 310.328125 84.726562 310.328125 84.726562 313.925781 \"/>\n",
       "<path style=\"fill:none;stroke-width:0.75;stroke-linecap:round;stroke-linejoin:round;stroke:rgb(0%,0%,0%);stroke-opacity:1;stroke-miterlimit:10;\" d=\"M 77.992188 215.953125 C 77.992188 219.550781 72.59375 219.550781 72.59375 215.953125 C 72.59375 212.351562 77.992188 212.351562 77.992188 215.953125 \"/>\n",
       "<path style=\"fill:none;stroke-width:0.75;stroke-linecap:round;stroke-linejoin:round;stroke:rgb(0%,0%,0%);stroke-opacity:1;stroke-miterlimit:10;\" d=\"M 163.175781 404.28125 C 163.175781 407.882812 157.777344 407.882812 157.777344 404.28125 C 157.777344 400.679688 163.175781 400.679688 163.175781 404.28125 \"/>\n",
       "<path style=\"fill:none;stroke-width:0.75;stroke-linecap:round;stroke-linejoin:round;stroke:rgb(0%,0%,0%);stroke-opacity:1;stroke-miterlimit:10;\" d=\"M 362.179688 395.570312 C 362.179688 399.171875 356.777344 399.171875 356.777344 395.570312 C 356.777344 391.972656 362.179688 391.972656 362.179688 395.570312 \"/>\n",
       "<path style=\"fill:none;stroke-width:0.75;stroke-linecap:round;stroke-linejoin:round;stroke:rgb(0%,0%,0%);stroke-opacity:1;stroke-miterlimit:10;\" d=\"M 79.820312 235.546875 C 79.820312 239.148438 74.421875 239.148438 74.421875 235.546875 C 74.421875 231.945312 79.820312 231.945312 79.820312 235.546875 \"/>\n",
       "<path style=\"fill:none;stroke-width:0.75;stroke-linecap:round;stroke-linejoin:round;stroke:rgb(0%,0%,0%);stroke-opacity:1;stroke-miterlimit:10;\" d=\"M 79.464844 183.292969 C 79.464844 186.894531 74.0625 186.894531 74.0625 183.292969 C 74.0625 179.695312 79.464844 179.695312 79.464844 183.292969 \"/>\n",
       "<path style=\"fill:none;stroke-width:0.75;stroke-linecap:round;stroke-linejoin:round;stroke:rgb(0%,0%,0%);stroke-opacity:1;stroke-miterlimit:10;\" d=\"M 145.382812 377.066406 C 145.382812 380.664062 139.980469 380.664062 139.980469 377.066406 C 139.980469 373.464844 145.382812 373.464844 145.382812 377.066406 \"/>\n",
       "<path style=\"fill:none;stroke-width:0.75;stroke-linecap:round;stroke-linejoin:round;stroke:rgb(0%,0%,0%);stroke-opacity:1;stroke-miterlimit:10;\" d=\"M 108.722656 359.648438 C 108.722656 363.25 103.320312 363.25 103.320312 359.648438 C 103.320312 356.046875 108.722656 356.046875 108.722656 359.648438 \"/>\n",
       "<path style=\"fill:none;stroke-width:0.75;stroke-linecap:round;stroke-linejoin:round;stroke:rgb(0%,0%,0%);stroke-opacity:1;stroke-miterlimit:10;\" d=\"M 80.222656 112.535156 C 80.222656 116.132812 74.820312 116.132812 74.820312 112.535156 C 74.820312 108.933594 80.222656 108.933594 80.222656 112.535156 \"/>\n",
       "<path style=\"fill:none;stroke-width:0.75;stroke-linecap:round;stroke-linejoin:round;stroke:rgb(0%,0%,0%);stroke-opacity:1;stroke-miterlimit:10;\" d=\"M 86.289062 225.203125 C 86.289062 228.804688 80.886719 228.804688 80.886719 225.203125 C 80.886719 221.605469 86.289062 221.605469 86.289062 225.203125 \"/>\n",
       "<path style=\"fill:none;stroke-width:0.75;stroke-linecap:round;stroke-linejoin:round;stroke:rgb(0%,0%,0%);stroke-opacity:1;stroke-miterlimit:10;\" d=\"M 139.496094 403.191406 C 139.496094 406.792969 134.09375 406.792969 134.09375 403.191406 C 134.09375 399.59375 139.496094 399.59375 139.496094 403.191406 \"/>\n",
       "<path style=\"fill:none;stroke-width:0.75;stroke-linecap:round;stroke-linejoin:round;stroke:rgb(0%,0%,0%);stroke-opacity:1;stroke-miterlimit:10;\" d=\"M 144.222656 362.914062 C 144.222656 366.515625 138.820312 366.515625 138.820312 362.914062 C 138.820312 359.3125 144.222656 359.3125 144.222656 362.914062 \"/>\n",
       "<path style=\"fill:none;stroke-width:0.75;stroke-linecap:round;stroke-linejoin:round;stroke:rgb(0%,0%,0%);stroke-opacity:1;stroke-miterlimit:10;\" d=\"M 91.550781 300.320312 C 91.550781 303.917969 86.148438 303.917969 86.148438 300.320312 C 86.148438 296.71875 91.550781 296.71875 91.550781 300.320312 \"/>\n",
       "<path style=\"fill:none;stroke-width:0.75;stroke-linecap:round;stroke-linejoin:round;stroke:rgb(0%,0%,0%);stroke-opacity:1;stroke-miterlimit:10;\" d=\"M 94.714844 352.027344 C 94.714844 355.628906 89.316406 355.628906 89.316406 352.027344 C 89.316406 348.429688 94.714844 348.429688 94.714844 352.027344 \"/>\n",
       "<path style=\"fill:none;stroke-width:0.75;stroke-linecap:round;stroke-linejoin:round;stroke:rgb(0%,0%,0%);stroke-opacity:1;stroke-miterlimit:10;\" d=\"M 136.683594 393.394531 C 136.683594 396.996094 131.285156 396.996094 131.285156 393.394531 C 131.285156 389.796875 136.683594 389.796875 136.683594 393.394531 \"/>\n",
       "<path style=\"fill:none;stroke-width:0.75;stroke-linecap:round;stroke-linejoin:round;stroke:rgb(0%,0%,0%);stroke-opacity:1;stroke-miterlimit:10;\" d=\"M 97.347656 341.140625 C 97.347656 344.742188 91.949219 344.742188 91.949219 341.140625 C 91.949219 337.542969 97.347656 337.542969 97.347656 341.140625 \"/>\n",
       "<path style=\"fill:none;stroke-width:0.75;stroke-linecap:round;stroke-linejoin:round;stroke:rgb(0%,0%,0%);stroke-opacity:1;stroke-miterlimit:10;\" d=\"M 79.910156 194.722656 C 79.910156 198.324219 74.507812 198.324219 74.507812 194.722656 C 74.507812 191.125 79.910156 191.125 79.910156 194.722656 \"/>\n",
       "<path style=\"fill:none;stroke-width:0.75;stroke-linecap:round;stroke-linejoin:round;stroke:rgb(0%,0%,0%);stroke-opacity:1;stroke-miterlimit:10;\" d=\"M 104.839844 312.839844 C 104.839844 316.4375 99.441406 316.4375 99.441406 312.839844 C 99.441406 309.238281 104.839844 309.238281 104.839844 312.839844 \"/>\n",
       "<path style=\"fill:none;stroke-width:0.75;stroke-linecap:round;stroke-linejoin:round;stroke:rgb(0%,0%,0%);stroke-opacity:1;stroke-miterlimit:10;\" d=\"M 81.203125 349.304688 C 81.203125 352.90625 75.804688 352.90625 75.804688 349.304688 C 75.804688 345.707031 81.203125 345.707031 81.203125 349.304688 \"/>\n",
       "<path style=\"fill:none;stroke-width:0.75;stroke-linecap:round;stroke-linejoin:round;stroke:rgb(0%,0%,0%);stroke-opacity:1;stroke-miterlimit:10;\" d=\"M 267.984375 389.585938 C 267.984375 393.183594 262.585938 393.183594 262.585938 389.585938 C 262.585938 385.984375 267.984375 385.984375 267.984375 389.585938 \"/>\n",
       "<path style=\"fill:none;stroke-width:0.75;stroke-linecap:round;stroke-linejoin:round;stroke:rgb(0%,0%,0%);stroke-opacity:1;stroke-miterlimit:10;\" d=\"M 92.21875 344.40625 C 92.21875 348.007812 86.820312 348.007812 86.820312 344.40625 C 86.820312 340.808594 92.21875 340.808594 92.21875 344.40625 \"/>\n",
       "<path style=\"fill:none;stroke-width:0.75;stroke-linecap:round;stroke-linejoin:round;stroke:rgb(0%,0%,0%);stroke-opacity:1;stroke-miterlimit:10;\" d=\"M 78.792969 72.800781 C 78.792969 76.398438 73.394531 76.398438 73.394531 72.800781 C 73.394531 69.199219 78.792969 69.199219 78.792969 72.800781 \"/>\n",
       "<path style=\"fill:none;stroke-width:0.75;stroke-linecap:round;stroke-linejoin:round;stroke:rgb(0%,0%,0%);stroke-opacity:1;stroke-miterlimit:10;\" d=\"M 85.796875 157.710938 C 85.796875 161.3125 80.398438 161.3125 80.398438 157.710938 C 80.398438 154.113281 85.796875 154.113281 85.796875 157.710938 \"/>\n",
       "<path style=\"fill:none;stroke-width:0.75;stroke-linecap:round;stroke-linejoin:round;stroke:rgb(0%,0%,0%);stroke-opacity:1;stroke-miterlimit:10;\" d=\"M 349.691406 380.332031 C 349.691406 383.933594 344.289062 383.933594 344.289062 380.332031 C 344.289062 376.730469 349.691406 376.730469 349.691406 380.332031 \"/>\n",
       "<path style=\"fill:none;stroke-width:0.75;stroke-linecap:round;stroke-linejoin:round;stroke:rgb(0%,0%,0%);stroke-opacity:1;stroke-miterlimit:10;\" d=\"M 88.382812 303.039062 C 88.382812 306.640625 82.984375 306.640625 82.984375 303.039062 C 82.984375 299.441406 88.382812 299.441406 88.382812 303.039062 \"/>\n",
       "<path style=\"fill:none;stroke-width:0.75;stroke-linecap:round;stroke-linejoin:round;stroke:rgb(0%,0%,0%);stroke-opacity:1;stroke-miterlimit:10;\" d=\"M 140.296875 348.21875 C 140.296875 351.816406 134.898438 351.816406 134.898438 348.21875 C 134.898438 344.617188 140.296875 344.617188 140.296875 348.21875 \"/>\n",
       "<path style=\"fill:none;stroke-width:0.75;stroke-linecap:round;stroke-linejoin:round;stroke:rgb(0%,0%,0%);stroke-opacity:1;stroke-miterlimit:10;\" d=\"M 87.046875 273.105469 C 87.046875 276.703125 81.644531 276.703125 81.644531 273.105469 C 81.644531 269.503906 87.046875 269.503906 87.046875 273.105469 \"/>\n",
       "<path style=\"fill:none;stroke-width:0.75;stroke-linecap:round;stroke-linejoin:round;stroke:rgb(0%,0%,0%);stroke-opacity:1;stroke-miterlimit:10;\" d=\"M 99.621094 325.902344 C 99.621094 329.5 94.222656 329.5 94.222656 325.902344 C 94.222656 322.300781 99.621094 322.300781 99.621094 325.902344 \"/>\n",
       "<path style=\"fill:none;stroke-width:0.75;stroke-linecap:round;stroke-linejoin:round;stroke:rgb(0%,0%,0%);stroke-opacity:1;stroke-miterlimit:10;\" d=\"M 117.683594 350.394531 C 117.683594 353.996094 112.285156 353.996094 112.285156 350.394531 C 112.285156 346.796875 117.683594 346.796875 117.683594 350.394531 \"/>\n",
       "<path style=\"fill:none;stroke-width:0.75;stroke-linecap:round;stroke-linejoin:round;stroke:rgb(0%,0%,0%);stroke-opacity:1;stroke-miterlimit:10;\" d=\"M 94.046875 316.105469 C 94.046875 319.703125 88.648438 319.703125 88.648438 316.105469 C 88.648438 312.503906 94.046875 312.503906 94.046875 316.105469 \"/>\n",
       "<path style=\"fill:none;stroke-width:0.75;stroke-linecap:round;stroke-linejoin:round;stroke:rgb(0%,0%,0%);stroke-opacity:1;stroke-miterlimit:10;\" d=\"M 166.699219 409.722656 C 166.699219 413.324219 161.300781 413.324219 161.300781 409.722656 C 161.300781 406.125 166.699219 406.125 166.699219 409.722656 \"/>\n",
       "<path style=\"fill:none;stroke-width:0.75;stroke-linecap:round;stroke-linejoin:round;stroke:rgb(0%,0%,0%);stroke-opacity:1;stroke-miterlimit:10;\" d=\"M 184.585938 412.988281 C 184.585938 416.589844 179.183594 416.589844 179.183594 412.988281 C 179.183594 409.390625 184.585938 409.390625 184.585938 412.988281 \"/>\n",
       "<path style=\"fill:none;stroke-width:0.75;stroke-linecap:round;stroke-linejoin:round;stroke:rgb(0%,0%,0%);stroke-opacity:1;stroke-miterlimit:10;\" d=\"M 461.101562 373.253906 C 461.101562 376.855469 455.699219 376.855469 455.699219 373.253906 C 455.699219 369.65625 461.101562 369.65625 461.101562 373.253906 \"/>\n",
       "<path style=\"fill:none;stroke-width:0.75;stroke-linecap:round;stroke-linejoin:round;stroke:rgb(0%,0%,0%);stroke-opacity:1;stroke-miterlimit:10;\" d=\"M 211.03125 415.167969 C 211.03125 418.765625 205.632812 418.765625 205.632812 415.167969 C 205.632812 411.566406 211.03125 411.566406 211.03125 415.167969 \"/>\n",
       "<path style=\"fill:none;stroke-width:0.75;stroke-linecap:round;stroke-linejoin:round;stroke:rgb(0%,0%,0%);stroke-opacity:1;stroke-miterlimit:10;\" d=\"M 91.816406 405.371094 C 91.816406 408.96875 86.417969 408.96875 86.417969 405.371094 C 86.417969 401.769531 91.816406 401.769531 91.816406 405.371094 \"/>\n",
       "<path style=\"fill:none;stroke-width:0.75;stroke-linecap:round;stroke-linejoin:round;stroke:rgb(0%,0%,0%);stroke-opacity:1;stroke-miterlimit:10;\" d=\"M 143.019531 409.722656 C 143.019531 413.324219 137.617188 413.324219 137.617188 409.722656 C 137.617188 406.125 143.019531 406.125 143.019531 409.722656 \"/>\n",
       "<path style=\"fill:none;stroke-width:0.75;stroke-linecap:round;stroke-linejoin:round;stroke:rgb(0%,0%,0%);stroke-opacity:1;stroke-miterlimit:10;\" d=\"M 167.28125 403.191406 C 167.28125 406.792969 161.878906 406.792969 161.878906 403.191406 C 161.878906 399.59375 167.28125 399.59375 167.28125 403.191406 \"/>\n",
       "<path style=\"fill:none;stroke-width:0.75;stroke-linecap:round;stroke-linejoin:round;stroke:rgb(0%,0%,0%);stroke-opacity:1;stroke-miterlimit:10;\" d=\"M 81.246094 227.925781 C 81.246094 231.527344 75.847656 231.527344 75.847656 227.925781 C 75.847656 224.328125 81.246094 224.328125 81.246094 227.925781 \"/>\n",
       "<path style=\"fill:none;stroke-width:0.75;stroke-linecap:round;stroke-linejoin:round;stroke:rgb(0%,0%,0%);stroke-opacity:1;stroke-miterlimit:10;\" d=\"M 125.625 378.699219 C 125.625 382.296875 120.222656 382.296875 120.222656 378.699219 C 120.222656 375.097656 125.625 375.097656 125.625 378.699219 \"/>\n",
       "<path style=\"fill:none;stroke-width:0.75;stroke-linecap:round;stroke-linejoin:round;stroke:rgb(0%,0%,0%);stroke-opacity:1;stroke-miterlimit:10;\" d=\"M 122.144531 373.800781 C 122.144531 377.398438 116.746094 377.398438 116.746094 373.800781 C 116.746094 370.199219 122.144531 370.199219 122.144531 373.800781 \"/>\n",
       "<path style=\"fill:none;stroke-width:0.75;stroke-linecap:round;stroke-linejoin:round;stroke:rgb(0%,0%,0%);stroke-opacity:1;stroke-miterlimit:10;\" d=\"M 94.628906 252.421875 C 94.628906 256.019531 89.226562 256.019531 89.226562 252.421875 C 89.226562 248.820312 94.628906 248.820312 94.628906 252.421875 \"/>\n",
       "<path style=\"fill:none;stroke-width:0.75;stroke-linecap:round;stroke-linejoin:round;stroke:rgb(0%,0%,0%);stroke-opacity:1;stroke-miterlimit:10;\" d=\"M 84.859375 255.6875 C 84.859375 259.285156 79.460938 259.285156 79.460938 255.6875 C 79.460938 252.085938 84.859375 252.085938 84.859375 255.6875 \"/>\n",
       "<path style=\"fill:none;stroke-width:0.75;stroke-linecap:round;stroke-linejoin:round;stroke:rgb(0%,0%,0%);stroke-opacity:1;stroke-miterlimit:10;\" d=\"M 185.742188 335.15625 C 185.742188 338.753906 180.34375 338.753906 180.34375 335.15625 C 180.34375 331.554688 185.742188 331.554688 185.742188 335.15625 \"/>\n",
       "<path style=\"fill:none;stroke-width:0.75;stroke-linecap:round;stroke-linejoin:round;stroke:rgb(0%,0%,0%);stroke-opacity:1;stroke-miterlimit:10;\" d=\"M 84.234375 212.140625 C 84.234375 215.742188 78.835938 215.742188 78.835938 212.140625 C 78.835938 208.542969 84.234375 208.542969 84.234375 212.140625 \"/>\n",
       "<path style=\"fill:none;stroke-width:0.75;stroke-linecap:round;stroke-linejoin:round;stroke:rgb(0%,0%,0%);stroke-opacity:1;stroke-miterlimit:10;\" d=\"M 127.050781 410.8125 C 127.050781 414.414062 121.652344 414.414062 121.652344 410.8125 C 121.652344 407.210938 127.050781 407.210938 127.050781 410.8125 \"/>\n",
       "<path style=\"fill:none;stroke-width:0.75;stroke-linecap:round;stroke-linejoin:round;stroke:rgb(0%,0%,0%);stroke-opacity:1;stroke-miterlimit:10;\" d=\"M 187.707031 364.003906 C 187.707031 367.601562 182.304688 367.601562 182.304688 364.003906 C 182.304688 360.402344 187.707031 360.402344 187.707031 364.003906 \"/>\n",
       "<path style=\"fill:none;stroke-width:0.75;stroke-linecap:round;stroke-linejoin:round;stroke:rgb(0%,0%,0%);stroke-opacity:1;stroke-miterlimit:10;\" d=\"M 79.328125 220.851562 C 79.328125 224.449219 73.929688 224.449219 73.929688 220.851562 C 73.929688 217.25 79.328125 217.25 79.328125 220.851562 \"/>\n",
       "<path style=\"fill:none;stroke-width:0.75;stroke-linecap:round;stroke-linejoin:round;stroke:rgb(0%,0%,0%);stroke-opacity:1;stroke-miterlimit:10;\" d=\"M 340.414062 416.253906 C 340.414062 419.855469 335.015625 419.855469 335.015625 416.253906 C 335.015625 412.65625 340.414062 412.65625 340.414062 416.253906 \"/>\n",
       "<path style=\"fill:none;stroke-width:0.75;stroke-linecap:round;stroke-linejoin:round;stroke:rgb(0%,0%,0%);stroke-opacity:1;stroke-miterlimit:10;\" d=\"M 174.28125 410.8125 C 174.28125 414.414062 168.882812 414.414062 168.882812 410.8125 C 168.882812 407.210938 174.28125 407.210938 174.28125 410.8125 \"/>\n",
       "<path style=\"fill:none;stroke-width:0.75;stroke-linecap:round;stroke-linejoin:round;stroke:rgb(0%,0%,0%);stroke-opacity:1;stroke-miterlimit:10;\" d=\"M 193.816406 404.28125 C 193.816406 407.882812 188.417969 407.882812 188.417969 404.28125 C 188.417969 400.679688 193.816406 400.679688 193.816406 404.28125 \"/>\n",
       "<path style=\"fill:none;stroke-width:0.75;stroke-linecap:round;stroke-linejoin:round;stroke:rgb(0%,0%,0%);stroke-opacity:1;stroke-miterlimit:10;\" d=\"M 86.066406 258.40625 C 86.066406 262.007812 80.664062 262.007812 80.664062 258.40625 C 80.664062 254.808594 86.066406 254.808594 86.066406 258.40625 \"/>\n",
       "<path style=\"fill:none;stroke-width:0.75;stroke-linecap:round;stroke-linejoin:round;stroke:rgb(0%,0%,0%);stroke-opacity:1;stroke-miterlimit:10;\" d=\"M 123.347656 352.570312 C 123.347656 356.171875 117.949219 356.171875 117.949219 352.570312 C 117.949219 348.972656 123.347656 348.972656 123.347656 352.570312 \"/>\n",
       "<path style=\"fill:none;stroke-width:0.75;stroke-linecap:round;stroke-linejoin:round;stroke:rgb(0%,0%,0%);stroke-opacity:1;stroke-miterlimit:10;\" d=\"M 215.625 405.371094 C 215.625 408.96875 210.226562 408.96875 210.226562 405.371094 C 210.226562 401.769531 215.625 401.769531 215.625 405.371094 \"/>\n",
       "<path style=\"fill:none;stroke-width:0.75;stroke-linecap:round;stroke-linejoin:round;stroke:rgb(0%,0%,0%);stroke-opacity:1;stroke-miterlimit:10;\" d=\"M 100.203125 357.472656 C 100.203125 361.070312 94.800781 361.070312 94.800781 357.472656 C 94.800781 353.871094 100.203125 353.871094 100.203125 357.472656 \"/>\n",
       "<path style=\"fill:none;stroke-width:0.75;stroke-linecap:round;stroke-linejoin:round;stroke:rgb(0%,0%,0%);stroke-opacity:1;stroke-miterlimit:10;\" d=\"M 85.039062 237.179688 C 85.039062 240.78125 79.640625 240.78125 79.640625 237.179688 C 79.640625 233.578125 85.039062 233.578125 85.039062 237.179688 \"/>\n",
       "<path style=\"fill:none;stroke-width:0.75;stroke-linecap:round;stroke-linejoin:round;stroke:rgb(0%,0%,0%);stroke-opacity:1;stroke-miterlimit:10;\" d=\"M 102.03125 295.964844 C 102.03125 299.566406 96.632812 299.566406 96.632812 295.964844 C 96.632812 292.363281 102.03125 292.363281 102.03125 295.964844 \"/>\n",
       "<path style=\"fill:none;stroke-width:0.75;stroke-linecap:round;stroke-linejoin:round;stroke:rgb(0%,0%,0%);stroke-opacity:1;stroke-miterlimit:10;\" d=\"M 263.792969 380.332031 C 263.792969 383.933594 258.394531 383.933594 258.394531 380.332031 C 258.394531 376.730469 263.792969 376.730469 263.792969 380.332031 \"/>\n",
       "<path style=\"fill:none;stroke-width:0.75;stroke-linecap:round;stroke-linejoin:round;stroke:rgb(0%,0%,0%);stroke-opacity:1;stroke-miterlimit:10;\" d=\"M 310.042969 403.191406 C 310.042969 406.792969 304.640625 406.792969 304.640625 403.191406 C 304.640625 399.59375 310.042969 399.59375 310.042969 403.191406 \"/>\n",
       "<path style=\"fill:none;stroke-width:0.75;stroke-linecap:round;stroke-linejoin:round;stroke:rgb(0%,0%,0%);stroke-opacity:1;stroke-miterlimit:10;\" d=\"M 85.839844 278.003906 C 85.839844 281.601562 80.441406 281.601562 80.441406 278.003906 C 80.441406 274.402344 85.839844 274.402344 85.839844 278.003906 \"/>\n",
       "<path style=\"fill:none;stroke-width:0.75;stroke-linecap:round;stroke-linejoin:round;stroke:rgb(0%,0%,0%);stroke-opacity:1;stroke-miterlimit:10;\" d=\"M 112.867188 407.546875 C 112.867188 411.148438 107.46875 411.148438 107.46875 407.546875 C 107.46875 403.945312 112.867188 403.945312 112.867188 407.546875 \"/>\n",
       "<path style=\"fill:none;stroke-width:0.75;stroke-linecap:round;stroke-linejoin:round;stroke:rgb(0%,0%,0%);stroke-opacity:1;stroke-miterlimit:10;\" d=\"M 125.042969 407.003906 C 125.042969 410.601562 119.644531 410.601562 119.644531 407.003906 C 119.644531 403.402344 125.042969 403.402344 125.042969 407.003906 \"/>\n",
       "<path style=\"fill:none;stroke-width:0.75;stroke-linecap:round;stroke-linejoin:round;stroke:rgb(0%,0%,0%);stroke-opacity:1;stroke-miterlimit:10;\" d=\"M 80.222656 226.839844 C 80.222656 230.4375 74.820312 230.4375 74.820312 226.839844 C 74.820312 223.238281 80.222656 223.238281 80.222656 226.839844 \"/>\n",
       "<path style=\"fill:none;stroke-width:0.75;stroke-linecap:round;stroke-linejoin:round;stroke:rgb(0%,0%,0%);stroke-opacity:1;stroke-miterlimit:10;\" d=\"M 97.882812 275.28125 C 97.882812 278.882812 92.484375 278.882812 92.484375 275.28125 C 92.484375 271.679688 97.882812 271.679688 97.882812 275.28125 \"/>\n",
       "<path style=\"fill:none;stroke-width:0.75;stroke-linecap:round;stroke-linejoin:round;stroke:rgb(0%,0%,0%);stroke-opacity:1;stroke-miterlimit:10;\" d=\"M 115.855469 374.34375 C 115.855469 377.945312 110.457031 377.945312 110.457031 374.34375 C 110.457031 370.746094 115.855469 370.746094 115.855469 374.34375 \"/>\n",
       "<path style=\"fill:none;stroke-width:0.75;stroke-linecap:round;stroke-linejoin:round;stroke:rgb(0%,0%,0%);stroke-opacity:1;stroke-miterlimit:10;\" d=\"M 151.136719 372.167969 C 151.136719 375.765625 145.734375 375.765625 145.734375 372.167969 C 145.734375 368.566406 151.136719 368.566406 151.136719 372.167969 \"/>\n",
       "<path style=\"fill:none;stroke-width:0.75;stroke-linecap:round;stroke-linejoin:round;stroke:rgb(0%,0%,0%);stroke-opacity:1;stroke-miterlimit:10;\" d=\"M 114.339844 355.839844 C 114.339844 359.4375 108.941406 359.4375 108.941406 355.839844 C 108.941406 352.238281 114.339844 352.238281 114.339844 355.839844 \"/>\n",
       "<path style=\"fill:none;stroke-width:0.75;stroke-linecap:round;stroke-linejoin:round;stroke:rgb(0%,0%,0%);stroke-opacity:1;stroke-miterlimit:10;\" d=\"M 81.425781 155.535156 C 81.425781 159.132812 76.027344 159.132812 76.027344 155.535156 C 76.027344 151.933594 81.425781 151.933594 81.425781 155.535156 \"/>\n",
       "<path style=\"fill:none;stroke-width:0.75;stroke-linecap:round;stroke-linejoin:round;stroke:rgb(0%,0%,0%);stroke-opacity:1;stroke-miterlimit:10;\" d=\"M 106.980469 406.457031 C 106.980469 410.058594 101.582031 410.058594 101.582031 406.457031 C 101.582031 402.859375 106.980469 402.859375 106.980469 406.457031 \"/>\n",
       "<path style=\"fill:none;stroke-width:0.75;stroke-linecap:round;stroke-linejoin:round;stroke:rgb(0%,0%,0%);stroke-opacity:1;stroke-miterlimit:10;\" d=\"M 289.167969 385.230469 C 289.167969 388.832031 283.769531 388.832031 283.769531 385.230469 C 283.769531 381.628906 289.167969 381.628906 289.167969 385.230469 \"/>\n",
       "<path style=\"fill:none;stroke-width:0.75;stroke-linecap:round;stroke-linejoin:round;stroke:rgb(0%,0%,0%);stroke-opacity:1;stroke-miterlimit:10;\" d=\"M 236.1875 381.964844 C 236.1875 385.566406 230.785156 385.566406 230.785156 381.964844 C 230.785156 378.363281 236.1875 378.363281 236.1875 381.964844 \"/>\n",
       "<path style=\"fill:none;stroke-width:0.75;stroke-linecap:round;stroke-linejoin:round;stroke:rgb(0%,0%,0%);stroke-opacity:1;stroke-miterlimit:10;\" d=\"M 82.273438 193.636719 C 82.273438 197.234375 76.875 197.234375 76.875 193.636719 C 76.875 190.035156 82.273438 190.035156 82.273438 193.636719 \"/>\n",
       "<path style=\"fill:none;stroke-width:0.75;stroke-linecap:round;stroke-linejoin:round;stroke:rgb(0%,0%,0%);stroke-opacity:1;stroke-miterlimit:10;\" d=\"M 293.316406 376.523438 C 293.316406 380.121094 287.917969 380.121094 287.917969 376.523438 C 287.917969 372.921875 293.316406 372.921875 293.316406 376.523438 \"/>\n",
       "<path style=\"fill:none;stroke-width:0.75;stroke-linecap:round;stroke-linejoin:round;stroke:rgb(0%,0%,0%);stroke-opacity:1;stroke-miterlimit:10;\" d=\"M 140.878906 372.710938 C 140.878906 376.3125 135.476562 376.3125 135.476562 372.710938 C 135.476562 369.113281 140.878906 369.113281 140.878906 372.710938 \"/>\n",
       "<path style=\"fill:none;stroke-width:0.75;stroke-linecap:round;stroke-linejoin:round;stroke:rgb(0%,0%,0%);stroke-opacity:1;stroke-miterlimit:10;\" d=\"M 90.835938 355.839844 C 90.835938 359.4375 85.4375 359.4375 85.4375 355.839844 C 85.4375 352.238281 90.835938 352.238281 90.835938 355.839844 \"/>\n",
       "<path style=\"fill:none;stroke-width:0.75;stroke-linecap:round;stroke-linejoin:round;stroke:rgb(0%,0%,0%);stroke-opacity:1;stroke-miterlimit:10;\" d=\"M 94.894531 297.054688 C 94.894531 300.652344 89.496094 300.652344 89.496094 297.054688 C 89.496094 293.453125 94.894531 293.453125 94.894531 297.054688 \"/>\n",
       "<path style=\"fill:none;stroke-width:0.75;stroke-linecap:round;stroke-linejoin:round;stroke:rgb(0%,0%,0%);stroke-opacity:1;stroke-miterlimit:10;\" d=\"M 131.019531 352.570312 C 131.019531 356.171875 125.621094 356.171875 125.621094 352.570312 C 125.621094 348.972656 131.019531 348.972656 131.019531 352.570312 \"/>\n",
       "<path style=\"fill:none;stroke-width:0.75;stroke-linecap:round;stroke-linejoin:round;stroke:rgb(0%,0%,0%);stroke-opacity:1;stroke-miterlimit:10;\" d=\"M 90.078125 387.953125 C 90.078125 391.550781 84.679688 391.550781 84.679688 387.953125 C 84.679688 384.351562 90.078125 384.351562 90.078125 387.953125 \"/>\n",
       "<path style=\"fill:none;stroke-width:0.75;stroke-linecap:round;stroke-linejoin:round;stroke:rgb(0%,0%,0%);stroke-opacity:1;stroke-miterlimit:10;\" d=\"M 85.261719 248.609375 C 85.261719 252.210938 79.863281 252.210938 79.863281 248.609375 C 79.863281 245.011719 85.261719 245.011719 85.261719 248.609375 \"/>\n",
       "<path style=\"fill:none;stroke-width:0.75;stroke-linecap:round;stroke-linejoin:round;stroke:rgb(0%,0%,0%);stroke-opacity:1;stroke-miterlimit:10;\" d=\"M 82.230469 171.320312 C 82.230469 174.917969 76.828125 174.917969 76.828125 171.320312 C 76.828125 167.71875 82.230469 167.71875 82.230469 171.320312 \"/>\n",
       "<path style=\"fill:none;stroke-width:0.75;stroke-linecap:round;stroke-linejoin:round;stroke:rgb(0%,0%,0%);stroke-opacity:1;stroke-miterlimit:10;\" d=\"M 72.882812 430.558594 L 429.679688 430.558594 \"/>\n",
       "<path style=\"fill:none;stroke-width:0.75;stroke-linecap:round;stroke-linejoin:round;stroke:rgb(0%,0%,0%);stroke-opacity:1;stroke-miterlimit:10;\" d=\"M 72.882812 430.558594 L 72.882812 437.761719 \"/>\n",
       "<path style=\"fill:none;stroke-width:0.75;stroke-linecap:round;stroke-linejoin:round;stroke:rgb(0%,0%,0%);stroke-opacity:1;stroke-miterlimit:10;\" d=\"M 162.082031 430.558594 L 162.082031 437.761719 \"/>\n",
       "<path style=\"fill:none;stroke-width:0.75;stroke-linecap:round;stroke-linejoin:round;stroke:rgb(0%,0%,0%);stroke-opacity:1;stroke-miterlimit:10;\" d=\"M 251.28125 430.558594 L 251.28125 437.761719 \"/>\n",
       "<path style=\"fill:none;stroke-width:0.75;stroke-linecap:round;stroke-linejoin:round;stroke:rgb(0%,0%,0%);stroke-opacity:1;stroke-miterlimit:10;\" d=\"M 340.480469 430.558594 L 340.480469 437.761719 \"/>\n",
       "<path style=\"fill:none;stroke-width:0.75;stroke-linecap:round;stroke-linejoin:round;stroke:rgb(0%,0%,0%);stroke-opacity:1;stroke-miterlimit:10;\" d=\"M 429.679688 430.558594 L 429.679688 437.761719 \"/>\n",
       "<g style=\"fill:rgb(0%,0%,0%);fill-opacity:1;\">\n",
       "  <use xlink:href=\"#glyph0-1\" x=\"70.101562\" y=\"456.480469\"/>\n",
       "</g>\n",
       "<g style=\"fill:rgb(0%,0%,0%);fill-opacity:1;\">\n",
       "  <use xlink:href=\"#glyph0-2\" x=\"148.179688\" y=\"456.480469\"/>\n",
       "  <use xlink:href=\"#glyph0-1\" x=\"153.741211\" y=\"456.480469\"/>\n",
       "  <use xlink:href=\"#glyph0-1\" x=\"159.302734\" y=\"456.480469\"/>\n",
       "  <use xlink:href=\"#glyph0-1\" x=\"164.864258\" y=\"456.480469\"/>\n",
       "  <use xlink:href=\"#glyph0-1\" x=\"170.425781\" y=\"456.480469\"/>\n",
       "</g>\n",
       "<g style=\"fill:rgb(0%,0%,0%);fill-opacity:1;\">\n",
       "  <use xlink:href=\"#glyph0-3\" x=\"237.378906\" y=\"456.480469\"/>\n",
       "  <use xlink:href=\"#glyph0-1\" x=\"242.94043\" y=\"456.480469\"/>\n",
       "  <use xlink:href=\"#glyph0-1\" x=\"248.501953\" y=\"456.480469\"/>\n",
       "  <use xlink:href=\"#glyph0-1\" x=\"254.063477\" y=\"456.480469\"/>\n",
       "  <use xlink:href=\"#glyph0-1\" x=\"259.625\" y=\"456.480469\"/>\n",
       "</g>\n",
       "<g style=\"fill:rgb(0%,0%,0%);fill-opacity:1;\">\n",
       "  <use xlink:href=\"#glyph0-4\" x=\"326.578125\" y=\"456.480469\"/>\n",
       "  <use xlink:href=\"#glyph0-1\" x=\"332.139648\" y=\"456.480469\"/>\n",
       "  <use xlink:href=\"#glyph0-1\" x=\"337.701172\" y=\"456.480469\"/>\n",
       "  <use xlink:href=\"#glyph0-1\" x=\"343.262695\" y=\"456.480469\"/>\n",
       "  <use xlink:href=\"#glyph0-1\" x=\"348.824219\" y=\"456.480469\"/>\n",
       "</g>\n",
       "<g style=\"fill:rgb(0%,0%,0%);fill-opacity:1;\">\n",
       "  <use xlink:href=\"#glyph0-5\" x=\"415.777344\" y=\"456.480469\"/>\n",
       "  <use xlink:href=\"#glyph0-1\" x=\"421.338867\" y=\"456.480469\"/>\n",
       "  <use xlink:href=\"#glyph0-1\" x=\"426.900391\" y=\"456.480469\"/>\n",
       "  <use xlink:href=\"#glyph0-1\" x=\"432.461914\" y=\"456.480469\"/>\n",
       "  <use xlink:href=\"#glyph0-1\" x=\"438.023438\" y=\"456.480469\"/>\n",
       "</g>\n",
       "<path style=\"fill:none;stroke-width:0.75;stroke-linecap:round;stroke-linejoin:round;stroke:rgb(0%,0%,0%);stroke-opacity:1;stroke-miterlimit:10;\" d=\"M 59.039062 376.523438 L 59.039062 104.371094 \"/>\n",
       "<path style=\"fill:none;stroke-width:0.75;stroke-linecap:round;stroke-linejoin:round;stroke:rgb(0%,0%,0%);stroke-opacity:1;stroke-miterlimit:10;\" d=\"M 59.039062 376.523438 L 51.839844 376.523438 \"/>\n",
       "<path style=\"fill:none;stroke-width:0.75;stroke-linecap:round;stroke-linejoin:round;stroke:rgb(0%,0%,0%);stroke-opacity:1;stroke-miterlimit:10;\" d=\"M 59.039062 322.089844 L 51.839844 322.089844 \"/>\n",
       "<path style=\"fill:none;stroke-width:0.75;stroke-linecap:round;stroke-linejoin:round;stroke:rgb(0%,0%,0%);stroke-opacity:1;stroke-miterlimit:10;\" d=\"M 59.039062 267.660156 L 51.839844 267.660156 \"/>\n",
       "<path style=\"fill:none;stroke-width:0.75;stroke-linecap:round;stroke-linejoin:round;stroke:rgb(0%,0%,0%);stroke-opacity:1;stroke-miterlimit:10;\" d=\"M 59.039062 213.230469 L 51.839844 213.230469 \"/>\n",
       "<path style=\"fill:none;stroke-width:0.75;stroke-linecap:round;stroke-linejoin:round;stroke:rgb(0%,0%,0%);stroke-opacity:1;stroke-miterlimit:10;\" d=\"M 59.039062 158.800781 L 51.839844 158.800781 \"/>\n",
       "<path style=\"fill:none;stroke-width:0.75;stroke-linecap:round;stroke-linejoin:round;stroke:rgb(0%,0%,0%);stroke-opacity:1;stroke-miterlimit:10;\" d=\"M 59.039062 104.371094 L 51.839844 104.371094 \"/>\n",
       "<g style=\"fill:rgb(0%,0%,0%);fill-opacity:1;\">\n",
       "  <use xlink:href=\"#glyph1-1\" x=\"41.761719\" y=\"379.304688\"/>\n",
       "</g>\n",
       "<g style=\"fill:rgb(0%,0%,0%);fill-opacity:1;\">\n",
       "  <use xlink:href=\"#glyph1-2\" x=\"41.761719\" y=\"324.871094\"/>\n",
       "</g>\n",
       "<g style=\"fill:rgb(0%,0%,0%);fill-opacity:1;\">\n",
       "  <use xlink:href=\"#glyph1-3\" x=\"41.761719\" y=\"270.441406\"/>\n",
       "</g>\n",
       "<g style=\"fill:rgb(0%,0%,0%);fill-opacity:1;\">\n",
       "  <use xlink:href=\"#glyph1-4\" x=\"41.761719\" y=\"216.011719\"/>\n",
       "</g>\n",
       "<g style=\"fill:rgb(0%,0%,0%);fill-opacity:1;\">\n",
       "  <use xlink:href=\"#glyph1-5\" x=\"41.761719\" y=\"161.582031\"/>\n",
       "</g>\n",
       "<g style=\"fill:rgb(0%,0%,0%);fill-opacity:1;\">\n",
       "  <use xlink:href=\"#glyph1-6\" x=\"41.761719\" y=\"107.152344\"/>\n",
       "</g>\n",
       "<path style=\"fill:none;stroke-width:0.75;stroke-linecap:round;stroke-linejoin:round;stroke:rgb(0%,0%,0%);stroke-opacity:1;stroke-miterlimit:10;\" d=\"M 59.039062 430.558594 L 473.761719 430.558594 L 473.761719 59.039062 L 59.039062 59.039062 L 59.039062 430.558594 \"/>\n",
       "<g style=\"fill:rgb(0%,0%,0%);fill-opacity:1;\">\n",
       "  <use xlink:href=\"#glyph0-6\" x=\"242.507812\" y=\"485.28125\"/>\n",
       "  <use xlink:href=\"#glyph0-7\" x=\"251.946289\" y=\"485.28125\"/>\n",
       "  <use xlink:href=\"#glyph0-8\" x=\"259.167969\" y=\"485.28125\"/>\n",
       "  <use xlink:href=\"#glyph0-9\" x=\"266.946289\" y=\"485.28125\"/>\n",
       "  <use xlink:href=\"#glyph0-10\" x=\"272.507812\" y=\"485.28125\"/>\n",
       "  <use xlink:href=\"#glyph0-11\" x=\"280.286133\" y=\"485.28125\"/>\n",
       "  <use xlink:href=\"#glyph0-12\" x=\"287.507812\" y=\"485.28125\"/>\n",
       "</g>\n",
       "<g style=\"fill:rgb(0%,0%,0%);fill-opacity:1;\">\n",
       "  <use xlink:href=\"#glyph1-7\" x=\"12.960938\" y=\"286.472656\"/>\n",
       "  <use xlink:href=\"#glyph1-8\" x=\"12.960938\" y=\"277.03418\"/>\n",
       "  <use xlink:href=\"#glyph1-9\" x=\"12.960938\" y=\"269.8125\"/>\n",
       "  <use xlink:href=\"#glyph1-10\" x=\"12.960938\" y=\"262.03418\"/>\n",
       "  <use xlink:href=\"#glyph1-11\" x=\"12.960938\" y=\"256.472656\"/>\n",
       "  <use xlink:href=\"#glyph1-12\" x=\"12.960938\" y=\"250.364258\"/>\n",
       "  <use xlink:href=\"#glyph1-13\" x=\"12.960938\" y=\"244.802734\"/>\n",
       "  <use xlink:href=\"#glyph1-14\" x=\"12.960938\" y=\"241.472656\"/>\n",
       "  <use xlink:href=\"#glyph1-15\" x=\"12.960938\" y=\"238.694336\"/>\n",
       "  <use xlink:href=\"#glyph1-16\" x=\"12.960938\" y=\"236.472656\"/>\n",
       "  <use xlink:href=\"#glyph1-15\" x=\"12.960938\" y=\"234.250977\"/>\n",
       "  <use xlink:href=\"#glyph1-14\" x=\"12.960938\" y=\"232.029297\"/>\n",
       "  <use xlink:href=\"#glyph1-17\" x=\"12.960938\" y=\"229.250977\"/>\n",
       "  <use xlink:href=\"#glyph1-18\" x=\"12.960938\" y=\"224.250977\"/>\n",
       "  <use xlink:href=\"#glyph1-19\" x=\"12.960938\" y=\"217.029297\"/>\n",
       "  <use xlink:href=\"#glyph1-14\" x=\"12.960938\" y=\"211.467773\"/>\n",
       "  <use xlink:href=\"#glyph1-12\" x=\"12.960938\" y=\"208.689453\"/>\n",
       "</g>\n",
       "</g>\n",
       "</svg>\n"
      ],
      "text/plain": [
       "plot without title"
      ]
     },
     "metadata": {
      "image/svg+xml": {
       "isolated": true
      }
     },
     "output_type": "display_data"
    }
   ],
   "source": [
    "plot(WHO$GNI, WHO$FertilityRate)"
   ]
  },
  {
   "cell_type": "code",
   "execution_count": 35,
   "metadata": {
    "collapsed": false
   },
   "outputs": [
    {
     "data": {
      "text/html": [
       "7"
      ],
      "text/latex": [
       "7"
      ],
      "text/markdown": [
       "7"
      ],
      "text/plain": [
       "[1] 7"
      ]
     },
     "execution_count": 35,
     "metadata": {},
     "output_type": "execute_result"
    }
   ],
   "source": [
    "Outliers = subset(WHO, GNI > 10000 & FertilityRate > 2.5)\n",
    "nrow(Outliers)"
   ]
  },
  {
   "cell_type": "code",
   "execution_count": 36,
   "metadata": {
    "collapsed": false
   },
   "outputs": [
    {
     "data": {
      "text/html": [
       "<table>\n",
       "<thead><tr><th></th><th scope=col>Country</th><th scope=col>GNI</th><th scope=col>FertilityRate</th></tr></thead>\n",
       "<tbody>\n",
       "\t<tr><th scope=row>23</th><td>Botswana</td><td>14550</td><td>2.71</td></tr>\n",
       "\t<tr><th scope=row>56</th><td>Equatorial Guinea</td><td>25620</td><td>5.04</td></tr>\n",
       "\t<tr><th scope=row>63</th><td>Gabon</td><td>13740</td><td>4.18</td></tr>\n",
       "\t<tr><th scope=row>83</th><td>Israel</td><td>27110</td><td>2.92</td></tr>\n",
       "\t<tr><th scope=row>88</th><td>Kazakhstan</td><td>11250</td><td>2.52</td></tr>\n",
       "\t<tr><th scope=row>131</th><td>Panama</td><td>14510</td><td>2.52</td></tr>\n",
       "\t<tr><th scope=row>150</th><td>Saudi Arabia</td><td>24700</td><td>2.76</td></tr>\n",
       "</tbody>\n",
       "</table>\n"
      ],
      "text/latex": [
       "\\begin{tabular}{r|lll}\n",
       "  & Country & GNI & FertilityRate\\\\\n",
       "\\hline\n",
       "\t23 & Botswana & 14550 & 2.71\\\\\n",
       "\t56 & Equatorial Guinea & 25620 & 5.04\\\\\n",
       "\t63 & Gabon & 13740 & 4.18\\\\\n",
       "\t83 & Israel & 27110 & 2.92\\\\\n",
       "\t88 & Kazakhstan & 11250 & 2.52\\\\\n",
       "\t131 & Panama & 14510 & 2.52\\\\\n",
       "\t150 & Saudi Arabia & 24700 & 2.76\\\\\n",
       "\\end{tabular}\n"
      ],
      "text/plain": [
       "              Country   GNI FertilityRate\n",
       "23           Botswana 14550          2.71\n",
       "56  Equatorial Guinea 25620          5.04\n",
       "63              Gabon 13740          4.18\n",
       "83             Israel 27110          2.92\n",
       "88         Kazakhstan 11250          2.52\n",
       "131            Panama 14510          2.52\n",
       "150      Saudi Arabia 24700          2.76"
      ]
     },
     "execution_count": 36,
     "metadata": {},
     "output_type": "execute_result"
    }
   ],
   "source": [
    "Outliers[c(\"Country\", \"GNI\", \"FertilityRate\")]"
   ]
  },
  {
   "cell_type": "markdown",
   "metadata": {},
   "source": [
    "### Quick Question\n",
    "What is the mean of the Over60 variable?"
   ]
  },
  {
   "cell_type": "code",
   "execution_count": 37,
   "metadata": {
    "collapsed": false
   },
   "outputs": [
    {
     "data": {
      "text/html": [
       "11.1636597938144"
      ],
      "text/latex": [
       "11.1636597938144"
      ],
      "text/markdown": [
       "11.1636597938144"
      ],
      "text/plain": [
       "[1] 11.16366"
      ]
     },
     "execution_count": 37,
     "metadata": {},
     "output_type": "execute_result"
    }
   ],
   "source": [
    "mean(WHO$Over60)"
   ]
  },
  {
   "cell_type": "code",
   "execution_count": 3,
   "metadata": {
    "collapsed": false
   },
   "outputs": [
    {
     "data": {
      "text/html": [
       "United Arab Emirates"
      ],
      "text/latex": [
       "United Arab Emirates"
      ],
      "text/markdown": [
       "United Arab Emirates"
      ],
      "text/plain": [
       "[1] United Arab Emirates\n",
       "194 Levels: Afghanistan Albania Algeria Andorra Angola ... Zimbabwe"
      ]
     },
     "execution_count": 3,
     "metadata": {},
     "output_type": "execute_result"
    }
   ],
   "source": [
    "WHO$Country[which.min(WHO$Over60)]"
   ]
  },
  {
   "cell_type": "code",
   "execution_count": 4,
   "metadata": {
    "collapsed": false
   },
   "outputs": [
    {
     "data": {
      "text/html": [
       "Cuba"
      ],
      "text/latex": [
       "Cuba"
      ],
      "text/markdown": [
       "Cuba"
      ],
      "text/plain": [
       "[1] Cuba\n",
       "194 Levels: Afghanistan Albania Algeria Andorra Angola ... Zimbabwe"
      ]
     },
     "execution_count": 4,
     "metadata": {},
     "output_type": "execute_result"
    }
   ],
   "source": [
    "WHO$Country[which.max(WHO$LiteracyRate)]"
   ]
  },
  {
   "cell_type": "markdown",
   "metadata": {},
   "source": [
    "## Video 6: Data Analysis - Plots and Summary Tables"
   ]
  },
  {
   "cell_type": "code",
   "execution_count": 3,
   "metadata": {
    "collapsed": false
   },
   "outputs": [
    {
     "data": {
      "image/png": "[encoded data removed]",
      "image/svg+xml": [
       "<?xml version=\"1.0\" encoding=\"UTF-8\"?>\n",
       "<svg xmlns=\"http://www.w3.org/2000/svg\" xmlns:xlink=\"http://www.w3.org/1999/xlink\" width=\"504pt\" height=\"504pt\" viewBox=\"0 0 504 504\" version=\"1.1\">\n",
       "<defs>\n",
       "<g>\n",
       "<symbol overflow=\"visible\" id=\"glyph0-0\">\n",
       "<path style=\"stroke:none;\" d=\"\"/>\n",
       "</symbol>\n",
       "<symbol overflow=\"visible\" id=\"glyph0-1\">\n",
       "<path style=\"stroke:none;\" d=\"M 0.785156 -7.171875 L 1.765625 -7.171875 L 1.765625 -4.210938 L 5.5 -4.210938 L 5.5 -7.171875 L 6.480469 -7.171875 L 6.480469 0 L 5.5 0 L 5.5 -3.355469 L 1.765625 -3.355469 L 1.765625 0 L 0.785156 0 Z M 0.785156 -7.171875 \"/>\n",
       "</symbol>\n",
       "<symbol overflow=\"visible\" id=\"glyph0-2\">\n",
       "<path style=\"stroke:none;\" d=\"M 0.644531 -5.203125 L 1.539062 -5.203125 L 1.539062 0 L 0.644531 0 Z M 0.644531 -7.171875 L 1.539062 -7.171875 L 1.539062 -6.175781 L 0.644531 -6.175781 Z M 0.644531 -7.171875 \"/>\n",
       "</symbol>\n",
       "<symbol overflow=\"visible\" id=\"glyph0-3\">\n",
       "<path style=\"stroke:none;\" d=\"M 1.167969 -1.640625 C 1.195312 -1.347656 1.265625 -1.125 1.386719 -0.96875 C 1.609375 -0.683594 1.992188 -0.542969 2.539062 -0.542969 C 2.863281 -0.542969 3.152344 -0.613281 3.398438 -0.753906 C 3.644531 -0.894531 3.769531 -1.113281 3.769531 -1.410156 C 3.769531 -1.636719 3.671875 -1.804688 3.472656 -1.921875 C 3.34375 -1.996094 3.09375 -2.078125 2.71875 -2.171875 L 2.023438 -2.347656 C 1.578125 -2.460938 1.246094 -2.582031 1.035156 -2.71875 C 0.65625 -2.957031 0.46875 -3.285156 0.46875 -3.707031 C 0.46875 -4.203125 0.648438 -4.601562 1.003906 -4.90625 C 1.359375 -5.210938 1.839844 -5.367188 2.441406 -5.367188 C 3.230469 -5.367188 3.796875 -5.136719 4.144531 -4.671875 C 4.363281 -4.378906 4.46875 -4.0625 4.460938 -3.726562 L 3.632812 -3.726562 C 3.617188 -3.925781 3.546875 -4.105469 3.421875 -4.265625 C 3.21875 -4.5 2.871094 -4.613281 2.375 -4.613281 C 2.042969 -4.613281 1.789062 -4.550781 1.617188 -4.421875 C 1.445312 -4.296875 1.363281 -4.128906 1.363281 -3.921875 C 1.363281 -3.695312 1.476562 -3.511719 1.699219 -3.375 C 1.828125 -3.292969 2.023438 -3.222656 2.273438 -3.160156 L 2.855469 -3.015625 C 3.488281 -2.863281 3.910156 -2.714844 4.125 -2.574219 C 4.46875 -2.347656 4.640625 -1.996094 4.640625 -1.515625 C 4.640625 -1.046875 4.460938 -0.644531 4.109375 -0.308594 C 3.757812 0.03125 3.21875 0.199219 2.496094 0.199219 C 1.71875 0.199219 1.167969 0.0234375 0.84375 -0.328125 C 0.519531 -0.683594 0.34375 -1.121094 0.320312 -1.640625 Z M 1.167969 -1.640625 \"/>\n",
       "</symbol>\n",
       "<symbol overflow=\"visible\" id=\"glyph0-4\">\n",
       "<path style=\"stroke:none;\" d=\"M 0.820312 -6.6875 L 1.710938 -6.6875 L 1.710938 -5.230469 L 2.542969 -5.230469 L 2.542969 -4.511719 L 1.710938 -4.511719 L 1.710938 -1.097656 C 1.710938 -0.914062 1.769531 -0.792969 1.894531 -0.734375 C 1.960938 -0.695312 2.078125 -0.679688 2.234375 -0.679688 C 2.277344 -0.679688 2.324219 -0.679688 2.375 -0.679688 C 2.421875 -0.683594 2.480469 -0.6875 2.542969 -0.695312 L 2.542969 0 C 2.441406 0.03125 2.339844 0.0507812 2.230469 0.0625 C 2.121094 0.078125 2 0.0820312 1.875 0.0820312 C 1.464844 0.0820312 1.1875 -0.0234375 1.039062 -0.230469 C 0.894531 -0.441406 0.820312 -0.714844 0.820312 -1.050781 L 0.820312 -4.511719 L 0.113281 -4.511719 L 0.113281 -5.230469 L 0.820312 -5.230469 Z M 0.820312 -6.6875 \"/>\n",
       "</symbol>\n",
       "<symbol overflow=\"visible\" id=\"glyph0-5\">\n",
       "<path style=\"stroke:none;\" d=\"M 3.917969 -1.226562 C 4.132812 -1.667969 4.242188 -2.160156 4.242188 -2.699219 C 4.242188 -3.1875 4.164062 -3.585938 4.007812 -3.890625 C 3.761719 -4.375 3.335938 -4.613281 2.730469 -4.613281 C 2.191406 -4.613281 1.800781 -4.410156 1.558594 -4 C 1.3125 -3.589844 1.191406 -3.09375 1.191406 -2.515625 C 1.191406 -1.957031 1.3125 -1.492188 1.558594 -1.125 C 1.800781 -0.753906 2.1875 -0.566406 2.71875 -0.566406 C 3.300781 -0.566406 3.703125 -0.785156 3.917969 -1.226562 Z M 4.460938 -4.707031 C 4.929688 -4.257812 5.160156 -3.597656 5.160156 -2.726562 C 5.160156 -1.882812 4.957031 -1.183594 4.546875 -0.632812 C 4.136719 -0.0859375 3.5 0.191406 2.636719 0.191406 C 1.917969 0.191406 1.347656 -0.0546875 0.921875 -0.539062 C 0.5 -1.027344 0.289062 -1.679688 0.289062 -2.5 C 0.289062 -3.378906 0.511719 -4.078125 0.957031 -4.601562 C 1.402344 -5.121094 2 -5.382812 2.753906 -5.382812 C 3.429688 -5.382812 3.996094 -5.15625 4.460938 -4.707031 Z M 4.460938 -4.707031 \"/>\n",
       "</symbol>\n",
       "<symbol overflow=\"visible\" id=\"glyph0-6\">\n",
       "<path style=\"stroke:none;\" d=\"M 3.5625 -5.019531 C 3.730469 -4.90625 3.898438 -4.738281 4.070312 -4.523438 L 4.070312 -5.179688 L 4.882812 -5.179688 L 4.882812 -0.425781 C 4.882812 0.238281 4.785156 0.761719 4.589844 1.148438 C 4.226562 1.859375 3.535156 2.210938 2.523438 2.210938 C 1.960938 2.210938 1.488281 2.085938 1.101562 1.832031 C 0.71875 1.582031 0.503906 1.1875 0.460938 0.648438 L 1.351562 0.648438 C 1.394531 0.882812 1.480469 1.0625 1.605469 1.191406 C 1.804688 1.386719 2.117188 1.484375 2.542969 1.484375 C 3.21875 1.484375 3.660156 1.246094 3.867188 0.773438 C 3.992188 0.492188 4.046875 -0.0078125 4.039062 -0.726562 C 3.863281 -0.460938 3.652344 -0.261719 3.402344 -0.132812 C 3.15625 0 2.828125 0.0625 2.421875 0.0625 C 1.855469 0.0625 1.359375 -0.136719 0.933594 -0.539062 C 0.507812 -0.941406 0.296875 -1.605469 0.296875 -2.535156 C 0.296875 -3.410156 0.511719 -4.09375 0.941406 -4.585938 C 1.367188 -5.078125 1.882812 -5.320312 2.492188 -5.320312 C 2.902344 -5.320312 3.257812 -5.222656 3.5625 -5.019531 Z M 3.671875 -4.078125 C 3.40625 -4.390625 3.066406 -4.546875 2.652344 -4.546875 C 2.03125 -4.546875 1.609375 -4.257812 1.382812 -3.675781 C 1.261719 -3.367188 1.203125 -2.960938 1.203125 -2.460938 C 1.203125 -1.871094 1.320312 -1.421875 1.558594 -1.117188 C 1.796875 -0.808594 2.121094 -0.65625 2.523438 -0.65625 C 3.15625 -0.65625 3.601562 -0.9375 3.859375 -1.507812 C 4 -1.832031 4.070312 -2.207031 4.070312 -2.636719 C 4.070312 -3.285156 3.9375 -3.765625 3.671875 -4.078125 Z M 3.671875 -4.078125 \"/>\n",
       "</symbol>\n",
       "<symbol overflow=\"visible\" id=\"glyph0-7\">\n",
       "<path style=\"stroke:none;\" d=\"M 0.667969 -5.230469 L 1.503906 -5.230469 L 1.503906 -4.328125 C 1.570312 -4.503906 1.738281 -4.714844 2.007812 -4.96875 C 2.273438 -5.21875 2.582031 -5.347656 2.929688 -5.347656 C 2.945312 -5.347656 2.972656 -5.34375 3.011719 -5.34375 C 3.050781 -5.339844 3.117188 -5.332031 3.210938 -5.320312 L 3.210938 -4.394531 C 3.160156 -4.40625 3.113281 -4.410156 3.070312 -4.414062 C 3.023438 -4.417969 2.976562 -4.417969 2.925781 -4.417969 C 2.484375 -4.417969 2.140625 -4.277344 1.90625 -3.992188 C 1.667969 -3.707031 1.546875 -3.378906 1.546875 -3.007812 L 1.546875 0 L 0.667969 0 Z M 0.667969 -5.230469 \"/>\n",
       "</symbol>\n",
       "<symbol overflow=\"visible\" id=\"glyph0-8\">\n",
       "<path style=\"stroke:none;\" d=\"M 1.597656 -0.789062 C 1.78125 -0.644531 2 -0.570312 2.257812 -0.570312 C 2.566406 -0.570312 2.863281 -0.644531 3.15625 -0.785156 C 3.644531 -1.023438 3.886719 -1.414062 3.886719 -1.953125 L 3.886719 -2.660156 C 3.78125 -2.59375 3.640625 -2.535156 3.472656 -2.492188 C 3.304688 -2.445312 3.136719 -2.414062 2.972656 -2.390625 L 2.441406 -2.324219 C 2.121094 -2.28125 1.882812 -2.214844 1.722656 -2.125 C 1.453125 -1.972656 1.320312 -1.726562 1.320312 -1.390625 C 1.320312 -1.136719 1.410156 -0.9375 1.597656 -0.789062 Z M 3.445312 -3.167969 C 3.648438 -3.195312 3.785156 -3.28125 3.851562 -3.421875 C 3.890625 -3.5 3.910156 -3.613281 3.910156 -3.757812 C 3.910156 -4.058594 3.804688 -4.277344 3.589844 -4.410156 C 3.378906 -4.546875 3.074219 -4.613281 2.675781 -4.613281 C 2.21875 -4.613281 1.890625 -4.492188 1.699219 -4.242188 C 1.59375 -4.105469 1.523438 -3.902344 1.488281 -3.632812 L 0.667969 -3.632812 C 0.683594 -4.277344 0.894531 -4.726562 1.296875 -4.976562 C 1.699219 -5.230469 2.164062 -5.355469 2.695312 -5.355469 C 3.3125 -5.355469 3.808594 -5.238281 4.195312 -5.003906 C 4.574219 -4.769531 4.765625 -4.40625 4.765625 -3.910156 L 4.765625 -0.898438 C 4.765625 -0.808594 4.785156 -0.734375 4.820312 -0.679688 C 4.859375 -0.625 4.9375 -0.59375 5.058594 -0.59375 C 5.097656 -0.59375 5.140625 -0.597656 5.191406 -0.601562 C 5.238281 -0.609375 5.292969 -0.617188 5.347656 -0.625 L 5.347656 0.0234375 C 5.210938 0.0625 5.105469 0.0859375 5.035156 0.0976562 C 4.960938 0.109375 4.863281 0.113281 4.742188 0.113281 C 4.4375 0.113281 4.21875 0.00390625 4.082031 -0.210938 C 4.011719 -0.324219 3.960938 -0.484375 3.929688 -0.695312 C 3.75 -0.460938 3.496094 -0.253906 3.160156 -0.0820312 C 2.824219 0.0898438 2.453125 0.175781 2.050781 0.175781 C 1.566406 0.175781 1.167969 0.0273438 0.863281 -0.265625 C 0.554688 -0.5625 0.398438 -0.929688 0.398438 -1.371094 C 0.398438 -1.855469 0.550781 -2.234375 0.855469 -2.5 C 1.15625 -2.765625 1.554688 -2.929688 2.046875 -2.992188 Z M 3.445312 -3.167969 \"/>\n",
       "</symbol>\n",
       "<symbol overflow=\"visible\" id=\"glyph0-9\">\n",
       "<path style=\"stroke:none;\" d=\"M 0.644531 -5.230469 L 1.515625 -5.230469 L 1.515625 -4.488281 C 1.722656 -4.746094 1.910156 -4.929688 2.078125 -5.046875 C 2.367188 -5.246094 2.699219 -5.347656 3.066406 -5.347656 C 3.484375 -5.347656 3.820312 -5.242188 4.070312 -5.039062 C 4.214844 -4.921875 4.34375 -4.75 4.460938 -4.523438 C 4.65625 -4.800781 4.886719 -5.007812 5.152344 -5.144531 C 5.414062 -5.28125 5.710938 -5.347656 6.039062 -5.347656 C 6.742188 -5.347656 7.222656 -5.09375 7.476562 -4.585938 C 7.613281 -4.3125 7.679688 -3.945312 7.679688 -3.480469 L 7.679688 0 L 6.765625 0 L 6.765625 -3.632812 C 6.765625 -3.980469 6.679688 -4.21875 6.507812 -4.351562 C 6.332031 -4.480469 6.121094 -4.546875 5.867188 -4.546875 C 5.523438 -4.546875 5.226562 -4.429688 4.976562 -4.199219 C 4.726562 -3.96875 4.605469 -3.582031 4.605469 -3.042969 L 4.605469 0 L 3.710938 0 L 3.710938 -3.414062 C 3.710938 -3.769531 3.667969 -4.027344 3.585938 -4.1875 C 3.453125 -4.433594 3.203125 -4.554688 2.835938 -4.554688 C 2.503906 -4.554688 2.203125 -4.425781 1.929688 -4.171875 C 1.660156 -3.914062 1.523438 -3.445312 1.523438 -2.773438 L 1.523438 0 L 0.644531 0 Z M 0.644531 -5.230469 \"/>\n",
       "</symbol>\n",
       "<symbol overflow=\"visible\" id=\"glyph0-10\">\n",
       "<g>\n",
       "</g>\n",
       "</symbol>\n",
       "<symbol overflow=\"visible\" id=\"glyph0-11\">\n",
       "<path style=\"stroke:none;\" d=\"M 1.054688 -6.828125 C 1.257812 -7.125 1.65625 -7.273438 2.242188 -7.273438 C 2.296875 -7.273438 2.351562 -7.273438 2.414062 -7.269531 C 2.472656 -7.265625 2.539062 -7.261719 2.613281 -7.257812 L 2.613281 -6.453125 C 2.523438 -6.460938 2.457031 -6.464844 2.414062 -6.46875 C 2.375 -6.46875 2.335938 -6.46875 2.300781 -6.46875 C 2.03125 -6.46875 1.875 -6.402344 1.820312 -6.261719 C 1.769531 -6.125 1.742188 -5.773438 1.742188 -5.203125 L 2.613281 -5.203125 L 2.613281 -4.511719 L 1.734375 -4.511719 L 1.734375 0 L 0.863281 0 L 0.863281 -4.511719 L 0.136719 -4.511719 L 0.136719 -5.203125 L 0.863281 -5.203125 L 0.863281 -6.023438 C 0.875 -6.390625 0.941406 -6.65625 1.054688 -6.828125 Z M 1.054688 -6.828125 \"/>\n",
       "</symbol>\n",
       "<symbol overflow=\"visible\" id=\"glyph0-12\">\n",
       "<path style=\"stroke:none;\" d=\"M 1.234375 -7.171875 L 2.585938 -1.335938 L 4.210938 -7.171875 L 5.265625 -7.171875 L 6.882812 -1.335938 L 8.238281 -7.171875 L 9.300781 -7.171875 L 7.417969 0 L 6.398438 0 L 4.742188 -5.945312 L 3.078125 0 L 2.054688 0 L 0.179688 -7.171875 Z M 1.234375 -7.171875 \"/>\n",
       "</symbol>\n",
       "<symbol overflow=\"visible\" id=\"glyph0-13\">\n",
       "<path style=\"stroke:none;\" d=\"M 6.671875 -6.148438 C 7.144531 -5.511719 7.382812 -4.699219 7.382812 -3.710938 C 7.382812 -2.640625 7.109375 -1.75 6.566406 -1.039062 C 5.929688 -0.207031 5.019531 0.210938 3.835938 0.210938 C 2.734375 0.210938 1.867188 -0.15625 1.234375 -0.882812 C 0.671875 -1.585938 0.390625 -2.476562 0.390625 -3.550781 C 0.390625 -4.519531 0.632812 -5.351562 1.113281 -6.039062 C 1.730469 -6.925781 2.648438 -7.367188 3.859375 -7.367188 C 5.125 -7.367188 6.0625 -6.960938 6.671875 -6.148438 Z M 5.8125 -1.578125 C 6.195312 -2.191406 6.386719 -2.898438 6.386719 -3.695312 C 6.386719 -4.539062 6.167969 -5.21875 5.726562 -5.734375 C 5.285156 -6.246094 4.679688 -6.503906 3.914062 -6.503906 C 3.171875 -6.503906 2.570312 -6.25 2.101562 -5.738281 C 1.632812 -5.230469 1.398438 -4.480469 1.398438 -3.484375 C 1.398438 -2.691406 1.597656 -2.023438 2 -1.476562 C 2.402344 -0.929688 3.054688 -0.660156 3.953125 -0.660156 C 4.8125 -0.660156 5.429688 -0.964844 5.8125 -1.578125 Z M 5.8125 -1.578125 \"/>\n",
       "</symbol>\n",
       "<symbol overflow=\"visible\" id=\"glyph0-14\">\n",
       "<path style=\"stroke:none;\" d=\"M 4.136719 -1.117188 C 4.246094 -1.3125 4.300781 -1.539062 4.300781 -1.796875 C 4.300781 -2.203125 4.152344 -2.511719 3.851562 -2.726562 C 3.679688 -2.847656 3.390625 -2.964844 2.984375 -3.078125 L 2.984375 -0.507812 C 3.539062 -0.535156 3.925781 -0.738281 4.136719 -1.117188 Z M 1.648438 -4.460938 C 1.859375 -4.28125 2.148438 -4.152344 2.507812 -4.082031 L 2.507812 -6.375 C 2.082031 -6.359375 1.78125 -6.230469 1.597656 -5.984375 C 1.417969 -5.742188 1.328125 -5.488281 1.328125 -5.21875 C 1.328125 -4.898438 1.433594 -4.644531 1.648438 -4.460938 Z M 0.992188 -6.5 C 1.355469 -6.898438 1.867188 -7.097656 2.519531 -7.105469 L 2.519531 -7.753906 L 2.984375 -7.753906 L 2.984375 -7.113281 C 3.632812 -7.070312 4.128906 -6.878906 4.476562 -6.539062 C 4.820312 -6.203125 5.003906 -5.757812 5.019531 -5.203125 L 4.164062 -5.203125 C 4.140625 -5.453125 4.074219 -5.664062 3.964844 -5.84375 C 3.757812 -6.171875 3.433594 -6.347656 2.984375 -6.363281 L 2.984375 -3.988281 C 3.738281 -3.777344 4.25 -3.578125 4.523438 -3.394531 C 4.960938 -3.085938 5.179688 -2.636719 5.179688 -2.035156 C 5.179688 -1.171875 4.898438 -0.554688 4.335938 -0.191406 C 4.023438 0.0117188 3.574219 0.144531 2.984375 0.210938 L 2.984375 1.15625 L 2.519531 1.15625 L 2.519531 0.210938 C 1.570312 0.148438 0.929688 -0.1875 0.589844 -0.796875 C 0.40625 -1.125 0.3125 -1.570312 0.3125 -2.128906 L 1.175781 -2.128906 C 1.203125 -1.683594 1.273438 -1.359375 1.386719 -1.152344 C 1.589844 -0.785156 1.960938 -0.578125 2.507812 -0.53125 L 2.507812 -3.195312 C 1.804688 -3.328125 1.289062 -3.550781 0.953125 -3.863281 C 0.617188 -4.175781 0.449219 -4.609375 0.449219 -5.160156 C 0.449219 -5.65625 0.628906 -6.101562 0.992188 -6.5 Z M 0.992188 -6.5 \"/>\n",
       "</symbol>\n",
       "<symbol overflow=\"visible\" id=\"glyph0-15\">\n",
       "<path style=\"stroke:none;\" d=\"M 5.898438 -6.648438 C 6.398438 -6.171875 6.679688 -5.628906 6.734375 -5.019531 L 5.785156 -5.019531 C 5.679688 -5.480469 5.464844 -5.847656 5.144531 -6.117188 C 4.824219 -6.386719 4.375 -6.523438 3.792969 -6.523438 C 3.085938 -6.523438 2.515625 -6.273438 2.082031 -5.777344 C 1.648438 -5.28125 1.429688 -4.523438 1.429688 -3.496094 C 1.429688 -2.65625 1.625 -1.976562 2.019531 -1.453125 C 2.410156 -0.929688 2.996094 -0.667969 3.773438 -0.667969 C 4.492188 -0.667969 5.035156 -0.945312 5.410156 -1.492188 C 5.609375 -1.78125 5.757812 -2.164062 5.855469 -2.636719 L 6.800781 -2.636719 C 6.71875 -1.882812 6.4375 -1.25 5.960938 -0.738281 C 5.390625 -0.121094 4.625 0.1875 3.65625 0.1875 C 2.824219 0.1875 2.125 -0.0664062 1.558594 -0.570312 C 0.8125 -1.238281 0.4375 -2.269531 0.4375 -3.664062 C 0.4375 -4.71875 0.71875 -5.585938 1.28125 -6.265625 C 1.886719 -7 2.71875 -7.367188 3.785156 -7.367188 C 4.691406 -7.367188 5.398438 -7.128906 5.898438 -6.648438 Z M 5.898438 -6.648438 \"/>\n",
       "</symbol>\n",
       "<symbol overflow=\"visible\" id=\"glyph0-16\">\n",
       "<path style=\"stroke:none;\" d=\"M 3.902344 -5.085938 C 4.25 -4.910156 4.515625 -4.6875 4.695312 -4.410156 C 4.871094 -4.144531 4.992188 -3.835938 5.046875 -3.484375 C 5.101562 -3.246094 5.125 -2.859375 5.125 -2.335938 L 1.292969 -2.335938 C 1.308594 -1.804688 1.4375 -1.378906 1.671875 -1.058594 C 1.90625 -0.738281 2.265625 -0.578125 2.757812 -0.578125 C 3.21875 -0.578125 3.585938 -0.726562 3.859375 -1.03125 C 4.015625 -1.207031 4.125 -1.410156 4.1875 -1.640625 L 5.054688 -1.640625 C 5.03125 -1.449219 4.957031 -1.234375 4.828125 -1 C 4.699219 -0.761719 4.554688 -0.570312 4.394531 -0.421875 C 4.128906 -0.160156 3.796875 0.015625 3.402344 0.109375 C 3.191406 0.160156 2.953125 0.1875 2.6875 0.1875 C 2.035156 0.1875 1.484375 -0.0507812 1.03125 -0.523438 C 0.578125 -1 0.351562 -1.660156 0.351562 -2.515625 C 0.351562 -3.355469 0.578125 -4.035156 1.035156 -4.5625 C 1.492188 -5.085938 2.085938 -5.347656 2.820312 -5.347656 C 3.191406 -5.347656 3.554688 -5.257812 3.902344 -5.085938 Z M 4.222656 -3.03125 C 4.1875 -3.414062 4.105469 -3.71875 3.976562 -3.945312 C 3.734375 -4.367188 3.332031 -4.578125 2.769531 -4.578125 C 2.367188 -4.578125 2.027344 -4.433594 1.753906 -4.144531 C 1.480469 -3.851562 1.335938 -3.480469 1.320312 -3.03125 Z M 4.222656 -3.03125 \"/>\n",
       "</symbol>\n",
       "<symbol overflow=\"visible\" id=\"glyph0-17\">\n",
       "<path style=\"stroke:none;\" d=\"M 0.667969 -7.171875 L 1.546875 -7.171875 L 1.546875 0 L 0.667969 0 Z M 0.667969 -7.171875 \"/>\n",
       "</symbol>\n",
       "<symbol overflow=\"visible\" id=\"glyph0-18\">\n",
       "<path style=\"stroke:none;\" d=\"M 1.523438 -5.230469 L 1.523438 -1.757812 C 1.523438 -1.492188 1.566406 -1.273438 1.648438 -1.101562 C 1.804688 -0.789062 2.097656 -0.632812 2.523438 -0.632812 C 3.136719 -0.632812 3.554688 -0.90625 3.773438 -1.453125 C 3.894531 -1.746094 3.953125 -2.148438 3.953125 -2.660156 L 3.953125 -5.230469 L 4.835938 -5.230469 L 4.835938 0 L 4.003906 0 L 4.015625 -0.773438 C 3.898438 -0.574219 3.757812 -0.40625 3.589844 -0.269531 C 3.253906 0.00390625 2.847656 0.140625 2.367188 0.140625 C 1.621094 0.140625 1.113281 -0.109375 0.84375 -0.605469 C 0.699219 -0.871094 0.625 -1.230469 0.625 -1.675781 L 0.625 -5.230469 Z M 1.523438 -5.230469 \"/>\n",
       "</symbol>\n",
       "<symbol overflow=\"visible\" id=\"glyph0-19\">\n",
       "<path style=\"stroke:none;\" d=\"M 1.398438 -2.3125 C 1.421875 -1.90625 1.515625 -1.578125 1.683594 -1.324219 C 2.007812 -0.847656 2.574219 -0.609375 3.390625 -0.609375 C 3.753906 -0.609375 4.085938 -0.664062 4.382812 -0.765625 C 4.964844 -0.96875 5.253906 -1.328125 5.253906 -1.851562 C 5.253906 -2.242188 5.132812 -2.519531 4.886719 -2.6875 C 4.640625 -2.847656 4.253906 -2.988281 3.726562 -3.109375 L 2.753906 -3.328125 C 2.117188 -3.472656 1.671875 -3.632812 1.40625 -3.804688 C 0.949219 -4.101562 0.722656 -4.550781 0.722656 -5.148438 C 0.722656 -5.792969 0.945312 -6.320312 1.390625 -6.734375 C 1.835938 -7.148438 2.46875 -7.351562 3.285156 -7.351562 C 4.039062 -7.351562 4.675781 -7.171875 5.203125 -6.808594 C 5.726562 -6.445312 5.992188 -5.867188 5.992188 -5.070312 L 5.078125 -5.070312 C 5.03125 -5.453125 4.925781 -5.746094 4.765625 -5.953125 C 4.46875 -6.328125 3.964844 -6.515625 3.257812 -6.515625 C 2.683594 -6.515625 2.273438 -6.394531 2.023438 -6.152344 C 1.773438 -5.910156 1.644531 -5.632812 1.644531 -5.3125 C 1.644531 -4.960938 1.792969 -4.703125 2.085938 -4.539062 C 2.277344 -4.4375 2.710938 -4.304688 3.390625 -4.148438 L 4.394531 -3.921875 C 4.878906 -3.8125 5.253906 -3.660156 5.515625 -3.46875 C 5.972656 -3.132812 6.203125 -2.644531 6.203125 -2.007812 C 6.203125 -1.210938 5.914062 -0.644531 5.335938 -0.304688 C 4.757812 0.0390625 4.085938 0.210938 3.320312 0.210938 C 2.429688 0.210938 1.730469 -0.0195312 1.226562 -0.472656 C 0.722656 -0.925781 0.472656 -1.539062 0.484375 -2.3125 Z M 1.398438 -2.3125 \"/>\n",
       "</symbol>\n",
       "<symbol overflow=\"visible\" id=\"glyph0-20\">\n",
       "<path style=\"stroke:none;\" d=\"M 0.578125 -7.195312 L 1.429688 -7.195312 L 1.429688 -4.59375 C 1.621094 -4.84375 1.851562 -5.035156 2.117188 -5.167969 C 2.386719 -5.300781 2.675781 -5.367188 2.988281 -5.367188 C 3.640625 -5.367188 4.167969 -5.140625 4.574219 -4.695312 C 4.976562 -4.246094 5.179688 -3.585938 5.179688 -2.714844 C 5.179688 -1.886719 4.980469 -1.203125 4.578125 -0.65625 C 4.179688 -0.109375 3.625 0.164062 2.914062 0.164062 C 2.515625 0.164062 2.183594 0.0703125 1.910156 -0.121094 C 1.746094 -0.234375 1.570312 -0.417969 1.386719 -0.667969 L 1.386719 0 L 0.578125 0 Z M 3.929688 -1.175781 C 4.164062 -1.554688 4.28125 -2.050781 4.28125 -2.671875 C 4.28125 -3.222656 4.164062 -3.675781 3.929688 -4.039062 C 3.691406 -4.398438 3.34375 -4.578125 2.886719 -4.578125 C 2.484375 -4.578125 2.132812 -4.433594 1.832031 -4.136719 C 1.53125 -3.839844 1.382812 -3.351562 1.382812 -2.671875 C 1.382812 -2.179688 1.445312 -1.78125 1.566406 -1.476562 C 1.796875 -0.898438 2.230469 -0.609375 2.859375 -0.609375 C 3.335938 -0.609375 3.691406 -0.800781 3.929688 -1.175781 Z M 3.929688 -1.175781 \"/>\n",
       "</symbol>\n",
       "<symbol overflow=\"visible\" id=\"glyph0-21\">\n",
       "<path style=\"stroke:none;\" d=\"M 4.097656 -4.953125 C 4.46875 -4.664062 4.691406 -4.171875 4.765625 -3.472656 L 3.910156 -3.472656 C 3.859375 -3.792969 3.742188 -4.0625 3.554688 -4.273438 C 3.367188 -4.488281 3.070312 -4.59375 2.660156 -4.59375 C 2.101562 -4.59375 1.699219 -4.320312 1.460938 -3.773438 C 1.304688 -3.417969 1.226562 -2.980469 1.226562 -2.460938 C 1.226562 -1.9375 1.335938 -1.496094 1.558594 -1.136719 C 1.78125 -0.78125 2.128906 -0.601562 2.601562 -0.601562 C 2.96875 -0.601562 3.257812 -0.710938 3.46875 -0.933594 C 3.683594 -1.15625 3.828125 -1.464844 3.910156 -1.851562 L 4.765625 -1.851562 C 4.667969 -1.15625 4.421875 -0.648438 4.03125 -0.328125 C 3.640625 -0.0078125 3.144531 0.152344 2.535156 0.152344 C 1.851562 0.152344 1.304688 -0.0976562 0.898438 -0.597656 C 0.492188 -1.097656 0.289062 -1.722656 0.289062 -2.46875 C 0.289062 -3.386719 0.511719 -4.101562 0.957031 -4.613281 C 1.402344 -5.125 1.972656 -5.382812 2.660156 -5.382812 C 3.25 -5.382812 3.730469 -5.238281 4.097656 -4.953125 Z M 4.097656 -4.953125 \"/>\n",
       "</symbol>\n",
       "<symbol overflow=\"visible\" id=\"glyph0-22\">\n",
       "<path style=\"stroke:none;\" d=\"M 4.667969 -5.875 C 4.980469 -5.296875 5.136719 -4.507812 5.136719 -3.507812 C 5.136719 -2.554688 4.996094 -1.769531 4.710938 -1.148438 C 4.300781 -0.257812 3.632812 0.191406 2.699219 0.191406 C 1.859375 0.191406 1.234375 -0.175781 0.824219 -0.902344 C 0.484375 -1.511719 0.3125 -2.328125 0.3125 -3.355469 C 0.3125 -4.148438 0.414062 -4.832031 0.621094 -5.398438 C 1.003906 -6.460938 1.699219 -6.992188 2.703125 -6.992188 C 3.609375 -6.992188 4.265625 -6.621094 4.667969 -5.875 Z M 3.785156 -1.214844 C 4.054688 -1.617188 4.1875 -2.371094 4.1875 -3.472656 C 4.1875 -4.265625 4.09375 -4.917969 3.898438 -5.433594 C 3.703125 -5.945312 3.320312 -6.203125 2.757812 -6.203125 C 2.242188 -6.203125 1.863281 -5.957031 1.625 -5.472656 C 1.382812 -4.984375 1.265625 -4.265625 1.265625 -3.320312 C 1.265625 -2.609375 1.339844 -2.035156 1.492188 -1.601562 C 1.726562 -0.941406 2.128906 -0.609375 2.695312 -0.609375 C 3.152344 -0.609375 3.515625 -0.8125 3.785156 -1.214844 Z M 3.785156 -1.214844 \"/>\n",
       "</symbol>\n",
       "<symbol overflow=\"visible\" id=\"glyph0-23\">\n",
       "<path style=\"stroke:none;\" d=\"M 1.234375 -1.78125 C 1.292969 -1.28125 1.527344 -0.933594 1.933594 -0.742188 C 2.140625 -0.644531 2.382812 -0.59375 2.65625 -0.59375 C 3.175781 -0.59375 3.5625 -0.761719 3.8125 -1.09375 C 4.0625 -1.425781 4.1875 -1.792969 4.1875 -2.195312 C 4.1875 -2.683594 4.039062 -3.0625 3.742188 -3.328125 C 3.445312 -3.597656 3.085938 -3.730469 2.671875 -3.730469 C 2.367188 -3.730469 2.109375 -3.671875 1.890625 -3.554688 C 1.675781 -3.4375 1.492188 -3.273438 1.335938 -3.066406 L 0.578125 -3.109375 L 1.109375 -6.875 L 4.742188 -6.875 L 4.742188 -6.023438 L 1.765625 -6.023438 L 1.46875 -4.082031 C 1.632812 -4.207031 1.789062 -4.296875 1.933594 -4.359375 C 2.195312 -4.46875 2.496094 -4.523438 2.835938 -4.523438 C 3.476562 -4.523438 4.023438 -4.316406 4.46875 -3.902344 C 4.914062 -3.488281 5.136719 -2.964844 5.136719 -2.328125 C 5.136719 -1.667969 4.933594 -1.085938 4.523438 -0.582031 C 4.117188 -0.078125 3.464844 0.175781 2.570312 0.175781 C 2 0.175781 1.496094 0.015625 1.058594 -0.304688 C 0.621094 -0.625 0.375 -1.117188 0.320312 -1.78125 Z M 1.234375 -1.78125 \"/>\n",
       "</symbol>\n",
       "<symbol overflow=\"visible\" id=\"glyph0-24\">\n",
       "<path style=\"stroke:none;\" d=\"M 0.957031 -4.953125 L 0.957031 -5.625 C 1.59375 -5.6875 2.035156 -5.789062 2.285156 -5.933594 C 2.535156 -6.078125 2.722656 -6.421875 2.847656 -6.960938 L 3.539062 -6.960938 L 3.539062 0 L 2.601562 0 L 2.601562 -4.953125 Z M 0.957031 -4.953125 \"/>\n",
       "</symbol>\n",
       "<symbol overflow=\"visible\" id=\"glyph0-25\">\n",
       "<path style=\"stroke:none;\" d=\"M 0.6875 -1.570312 C 0.902344 -2.015625 1.324219 -2.421875 1.953125 -2.789062 L 2.890625 -3.328125 C 3.3125 -3.574219 3.605469 -3.78125 3.773438 -3.953125 C 4.039062 -4.226562 4.175781 -4.535156 4.175781 -4.882812 C 4.175781 -5.289062 4.054688 -5.613281 3.808594 -5.851562 C 3.5625 -6.089844 3.238281 -6.210938 2.832031 -6.210938 C 2.230469 -6.210938 1.8125 -5.984375 1.582031 -5.527344 C 1.457031 -5.28125 1.390625 -4.945312 1.375 -4.511719 L 0.484375 -4.511719 C 0.492188 -5.121094 0.605469 -5.617188 0.820312 -6 C 1.203125 -6.679688 1.875 -7.015625 2.835938 -7.015625 C 3.636719 -7.015625 4.222656 -6.800781 4.59375 -6.367188 C 4.960938 -5.933594 5.148438 -5.453125 5.148438 -4.921875 C 5.148438 -4.363281 4.949219 -3.882812 4.554688 -3.484375 C 4.328125 -3.253906 3.917969 -2.976562 3.328125 -2.648438 L 2.660156 -2.273438 C 2.34375 -2.097656 2.089844 -1.933594 1.910156 -1.773438 C 1.585938 -1.488281 1.378906 -1.175781 1.292969 -0.828125 L 5.113281 -0.828125 L 5.113281 0 L 0.3125 0 C 0.34375 -0.601562 0.46875 -1.125 0.6875 -1.570312 Z M 0.6875 -1.570312 \"/>\n",
       "</symbol>\n",
       "<symbol overflow=\"visible\" id=\"glyph1-0\">\n",
       "<path style=\"stroke:none;\" d=\"\"/>\n",
       "</symbol>\n",
       "<symbol overflow=\"visible\" id=\"glyph1-1\">\n",
       "<path style=\"stroke:none;\" d=\"M -7.171875 -0.855469 L -7.171875 -5.828125 L -6.292969 -5.828125 L -6.292969 -1.828125 L -4.117188 -1.828125 L -4.117188 -5.347656 L -3.261719 -5.347656 L -3.261719 -1.828125 L 0 -1.828125 L 0 -0.855469 Z M -7.171875 -0.855469 \"/>\n",
       "</symbol>\n",
       "<symbol overflow=\"visible\" id=\"glyph1-2\">\n",
       "<path style=\"stroke:none;\" d=\"M -5.230469 -0.667969 L -5.230469 -1.503906 L -4.328125 -1.503906 C -4.503906 -1.570312 -4.714844 -1.738281 -4.96875 -2.007812 C -5.21875 -2.273438 -5.347656 -2.582031 -5.347656 -2.929688 C -5.347656 -2.945312 -5.34375 -2.972656 -5.34375 -3.011719 C -5.339844 -3.050781 -5.332031 -3.117188 -5.320312 -3.214844 L -4.394531 -3.214844 C -4.40625 -3.160156 -4.410156 -3.113281 -4.414062 -3.070312 C -4.417969 -3.023438 -4.417969 -2.976562 -4.417969 -2.925781 C -4.417969 -2.484375 -4.277344 -2.140625 -3.992188 -1.90625 C -3.707031 -1.667969 -3.378906 -1.546875 -3.007812 -1.546875 L 0 -1.546875 L 0 -0.667969 Z M -5.230469 -0.667969 \"/>\n",
       "</symbol>\n",
       "<symbol overflow=\"visible\" id=\"glyph1-3\">\n",
       "<path style=\"stroke:none;\" d=\"M -5.085938 -3.902344 C -4.910156 -4.25 -4.6875 -4.515625 -4.410156 -4.695312 C -4.144531 -4.871094 -3.835938 -4.992188 -3.484375 -5.046875 C -3.246094 -5.101562 -2.859375 -5.125 -2.332031 -5.125 L -2.335938 -1.292969 C -1.804688 -1.308594 -1.378906 -1.4375 -1.058594 -1.671875 C -0.738281 -1.90625 -0.574219 -2.265625 -0.574219 -2.757812 C -0.574219 -3.21875 -0.726562 -3.585938 -1.03125 -3.859375 C -1.207031 -4.015625 -1.410156 -4.125 -1.640625 -4.1875 L -1.640625 -5.054688 C -1.449219 -5.03125 -1.234375 -4.957031 -1 -4.828125 C -0.761719 -4.699219 -0.570312 -4.554688 -0.417969 -4.394531 C -0.160156 -4.128906 0.015625 -3.796875 0.109375 -3.402344 C 0.160156 -3.191406 0.1875 -2.953125 0.1875 -2.6875 C 0.1875 -2.035156 -0.0507812 -1.484375 -0.523438 -1.03125 C -1 -0.578125 -1.660156 -0.351562 -2.515625 -0.351562 C -3.355469 -0.351562 -4.035156 -0.578125 -4.5625 -1.035156 C -5.085938 -1.492188 -5.347656 -2.085938 -5.347656 -2.824219 C -5.347656 -3.195312 -5.257812 -3.554688 -5.085938 -3.902344 Z M -3.03125 -4.222656 C -3.414062 -4.1875 -3.71875 -4.105469 -3.945312 -3.976562 C -4.367188 -3.734375 -4.578125 -3.332031 -4.578125 -2.769531 C -4.578125 -2.367188 -4.433594 -2.027344 -4.144531 -1.753906 C -3.851562 -1.480469 -3.480469 -1.335938 -3.03125 -1.320312 Z M -3.03125 -4.222656 \"/>\n",
       "</symbol>\n",
       "<symbol overflow=\"visible\" id=\"glyph1-4\">\n",
       "<path style=\"stroke:none;\" d=\"M -1.40625 -1.402344 C -0.863281 -1.625 -0.589844 -2.027344 -0.589844 -2.609375 C -0.589844 -3.21875 -0.878906 -3.640625 -1.449219 -3.871094 C -1.765625 -4 -2.167969 -4.0625 -2.660156 -4.0625 C -3.113281 -4.0625 -3.492188 -3.992188 -3.792969 -3.851562 C -4.3125 -3.613281 -4.570312 -3.195312 -4.570312 -2.597656 C -4.570312 -2.21875 -4.40625 -1.890625 -4.074219 -1.617188 C -3.742188 -1.347656 -3.234375 -1.210938 -2.542969 -1.210938 C -2.089844 -1.210938 -1.710938 -1.273438 -1.40625 -1.402344 Z M -5.019531 -3.605469 C -4.902344 -3.765625 -4.730469 -3.921875 -4.5 -4.070312 L -5.230469 -4.070312 L -5.230469 -4.90625 L 2.085938 -4.90625 L 2.085938 -4.023438 L -0.601562 -4.023438 C -0.367188 -3.875 -0.179688 -3.675781 -0.0429688 -3.414062 C 0.0976562 -3.15625 0.167969 -2.832031 0.167969 -2.445312 C 0.167969 -1.890625 -0.0507812 -1.390625 -0.488281 -0.953125 C -0.925781 -0.511719 -1.589844 -0.292969 -2.480469 -0.292969 C -3.316406 -0.292969 -4.003906 -0.5 -4.539062 -0.910156 C -5.078125 -1.324219 -5.347656 -1.855469 -5.347656 -2.511719 C -5.347656 -2.945312 -5.238281 -3.308594 -5.019531 -3.605469 Z M -5.019531 -3.605469 \"/>\n",
       "</symbol>\n",
       "<symbol overflow=\"visible\" id=\"glyph1-5\">\n",
       "<path style=\"stroke:none;\" d=\"M -5.230469 -1.523438 L -1.757812 -1.523438 C -1.492188 -1.523438 -1.273438 -1.566406 -1.101562 -1.648438 C -0.789062 -1.804688 -0.632812 -2.097656 -0.632812 -2.523438 C -0.632812 -3.136719 -0.90625 -3.554688 -1.453125 -3.773438 C -1.746094 -3.894531 -2.148438 -3.953125 -2.660156 -3.953125 L -5.230469 -3.957031 L -5.230469 -4.835938 L 0 -4.835938 L 0 -4.003906 L -0.769531 -4.015625 C -0.570312 -3.898438 -0.40625 -3.757812 -0.269531 -3.589844 C 0.00390625 -3.253906 0.140625 -2.847656 0.140625 -2.367188 C 0.140625 -1.621094 -0.105469 -1.113281 -0.605469 -0.84375 C -0.871094 -0.699219 -1.230469 -0.625 -1.675781 -0.625 L -5.230469 -0.625 Z M -5.230469 -1.523438 \"/>\n",
       "</symbol>\n",
       "<symbol overflow=\"visible\" id=\"glyph1-6\">\n",
       "<path style=\"stroke:none;\" d=\"M -5.230469 -0.644531 L -5.230469 -1.480469 L -4.488281 -1.480469 C -4.792969 -1.726562 -5.011719 -1.988281 -5.148438 -2.265625 C -5.28125 -2.542969 -5.347656 -2.851562 -5.347656 -3.1875 C -5.347656 -3.929688 -5.085938 -4.433594 -4.570312 -4.691406 C -4.289062 -4.835938 -3.882812 -4.90625 -3.355469 -4.90625 L 0 -4.90625 L 0 -4.015625 L -3.296875 -4.015625 C -3.617188 -4.015625 -3.871094 -3.964844 -4.066406 -3.871094 C -4.390625 -3.714844 -4.554688 -3.433594 -4.554688 -3.023438 C -4.554688 -2.8125 -4.535156 -2.644531 -4.492188 -2.511719 C -4.421875 -2.269531 -4.277344 -2.058594 -4.0625 -1.875 C -3.890625 -1.726562 -3.710938 -1.632812 -3.527344 -1.589844 C -3.34375 -1.546875 -3.082031 -1.523438 -2.738281 -1.523438 L 0 -1.523438 L 0 -0.644531 Z M -5.230469 -0.644531 \"/>\n",
       "</symbol>\n",
       "<symbol overflow=\"visible\" id=\"glyph1-7\">\n",
       "<path style=\"stroke:none;\" d=\"M -4.953125 -4.097656 C -4.664062 -4.46875 -4.171875 -4.691406 -3.472656 -4.765625 L -3.472656 -3.910156 C -3.792969 -3.859375 -4.0625 -3.742188 -4.273438 -3.554688 C -4.488281 -3.367188 -4.59375 -3.070312 -4.59375 -2.660156 C -4.59375 -2.101562 -4.320312 -1.699219 -3.773438 -1.460938 C -3.417969 -1.304688 -2.980469 -1.226562 -2.460938 -1.226562 C -1.9375 -1.226562 -1.496094 -1.335938 -1.136719 -1.558594 C -0.78125 -1.78125 -0.601562 -2.128906 -0.601562 -2.601562 C -0.601562 -2.96875 -0.710938 -3.257812 -0.933594 -3.46875 C -1.15625 -3.683594 -1.464844 -3.828125 -1.851562 -3.910156 L -1.851562 -4.765625 C -1.15625 -4.667969 -0.648438 -4.421875 -0.328125 -4.03125 C -0.0078125 -3.640625 0.152344 -3.144531 0.152344 -2.535156 C 0.152344 -1.851562 -0.0976562 -1.304688 -0.597656 -0.898438 C -1.097656 -0.492188 -1.722656 -0.289062 -2.46875 -0.289062 C -3.386719 -0.289062 -4.101562 -0.511719 -4.613281 -0.957031 C -5.125 -1.402344 -5.382812 -1.972656 -5.382812 -2.660156 C -5.382812 -3.25 -5.238281 -3.730469 -4.953125 -4.097656 Z M -4.953125 -4.097656 \"/>\n",
       "</symbol>\n",
       "<symbol overflow=\"visible\" id=\"glyph1-8\">\n",
       "<path style=\"stroke:none;\" d=\"M -5.230469 -3.910156 L -5.230469 -4.882812 C -4.894531 -4.757812 -4.128906 -4.484375 -2.933594 -4.058594 C -2.035156 -3.738281 -1.304688 -3.472656 -0.738281 -3.257812 C 0.597656 -2.75 1.410156 -2.390625 1.703125 -2.183594 C 1.996094 -1.976562 2.144531 -1.617188 2.144531 -1.109375 C 2.144531 -0.984375 2.140625 -0.890625 2.128906 -0.824219 C 2.117188 -0.757812 2.101562 -0.671875 2.074219 -0.574219 L 1.273438 -0.574219 C 1.316406 -0.726562 1.34375 -0.839844 1.351562 -0.90625 C 1.363281 -0.976562 1.367188 -1.035156 1.367188 -1.089844 C 1.367188 -1.25 1.339844 -1.371094 1.285156 -1.449219 C 1.234375 -1.523438 1.167969 -1.589844 1.089844 -1.640625 C 1.0625 -1.65625 0.929688 -1.714844 0.6875 -1.816406 C 0.449219 -1.917969 0.269531 -1.992188 0.152344 -2.035156 L -5.230469 -0.101562 L -5.230469 -1.097656 L -0.972656 -2.5 Z M -5.230469 -3.910156 \"/>\n",
       "</symbol>\n",
       "<symbol overflow=\"visible\" id=\"glyph1-9\">\n",
       "<path style=\"stroke:none;\" d=\"M -5.875 -4.667969 C -5.296875 -4.980469 -4.507812 -5.136719 -3.503906 -5.136719 C -2.554688 -5.136719 -1.769531 -4.996094 -1.148438 -4.710938 C -0.253906 -4.300781 0.191406 -3.632812 0.191406 -2.699219 C 0.191406 -1.859375 -0.175781 -1.234375 -0.902344 -0.824219 C -1.511719 -0.484375 -2.328125 -0.3125 -3.355469 -0.3125 C -4.148438 -0.3125 -4.832031 -0.414062 -5.398438 -0.621094 C -6.460938 -1.003906 -6.992188 -1.699219 -6.992188 -2.707031 C -6.992188 -3.609375 -6.621094 -4.265625 -5.875 -4.667969 Z M -1.214844 -3.785156 C -1.617188 -4.054688 -2.371094 -4.1875 -3.472656 -4.1875 C -4.265625 -4.1875 -4.917969 -4.09375 -5.433594 -3.898438 C -5.945312 -3.703125 -6.203125 -3.320312 -6.203125 -2.757812 C -6.203125 -2.242188 -5.957031 -1.863281 -5.472656 -1.625 C -4.984375 -1.382812 -4.265625 -1.265625 -3.320312 -1.265625 C -2.609375 -1.265625 -2.035156 -1.339844 -1.601562 -1.492188 C -0.941406 -1.726562 -0.609375 -2.128906 -0.609375 -2.695312 C -0.609375 -3.152344 -0.8125 -3.515625 -1.214844 -3.785156 Z M -1.214844 -3.785156 \"/>\n",
       "</symbol>\n",
       "<symbol overflow=\"visible\" id=\"glyph1-10\">\n",
       "<path style=\"stroke:none;\" d=\"M -4.953125 -0.957031 L -5.625 -0.957031 C -5.6875 -1.59375 -5.789062 -2.035156 -5.933594 -2.285156 C -6.078125 -2.535156 -6.421875 -2.722656 -6.960938 -2.847656 L -6.960938 -3.539062 L 0 -3.539062 L 0 -2.601562 L -4.953125 -2.601562 Z M -4.953125 -0.957031 \"/>\n",
       "</symbol>\n",
       "<symbol overflow=\"visible\" id=\"glyph1-11\">\n",
       "<path style=\"stroke:none;\" d=\"M -1.570312 -0.6875 C -2.015625 -0.902344 -2.421875 -1.324219 -2.789062 -1.953125 L -3.328125 -2.890625 C -3.574219 -3.3125 -3.78125 -3.605469 -3.953125 -3.773438 C -4.226562 -4.039062 -4.535156 -4.175781 -4.882812 -4.175781 C -5.289062 -4.175781 -5.613281 -4.054688 -5.851562 -3.808594 C -6.089844 -3.5625 -6.210938 -3.238281 -6.210938 -2.832031 C -6.210938 -2.230469 -5.984375 -1.8125 -5.527344 -1.582031 C -5.28125 -1.457031 -4.945312 -1.390625 -4.511719 -1.378906 L -4.511719 -0.484375 C -5.121094 -0.492188 -5.617188 -0.605469 -6 -0.820312 C -6.679688 -1.203125 -7.015625 -1.875 -7.015625 -2.835938 C -7.015625 -3.636719 -6.800781 -4.222656 -6.367188 -4.59375 C -5.933594 -4.960938 -5.453125 -5.148438 -4.921875 -5.148438 C -4.363281 -5.148438 -3.882812 -4.949219 -3.484375 -4.554688 C -3.253906 -4.328125 -2.976562 -3.917969 -2.648438 -3.328125 L -2.273438 -2.660156 C -2.097656 -2.34375 -1.933594 -2.089844 -1.773438 -1.910156 C -1.488281 -1.585938 -1.175781 -1.378906 -0.828125 -1.292969 L -0.828125 -5.113281 L 0 -5.113281 L 0 -0.3125 C -0.601562 -0.34375 -1.125 -0.46875 -1.570312 -0.6875 Z M -1.570312 -0.6875 \"/>\n",
       "</symbol>\n",
       "<symbol overflow=\"visible\" id=\"glyph1-12\">\n",
       "<path style=\"stroke:none;\" d=\"M -0.492188 -0.796875 C -0.945312 -0.425781 -1.496094 -0.238281 -2.148438 -0.238281 L -2.148438 -1.15625 C -1.695312 -1.195312 -1.367188 -1.28125 -1.164062 -1.410156 C -0.796875 -1.640625 -0.609375 -2.050781 -0.609375 -2.648438 C -0.609375 -3.109375 -0.734375 -3.480469 -0.980469 -3.757812 C -1.226562 -4.039062 -1.546875 -4.179688 -1.9375 -4.179688 C -2.417969 -4.179688 -2.757812 -4.03125 -2.949219 -3.738281 C -3.140625 -3.445312 -3.238281 -3.035156 -3.238281 -2.507812 C -3.238281 -2.449219 -3.238281 -2.390625 -3.234375 -2.332031 C -3.234375 -2.273438 -3.230469 -2.210938 -3.226562 -2.148438 L -4.003906 -2.148438 C -3.992188 -2.238281 -3.988281 -2.316406 -3.984375 -2.378906 C -3.980469 -2.441406 -3.980469 -2.507812 -3.980469 -2.578125 C -3.980469 -2.90625 -4.03125 -3.175781 -4.136719 -3.390625 C -4.320312 -3.761719 -4.644531 -3.945312 -5.113281 -3.945312 C -5.460938 -3.945312 -5.730469 -3.820312 -5.917969 -3.574219 C -6.105469 -3.328125 -6.203125 -3.039062 -6.203125 -2.710938 C -6.203125 -2.125 -6.007812 -1.71875 -5.617188 -1.496094 C -5.402344 -1.371094 -5.09375 -1.300781 -4.695312 -1.285156 L -4.695312 -0.414062 C -5.21875 -0.414062 -5.660156 -0.519531 -6.023438 -0.726562 C -6.675781 -1.085938 -7 -1.714844 -7 -2.617188 C -7 -3.328125 -6.84375 -3.882812 -6.527344 -4.273438 C -6.210938 -4.664062 -5.75 -4.859375 -5.148438 -4.859375 C -4.71875 -4.859375 -4.367188 -4.742188 -4.101562 -4.511719 C -3.9375 -4.367188 -3.804688 -4.183594 -3.710938 -3.957031 C -3.609375 -4.324219 -3.414062 -4.609375 -3.128906 -4.816406 C -2.839844 -5.023438 -2.488281 -5.125 -2.070312 -5.125 C -1.402344 -5.125 -0.859375 -4.90625 -0.4375 -4.46875 C -0.0195312 -4.027344 0.191406 -3.40625 0.191406 -2.597656 C 0.191406 -1.769531 -0.0351562 -1.171875 -0.492188 -0.796875 Z M -0.492188 -0.796875 \"/>\n",
       "</symbol>\n",
       "<symbol overflow=\"visible\" id=\"glyph1-13\">\n",
       "<path style=\"stroke:none;\" d=\"M -2.476562 -3.304688 L -5.644531 -3.304688 L -2.476562 -1.066406 Z M 0 -3.320312 L -1.707031 -3.320312 L -1.710938 -0.253906 L -2.570312 -0.253906 L -7.011719 -3.457031 L -7.011719 -4.199219 L -2.476562 -4.199219 L -2.476562 -5.230469 L -1.707031 -5.230469 L -1.707031 -4.199219 L 0 -4.199219 Z M 0 -3.320312 \"/>\n",
       "</symbol>\n",
       "</g>\n",
       "</defs>\n",
       "<g id=\"surface1\">\n",
       "<rect x=\"0\" y=\"0\" width=\"504\" height=\"504\" style=\"fill:rgb(100%,100%,100%);fill-opacity:1;stroke:none;\"/>\n",
       "<g style=\"fill:rgb(0%,0%,0%);fill-opacity:1;\">\n",
       "  <use xlink:href=\"#glyph0-1\" x=\"178.316406\" y=\"33.105469\"/>\n",
       "  <use xlink:href=\"#glyph0-2\" x=\"185.538086\" y=\"33.105469\"/>\n",
       "  <use xlink:href=\"#glyph0-3\" x=\"187.759766\" y=\"33.105469\"/>\n",
       "  <use xlink:href=\"#glyph0-4\" x=\"192.759766\" y=\"33.105469\"/>\n",
       "  <use xlink:href=\"#glyph0-5\" x=\"195.538086\" y=\"33.105469\"/>\n",
       "  <use xlink:href=\"#glyph0-6\" x=\"201.099609\" y=\"33.105469\"/>\n",
       "  <use xlink:href=\"#glyph0-7\" x=\"206.661133\" y=\"33.105469\"/>\n",
       "  <use xlink:href=\"#glyph0-8\" x=\"209.991211\" y=\"33.105469\"/>\n",
       "  <use xlink:href=\"#glyph0-9\" x=\"215.552734\" y=\"33.105469\"/>\n",
       "  <use xlink:href=\"#glyph0-10\" x=\"223.882812\" y=\"33.105469\"/>\n",
       "  <use xlink:href=\"#glyph0-5\" x=\"226.661133\" y=\"33.105469\"/>\n",
       "  <use xlink:href=\"#glyph0-11\" x=\"232.222656\" y=\"33.105469\"/>\n",
       "  <use xlink:href=\"#glyph0-10\" x=\"235.000977\" y=\"33.105469\"/>\n",
       "  <use xlink:href=\"#glyph0-12\" x=\"237.779297\" y=\"33.105469\"/>\n",
       "  <use xlink:href=\"#glyph0-1\" x=\"247.217773\" y=\"33.105469\"/>\n",
       "  <use xlink:href=\"#glyph0-13\" x=\"254.439453\" y=\"33.105469\"/>\n",
       "  <use xlink:href=\"#glyph0-14\" x=\"262.217773\" y=\"33.105469\"/>\n",
       "  <use xlink:href=\"#glyph0-15\" x=\"267.779297\" y=\"33.105469\"/>\n",
       "  <use xlink:href=\"#glyph0-16\" x=\"275.000977\" y=\"33.105469\"/>\n",
       "  <use xlink:href=\"#glyph0-17\" x=\"280.5625\" y=\"33.105469\"/>\n",
       "  <use xlink:href=\"#glyph0-17\" x=\"282.78418\" y=\"33.105469\"/>\n",
       "  <use xlink:href=\"#glyph0-18\" x=\"285.005859\" y=\"33.105469\"/>\n",
       "  <use xlink:href=\"#glyph0-17\" x=\"290.567383\" y=\"33.105469\"/>\n",
       "  <use xlink:href=\"#glyph0-8\" x=\"292.789062\" y=\"33.105469\"/>\n",
       "  <use xlink:href=\"#glyph0-7\" x=\"298.350586\" y=\"33.105469\"/>\n",
       "  <use xlink:href=\"#glyph0-19\" x=\"301.680664\" y=\"33.105469\"/>\n",
       "  <use xlink:href=\"#glyph0-18\" x=\"308.350586\" y=\"33.105469\"/>\n",
       "  <use xlink:href=\"#glyph0-20\" x=\"313.912109\" y=\"33.105469\"/>\n",
       "  <use xlink:href=\"#glyph0-3\" x=\"319.473633\" y=\"33.105469\"/>\n",
       "  <use xlink:href=\"#glyph0-21\" x=\"324.473633\" y=\"33.105469\"/>\n",
       "  <use xlink:href=\"#glyph0-7\" x=\"329.473633\" y=\"33.105469\"/>\n",
       "  <use xlink:href=\"#glyph0-2\" x=\"332.803711\" y=\"33.105469\"/>\n",
       "  <use xlink:href=\"#glyph0-20\" x=\"335.025391\" y=\"33.105469\"/>\n",
       "  <use xlink:href=\"#glyph0-16\" x=\"340.586914\" y=\"33.105469\"/>\n",
       "  <use xlink:href=\"#glyph0-7\" x=\"346.148438\" y=\"33.105469\"/>\n",
       "  <use xlink:href=\"#glyph0-3\" x=\"349.478516\" y=\"33.105469\"/>\n",
       "</g>\n",
       "<g style=\"fill:rgb(0%,0%,0%);fill-opacity:1;\">\n",
       "  <use xlink:href=\"#glyph0-12\" x=\"208.046875\" y=\"485.28125\"/>\n",
       "  <use xlink:href=\"#glyph0-1\" x=\"217.485352\" y=\"485.28125\"/>\n",
       "  <use xlink:href=\"#glyph0-13\" x=\"224.707031\" y=\"485.28125\"/>\n",
       "  <use xlink:href=\"#glyph0-14\" x=\"232.485352\" y=\"485.28125\"/>\n",
       "  <use xlink:href=\"#glyph0-15\" x=\"238.046875\" y=\"485.28125\"/>\n",
       "  <use xlink:href=\"#glyph0-16\" x=\"245.268555\" y=\"485.28125\"/>\n",
       "  <use xlink:href=\"#glyph0-17\" x=\"250.830078\" y=\"485.28125\"/>\n",
       "  <use xlink:href=\"#glyph0-17\" x=\"253.051758\" y=\"485.28125\"/>\n",
       "  <use xlink:href=\"#glyph0-18\" x=\"255.273438\" y=\"485.28125\"/>\n",
       "  <use xlink:href=\"#glyph0-17\" x=\"260.834961\" y=\"485.28125\"/>\n",
       "  <use xlink:href=\"#glyph0-8\" x=\"263.056641\" y=\"485.28125\"/>\n",
       "  <use xlink:href=\"#glyph0-7\" x=\"268.618164\" y=\"485.28125\"/>\n",
       "  <use xlink:href=\"#glyph0-19\" x=\"271.948242\" y=\"485.28125\"/>\n",
       "  <use xlink:href=\"#glyph0-18\" x=\"278.618164\" y=\"485.28125\"/>\n",
       "  <use xlink:href=\"#glyph0-20\" x=\"284.179688\" y=\"485.28125\"/>\n",
       "  <use xlink:href=\"#glyph0-3\" x=\"289.741211\" y=\"485.28125\"/>\n",
       "  <use xlink:href=\"#glyph0-21\" x=\"294.741211\" y=\"485.28125\"/>\n",
       "  <use xlink:href=\"#glyph0-7\" x=\"299.741211\" y=\"485.28125\"/>\n",
       "  <use xlink:href=\"#glyph0-2\" x=\"303.071289\" y=\"485.28125\"/>\n",
       "  <use xlink:href=\"#glyph0-20\" x=\"305.292969\" y=\"485.28125\"/>\n",
       "  <use xlink:href=\"#glyph0-16\" x=\"310.854492\" y=\"485.28125\"/>\n",
       "  <use xlink:href=\"#glyph0-7\" x=\"316.416016\" y=\"485.28125\"/>\n",
       "  <use xlink:href=\"#glyph0-3\" x=\"319.746094\" y=\"485.28125\"/>\n",
       "</g>\n",
       "<g style=\"fill:rgb(0%,0%,0%);fill-opacity:1;\">\n",
       "  <use xlink:href=\"#glyph1-1\" x=\"12.960938\" y=\"268.425781\"/>\n",
       "  <use xlink:href=\"#glyph1-2\" x=\"12.960938\" y=\"262.317383\"/>\n",
       "  <use xlink:href=\"#glyph1-3\" x=\"12.960938\" y=\"258.987305\"/>\n",
       "  <use xlink:href=\"#glyph1-4\" x=\"12.960938\" y=\"253.425781\"/>\n",
       "  <use xlink:href=\"#glyph1-5\" x=\"12.960938\" y=\"247.864258\"/>\n",
       "  <use xlink:href=\"#glyph1-3\" x=\"12.960938\" y=\"242.302734\"/>\n",
       "  <use xlink:href=\"#glyph1-6\" x=\"12.960938\" y=\"236.741211\"/>\n",
       "  <use xlink:href=\"#glyph1-7\" x=\"12.960938\" y=\"231.179688\"/>\n",
       "  <use xlink:href=\"#glyph1-8\" x=\"12.960938\" y=\"226.179688\"/>\n",
       "</g>\n",
       "<path style=\"fill:none;stroke-width:0.75;stroke-linecap:round;stroke-linejoin:round;stroke:rgb(0%,0%,0%);stroke-opacity:1;stroke-miterlimit:10;\" d=\"M 74.398438 430.558594 L 458.398438 430.558594 \"/>\n",
       "<path style=\"fill:none;stroke-width:0.75;stroke-linecap:round;stroke-linejoin:round;stroke:rgb(0%,0%,0%);stroke-opacity:1;stroke-miterlimit:10;\" d=\"M 74.398438 430.558594 L 74.398438 437.761719 \"/>\n",
       "<path style=\"fill:none;stroke-width:0.75;stroke-linecap:round;stroke-linejoin:round;stroke:rgb(0%,0%,0%);stroke-opacity:1;stroke-miterlimit:10;\" d=\"M 170.398438 430.558594 L 170.398438 437.761719 \"/>\n",
       "<path style=\"fill:none;stroke-width:0.75;stroke-linecap:round;stroke-linejoin:round;stroke:rgb(0%,0%,0%);stroke-opacity:1;stroke-miterlimit:10;\" d=\"M 266.398438 430.558594 L 266.398438 437.761719 \"/>\n",
       "<path style=\"fill:none;stroke-width:0.75;stroke-linecap:round;stroke-linejoin:round;stroke:rgb(0%,0%,0%);stroke-opacity:1;stroke-miterlimit:10;\" d=\"M 362.398438 430.558594 L 362.398438 437.761719 \"/>\n",
       "<path style=\"fill:none;stroke-width:0.75;stroke-linecap:round;stroke-linejoin:round;stroke:rgb(0%,0%,0%);stroke-opacity:1;stroke-miterlimit:10;\" d=\"M 458.398438 430.558594 L 458.398438 437.761719 \"/>\n",
       "<g style=\"fill:rgb(0%,0%,0%);fill-opacity:1;\">\n",
       "  <use xlink:href=\"#glyph0-22\" x=\"71.617188\" y=\"456.480469\"/>\n",
       "</g>\n",
       "<g style=\"fill:rgb(0%,0%,0%);fill-opacity:1;\">\n",
       "  <use xlink:href=\"#glyph0-23\" x=\"164.835938\" y=\"456.480469\"/>\n",
       "  <use xlink:href=\"#glyph0-22\" x=\"170.397461\" y=\"456.480469\"/>\n",
       "</g>\n",
       "<g style=\"fill:rgb(0%,0%,0%);fill-opacity:1;\">\n",
       "  <use xlink:href=\"#glyph0-24\" x=\"258.054688\" y=\"456.480469\"/>\n",
       "  <use xlink:href=\"#glyph0-22\" x=\"263.616211\" y=\"456.480469\"/>\n",
       "  <use xlink:href=\"#glyph0-22\" x=\"269.177734\" y=\"456.480469\"/>\n",
       "</g>\n",
       "<g style=\"fill:rgb(0%,0%,0%);fill-opacity:1;\">\n",
       "  <use xlink:href=\"#glyph0-24\" x=\"354.054688\" y=\"456.480469\"/>\n",
       "  <use xlink:href=\"#glyph0-23\" x=\"359.616211\" y=\"456.480469\"/>\n",
       "  <use xlink:href=\"#glyph0-22\" x=\"365.177734\" y=\"456.480469\"/>\n",
       "</g>\n",
       "<g style=\"fill:rgb(0%,0%,0%);fill-opacity:1;\">\n",
       "  <use xlink:href=\"#glyph0-25\" x=\"450.054688\" y=\"456.480469\"/>\n",
       "  <use xlink:href=\"#glyph0-22\" x=\"455.616211\" y=\"456.480469\"/>\n",
       "  <use xlink:href=\"#glyph0-22\" x=\"461.177734\" y=\"456.480469\"/>\n",
       "</g>\n",
       "<path style=\"fill:none;stroke-width:0.75;stroke-linecap:round;stroke-linejoin:round;stroke:rgb(0%,0%,0%);stroke-opacity:1;stroke-miterlimit:10;\" d=\"M 59.039062 416.800781 L 59.039062 63.980469 \"/>\n",
       "<path style=\"fill:none;stroke-width:0.75;stroke-linecap:round;stroke-linejoin:round;stroke:rgb(0%,0%,0%);stroke-opacity:1;stroke-miterlimit:10;\" d=\"M 59.039062 416.800781 L 51.839844 416.800781 \"/>\n",
       "<path style=\"fill:none;stroke-width:0.75;stroke-linecap:round;stroke-linejoin:round;stroke:rgb(0%,0%,0%);stroke-opacity:1;stroke-miterlimit:10;\" d=\"M 59.039062 328.59375 L 51.839844 328.59375 \"/>\n",
       "<path style=\"fill:none;stroke-width:0.75;stroke-linecap:round;stroke-linejoin:round;stroke:rgb(0%,0%,0%);stroke-opacity:1;stroke-miterlimit:10;\" d=\"M 59.039062 240.390625 L 51.839844 240.390625 \"/>\n",
       "<path style=\"fill:none;stroke-width:0.75;stroke-linecap:round;stroke-linejoin:round;stroke:rgb(0%,0%,0%);stroke-opacity:1;stroke-miterlimit:10;\" d=\"M 59.039062 152.183594 L 51.839844 152.183594 \"/>\n",
       "<path style=\"fill:none;stroke-width:0.75;stroke-linecap:round;stroke-linejoin:round;stroke:rgb(0%,0%,0%);stroke-opacity:1;stroke-miterlimit:10;\" d=\"M 59.039062 63.980469 L 51.839844 63.980469 \"/>\n",
       "<g style=\"fill:rgb(0%,0%,0%);fill-opacity:1;\">\n",
       "  <use xlink:href=\"#glyph1-9\" x=\"41.761719\" y=\"419.582031\"/>\n",
       "</g>\n",
       "<g style=\"fill:rgb(0%,0%,0%);fill-opacity:1;\">\n",
       "  <use xlink:href=\"#glyph1-10\" x=\"41.761719\" y=\"334.15625\"/>\n",
       "  <use xlink:href=\"#glyph1-9\" x=\"41.761719\" y=\"328.594727\"/>\n",
       "</g>\n",
       "<g style=\"fill:rgb(0%,0%,0%);fill-opacity:1;\">\n",
       "  <use xlink:href=\"#glyph1-11\" x=\"41.761719\" y=\"245.953125\"/>\n",
       "  <use xlink:href=\"#glyph1-9\" x=\"41.761719\" y=\"240.391602\"/>\n",
       "</g>\n",
       "<g style=\"fill:rgb(0%,0%,0%);fill-opacity:1;\">\n",
       "  <use xlink:href=\"#glyph1-12\" x=\"41.761719\" y=\"157.746094\"/>\n",
       "  <use xlink:href=\"#glyph1-9\" x=\"41.761719\" y=\"152.18457\"/>\n",
       "</g>\n",
       "<g style=\"fill:rgb(0%,0%,0%);fill-opacity:1;\">\n",
       "  <use xlink:href=\"#glyph1-13\" x=\"41.761719\" y=\"69.542969\"/>\n",
       "  <use xlink:href=\"#glyph1-9\" x=\"41.761719\" y=\"63.981445\"/>\n",
       "</g>\n",
       "<path style=\"fill:none;stroke-width:0.75;stroke-linecap:round;stroke-linejoin:round;stroke:rgb(0%,0%,0%);stroke-opacity:1;stroke-miterlimit:10;\" d=\"M 74.398438 416.800781 L 112.796875 416.800781 L 112.796875 355.058594 L 74.398438 355.058594 Z M 74.398438 416.800781 \"/>\n",
       "<path style=\"fill:none;stroke-width:0.75;stroke-linecap:round;stroke-linejoin:round;stroke:rgb(0%,0%,0%);stroke-opacity:1;stroke-miterlimit:10;\" d=\"M 112.800781 416.800781 L 151.199219 416.800781 L 151.199219 319.773438 L 112.800781 319.773438 Z M 112.800781 416.800781 \"/>\n",
       "<path style=\"fill:none;stroke-width:0.75;stroke-linecap:round;stroke-linejoin:round;stroke:rgb(0%,0%,0%);stroke-opacity:1;stroke-miterlimit:10;\" d=\"M 151.199219 416.800781 L 189.597656 416.800781 L 189.597656 196.289062 L 151.199219 196.289062 Z M 151.199219 416.800781 \"/>\n",
       "<path style=\"fill:none;stroke-width:0.75;stroke-linecap:round;stroke-linejoin:round;stroke:rgb(0%,0%,0%);stroke-opacity:1;stroke-miterlimit:10;\" d=\"M 189.601562 416.800781 L 228 416.800781 L 228 205.109375 L 189.601562 205.109375 Z M 189.601562 416.800781 \"/>\n",
       "<path style=\"fill:none;stroke-width:0.75;stroke-linecap:round;stroke-linejoin:round;stroke:rgb(0%,0%,0%);stroke-opacity:1;stroke-miterlimit:10;\" d=\"M 228 416.800781 L 266.398438 416.800781 L 266.398438 143.363281 L 228 143.363281 Z M 228 416.800781 \"/>\n",
       "<path style=\"fill:none;stroke-width:0.75;stroke-linecap:round;stroke-linejoin:round;stroke:rgb(0%,0%,0%);stroke-opacity:1;stroke-miterlimit:10;\" d=\"M 266.398438 416.800781 L 304.796875 416.800781 L 304.796875 72.800781 L 266.398438 72.800781 Z M 266.398438 416.800781 \"/>\n",
       "<path style=\"fill:none;stroke-width:0.75;stroke-linecap:round;stroke-linejoin:round;stroke:rgb(0%,0%,0%);stroke-opacity:1;stroke-miterlimit:10;\" d=\"M 304.800781 416.800781 L 343.199219 416.800781 L 343.199219 213.929688 L 304.800781 213.929688 Z M 304.800781 416.800781 \"/>\n",
       "<path style=\"fill:none;stroke-width:0.75;stroke-linecap:round;stroke-linejoin:round;stroke:rgb(0%,0%,0%);stroke-opacity:1;stroke-miterlimit:10;\" d=\"M 343.199219 416.800781 L 381.597656 416.800781 L 381.597656 293.3125 L 343.199219 293.3125 Z M 343.199219 416.800781 \"/>\n",
       "<path style=\"fill:none;stroke-width:0.75;stroke-linecap:round;stroke-linejoin:round;stroke:rgb(0%,0%,0%);stroke-opacity:1;stroke-miterlimit:10;\" d=\"M 381.601562 416.800781 L 420 416.800781 L 420 355.058594 L 381.601562 355.058594 Z M 381.601562 416.800781 \"/>\n",
       "<path style=\"fill:none;stroke-width:0.75;stroke-linecap:round;stroke-linejoin:round;stroke:rgb(0%,0%,0%);stroke-opacity:1;stroke-miterlimit:10;\" d=\"M 420 416.800781 L 458.398438 416.800781 L 458.398438 390.339844 L 420 390.339844 Z M 420 416.800781 \"/>\n",
       "</g>\n",
       "</svg>\n"
      ],
      "text/plain": [
       "Plot with title “Histogram of WHO$CellularSubscribers”"
      ]
     },
     "metadata": {
      "image/svg+xml": {
       "isolated": true
      }
     },
     "output_type": "display_data"
    }
   ],
   "source": [
    "hist(WHO$CellularSubscribers)"
   ]
  },
  {
   "cell_type": "code",
   "execution_count": 7,
   "metadata": {
    "collapsed": false
   },
   "outputs": [
    {
     "data": {
      "image/png": "[encoded data removed]",
      "image/svg+xml": [
       "<?xml version=\"1.0\" encoding=\"UTF-8\"?>\n",
       "<svg xmlns=\"http://www.w3.org/2000/svg\" xmlns:xlink=\"http://www.w3.org/1999/xlink\" width=\"504pt\" height=\"504pt\" viewBox=\"0 0 504 504\" version=\"1.1\">\n",
       "<defs>\n",
       "<g>\n",
       "<symbol overflow=\"visible\" id=\"glyph0-0\">\n",
       "<path style=\"stroke:none;\" d=\"\"/>\n",
       "</symbol>\n",
       "<symbol overflow=\"visible\" id=\"glyph0-1\">\n",
       "<path style=\"stroke:none;\" d=\"M 4.445312 -2.9375 L 3.355469 -6.109375 L 2.195312 -2.9375 Z M 2.847656 -7.171875 L 3.945312 -7.171875 L 6.546875 0 L 5.484375 0 L 4.757812 -2.148438 L 1.917969 -2.148438 L 1.140625 0 L 0.148438 0 Z M 2.847656 -7.171875 \"/>\n",
       "</symbol>\n",
       "<symbol overflow=\"visible\" id=\"glyph0-2\">\n",
       "<path style=\"stroke:none;\" d=\"M 1.054688 -6.828125 C 1.257812 -7.125 1.65625 -7.273438 2.242188 -7.273438 C 2.296875 -7.273438 2.351562 -7.273438 2.414062 -7.269531 C 2.472656 -7.265625 2.539062 -7.261719 2.613281 -7.257812 L 2.613281 -6.453125 C 2.523438 -6.460938 2.457031 -6.464844 2.414062 -6.46875 C 2.375 -6.46875 2.335938 -6.46875 2.300781 -6.46875 C 2.03125 -6.46875 1.875 -6.402344 1.820312 -6.261719 C 1.769531 -6.125 1.742188 -5.773438 1.742188 -5.203125 L 2.613281 -5.203125 L 2.613281 -4.511719 L 1.734375 -4.511719 L 1.734375 0 L 0.863281 0 L 0.863281 -4.511719 L 0.136719 -4.511719 L 0.136719 -5.203125 L 0.863281 -5.203125 L 0.863281 -6.023438 C 0.875 -6.390625 0.941406 -6.65625 1.054688 -6.828125 Z M 1.054688 -6.828125 \"/>\n",
       "</symbol>\n",
       "<symbol overflow=\"visible\" id=\"glyph0-3\">\n",
       "<path style=\"stroke:none;\" d=\"M 0.667969 -5.230469 L 1.503906 -5.230469 L 1.503906 -4.328125 C 1.570312 -4.503906 1.738281 -4.714844 2.007812 -4.96875 C 2.273438 -5.21875 2.582031 -5.347656 2.929688 -5.347656 C 2.945312 -5.347656 2.972656 -5.34375 3.011719 -5.34375 C 3.050781 -5.339844 3.117188 -5.332031 3.210938 -5.320312 L 3.210938 -4.394531 C 3.160156 -4.40625 3.113281 -4.410156 3.070312 -4.414062 C 3.023438 -4.417969 2.976562 -4.417969 2.925781 -4.417969 C 2.484375 -4.417969 2.140625 -4.277344 1.90625 -3.992188 C 1.667969 -3.707031 1.546875 -3.378906 1.546875 -3.007812 L 1.546875 0 L 0.667969 0 Z M 0.667969 -5.230469 \"/>\n",
       "</symbol>\n",
       "<symbol overflow=\"visible\" id=\"glyph0-4\">\n",
       "<path style=\"stroke:none;\" d=\"M 0.644531 -5.203125 L 1.539062 -5.203125 L 1.539062 0 L 0.644531 0 Z M 0.644531 -7.171875 L 1.539062 -7.171875 L 1.539062 -6.175781 L 0.644531 -6.175781 Z M 0.644531 -7.171875 \"/>\n",
       "</symbol>\n",
       "<symbol overflow=\"visible\" id=\"glyph0-5\">\n",
       "<path style=\"stroke:none;\" d=\"M 4.097656 -4.953125 C 4.46875 -4.664062 4.691406 -4.171875 4.765625 -3.472656 L 3.910156 -3.472656 C 3.859375 -3.792969 3.742188 -4.0625 3.554688 -4.273438 C 3.367188 -4.488281 3.070312 -4.59375 2.660156 -4.59375 C 2.101562 -4.59375 1.699219 -4.320312 1.460938 -3.773438 C 1.304688 -3.417969 1.226562 -2.980469 1.226562 -2.460938 C 1.226562 -1.9375 1.335938 -1.496094 1.558594 -1.136719 C 1.78125 -0.78125 2.128906 -0.601562 2.601562 -0.601562 C 2.96875 -0.601562 3.257812 -0.710938 3.46875 -0.933594 C 3.683594 -1.15625 3.828125 -1.464844 3.910156 -1.851562 L 4.765625 -1.851562 C 4.667969 -1.15625 4.421875 -0.648438 4.03125 -0.328125 C 3.640625 -0.0078125 3.144531 0.152344 2.535156 0.152344 C 1.851562 0.152344 1.304688 -0.0976562 0.898438 -0.597656 C 0.492188 -1.097656 0.289062 -1.722656 0.289062 -2.46875 C 0.289062 -3.386719 0.511719 -4.101562 0.957031 -4.613281 C 1.402344 -5.125 1.972656 -5.382812 2.660156 -5.382812 C 3.25 -5.382812 3.730469 -5.238281 4.097656 -4.953125 Z M 4.097656 -4.953125 \"/>\n",
       "</symbol>\n",
       "<symbol overflow=\"visible\" id=\"glyph0-6\">\n",
       "<path style=\"stroke:none;\" d=\"M 1.597656 -0.789062 C 1.78125 -0.644531 2 -0.570312 2.257812 -0.570312 C 2.566406 -0.570312 2.863281 -0.644531 3.15625 -0.785156 C 3.644531 -1.023438 3.886719 -1.414062 3.886719 -1.953125 L 3.886719 -2.660156 C 3.78125 -2.59375 3.640625 -2.535156 3.472656 -2.492188 C 3.304688 -2.445312 3.136719 -2.414062 2.972656 -2.390625 L 2.441406 -2.324219 C 2.121094 -2.28125 1.882812 -2.214844 1.722656 -2.125 C 1.453125 -1.972656 1.320312 -1.726562 1.320312 -1.390625 C 1.320312 -1.136719 1.410156 -0.9375 1.597656 -0.789062 Z M 3.445312 -3.167969 C 3.648438 -3.195312 3.785156 -3.28125 3.851562 -3.421875 C 3.890625 -3.5 3.910156 -3.613281 3.910156 -3.757812 C 3.910156 -4.058594 3.804688 -4.277344 3.589844 -4.410156 C 3.378906 -4.546875 3.074219 -4.613281 2.675781 -4.613281 C 2.21875 -4.613281 1.890625 -4.492188 1.699219 -4.242188 C 1.59375 -4.105469 1.523438 -3.902344 1.488281 -3.632812 L 0.667969 -3.632812 C 0.683594 -4.277344 0.894531 -4.726562 1.296875 -4.976562 C 1.699219 -5.230469 2.164062 -5.355469 2.695312 -5.355469 C 3.3125 -5.355469 3.808594 -5.238281 4.195312 -5.003906 C 4.574219 -4.769531 4.765625 -4.40625 4.765625 -3.910156 L 4.765625 -0.898438 C 4.765625 -0.808594 4.785156 -0.734375 4.820312 -0.679688 C 4.859375 -0.625 4.9375 -0.59375 5.058594 -0.59375 C 5.097656 -0.59375 5.140625 -0.597656 5.191406 -0.601562 C 5.238281 -0.609375 5.292969 -0.617188 5.347656 -0.625 L 5.347656 0.0234375 C 5.210938 0.0625 5.105469 0.0859375 5.035156 0.0976562 C 4.960938 0.109375 4.863281 0.113281 4.742188 0.113281 C 4.4375 0.113281 4.21875 0.00390625 4.082031 -0.210938 C 4.011719 -0.324219 3.960938 -0.484375 3.929688 -0.695312 C 3.75 -0.460938 3.496094 -0.253906 3.160156 -0.0820312 C 2.824219 0.0898438 2.453125 0.175781 2.050781 0.175781 C 1.566406 0.175781 1.167969 0.0273438 0.863281 -0.265625 C 0.554688 -0.5625 0.398438 -0.929688 0.398438 -1.371094 C 0.398438 -1.855469 0.550781 -2.234375 0.855469 -2.5 C 1.15625 -2.765625 1.554688 -2.929688 2.046875 -2.992188 Z M 3.445312 -3.167969 \"/>\n",
       "</symbol>\n",
       "<symbol overflow=\"visible\" id=\"glyph0-7\">\n",
       "<path style=\"stroke:none;\" d=\"M 0.644531 -5.230469 L 1.515625 -5.230469 L 1.515625 -4.488281 C 1.722656 -4.746094 1.910156 -4.929688 2.078125 -5.046875 C 2.367188 -5.246094 2.699219 -5.347656 3.066406 -5.347656 C 3.484375 -5.347656 3.820312 -5.242188 4.070312 -5.039062 C 4.214844 -4.921875 4.34375 -4.75 4.460938 -4.523438 C 4.65625 -4.800781 4.886719 -5.007812 5.152344 -5.144531 C 5.414062 -5.28125 5.710938 -5.347656 6.039062 -5.347656 C 6.742188 -5.347656 7.222656 -5.09375 7.476562 -4.585938 C 7.613281 -4.3125 7.679688 -3.945312 7.679688 -3.480469 L 7.679688 0 L 6.765625 0 L 6.765625 -3.632812 C 6.765625 -3.980469 6.679688 -4.21875 6.507812 -4.351562 C 6.332031 -4.480469 6.121094 -4.546875 5.867188 -4.546875 C 5.523438 -4.546875 5.226562 -4.429688 4.976562 -4.199219 C 4.726562 -3.96875 4.605469 -3.582031 4.605469 -3.042969 L 4.605469 0 L 3.710938 0 L 3.710938 -3.414062 C 3.710938 -3.769531 3.667969 -4.027344 3.585938 -4.1875 C 3.453125 -4.433594 3.203125 -4.554688 2.835938 -4.554688 C 2.503906 -4.554688 2.203125 -4.425781 1.929688 -4.171875 C 1.660156 -3.914062 1.523438 -3.445312 1.523438 -2.773438 L 1.523438 0 L 0.644531 0 Z M 0.644531 -5.230469 \"/>\n",
       "</symbol>\n",
       "<symbol overflow=\"visible\" id=\"glyph0-8\">\n",
       "<path style=\"stroke:none;\" d=\"M 3.902344 -5.085938 C 4.25 -4.910156 4.515625 -4.6875 4.695312 -4.410156 C 4.871094 -4.144531 4.992188 -3.835938 5.046875 -3.484375 C 5.101562 -3.246094 5.125 -2.859375 5.125 -2.335938 L 1.292969 -2.335938 C 1.308594 -1.804688 1.4375 -1.378906 1.671875 -1.058594 C 1.90625 -0.738281 2.265625 -0.578125 2.757812 -0.578125 C 3.21875 -0.578125 3.585938 -0.726562 3.859375 -1.03125 C 4.015625 -1.207031 4.125 -1.410156 4.1875 -1.640625 L 5.054688 -1.640625 C 5.03125 -1.449219 4.957031 -1.234375 4.828125 -1 C 4.699219 -0.761719 4.554688 -0.570312 4.394531 -0.421875 C 4.128906 -0.160156 3.796875 0.015625 3.402344 0.109375 C 3.191406 0.160156 2.953125 0.1875 2.6875 0.1875 C 2.035156 0.1875 1.484375 -0.0507812 1.03125 -0.523438 C 0.578125 -1 0.351562 -1.660156 0.351562 -2.515625 C 0.351562 -3.355469 0.578125 -4.035156 1.035156 -4.5625 C 1.492188 -5.085938 2.085938 -5.347656 2.820312 -5.347656 C 3.191406 -5.347656 3.554688 -5.257812 3.902344 -5.085938 Z M 4.222656 -3.03125 C 4.1875 -3.414062 4.105469 -3.71875 3.976562 -3.945312 C 3.734375 -4.367188 3.332031 -4.578125 2.769531 -4.578125 C 2.367188 -4.578125 2.027344 -4.433594 1.753906 -4.144531 C 1.480469 -3.851562 1.335938 -3.480469 1.320312 -3.03125 Z M 4.222656 -3.03125 \"/>\n",
       "</symbol>\n",
       "<symbol overflow=\"visible\" id=\"glyph0-9\">\n",
       "<path style=\"stroke:none;\" d=\"M 1.167969 -1.640625 C 1.195312 -1.347656 1.265625 -1.125 1.386719 -0.96875 C 1.609375 -0.683594 1.992188 -0.542969 2.539062 -0.542969 C 2.863281 -0.542969 3.152344 -0.613281 3.398438 -0.753906 C 3.644531 -0.894531 3.769531 -1.113281 3.769531 -1.410156 C 3.769531 -1.636719 3.671875 -1.804688 3.472656 -1.921875 C 3.34375 -1.996094 3.09375 -2.078125 2.71875 -2.171875 L 2.023438 -2.347656 C 1.578125 -2.460938 1.246094 -2.582031 1.035156 -2.71875 C 0.65625 -2.957031 0.46875 -3.285156 0.46875 -3.707031 C 0.46875 -4.203125 0.648438 -4.601562 1.003906 -4.90625 C 1.359375 -5.210938 1.839844 -5.367188 2.441406 -5.367188 C 3.230469 -5.367188 3.796875 -5.136719 4.144531 -4.671875 C 4.363281 -4.378906 4.46875 -4.0625 4.460938 -3.726562 L 3.632812 -3.726562 C 3.617188 -3.925781 3.546875 -4.105469 3.421875 -4.265625 C 3.21875 -4.5 2.871094 -4.613281 2.375 -4.613281 C 2.042969 -4.613281 1.789062 -4.550781 1.617188 -4.421875 C 1.445312 -4.296875 1.363281 -4.128906 1.363281 -3.921875 C 1.363281 -3.695312 1.476562 -3.511719 1.699219 -3.375 C 1.828125 -3.292969 2.023438 -3.222656 2.273438 -3.160156 L 2.855469 -3.015625 C 3.488281 -2.863281 3.910156 -2.714844 4.125 -2.574219 C 4.46875 -2.347656 4.640625 -1.996094 4.640625 -1.515625 C 4.640625 -1.046875 4.460938 -0.644531 4.109375 -0.308594 C 3.757812 0.03125 3.21875 0.199219 2.496094 0.199219 C 1.71875 0.199219 1.167969 0.0234375 0.84375 -0.328125 C 0.519531 -0.683594 0.34375 -1.121094 0.320312 -1.640625 Z M 1.167969 -1.640625 \"/>\n",
       "</symbol>\n",
       "<symbol overflow=\"visible\" id=\"glyph0-10\">\n",
       "<path style=\"stroke:none;\" d=\"M 0.855469 -7.171875 L 6.085938 -7.171875 L 6.085938 -6.292969 L 1.800781 -6.292969 L 1.800781 -4.117188 L 5.761719 -4.117188 L 5.761719 -3.285156 L 1.800781 -3.285156 L 1.800781 -0.855469 L 6.15625 -0.855469 L 6.15625 0 L 0.855469 0 Z M 0.855469 -7.171875 \"/>\n",
       "</symbol>\n",
       "<symbol overflow=\"visible\" id=\"glyph0-11\">\n",
       "<path style=\"stroke:none;\" d=\"M 1.523438 -5.230469 L 1.523438 -1.757812 C 1.523438 -1.492188 1.566406 -1.273438 1.648438 -1.101562 C 1.804688 -0.789062 2.097656 -0.632812 2.523438 -0.632812 C 3.136719 -0.632812 3.554688 -0.90625 3.773438 -1.453125 C 3.894531 -1.746094 3.953125 -2.148438 3.953125 -2.660156 L 3.953125 -5.230469 L 4.835938 -5.230469 L 4.835938 0 L 4.003906 0 L 4.015625 -0.773438 C 3.898438 -0.574219 3.757812 -0.40625 3.589844 -0.269531 C 3.253906 0.00390625 2.847656 0.140625 2.367188 0.140625 C 1.621094 0.140625 1.113281 -0.109375 0.84375 -0.605469 C 0.699219 -0.871094 0.625 -1.230469 0.625 -1.675781 L 0.625 -5.230469 Z M 1.523438 -5.230469 \"/>\n",
       "</symbol>\n",
       "<symbol overflow=\"visible\" id=\"glyph0-12\">\n",
       "<path style=\"stroke:none;\" d=\"M 3.917969 -1.226562 C 4.132812 -1.667969 4.242188 -2.160156 4.242188 -2.699219 C 4.242188 -3.1875 4.164062 -3.585938 4.007812 -3.890625 C 3.761719 -4.375 3.335938 -4.613281 2.730469 -4.613281 C 2.191406 -4.613281 1.800781 -4.410156 1.558594 -4 C 1.3125 -3.589844 1.191406 -3.09375 1.191406 -2.515625 C 1.191406 -1.957031 1.3125 -1.492188 1.558594 -1.125 C 1.800781 -0.753906 2.1875 -0.566406 2.71875 -0.566406 C 3.300781 -0.566406 3.703125 -0.785156 3.917969 -1.226562 Z M 4.460938 -4.707031 C 4.929688 -4.257812 5.160156 -3.597656 5.160156 -2.726562 C 5.160156 -1.882812 4.957031 -1.183594 4.546875 -0.632812 C 4.136719 -0.0859375 3.5 0.191406 2.636719 0.191406 C 1.917969 0.191406 1.347656 -0.0546875 0.921875 -0.539062 C 0.5 -1.027344 0.289062 -1.679688 0.289062 -2.5 C 0.289062 -3.378906 0.511719 -4.078125 0.957031 -4.601562 C 1.402344 -5.121094 2 -5.382812 2.753906 -5.382812 C 3.429688 -5.382812 3.996094 -5.15625 4.460938 -4.707031 Z M 4.460938 -4.707031 \"/>\n",
       "</symbol>\n",
       "<symbol overflow=\"visible\" id=\"glyph0-13\">\n",
       "<path style=\"stroke:none;\" d=\"M 3.875 -1.105469 C 4.148438 -1.449219 4.28125 -1.960938 4.28125 -2.648438 C 4.28125 -3.0625 4.222656 -3.421875 4.101562 -3.71875 C 3.875 -4.296875 3.457031 -4.585938 2.851562 -4.585938 C 2.242188 -4.585938 1.828125 -4.28125 1.601562 -3.671875 C 1.480469 -3.347656 1.421875 -2.933594 1.421875 -2.429688 C 1.421875 -2.027344 1.480469 -1.683594 1.601562 -1.402344 C 1.828125 -0.859375 2.246094 -0.589844 2.851562 -0.589844 C 3.261719 -0.589844 3.601562 -0.761719 3.875 -1.105469 Z M 0.578125 -5.203125 L 1.429688 -5.203125 L 1.429688 -4.511719 C 1.605469 -4.75 1.796875 -4.933594 2.007812 -5.0625 C 2.304688 -5.257812 2.652344 -5.355469 3.050781 -5.355469 C 3.644531 -5.355469 4.148438 -5.128906 4.5625 -4.675781 C 4.976562 -4.222656 5.179688 -3.574219 5.179688 -2.730469 C 5.179688 -1.589844 4.882812 -0.777344 4.289062 -0.289062 C 3.910156 0.0195312 3.46875 0.175781 2.96875 0.175781 C 2.574219 0.175781 2.246094 0.0898438 1.976562 -0.0820312 C 1.820312 -0.179688 1.648438 -0.347656 1.453125 -0.585938 L 1.453125 2.085938 L 0.578125 2.085938 Z M 0.578125 -5.203125 \"/>\n",
       "</symbol>\n",
       "<symbol overflow=\"visible\" id=\"glyph0-14\">\n",
       "<path style=\"stroke:none;\" d=\"M 1.398438 -2.3125 C 1.421875 -1.90625 1.515625 -1.578125 1.683594 -1.324219 C 2.007812 -0.847656 2.574219 -0.609375 3.390625 -0.609375 C 3.753906 -0.609375 4.085938 -0.664062 4.382812 -0.765625 C 4.964844 -0.96875 5.253906 -1.328125 5.253906 -1.851562 C 5.253906 -2.242188 5.132812 -2.519531 4.886719 -2.6875 C 4.640625 -2.847656 4.253906 -2.988281 3.726562 -3.109375 L 2.753906 -3.328125 C 2.117188 -3.472656 1.671875 -3.632812 1.40625 -3.804688 C 0.949219 -4.101562 0.722656 -4.550781 0.722656 -5.148438 C 0.722656 -5.792969 0.945312 -6.320312 1.390625 -6.734375 C 1.835938 -7.148438 2.46875 -7.351562 3.285156 -7.351562 C 4.039062 -7.351562 4.675781 -7.171875 5.203125 -6.808594 C 5.726562 -6.445312 5.992188 -5.867188 5.992188 -5.070312 L 5.078125 -5.070312 C 5.03125 -5.453125 4.925781 -5.746094 4.765625 -5.953125 C 4.46875 -6.328125 3.964844 -6.515625 3.257812 -6.515625 C 2.683594 -6.515625 2.273438 -6.394531 2.023438 -6.152344 C 1.773438 -5.910156 1.644531 -5.632812 1.644531 -5.3125 C 1.644531 -4.960938 1.792969 -4.703125 2.085938 -4.539062 C 2.277344 -4.4375 2.710938 -4.304688 3.390625 -4.148438 L 4.394531 -3.921875 C 4.878906 -3.8125 5.253906 -3.660156 5.515625 -3.46875 C 5.972656 -3.132812 6.203125 -2.644531 6.203125 -2.007812 C 6.203125 -1.210938 5.914062 -0.644531 5.335938 -0.304688 C 4.757812 0.0390625 4.085938 0.210938 3.320312 0.210938 C 2.429688 0.210938 1.730469 -0.0195312 1.226562 -0.472656 C 0.722656 -0.925781 0.472656 -1.539062 0.484375 -2.3125 Z M 1.398438 -2.3125 \"/>\n",
       "</symbol>\n",
       "<symbol overflow=\"visible\" id=\"glyph0-15\">\n",
       "<path style=\"stroke:none;\" d=\"M 0.820312 -6.6875 L 1.710938 -6.6875 L 1.710938 -5.230469 L 2.542969 -5.230469 L 2.542969 -4.511719 L 1.710938 -4.511719 L 1.710938 -1.097656 C 1.710938 -0.914062 1.769531 -0.792969 1.894531 -0.734375 C 1.960938 -0.695312 2.078125 -0.679688 2.234375 -0.679688 C 2.277344 -0.679688 2.324219 -0.679688 2.375 -0.679688 C 2.421875 -0.683594 2.480469 -0.6875 2.542969 -0.695312 L 2.542969 0 C 2.441406 0.03125 2.339844 0.0507812 2.230469 0.0625 C 2.121094 0.078125 2 0.0820312 1.875 0.0820312 C 1.464844 0.0820312 1.1875 -0.0234375 1.039062 -0.230469 C 0.894531 -0.441406 0.820312 -0.714844 0.820312 -1.050781 L 0.820312 -4.511719 L 0.113281 -4.511719 L 0.113281 -5.230469 L 0.820312 -5.230469 Z M 0.820312 -6.6875 \"/>\n",
       "</symbol>\n",
       "<symbol overflow=\"visible\" id=\"glyph0-16\">\n",
       "<path style=\"stroke:none;\" d=\"M 0.644531 -7.195312 L 1.523438 -7.195312 L 1.523438 -4.523438 C 1.730469 -4.785156 1.917969 -4.96875 2.085938 -5.078125 C 2.367188 -5.265625 2.722656 -5.355469 3.144531 -5.355469 C 3.902344 -5.355469 4.417969 -5.089844 4.6875 -4.5625 C 4.835938 -4.273438 4.90625 -3.867188 4.90625 -3.355469 L 4.90625 0 L 4.003906 0 L 4.003906 -3.296875 C 4.003906 -3.679688 3.953125 -3.960938 3.859375 -4.140625 C 3.699219 -4.425781 3.398438 -4.570312 2.960938 -4.570312 C 2.59375 -4.570312 2.265625 -4.445312 1.96875 -4.195312 C 1.671875 -3.945312 1.523438 -3.46875 1.523438 -2.773438 L 1.523438 0 L 0.644531 0 Z M 0.644531 -7.195312 \"/>\n",
       "</symbol>\n",
       "<symbol overflow=\"visible\" id=\"glyph0-17\">\n",
       "<path style=\"stroke:none;\" d=\"M 0.414062 -3.238281 L 2.867188 -3.238281 L 2.867188 -2.335938 L 0.414062 -2.335938 Z M 0.414062 -3.238281 \"/>\n",
       "</symbol>\n",
       "<symbol overflow=\"visible\" id=\"glyph0-18\">\n",
       "<g>\n",
       "</g>\n",
       "</symbol>\n",
       "<symbol overflow=\"visible\" id=\"glyph0-19\">\n",
       "<path style=\"stroke:none;\" d=\"M 0.761719 -7.171875 L 1.734375 -7.171875 L 1.734375 -0.855469 L 5.367188 -0.855469 L 5.367188 0 L 0.761719 0 Z M 0.761719 -7.171875 \"/>\n",
       "</symbol>\n",
       "<symbol overflow=\"visible\" id=\"glyph0-20\">\n",
       "<path style=\"stroke:none;\" d=\"M 0.148438 -5.230469 L 1.285156 -5.230469 L 2.484375 -3.390625 L 3.703125 -5.230469 L 4.769531 -5.203125 L 3.007812 -2.679688 L 4.847656 0 L 3.726562 0 L 2.425781 -1.960938 L 1.167969 0 L 0.0546875 0 L 1.894531 -2.679688 Z M 0.148438 -5.230469 \"/>\n",
       "</symbol>\n",
       "<symbol overflow=\"visible\" id=\"glyph0-21\">\n",
       "<path style=\"stroke:none;\" d=\"M 0.644531 -5.230469 L 1.480469 -5.230469 L 1.480469 -4.488281 C 1.726562 -4.792969 1.988281 -5.011719 2.265625 -5.148438 C 2.542969 -5.28125 2.851562 -5.347656 3.1875 -5.347656 C 3.929688 -5.347656 4.433594 -5.085938 4.691406 -4.570312 C 4.835938 -4.289062 4.90625 -3.882812 4.90625 -3.355469 L 4.90625 0 L 4.015625 0 L 4.015625 -3.296875 C 4.015625 -3.617188 3.964844 -3.871094 3.871094 -4.066406 C 3.714844 -4.390625 3.433594 -4.554688 3.023438 -4.554688 C 2.8125 -4.554688 2.644531 -4.535156 2.507812 -4.492188 C 2.269531 -4.421875 2.058594 -4.277344 1.875 -4.0625 C 1.726562 -3.890625 1.632812 -3.710938 1.589844 -3.527344 C 1.546875 -3.34375 1.523438 -3.082031 1.523438 -2.738281 L 1.523438 0 L 0.644531 0 Z M 0.644531 -5.230469 \"/>\n",
       "</symbol>\n",
       "<symbol overflow=\"visible\" id=\"glyph0-22\">\n",
       "<path style=\"stroke:none;\" d=\"M 3.910156 -5.230469 L 4.882812 -5.230469 C 4.757812 -4.894531 4.484375 -4.128906 4.058594 -2.933594 C 3.738281 -2.035156 3.472656 -1.304688 3.257812 -0.738281 C 2.75 0.597656 2.390625 1.410156 2.183594 1.703125 C 1.976562 1.996094 1.617188 2.144531 1.109375 2.144531 C 0.984375 2.144531 0.890625 2.140625 0.824219 2.128906 C 0.757812 2.117188 0.671875 2.101562 0.578125 2.074219 L 0.578125 1.273438 C 0.730469 1.316406 0.839844 1.34375 0.90625 1.351562 C 0.976562 1.363281 1.035156 1.367188 1.089844 1.367188 C 1.25 1.367188 1.371094 1.339844 1.449219 1.285156 C 1.523438 1.234375 1.589844 1.167969 1.640625 1.089844 C 1.65625 1.0625 1.714844 0.929688 1.816406 0.6875 C 1.917969 0.445312 1.992188 0.269531 2.035156 0.152344 L 0.101562 -5.230469 L 1.097656 -5.230469 L 2.5 -0.972656 Z M 3.910156 -5.230469 \"/>\n",
       "</symbol>\n",
       "<symbol overflow=\"visible\" id=\"glyph0-23\">\n",
       "<path style=\"stroke:none;\" d=\"M 5.898438 -6.648438 C 6.398438 -6.171875 6.679688 -5.628906 6.734375 -5.019531 L 5.785156 -5.019531 C 5.679688 -5.480469 5.464844 -5.847656 5.144531 -6.117188 C 4.824219 -6.386719 4.375 -6.523438 3.792969 -6.523438 C 3.085938 -6.523438 2.515625 -6.273438 2.082031 -5.777344 C 1.648438 -5.28125 1.429688 -4.523438 1.429688 -3.496094 C 1.429688 -2.65625 1.625 -1.976562 2.019531 -1.453125 C 2.410156 -0.929688 2.996094 -0.667969 3.773438 -0.667969 C 4.492188 -0.667969 5.035156 -0.945312 5.410156 -1.492188 C 5.609375 -1.78125 5.757812 -2.164062 5.855469 -2.636719 L 6.800781 -2.636719 C 6.71875 -1.882812 6.4375 -1.25 5.960938 -0.738281 C 5.390625 -0.121094 4.625 0.1875 3.65625 0.1875 C 2.824219 0.1875 2.125 -0.0664062 1.558594 -0.570312 C 0.8125 -1.238281 0.4375 -2.269531 0.4375 -3.664062 C 0.4375 -4.71875 0.71875 -5.585938 1.28125 -6.265625 C 1.886719 -7 2.71875 -7.367188 3.785156 -7.367188 C 4.691406 -7.367188 5.398438 -7.128906 5.898438 -6.648438 Z M 5.898438 -6.648438 \"/>\n",
       "</symbol>\n",
       "<symbol overflow=\"visible\" id=\"glyph0-24\">\n",
       "<path style=\"stroke:none;\" d=\"M 0.578125 -7.195312 L 1.429688 -7.195312 L 1.429688 -4.59375 C 1.621094 -4.84375 1.851562 -5.035156 2.117188 -5.167969 C 2.386719 -5.300781 2.675781 -5.367188 2.988281 -5.367188 C 3.640625 -5.367188 4.167969 -5.140625 4.574219 -4.695312 C 4.976562 -4.246094 5.179688 -3.585938 5.179688 -2.714844 C 5.179688 -1.886719 4.980469 -1.203125 4.578125 -0.65625 C 4.179688 -0.109375 3.625 0.164062 2.914062 0.164062 C 2.515625 0.164062 2.183594 0.0703125 1.910156 -0.121094 C 1.746094 -0.234375 1.570312 -0.417969 1.386719 -0.667969 L 1.386719 0 L 0.578125 0 Z M 3.929688 -1.175781 C 4.164062 -1.554688 4.28125 -2.050781 4.28125 -2.671875 C 4.28125 -3.222656 4.164062 -3.675781 3.929688 -4.039062 C 3.691406 -4.398438 3.34375 -4.578125 2.886719 -4.578125 C 2.484375 -4.578125 2.132812 -4.433594 1.832031 -4.136719 C 1.53125 -3.839844 1.382812 -3.351562 1.382812 -2.671875 C 1.382812 -2.179688 1.445312 -1.78125 1.566406 -1.476562 C 1.796875 -0.898438 2.230469 -0.609375 2.859375 -0.609375 C 3.335938 -0.609375 3.691406 -0.800781 3.929688 -1.175781 Z M 3.929688 -1.175781 \"/>\n",
       "</symbol>\n",
       "<symbol overflow=\"visible\" id=\"glyph0-25\">\n",
       "<path style=\"stroke:none;\" d=\"M 4.097656 -3.886719 C 4.554688 -3.886719 4.914062 -3.976562 5.179688 -4.160156 C 5.445312 -4.34375 5.578125 -4.671875 5.578125 -5.148438 C 5.578125 -5.65625 5.390625 -6.007812 5.019531 -6.191406 C 4.820312 -6.289062 4.554688 -6.335938 4.222656 -6.335938 L 1.851562 -6.335938 L 1.851562 -3.886719 Z M 0.878906 -7.171875 L 4.199219 -7.171875 C 4.746094 -7.171875 5.195312 -7.09375 5.550781 -6.933594 C 6.226562 -6.628906 6.5625 -6.0625 6.5625 -5.238281 C 6.5625 -4.808594 6.472656 -4.457031 6.296875 -4.183594 C 6.117188 -3.910156 5.871094 -3.691406 5.550781 -3.523438 C 5.832031 -3.410156 6.042969 -3.261719 6.183594 -3.078125 C 6.324219 -2.890625 6.40625 -2.589844 6.421875 -2.171875 L 6.453125 -1.210938 C 6.464844 -0.9375 6.488281 -0.734375 6.523438 -0.601562 C 6.582031 -0.375 6.6875 -0.226562 6.835938 -0.160156 L 6.835938 0 L 5.644531 0 C 5.613281 -0.0625 5.585938 -0.140625 5.566406 -0.238281 C 5.546875 -0.335938 5.53125 -0.527344 5.515625 -0.804688 L 5.460938 -2 C 5.4375 -2.46875 5.261719 -2.785156 4.9375 -2.945312 C 4.75 -3.03125 4.460938 -3.078125 4.0625 -3.078125 L 1.851562 -3.078125 L 1.851562 0 L 0.878906 0 Z M 0.878906 -7.171875 \"/>\n",
       "</symbol>\n",
       "<symbol overflow=\"visible\" id=\"glyph0-26\">\n",
       "<path style=\"stroke:none;\" d=\"M 3.5625 -5.019531 C 3.730469 -4.90625 3.898438 -4.738281 4.070312 -4.523438 L 4.070312 -5.179688 L 4.882812 -5.179688 L 4.882812 -0.425781 C 4.882812 0.238281 4.785156 0.761719 4.589844 1.148438 C 4.226562 1.859375 3.535156 2.210938 2.523438 2.210938 C 1.960938 2.210938 1.488281 2.085938 1.101562 1.832031 C 0.71875 1.582031 0.503906 1.1875 0.460938 0.648438 L 1.351562 0.648438 C 1.394531 0.882812 1.480469 1.0625 1.605469 1.191406 C 1.804688 1.386719 2.117188 1.484375 2.542969 1.484375 C 3.21875 1.484375 3.660156 1.246094 3.867188 0.773438 C 3.992188 0.492188 4.046875 -0.0078125 4.039062 -0.726562 C 3.863281 -0.460938 3.652344 -0.261719 3.402344 -0.132812 C 3.15625 0 2.828125 0.0625 2.421875 0.0625 C 1.855469 0.0625 1.359375 -0.136719 0.933594 -0.539062 C 0.507812 -0.941406 0.296875 -1.605469 0.296875 -2.535156 C 0.296875 -3.410156 0.511719 -4.09375 0.941406 -4.585938 C 1.367188 -5.078125 1.882812 -5.320312 2.492188 -5.320312 C 2.902344 -5.320312 3.257812 -5.222656 3.5625 -5.019531 Z M 3.671875 -4.078125 C 3.40625 -4.390625 3.066406 -4.546875 2.652344 -4.546875 C 2.03125 -4.546875 1.609375 -4.257812 1.382812 -3.675781 C 1.261719 -3.367188 1.203125 -2.960938 1.203125 -2.460938 C 1.203125 -1.871094 1.320312 -1.421875 1.558594 -1.117188 C 1.796875 -0.808594 2.121094 -0.65625 2.523438 -0.65625 C 3.15625 -0.65625 3.601562 -0.9375 3.859375 -1.507812 C 4 -1.832031 4.070312 -2.207031 4.070312 -2.636719 C 4.070312 -3.285156 3.9375 -3.765625 3.671875 -4.078125 Z M 3.671875 -4.078125 \"/>\n",
       "</symbol>\n",
       "<symbol overflow=\"visible\" id=\"glyph1-0\">\n",
       "<path style=\"stroke:none;\" d=\"\"/>\n",
       "</symbol>\n",
       "<symbol overflow=\"visible\" id=\"glyph1-1\">\n",
       "<path style=\"stroke:none;\" d=\"M -1.78125 -1.234375 C -1.28125 -1.292969 -0.933594 -1.527344 -0.742188 -1.933594 C -0.644531 -2.140625 -0.59375 -2.382812 -0.59375 -2.65625 C -0.59375 -3.175781 -0.761719 -3.5625 -1.09375 -3.8125 C -1.425781 -4.0625 -1.792969 -4.1875 -2.195312 -4.1875 C -2.683594 -4.1875 -3.0625 -4.039062 -3.328125 -3.742188 C -3.597656 -3.445312 -3.730469 -3.085938 -3.730469 -2.671875 C -3.730469 -2.367188 -3.671875 -2.109375 -3.554688 -1.890625 C -3.4375 -1.675781 -3.273438 -1.492188 -3.066406 -1.339844 L -3.109375 -0.578125 L -6.875 -1.109375 L -6.875 -4.742188 L -6.023438 -4.742188 L -6.023438 -1.769531 L -4.082031 -1.46875 C -4.207031 -1.632812 -4.296875 -1.789062 -4.359375 -1.933594 C -4.46875 -2.195312 -4.523438 -2.496094 -4.523438 -2.835938 C -4.523438 -3.476562 -4.316406 -4.023438 -3.902344 -4.46875 C -3.488281 -4.914062 -2.964844 -5.136719 -2.328125 -5.136719 C -1.667969 -5.136719 -1.085938 -4.933594 -0.582031 -4.523438 C -0.078125 -4.117188 0.175781 -3.464844 0.175781 -2.570312 C 0.175781 -2 0.015625 -1.496094 -0.304688 -1.058594 C -0.625 -0.621094 -1.117188 -0.375 -1.78125 -0.324219 Z M -1.78125 -1.234375 \"/>\n",
       "</symbol>\n",
       "<symbol overflow=\"visible\" id=\"glyph1-2\">\n",
       "<path style=\"stroke:none;\" d=\"M -5.875 -4.667969 C -5.296875 -4.980469 -4.507812 -5.136719 -3.503906 -5.136719 C -2.554688 -5.136719 -1.769531 -4.996094 -1.148438 -4.710938 C -0.253906 -4.300781 0.191406 -3.632812 0.191406 -2.699219 C 0.191406 -1.859375 -0.175781 -1.234375 -0.902344 -0.824219 C -1.511719 -0.484375 -2.328125 -0.3125 -3.355469 -0.3125 C -4.148438 -0.3125 -4.832031 -0.414062 -5.398438 -0.621094 C -6.460938 -1.003906 -6.992188 -1.699219 -6.992188 -2.707031 C -6.992188 -3.609375 -6.621094 -4.265625 -5.875 -4.667969 Z M -1.214844 -3.785156 C -1.617188 -4.054688 -2.371094 -4.1875 -3.472656 -4.1875 C -4.265625 -4.1875 -4.917969 -4.09375 -5.433594 -3.898438 C -5.945312 -3.703125 -6.203125 -3.320312 -6.203125 -2.757812 C -6.203125 -2.242188 -5.957031 -1.863281 -5.472656 -1.625 C -4.984375 -1.382812 -4.265625 -1.265625 -3.320312 -1.265625 C -2.609375 -1.265625 -2.035156 -1.339844 -1.601562 -1.492188 C -0.941406 -1.726562 -0.609375 -2.128906 -0.609375 -2.695312 C -0.609375 -3.152344 -0.8125 -3.515625 -1.214844 -3.785156 Z M -1.214844 -3.785156 \"/>\n",
       "</symbol>\n",
       "<symbol overflow=\"visible\" id=\"glyph1-3\">\n",
       "<path style=\"stroke:none;\" d=\"M -6.414062 -4.558594 C -6.007812 -4.867188 -5.589844 -5.019531 -5.160156 -5.019531 L -5.160156 -4.148438 C -5.4375 -4.097656 -5.65625 -4.015625 -5.8125 -3.902344 C -6.105469 -3.691406 -6.25 -3.371094 -6.25 -2.941406 C -6.25 -2.449219 -6.023438 -2.058594 -5.570312 -1.769531 C -5.117188 -1.476562 -4.464844 -1.316406 -3.617188 -1.285156 C -3.914062 -1.484375 -4.136719 -1.738281 -4.28125 -2.046875 C -4.414062 -2.328125 -4.476562 -2.636719 -4.476562 -2.984375 C -4.476562 -3.570312 -4.289062 -4.082031 -3.914062 -4.515625 C -3.539062 -4.953125 -2.984375 -5.171875 -2.242188 -5.171875 C -1.605469 -5.171875 -1.042969 -4.964844 -0.554688 -4.550781 C -0.0625 -4.136719 0.179688 -3.546875 0.179688 -2.78125 C 0.179688 -2.128906 -0.0664062 -1.5625 -0.5625 -1.089844 C -1.058594 -0.613281 -1.894531 -0.375 -3.070312 -0.375 C -3.941406 -0.375 -4.679688 -0.480469 -5.28125 -0.695312 C -6.441406 -1.101562 -7.023438 -1.84375 -7.023438 -2.925781 C -7.023438 -3.707031 -6.820312 -4.25 -6.414062 -4.558594 Z M -1.066406 -3.898438 C -1.378906 -4.128906 -1.746094 -4.242188 -2.167969 -4.242188 C -2.527344 -4.242188 -2.867188 -4.140625 -3.191406 -3.9375 C -3.515625 -3.730469 -3.675781 -3.359375 -3.675781 -2.816406 C -3.675781 -2.441406 -3.550781 -2.109375 -3.300781 -1.824219 C -3.050781 -1.539062 -2.671875 -1.398438 -2.167969 -1.398438 C -1.726562 -1.398438 -1.351562 -1.527344 -1.050781 -1.785156 C -0.75 -2.042969 -0.601562 -2.402344 -0.601562 -2.859375 C -0.601562 -3.324219 -0.757812 -3.667969 -1.066406 -3.898438 Z M -1.066406 -3.898438 \"/>\n",
       "</symbol>\n",
       "<symbol overflow=\"visible\" id=\"glyph1-4\">\n",
       "<path style=\"stroke:none;\" d=\"M -6.875 -5.230469 L -6.109375 -5.230469 C -5.890625 -5.003906 -5.511719 -4.707031 -4.96875 -4.332031 C -4.429688 -3.960938 -3.847656 -3.632812 -3.222656 -3.34375 C -2.613281 -3.0625 -2.058594 -2.847656 -1.558594 -2.699219 C -1.234375 -2.605469 -0.714844 -2.484375 0 -2.335938 L 0 -1.363281 C -1.335938 -1.585938 -2.664062 -2.070312 -3.984375 -2.828125 C -4.757812 -3.273438 -5.429688 -3.742188 -5.992188 -4.234375 L -5.992188 -0.367188 L -6.875 -0.367188 Z M -6.875 -5.230469 \"/>\n",
       "</symbol>\n",
       "<symbol overflow=\"visible\" id=\"glyph1-5\">\n",
       "<path style=\"stroke:none;\" d=\"M -4.386719 -3.628906 C -4.601562 -3.847656 -4.863281 -3.957031 -5.160156 -3.957031 C -5.421875 -3.957031 -5.660156 -3.851562 -5.878906 -3.644531 C -6.097656 -3.433594 -6.207031 -3.117188 -6.207031 -2.691406 C -6.207031 -2.269531 -6.097656 -1.960938 -5.878906 -1.773438 C -5.660156 -1.585938 -5.40625 -1.488281 -5.113281 -1.488281 C -4.785156 -1.488281 -4.527344 -1.613281 -4.339844 -1.855469 C -4.15625 -2.101562 -4.0625 -2.386719 -4.0625 -2.71875 C -4.0625 -3.105469 -4.171875 -3.410156 -4.386719 -3.628906 Z M -0.929688 -3.785156 C -1.148438 -4.054688 -1.476562 -4.1875 -1.914062 -4.1875 C -2.367188 -4.1875 -2.710938 -4.050781 -2.945312 -3.773438 C -3.179688 -3.496094 -3.296875 -3.144531 -3.296875 -2.710938 C -3.296875 -2.289062 -3.175781 -1.949219 -2.9375 -1.683594 C -2.699219 -1.417969 -2.367188 -1.285156 -1.945312 -1.285156 C -1.578125 -1.285156 -1.265625 -1.40625 -1 -1.648438 C -0.734375 -1.890625 -0.601562 -2.265625 -0.601562 -2.773438 C -0.601562 -3.179688 -0.710938 -3.519531 -0.929688 -3.785156 Z M -4.09375 -0.953125 C -4.351562 -0.695312 -4.691406 -0.566406 -5.109375 -0.566406 C -5.628906 -0.566406 -6.074219 -0.753906 -6.449219 -1.132812 C -6.824219 -1.511719 -7.011719 -2.046875 -7.011719 -2.738281 C -7.011719 -3.410156 -6.835938 -3.9375 -6.480469 -4.316406 C -6.128906 -4.695312 -5.714844 -4.886719 -5.242188 -4.886719 C -4.808594 -4.886719 -4.453125 -4.777344 -4.183594 -4.554688 C -4.03125 -4.429688 -3.882812 -4.238281 -3.734375 -3.980469 C -3.601562 -4.269531 -3.449219 -4.496094 -3.277344 -4.664062 C -2.953125 -4.972656 -2.527344 -5.125 -2.007812 -5.125 C -1.390625 -5.125 -0.871094 -4.921875 -0.441406 -4.507812 C -0.0117188 -4.09375 0.199219 -3.507812 0.199219 -2.753906 C 0.199219 -2.074219 0.015625 -1.5 -0.355469 -1.027344 C -0.722656 -0.558594 -1.257812 -0.324219 -1.960938 -0.324219 C -2.375 -0.324219 -2.734375 -0.421875 -3.035156 -0.625 C -3.335938 -0.828125 -3.566406 -1.125 -3.726562 -1.523438 C -3.828125 -1.28125 -3.953125 -1.089844 -4.09375 -0.953125 Z M -4.09375 -0.953125 \"/>\n",
       "</symbol>\n",
       "<symbol overflow=\"visible\" id=\"glyph1-6\">\n",
       "<path style=\"stroke:none;\" d=\"M -7.171875 -0.761719 L -7.171875 -1.734375 L -0.855469 -1.734375 L -0.855469 -5.367188 L 0 -5.367188 L 0 -0.761719 Z M -7.171875 -0.761719 \"/>\n",
       "</symbol>\n",
       "<symbol overflow=\"visible\" id=\"glyph1-7\">\n",
       "<path style=\"stroke:none;\" d=\"M -5.203125 -0.644531 L -5.203125 -1.539062 L 0 -1.539062 L 0 -0.644531 Z M -7.171875 -0.644531 L -7.171875 -1.539062 L -6.175781 -1.539062 L -6.175781 -0.644531 Z M -7.171875 -0.644531 \"/>\n",
       "</symbol>\n",
       "<symbol overflow=\"visible\" id=\"glyph1-8\">\n",
       "<path style=\"stroke:none;\" d=\"M -6.828125 -1.054688 C -7.125 -1.261719 -7.273438 -1.65625 -7.273438 -2.242188 C -7.273438 -2.296875 -7.273438 -2.355469 -7.269531 -2.414062 C -7.265625 -2.472656 -7.261719 -2.539062 -7.257812 -2.613281 L -6.453125 -2.613281 C -6.460938 -2.523438 -6.464844 -2.457031 -6.46875 -2.414062 C -6.46875 -2.375 -6.46875 -2.335938 -6.46875 -2.300781 C -6.46875 -2.035156 -6.402344 -1.875 -6.261719 -1.820312 C -6.125 -1.769531 -5.773438 -1.742188 -5.203125 -1.742188 L -5.203125 -2.613281 L -4.511719 -2.613281 L -4.511719 -1.734375 L 0 -1.734375 L 0 -0.863281 L -4.511719 -0.863281 L -4.511719 -0.136719 L -5.203125 -0.136719 L -5.203125 -0.863281 L -6.023438 -0.863281 C -6.390625 -0.878906 -6.65625 -0.941406 -6.828125 -1.054688 Z M -6.828125 -1.054688 \"/>\n",
       "</symbol>\n",
       "<symbol overflow=\"visible\" id=\"glyph1-9\">\n",
       "<path style=\"stroke:none;\" d=\"M -5.085938 -3.902344 C -4.910156 -4.25 -4.6875 -4.515625 -4.410156 -4.695312 C -4.144531 -4.871094 -3.835938 -4.992188 -3.484375 -5.046875 C -3.246094 -5.101562 -2.859375 -5.125 -2.332031 -5.125 L -2.335938 -1.292969 C -1.804688 -1.308594 -1.378906 -1.4375 -1.058594 -1.671875 C -0.738281 -1.90625 -0.574219 -2.265625 -0.574219 -2.757812 C -0.574219 -3.21875 -0.726562 -3.585938 -1.03125 -3.859375 C -1.207031 -4.015625 -1.410156 -4.125 -1.640625 -4.1875 L -1.640625 -5.054688 C -1.449219 -5.03125 -1.234375 -4.957031 -1 -4.828125 C -0.761719 -4.699219 -0.570312 -4.554688 -0.417969 -4.394531 C -0.160156 -4.128906 0.015625 -3.796875 0.109375 -3.402344 C 0.160156 -3.191406 0.1875 -2.953125 0.1875 -2.6875 C 0.1875 -2.035156 -0.0507812 -1.484375 -0.523438 -1.03125 C -1 -0.578125 -1.660156 -0.351562 -2.515625 -0.351562 C -3.355469 -0.351562 -4.035156 -0.578125 -4.5625 -1.035156 C -5.085938 -1.492188 -5.347656 -2.085938 -5.347656 -2.824219 C -5.347656 -3.195312 -5.257812 -3.554688 -5.085938 -3.902344 Z M -3.03125 -4.222656 C -3.414062 -4.1875 -3.71875 -4.105469 -3.945312 -3.976562 C -4.367188 -3.734375 -4.578125 -3.332031 -4.578125 -2.769531 C -4.578125 -2.367188 -4.433594 -2.027344 -4.144531 -1.753906 C -3.851562 -1.480469 -3.480469 -1.335938 -3.03125 -1.320312 Z M -3.03125 -4.222656 \"/>\n",
       "</symbol>\n",
       "<symbol overflow=\"visible\" id=\"glyph1-10\">\n",
       "<g>\n",
       "</g>\n",
       "</symbol>\n",
       "<symbol overflow=\"visible\" id=\"glyph1-11\">\n",
       "<path style=\"stroke:none;\" d=\"M -7.171875 -0.855469 L -7.171875 -6.085938 L -6.292969 -6.085938 L -6.292969 -1.800781 L -4.117188 -1.800781 L -4.117188 -5.761719 L -3.285156 -5.761719 L -3.285156 -1.800781 L -0.855469 -1.800781 L -0.855469 -6.15625 L 0 -6.15625 L 0 -0.855469 Z M -7.171875 -0.855469 \"/>\n",
       "</symbol>\n",
       "<symbol overflow=\"visible\" id=\"glyph1-12\">\n",
       "<path style=\"stroke:none;\" d=\"M -5.230469 -0.148438 L -5.230469 -1.285156 L -3.390625 -2.484375 L -5.230469 -3.703125 L -5.203125 -4.769531 L -2.679688 -3.007812 L 0 -4.847656 L 0 -3.726562 L -1.960938 -2.425781 L 0 -1.167969 L 0 -0.0546875 L -2.679688 -1.894531 Z M -5.230469 -0.148438 \"/>\n",
       "</symbol>\n",
       "<symbol overflow=\"visible\" id=\"glyph1-13\">\n",
       "<path style=\"stroke:none;\" d=\"M -1.105469 -3.875 C -1.449219 -4.148438 -1.960938 -4.28125 -2.644531 -4.28125 C -3.0625 -4.28125 -3.421875 -4.222656 -3.71875 -4.101562 C -4.296875 -3.875 -4.585938 -3.457031 -4.585938 -2.851562 C -4.585938 -2.242188 -4.28125 -1.828125 -3.671875 -1.601562 C -3.347656 -1.480469 -2.933594 -1.421875 -2.429688 -1.421875 C -2.027344 -1.421875 -1.683594 -1.480469 -1.402344 -1.601562 C -0.859375 -1.828125 -0.589844 -2.246094 -0.589844 -2.851562 C -0.589844 -3.261719 -0.761719 -3.601562 -1.105469 -3.875 Z M -5.203125 -0.578125 L -5.203125 -1.429688 L -4.511719 -1.429688 C -4.75 -1.605469 -4.933594 -1.796875 -5.0625 -2.007812 C -5.257812 -2.304688 -5.355469 -2.652344 -5.355469 -3.050781 C -5.355469 -3.644531 -5.128906 -4.148438 -4.675781 -4.5625 C -4.222656 -4.976562 -3.574219 -5.179688 -2.730469 -5.179688 C -1.589844 -5.179688 -0.777344 -4.882812 -0.289062 -4.289062 C 0.0195312 -3.910156 0.175781 -3.46875 0.175781 -2.96875 C 0.175781 -2.574219 0.0898438 -2.246094 -0.0820312 -1.976562 C -0.179688 -1.820312 -0.347656 -1.648438 -0.585938 -1.453125 L 2.085938 -1.453125 L 2.085938 -0.574219 Z M -5.203125 -0.578125 \"/>\n",
       "</symbol>\n",
       "<symbol overflow=\"visible\" id=\"glyph1-14\">\n",
       "<path style=\"stroke:none;\" d=\"M -4.953125 -4.097656 C -4.664062 -4.46875 -4.171875 -4.691406 -3.472656 -4.765625 L -3.472656 -3.910156 C -3.792969 -3.859375 -4.0625 -3.742188 -4.273438 -3.554688 C -4.488281 -3.367188 -4.59375 -3.070312 -4.59375 -2.660156 C -4.59375 -2.101562 -4.320312 -1.699219 -3.773438 -1.460938 C -3.417969 -1.304688 -2.980469 -1.226562 -2.460938 -1.226562 C -1.9375 -1.226562 -1.496094 -1.335938 -1.136719 -1.558594 C -0.78125 -1.78125 -0.601562 -2.128906 -0.601562 -2.601562 C -0.601562 -2.96875 -0.710938 -3.257812 -0.933594 -3.46875 C -1.15625 -3.683594 -1.464844 -3.828125 -1.851562 -3.910156 L -1.851562 -4.765625 C -1.15625 -4.667969 -0.648438 -4.421875 -0.328125 -4.03125 C -0.0078125 -3.640625 0.152344 -3.144531 0.152344 -2.535156 C 0.152344 -1.851562 -0.0976562 -1.304688 -0.597656 -0.898438 C -1.097656 -0.492188 -1.722656 -0.289062 -2.46875 -0.289062 C -3.386719 -0.289062 -4.101562 -0.511719 -4.613281 -0.957031 C -5.125 -1.402344 -5.382812 -1.972656 -5.382812 -2.660156 C -5.382812 -3.25 -5.238281 -3.730469 -4.953125 -4.097656 Z M -4.953125 -4.097656 \"/>\n",
       "</symbol>\n",
       "<symbol overflow=\"visible\" id=\"glyph1-15\">\n",
       "<path style=\"stroke:none;\" d=\"M -6.6875 -0.820312 L -6.6875 -1.710938 L -5.230469 -1.710938 L -5.230469 -2.542969 L -4.511719 -2.542969 L -4.511719 -1.710938 L -1.097656 -1.710938 C -0.914062 -1.710938 -0.792969 -1.769531 -0.730469 -1.894531 C -0.695312 -1.960938 -0.679688 -2.078125 -0.679688 -2.234375 C -0.679688 -2.277344 -0.679688 -2.324219 -0.679688 -2.375 C -0.683594 -2.421875 -0.6875 -2.480469 -0.691406 -2.542969 L 0 -2.542969 C 0.03125 -2.441406 0.0507812 -2.339844 0.0625 -2.230469 C 0.078125 -2.121094 0.0820312 -2 0.0820312 -1.875 C 0.0820312 -1.464844 -0.0234375 -1.1875 -0.230469 -1.039062 C -0.441406 -0.894531 -0.714844 -0.820312 -1.050781 -0.820312 L -4.511719 -0.820312 L -4.511719 -0.113281 L -5.230469 -0.113281 L -5.230469 -0.820312 Z M -6.6875 -0.820312 \"/>\n",
       "</symbol>\n",
       "<symbol overflow=\"visible\" id=\"glyph1-16\">\n",
       "<path style=\"stroke:none;\" d=\"M -0.789062 -1.597656 C -0.644531 -1.78125 -0.570312 -2 -0.570312 -2.257812 C -0.570312 -2.566406 -0.644531 -2.863281 -0.785156 -3.15625 C -1.023438 -3.644531 -1.414062 -3.886719 -1.953125 -3.886719 L -2.660156 -3.886719 C -2.59375 -3.78125 -2.535156 -3.640625 -2.492188 -3.472656 C -2.445312 -3.304688 -2.414062 -3.136719 -2.390625 -2.972656 L -2.324219 -2.441406 C -2.28125 -2.121094 -2.214844 -1.882812 -2.125 -1.722656 C -1.972656 -1.453125 -1.726562 -1.320312 -1.390625 -1.320312 C -1.136719 -1.320312 -0.9375 -1.410156 -0.789062 -1.597656 Z M -3.167969 -3.445312 C -3.195312 -3.648438 -3.28125 -3.785156 -3.421875 -3.851562 C -3.5 -3.890625 -3.613281 -3.910156 -3.757812 -3.910156 C -4.058594 -3.910156 -4.277344 -3.804688 -4.410156 -3.589844 C -4.546875 -3.378906 -4.613281 -3.074219 -4.613281 -2.675781 C -4.613281 -2.21875 -4.492188 -1.890625 -4.242188 -1.699219 C -4.105469 -1.59375 -3.902344 -1.523438 -3.632812 -1.488281 L -3.632812 -0.667969 C -4.277344 -0.683594 -4.726562 -0.894531 -4.976562 -1.296875 C -5.230469 -1.699219 -5.355469 -2.164062 -5.355469 -2.695312 C -5.355469 -3.3125 -5.238281 -3.808594 -5.003906 -4.195312 C -4.769531 -4.574219 -4.40625 -4.765625 -3.910156 -4.765625 L -0.898438 -4.765625 C -0.808594 -4.765625 -0.734375 -4.785156 -0.679688 -4.820312 C -0.625 -4.859375 -0.59375 -4.9375 -0.59375 -5.058594 C -0.59375 -5.097656 -0.597656 -5.140625 -0.601562 -5.191406 C -0.605469 -5.238281 -0.613281 -5.292969 -0.625 -5.347656 L 0.0234375 -5.347656 C 0.0625 -5.210938 0.0898438 -5.105469 0.0976562 -5.035156 C 0.109375 -4.960938 0.113281 -4.863281 0.113281 -4.742188 C 0.113281 -4.4375 0.00390625 -4.21875 -0.210938 -4.082031 C -0.324219 -4.011719 -0.484375 -3.960938 -0.691406 -3.929688 C -0.457031 -3.75 -0.253906 -3.496094 -0.0820312 -3.160156 C 0.0898438 -2.824219 0.175781 -2.453125 0.175781 -2.050781 C 0.175781 -1.566406 0.0273438 -1.167969 -0.265625 -0.863281 C -0.5625 -0.554688 -0.929688 -0.402344 -1.371094 -0.402344 C -1.855469 -0.402344 -2.234375 -0.550781 -2.5 -0.855469 C -2.765625 -1.15625 -2.929688 -1.554688 -2.992188 -2.046875 Z M -3.167969 -3.445312 \"/>\n",
       "</symbol>\n",
       "<symbol overflow=\"visible\" id=\"glyph1-17\">\n",
       "<path style=\"stroke:none;\" d=\"M -5.230469 -0.644531 L -5.230469 -1.480469 L -4.488281 -1.480469 C -4.792969 -1.726562 -5.011719 -1.988281 -5.148438 -2.265625 C -5.28125 -2.542969 -5.347656 -2.851562 -5.347656 -3.1875 C -5.347656 -3.929688 -5.085938 -4.433594 -4.570312 -4.691406 C -4.289062 -4.835938 -3.882812 -4.90625 -3.355469 -4.90625 L 0 -4.90625 L 0 -4.015625 L -3.296875 -4.015625 C -3.617188 -4.015625 -3.871094 -3.964844 -4.066406 -3.871094 C -4.390625 -3.714844 -4.554688 -3.433594 -4.554688 -3.023438 C -4.554688 -2.8125 -4.535156 -2.644531 -4.492188 -2.511719 C -4.421875 -2.269531 -4.277344 -2.058594 -4.0625 -1.875 C -3.890625 -1.726562 -3.710938 -1.632812 -3.527344 -1.589844 C -3.34375 -1.546875 -3.082031 -1.523438 -2.738281 -1.523438 L 0 -1.523438 L 0 -0.644531 Z M -5.230469 -0.644531 \"/>\n",
       "</symbol>\n",
       "<symbol overflow=\"visible\" id=\"glyph1-18\">\n",
       "<path style=\"stroke:none;\" d=\"M -5.230469 -3.910156 L -5.230469 -4.882812 C -4.894531 -4.757812 -4.128906 -4.484375 -2.933594 -4.058594 C -2.035156 -3.738281 -1.304688 -3.472656 -0.738281 -3.257812 C 0.597656 -2.75 1.410156 -2.390625 1.703125 -2.183594 C 1.996094 -1.976562 2.144531 -1.617188 2.144531 -1.109375 C 2.144531 -0.984375 2.140625 -0.890625 2.128906 -0.824219 C 2.117188 -0.757812 2.101562 -0.671875 2.074219 -0.574219 L 1.273438 -0.574219 C 1.316406 -0.726562 1.34375 -0.839844 1.351562 -0.90625 C 1.363281 -0.976562 1.367188 -1.035156 1.367188 -1.089844 C 1.367188 -1.25 1.339844 -1.371094 1.285156 -1.449219 C 1.234375 -1.523438 1.167969 -1.589844 1.089844 -1.640625 C 1.0625 -1.65625 0.929688 -1.714844 0.6875 -1.816406 C 0.449219 -1.917969 0.269531 -1.992188 0.152344 -2.035156 L -5.230469 -0.101562 L -5.230469 -1.097656 L -0.972656 -2.5 Z M -5.230469 -3.910156 \"/>\n",
       "</symbol>\n",
       "</g>\n",
       "</defs>\n",
       "<g id=\"surface20\">\n",
       "<rect x=\"0\" y=\"0\" width=\"504\" height=\"504\" style=\"fill:rgb(100%,100%,100%);fill-opacity:1;stroke:none;\"/>\n",
       "<path style=\"fill:none;stroke-width:2.25;stroke-linecap:butt;stroke-linejoin:round;stroke:rgb(0%,0%,0%);stroke-opacity:1;stroke-miterlimit:10;\" d=\"M 80.800781 316.464844 L 132 316.464844 \"/>\n",
       "<path style=\"fill:none;stroke-width:0.75;stroke-linecap:round;stroke-linejoin:round;stroke:rgb(0%,0%,0%);stroke-opacity:1;stroke-dasharray:3,3;stroke-miterlimit:10;\" d=\"M 106.398438 416.800781 L 106.398438 359.464844 \"/>\n",
       "<path style=\"fill:none;stroke-width:0.75;stroke-linecap:round;stroke-linejoin:round;stroke:rgb(0%,0%,0%);stroke-opacity:1;stroke-dasharray:3,3;stroke-miterlimit:10;\" d=\"M 106.398438 168.355469 L 106.398438 283.023438 \"/>\n",
       "<path style=\"fill:none;stroke-width:0.75;stroke-linecap:round;stroke-linejoin:round;stroke:rgb(0%,0%,0%);stroke-opacity:1;stroke-miterlimit:10;\" d=\"M 93.601562 416.800781 L 119.199219 416.800781 \"/>\n",
       "<path style=\"fill:none;stroke-width:0.75;stroke-linecap:round;stroke-linejoin:round;stroke:rgb(0%,0%,0%);stroke-opacity:1;stroke-miterlimit:10;\" d=\"M 93.601562 168.355469 L 119.199219 168.355469 \"/>\n",
       "<path style=\"fill:none;stroke-width:0.75;stroke-linecap:round;stroke-linejoin:round;stroke:rgb(0%,0%,0%);stroke-opacity:1;stroke-miterlimit:10;\" d=\"M 80.800781 359.464844 L 132 359.464844 L 132 283.023438 L 80.800781 283.023438 L 80.800781 359.464844 \"/>\n",
       "<path style=\"fill:none;stroke-width:0.75;stroke-linecap:round;stroke-linejoin:round;stroke:rgb(0%,0%,0%);stroke-opacity:1;stroke-miterlimit:10;\" d=\"M 109.101562 158.800781 C 109.101562 162.398438 103.699219 162.398438 103.699219 158.800781 C 103.699219 155.199219 109.101562 155.199219 109.101562 158.800781 \"/>\n",
       "<path style=\"fill:none;stroke-width:0.75;stroke-linecap:round;stroke-linejoin:round;stroke:rgb(0%,0%,0%);stroke-opacity:1;stroke-miterlimit:10;\" d=\"M 109.101562 158.800781 C 109.101562 162.398438 103.699219 162.398438 103.699219 158.800781 C 103.699219 155.199219 109.101562 155.199219 109.101562 158.800781 \"/>\n",
       "<path style=\"fill:none;stroke-width:2.25;stroke-linecap:butt;stroke-linejoin:round;stroke:rgb(0%,0%,0%);stroke-opacity:1;stroke-miterlimit:10;\" d=\"M 144.800781 149.246094 L 196 149.246094 \"/>\n",
       "<path style=\"fill:none;stroke-width:0.75;stroke-linecap:round;stroke-linejoin:round;stroke:rgb(0%,0%,0%);stroke-opacity:1;stroke-dasharray:3,3;stroke-miterlimit:10;\" d=\"M 170.398438 206.578125 L 170.398438 163.578125 \"/>\n",
       "<path style=\"fill:none;stroke-width:0.75;stroke-linecap:round;stroke-linejoin:round;stroke:rgb(0%,0%,0%);stroke-opacity:1;stroke-dasharray:3,3;stroke-miterlimit:10;\" d=\"M 170.398438 82.355469 L 170.398438 130.132812 \"/>\n",
       "<path style=\"fill:none;stroke-width:0.75;stroke-linecap:round;stroke-linejoin:round;stroke:rgb(0%,0%,0%);stroke-opacity:1;stroke-miterlimit:10;\" d=\"M 157.601562 206.578125 L 183.199219 206.578125 \"/>\n",
       "<path style=\"fill:none;stroke-width:0.75;stroke-linecap:round;stroke-linejoin:round;stroke:rgb(0%,0%,0%);stroke-opacity:1;stroke-miterlimit:10;\" d=\"M 157.601562 82.355469 L 183.199219 82.355469 \"/>\n",
       "<path style=\"fill:none;stroke-width:0.75;stroke-linecap:round;stroke-linejoin:round;stroke:rgb(0%,0%,0%);stroke-opacity:1;stroke-miterlimit:10;\" d=\"M 144.800781 163.578125 L 196 163.578125 L 196 130.132812 L 144.800781 130.132812 L 144.800781 163.578125 \"/>\n",
       "<path style=\"fill:none;stroke-width:0.75;stroke-linecap:round;stroke-linejoin:round;stroke:rgb(0%,0%,0%);stroke-opacity:1;stroke-miterlimit:10;\" d=\"M 173.101562 225.6875 C 173.101562 229.289062 167.699219 229.289062 167.699219 225.6875 C 167.699219 222.089844 173.101562 222.089844 173.101562 225.6875 \"/>\n",
       "<path style=\"fill:none;stroke-width:0.75;stroke-linecap:round;stroke-linejoin:round;stroke:rgb(0%,0%,0%);stroke-opacity:1;stroke-miterlimit:10;\" d=\"M 173.101562 263.910156 C 173.101562 267.511719 167.699219 267.511719 167.699219 263.910156 C 167.699219 260.3125 173.101562 260.3125 173.101562 263.910156 \"/>\n",
       "<path style=\"fill:none;stroke-width:0.75;stroke-linecap:round;stroke-linejoin:round;stroke:rgb(0%,0%,0%);stroke-opacity:1;stroke-miterlimit:10;\" d=\"M 173.101562 263.910156 C 173.101562 267.511719 167.699219 267.511719 167.699219 263.910156 C 167.699219 260.3125 173.101562 260.3125 173.101562 263.910156 \"/>\n",
       "<path style=\"fill:none;stroke-width:2.25;stroke-linecap:butt;stroke-linejoin:round;stroke:rgb(0%,0%,0%);stroke-opacity:1;stroke-miterlimit:10;\" d=\"M 208.800781 173.132812 L 260 173.132812 \"/>\n",
       "<path style=\"fill:none;stroke-width:0.75;stroke-linecap:round;stroke-linejoin:round;stroke:rgb(0%,0%,0%);stroke-opacity:1;stroke-dasharray:3,3;stroke-miterlimit:10;\" d=\"M 234.398438 388.132812 L 234.398438 254.355469 \"/>\n",
       "<path style=\"fill:none;stroke-width:0.75;stroke-linecap:round;stroke-linejoin:round;stroke:rgb(0%,0%,0%);stroke-opacity:1;stroke-dasharray:3,3;stroke-miterlimit:10;\" d=\"M 234.398438 82.355469 L 234.398438 139.6875 \"/>\n",
       "<path style=\"fill:none;stroke-width:0.75;stroke-linecap:round;stroke-linejoin:round;stroke:rgb(0%,0%,0%);stroke-opacity:1;stroke-miterlimit:10;\" d=\"M 221.601562 388.132812 L 247.199219 388.132812 \"/>\n",
       "<path style=\"fill:none;stroke-width:0.75;stroke-linecap:round;stroke-linejoin:round;stroke:rgb(0%,0%,0%);stroke-opacity:1;stroke-miterlimit:10;\" d=\"M 221.601562 82.355469 L 247.199219 82.355469 \"/>\n",
       "<path style=\"fill:none;stroke-width:0.75;stroke-linecap:round;stroke-linejoin:round;stroke:rgb(0%,0%,0%);stroke-opacity:1;stroke-miterlimit:10;\" d=\"M 208.800781 254.355469 L 260 254.355469 L 260 139.6875 L 208.800781 139.6875 L 208.800781 254.355469 \"/>\n",
       "<path style=\"fill:none;stroke-width:2.25;stroke-linecap:butt;stroke-linejoin:round;stroke:rgb(0%,0%,0%);stroke-opacity:1;stroke-miterlimit:10;\" d=\"M 272.800781 130.132812 L 324 130.132812 \"/>\n",
       "<path style=\"fill:none;stroke-width:0.75;stroke-linecap:round;stroke-linejoin:round;stroke:rgb(0%,0%,0%);stroke-opacity:1;stroke-dasharray:3,3;stroke-miterlimit:10;\" d=\"M 298.398438 225.6875 L 298.398438 158.800781 \"/>\n",
       "<path style=\"fill:none;stroke-width:0.75;stroke-linecap:round;stroke-linejoin:round;stroke:rgb(0%,0%,0%);stroke-opacity:1;stroke-dasharray:3,3;stroke-miterlimit:10;\" d=\"M 298.398438 72.800781 L 298.398438 91.910156 \"/>\n",
       "<path style=\"fill:none;stroke-width:0.75;stroke-linecap:round;stroke-linejoin:round;stroke:rgb(0%,0%,0%);stroke-opacity:1;stroke-miterlimit:10;\" d=\"M 285.601562 225.6875 L 311.199219 225.6875 \"/>\n",
       "<path style=\"fill:none;stroke-width:0.75;stroke-linecap:round;stroke-linejoin:round;stroke:rgb(0%,0%,0%);stroke-opacity:1;stroke-miterlimit:10;\" d=\"M 285.601562 72.800781 L 311.199219 72.800781 \"/>\n",
       "<path style=\"fill:none;stroke-width:0.75;stroke-linecap:round;stroke-linejoin:round;stroke:rgb(0%,0%,0%);stroke-opacity:1;stroke-miterlimit:10;\" d=\"M 272.800781 158.800781 L 324 158.800781 L 324 91.910156 L 272.800781 91.910156 L 272.800781 158.800781 \"/>\n",
       "<path style=\"fill:none;stroke-width:0.75;stroke-linecap:round;stroke-linejoin:round;stroke:rgb(0%,0%,0%);stroke-opacity:1;stroke-miterlimit:10;\" d=\"M 301.101562 263.910156 C 301.101562 267.511719 295.699219 267.511719 295.699219 263.910156 C 295.699219 260.3125 301.101562 260.3125 301.101562 263.910156 \"/>\n",
       "<path style=\"fill:none;stroke-width:2.25;stroke-linecap:butt;stroke-linejoin:round;stroke:rgb(0%,0%,0%);stroke-opacity:1;stroke-miterlimit:10;\" d=\"M 336.800781 206.578125 L 388 206.578125 \"/>\n",
       "<path style=\"fill:none;stroke-width:0.75;stroke-linecap:round;stroke-linejoin:round;stroke:rgb(0%,0%,0%);stroke-opacity:1;stroke-dasharray:3,3;stroke-miterlimit:10;\" d=\"M 362.398438 254.355469 L 362.398438 235.246094 \"/>\n",
       "<path style=\"fill:none;stroke-width:0.75;stroke-linecap:round;stroke-linejoin:round;stroke:rgb(0%,0%,0%);stroke-opacity:1;stroke-dasharray:3,3;stroke-miterlimit:10;\" d=\"M 362.398438 130.132812 L 362.398438 177.910156 \"/>\n",
       "<path style=\"fill:none;stroke-width:0.75;stroke-linecap:round;stroke-linejoin:round;stroke:rgb(0%,0%,0%);stroke-opacity:1;stroke-miterlimit:10;\" d=\"M 349.601562 254.355469 L 375.199219 254.355469 \"/>\n",
       "<path style=\"fill:none;stroke-width:0.75;stroke-linecap:round;stroke-linejoin:round;stroke:rgb(0%,0%,0%);stroke-opacity:1;stroke-miterlimit:10;\" d=\"M 349.601562 130.132812 L 375.199219 130.132812 \"/>\n",
       "<path style=\"fill:none;stroke-width:0.75;stroke-linecap:round;stroke-linejoin:round;stroke:rgb(0%,0%,0%);stroke-opacity:1;stroke-miterlimit:10;\" d=\"M 336.800781 235.246094 L 388 235.246094 L 388 177.910156 L 336.800781 177.910156 L 336.800781 235.246094 \"/>\n",
       "<path style=\"fill:none;stroke-width:2.25;stroke-linecap:butt;stroke-linejoin:round;stroke:rgb(0%,0%,0%);stroke-opacity:1;stroke-miterlimit:10;\" d=\"M 400.800781 177.910156 L 452 177.910156 \"/>\n",
       "<path style=\"fill:none;stroke-width:0.75;stroke-linecap:round;stroke-linejoin:round;stroke:rgb(0%,0%,0%);stroke-opacity:1;stroke-dasharray:3,3;stroke-miterlimit:10;\" d=\"M 426.398438 292.578125 L 426.398438 211.355469 \"/>\n",
       "<path style=\"fill:none;stroke-width:0.75;stroke-linecap:round;stroke-linejoin:round;stroke:rgb(0%,0%,0%);stroke-opacity:1;stroke-dasharray:3,3;stroke-miterlimit:10;\" d=\"M 426.398438 72.800781 L 426.398438 134.910156 \"/>\n",
       "<path style=\"fill:none;stroke-width:0.75;stroke-linecap:round;stroke-linejoin:round;stroke:rgb(0%,0%,0%);stroke-opacity:1;stroke-miterlimit:10;\" d=\"M 413.601562 292.578125 L 439.199219 292.578125 \"/>\n",
       "<path style=\"fill:none;stroke-width:0.75;stroke-linecap:round;stroke-linejoin:round;stroke:rgb(0%,0%,0%);stroke-opacity:1;stroke-miterlimit:10;\" d=\"M 413.601562 72.800781 L 439.199219 72.800781 \"/>\n",
       "<path style=\"fill:none;stroke-width:0.75;stroke-linecap:round;stroke-linejoin:round;stroke:rgb(0%,0%,0%);stroke-opacity:1;stroke-miterlimit:10;\" d=\"M 400.800781 211.355469 L 452 211.355469 L 452 134.910156 L 400.800781 134.910156 L 400.800781 211.355469 \"/>\n",
       "<path style=\"fill:none;stroke-width:0.75;stroke-linecap:round;stroke-linejoin:round;stroke:rgb(0%,0%,0%);stroke-opacity:1;stroke-miterlimit:10;\" d=\"M 106.398438 430.558594 L 426.398438 430.558594 \"/>\n",
       "<path style=\"fill:none;stroke-width:0.75;stroke-linecap:round;stroke-linejoin:round;stroke:rgb(0%,0%,0%);stroke-opacity:1;stroke-miterlimit:10;\" d=\"M 106.398438 430.558594 L 106.398438 437.761719 \"/>\n",
       "<path style=\"fill:none;stroke-width:0.75;stroke-linecap:round;stroke-linejoin:round;stroke:rgb(0%,0%,0%);stroke-opacity:1;stroke-miterlimit:10;\" d=\"M 170.398438 430.558594 L 170.398438 437.761719 \"/>\n",
       "<path style=\"fill:none;stroke-width:0.75;stroke-linecap:round;stroke-linejoin:round;stroke:rgb(0%,0%,0%);stroke-opacity:1;stroke-miterlimit:10;\" d=\"M 234.398438 430.558594 L 234.398438 437.761719 \"/>\n",
       "<path style=\"fill:none;stroke-width:0.75;stroke-linecap:round;stroke-linejoin:round;stroke:rgb(0%,0%,0%);stroke-opacity:1;stroke-miterlimit:10;\" d=\"M 298.398438 430.558594 L 298.398438 437.761719 \"/>\n",
       "<path style=\"fill:none;stroke-width:0.75;stroke-linecap:round;stroke-linejoin:round;stroke:rgb(0%,0%,0%);stroke-opacity:1;stroke-miterlimit:10;\" d=\"M 362.398438 430.558594 L 362.398438 437.761719 \"/>\n",
       "<path style=\"fill:none;stroke-width:0.75;stroke-linecap:round;stroke-linejoin:round;stroke:rgb(0%,0%,0%);stroke-opacity:1;stroke-miterlimit:10;\" d=\"M 426.398438 430.558594 L 426.398438 437.761719 \"/>\n",
       "<g style=\"fill:rgb(0%,0%,0%);fill-opacity:1;\">\n",
       "  <use xlink:href=\"#glyph0-1\" x=\"93.617188\" y=\"456.480469\"/>\n",
       "  <use xlink:href=\"#glyph0-2\" x=\"100.287109\" y=\"456.480469\"/>\n",
       "  <use xlink:href=\"#glyph0-3\" x=\"103.06543\" y=\"456.480469\"/>\n",
       "  <use xlink:href=\"#glyph0-4\" x=\"106.395508\" y=\"456.480469\"/>\n",
       "  <use xlink:href=\"#glyph0-5\" x=\"108.617188\" y=\"456.480469\"/>\n",
       "  <use xlink:href=\"#glyph0-6\" x=\"113.617188\" y=\"456.480469\"/>\n",
       "</g>\n",
       "<g style=\"fill:rgb(0%,0%,0%);fill-opacity:1;\">\n",
       "  <use xlink:href=\"#glyph0-1\" x=\"149.5625\" y=\"456.480469\"/>\n",
       "  <use xlink:href=\"#glyph0-7\" x=\"156.232422\" y=\"456.480469\"/>\n",
       "  <use xlink:href=\"#glyph0-8\" x=\"164.5625\" y=\"456.480469\"/>\n",
       "  <use xlink:href=\"#glyph0-3\" x=\"170.124023\" y=\"456.480469\"/>\n",
       "  <use xlink:href=\"#glyph0-4\" x=\"173.454102\" y=\"456.480469\"/>\n",
       "  <use xlink:href=\"#glyph0-5\" x=\"175.675781\" y=\"456.480469\"/>\n",
       "  <use xlink:href=\"#glyph0-6\" x=\"180.675781\" y=\"456.480469\"/>\n",
       "  <use xlink:href=\"#glyph0-9\" x=\"186.237305\" y=\"456.480469\"/>\n",
       "</g>\n",
       "<g style=\"fill:rgb(0%,0%,0%);fill-opacity:1;\">\n",
       "  <use xlink:href=\"#glyph0-10\" x=\"282.273438\" y=\"456.480469\"/>\n",
       "  <use xlink:href=\"#glyph0-11\" x=\"288.943359\" y=\"456.480469\"/>\n",
       "  <use xlink:href=\"#glyph0-3\" x=\"294.504883\" y=\"456.480469\"/>\n",
       "  <use xlink:href=\"#glyph0-12\" x=\"297.834961\" y=\"456.480469\"/>\n",
       "  <use xlink:href=\"#glyph0-13\" x=\"303.396484\" y=\"456.480469\"/>\n",
       "  <use xlink:href=\"#glyph0-8\" x=\"308.958008\" y=\"456.480469\"/>\n",
       "</g>\n",
       "<g style=\"fill:rgb(0%,0%,0%);fill-opacity:1;\">\n",
       "  <use xlink:href=\"#glyph0-14\" x=\"326.546875\" y=\"456.480469\"/>\n",
       "  <use xlink:href=\"#glyph0-12\" x=\"333.216797\" y=\"456.480469\"/>\n",
       "  <use xlink:href=\"#glyph0-11\" x=\"338.77832\" y=\"456.480469\"/>\n",
       "  <use xlink:href=\"#glyph0-15\" x=\"344.339844\" y=\"456.480469\"/>\n",
       "  <use xlink:href=\"#glyph0-16\" x=\"347.118164\" y=\"456.480469\"/>\n",
       "  <use xlink:href=\"#glyph0-17\" x=\"352.679688\" y=\"456.480469\"/>\n",
       "  <use xlink:href=\"#glyph0-10\" x=\"356.009766\" y=\"456.480469\"/>\n",
       "  <use xlink:href=\"#glyph0-6\" x=\"362.679688\" y=\"456.480469\"/>\n",
       "  <use xlink:href=\"#glyph0-9\" x=\"368.241211\" y=\"456.480469\"/>\n",
       "  <use xlink:href=\"#glyph0-15\" x=\"373.241211\" y=\"456.480469\"/>\n",
       "  <use xlink:href=\"#glyph0-18\" x=\"376.019531\" y=\"456.480469\"/>\n",
       "  <use xlink:href=\"#glyph0-1\" x=\"378.797852\" y=\"456.480469\"/>\n",
       "  <use xlink:href=\"#glyph0-9\" x=\"385.467773\" y=\"456.480469\"/>\n",
       "  <use xlink:href=\"#glyph0-4\" x=\"390.467773\" y=\"456.480469\"/>\n",
       "  <use xlink:href=\"#glyph0-6\" x=\"392.689453\" y=\"456.480469\"/>\n",
       "</g>\n",
       "<path style=\"fill:none;stroke-width:0.75;stroke-linecap:round;stroke-linejoin:round;stroke:rgb(0%,0%,0%);stroke-opacity:1;stroke-miterlimit:10;\" d=\"M 59.039062 388.132812 L 59.039062 101.464844 \"/>\n",
       "<path style=\"fill:none;stroke-width:0.75;stroke-linecap:round;stroke-linejoin:round;stroke:rgb(0%,0%,0%);stroke-opacity:1;stroke-miterlimit:10;\" d=\"M 59.039062 388.132812 L 51.839844 388.132812 \"/>\n",
       "<path style=\"fill:none;stroke-width:0.75;stroke-linecap:round;stroke-linejoin:round;stroke:rgb(0%,0%,0%);stroke-opacity:1;stroke-miterlimit:10;\" d=\"M 59.039062 340.355469 L 51.839844 340.355469 \"/>\n",
       "<path style=\"fill:none;stroke-width:0.75;stroke-linecap:round;stroke-linejoin:round;stroke:rgb(0%,0%,0%);stroke-opacity:1;stroke-miterlimit:10;\" d=\"M 59.039062 292.578125 L 51.839844 292.578125 \"/>\n",
       "<path style=\"fill:none;stroke-width:0.75;stroke-linecap:round;stroke-linejoin:round;stroke:rgb(0%,0%,0%);stroke-opacity:1;stroke-miterlimit:10;\" d=\"M 59.039062 244.800781 L 51.839844 244.800781 \"/>\n",
       "<path style=\"fill:none;stroke-width:0.75;stroke-linecap:round;stroke-linejoin:round;stroke:rgb(0%,0%,0%);stroke-opacity:1;stroke-miterlimit:10;\" d=\"M 59.039062 197.023438 L 51.839844 197.023438 \"/>\n",
       "<path style=\"fill:none;stroke-width:0.75;stroke-linecap:round;stroke-linejoin:round;stroke:rgb(0%,0%,0%);stroke-opacity:1;stroke-miterlimit:10;\" d=\"M 59.039062 149.246094 L 51.839844 149.246094 \"/>\n",
       "<path style=\"fill:none;stroke-width:0.75;stroke-linecap:round;stroke-linejoin:round;stroke:rgb(0%,0%,0%);stroke-opacity:1;stroke-miterlimit:10;\" d=\"M 59.039062 101.464844 L 51.839844 101.464844 \"/>\n",
       "<g style=\"fill:rgb(0%,0%,0%);fill-opacity:1;\">\n",
       "  <use xlink:href=\"#glyph1-1\" x=\"41.761719\" y=\"393.695312\"/>\n",
       "  <use xlink:href=\"#glyph1-2\" x=\"41.761719\" y=\"388.133789\"/>\n",
       "</g>\n",
       "<g style=\"fill:rgb(0%,0%,0%);fill-opacity:1;\">\n",
       "  <use xlink:href=\"#glyph1-1\" x=\"41.761719\" y=\"345.917969\"/>\n",
       "  <use xlink:href=\"#glyph1-1\" x=\"41.761719\" y=\"340.356445\"/>\n",
       "</g>\n",
       "<g style=\"fill:rgb(0%,0%,0%);fill-opacity:1;\">\n",
       "  <use xlink:href=\"#glyph1-3\" x=\"41.761719\" y=\"298.140625\"/>\n",
       "  <use xlink:href=\"#glyph1-2\" x=\"41.761719\" y=\"292.579102\"/>\n",
       "</g>\n",
       "<g style=\"fill:rgb(0%,0%,0%);fill-opacity:1;\">\n",
       "  <use xlink:href=\"#glyph1-3\" x=\"41.761719\" y=\"250.363281\"/>\n",
       "  <use xlink:href=\"#glyph1-1\" x=\"41.761719\" y=\"244.801758\"/>\n",
       "</g>\n",
       "<g style=\"fill:rgb(0%,0%,0%);fill-opacity:1;\">\n",
       "  <use xlink:href=\"#glyph1-4\" x=\"41.761719\" y=\"202.585938\"/>\n",
       "  <use xlink:href=\"#glyph1-2\" x=\"41.761719\" y=\"197.024414\"/>\n",
       "</g>\n",
       "<g style=\"fill:rgb(0%,0%,0%);fill-opacity:1;\">\n",
       "  <use xlink:href=\"#glyph1-4\" x=\"41.761719\" y=\"154.808594\"/>\n",
       "  <use xlink:href=\"#glyph1-1\" x=\"41.761719\" y=\"149.24707\"/>\n",
       "</g>\n",
       "<g style=\"fill:rgb(0%,0%,0%);fill-opacity:1;\">\n",
       "  <use xlink:href=\"#glyph1-5\" x=\"41.761719\" y=\"107.027344\"/>\n",
       "  <use xlink:href=\"#glyph1-2\" x=\"41.761719\" y=\"101.46582\"/>\n",
       "</g>\n",
       "<g style=\"fill:rgb(0%,0%,0%);fill-opacity:1;\">\n",
       "  <use xlink:href=\"#glyph0-19\" x=\"178.851562\" y=\"33.105469\"/>\n",
       "  <use xlink:href=\"#glyph0-4\" x=\"184.413086\" y=\"33.105469\"/>\n",
       "  <use xlink:href=\"#glyph0-2\" x=\"186.634766\" y=\"33.105469\"/>\n",
       "  <use xlink:href=\"#glyph0-8\" x=\"189.413086\" y=\"33.105469\"/>\n",
       "  <use xlink:href=\"#glyph0-18\" x=\"194.974609\" y=\"33.105469\"/>\n",
       "  <use xlink:href=\"#glyph0-10\" x=\"197.75293\" y=\"33.105469\"/>\n",
       "  <use xlink:href=\"#glyph0-20\" x=\"204.422852\" y=\"33.105469\"/>\n",
       "  <use xlink:href=\"#glyph0-13\" x=\"209.422852\" y=\"33.105469\"/>\n",
       "  <use xlink:href=\"#glyph0-8\" x=\"214.984375\" y=\"33.105469\"/>\n",
       "  <use xlink:href=\"#glyph0-5\" x=\"220.545898\" y=\"33.105469\"/>\n",
       "  <use xlink:href=\"#glyph0-15\" x=\"225.545898\" y=\"33.105469\"/>\n",
       "  <use xlink:href=\"#glyph0-6\" x=\"228.324219\" y=\"33.105469\"/>\n",
       "  <use xlink:href=\"#glyph0-21\" x=\"233.885742\" y=\"33.105469\"/>\n",
       "  <use xlink:href=\"#glyph0-5\" x=\"239.447266\" y=\"33.105469\"/>\n",
       "  <use xlink:href=\"#glyph0-22\" x=\"244.447266\" y=\"33.105469\"/>\n",
       "  <use xlink:href=\"#glyph0-18\" x=\"249.447266\" y=\"33.105469\"/>\n",
       "  <use xlink:href=\"#glyph0-12\" x=\"252.225586\" y=\"33.105469\"/>\n",
       "  <use xlink:href=\"#glyph0-2\" x=\"257.787109\" y=\"33.105469\"/>\n",
       "  <use xlink:href=\"#glyph0-18\" x=\"260.56543\" y=\"33.105469\"/>\n",
       "  <use xlink:href=\"#glyph0-23\" x=\"263.34375\" y=\"33.105469\"/>\n",
       "  <use xlink:href=\"#glyph0-12\" x=\"270.56543\" y=\"33.105469\"/>\n",
       "  <use xlink:href=\"#glyph0-11\" x=\"276.126953\" y=\"33.105469\"/>\n",
       "  <use xlink:href=\"#glyph0-21\" x=\"281.688477\" y=\"33.105469\"/>\n",
       "  <use xlink:href=\"#glyph0-15\" x=\"287.25\" y=\"33.105469\"/>\n",
       "  <use xlink:href=\"#glyph0-3\" x=\"290.02832\" y=\"33.105469\"/>\n",
       "  <use xlink:href=\"#glyph0-4\" x=\"293.358398\" y=\"33.105469\"/>\n",
       "  <use xlink:href=\"#glyph0-8\" x=\"295.580078\" y=\"33.105469\"/>\n",
       "  <use xlink:href=\"#glyph0-9\" x=\"301.141602\" y=\"33.105469\"/>\n",
       "  <use xlink:href=\"#glyph0-18\" x=\"306.141602\" y=\"33.105469\"/>\n",
       "  <use xlink:href=\"#glyph0-24\" x=\"308.919922\" y=\"33.105469\"/>\n",
       "  <use xlink:href=\"#glyph0-22\" x=\"314.481445\" y=\"33.105469\"/>\n",
       "  <use xlink:href=\"#glyph0-18\" x=\"319.481445\" y=\"33.105469\"/>\n",
       "  <use xlink:href=\"#glyph0-25\" x=\"322.259766\" y=\"33.105469\"/>\n",
       "  <use xlink:href=\"#glyph0-8\" x=\"329.481445\" y=\"33.105469\"/>\n",
       "  <use xlink:href=\"#glyph0-26\" x=\"335.042969\" y=\"33.105469\"/>\n",
       "  <use xlink:href=\"#glyph0-4\" x=\"340.604492\" y=\"33.105469\"/>\n",
       "  <use xlink:href=\"#glyph0-12\" x=\"342.826172\" y=\"33.105469\"/>\n",
       "  <use xlink:href=\"#glyph0-21\" x=\"348.387695\" y=\"33.105469\"/>\n",
       "</g>\n",
       "<g style=\"fill:rgb(0%,0%,0%);fill-opacity:1;\">\n",
       "  <use xlink:href=\"#glyph1-6\" x=\"12.960938\" y=\"280.097656\"/>\n",
       "  <use xlink:href=\"#glyph1-7\" x=\"12.960938\" y=\"274.536133\"/>\n",
       "  <use xlink:href=\"#glyph1-8\" x=\"12.960938\" y=\"272.314453\"/>\n",
       "  <use xlink:href=\"#glyph1-9\" x=\"12.960938\" y=\"269.536133\"/>\n",
       "  <use xlink:href=\"#glyph1-10\" x=\"12.960938\" y=\"263.974609\"/>\n",
       "  <use xlink:href=\"#glyph1-11\" x=\"12.960938\" y=\"261.196289\"/>\n",
       "  <use xlink:href=\"#glyph1-12\" x=\"12.960938\" y=\"254.526367\"/>\n",
       "  <use xlink:href=\"#glyph1-13\" x=\"12.960938\" y=\"249.526367\"/>\n",
       "  <use xlink:href=\"#glyph1-9\" x=\"12.960938\" y=\"243.964844\"/>\n",
       "  <use xlink:href=\"#glyph1-14\" x=\"12.960938\" y=\"238.40332\"/>\n",
       "  <use xlink:href=\"#glyph1-15\" x=\"12.960938\" y=\"233.40332\"/>\n",
       "  <use xlink:href=\"#glyph1-16\" x=\"12.960938\" y=\"230.625\"/>\n",
       "  <use xlink:href=\"#glyph1-17\" x=\"12.960938\" y=\"225.063477\"/>\n",
       "  <use xlink:href=\"#glyph1-14\" x=\"12.960938\" y=\"219.501953\"/>\n",
       "  <use xlink:href=\"#glyph1-18\" x=\"12.960938\" y=\"214.501953\"/>\n",
       "</g>\n",
       "<path style=\"fill:none;stroke-width:0.75;stroke-linecap:round;stroke-linejoin:round;stroke:rgb(0%,0%,0%);stroke-opacity:1;stroke-miterlimit:10;\" d=\"M 59.039062 430.558594 L 473.761719 430.558594 L 473.761719 59.039062 L 59.039062 59.039062 L 59.039062 430.558594 \"/>\n",
       "</g>\n",
       "</svg>\n"
      ],
      "text/plain": [
       "Plot with title “Life Expectancy of Countries by Region”"
      ]
     },
     "metadata": {
      "image/svg+xml": {
       "isolated": true
      }
     },
     "output_type": "display_data"
    }
   ],
   "source": [
    "boxplot(WHO$LifeExpectancy ~ WHO$Region, xlab=\"\", ylab=\"Life Expectancy\", main=\"Life Expectancy of Countries by Region\")"
   ]
  },
  {
   "cell_type": "code",
   "execution_count": 8,
   "metadata": {
    "collapsed": false
   },
   "outputs": [
    {
     "data": {
      "text/plain": [
       "\n",
       "               Africa              Americas Eastern Mediterranean \n",
       "                   46                    35                    22 \n",
       "               Europe       South-East Asia       Western Pacific \n",
       "                   53                    11                    27 "
      ]
     },
     "execution_count": 8,
     "metadata": {},
     "output_type": "execute_result"
    }
   ],
   "source": [
    "table(WHO$Region)"
   ]
  },
  {
   "cell_type": "markdown",
   "metadata": {},
   "source": [
    "### tapply\n"
   ]
  },
  {
   "cell_type": "code",
   "execution_count": 13,
   "metadata": {
    "collapsed": false
   },
   "outputs": [
    {
     "data": {
      "text/html": [
       "<dl class=dl-horizontal>\n",
       "\t<dt>Africa</dt>\n",
       "\t\t<dd>5.22065217391304</dd>\n",
       "\t<dt>Americas</dt>\n",
       "\t\t<dd>10.9437142857143</dd>\n",
       "\t<dt>Eastern Mediterranean</dt>\n",
       "\t\t<dd>5.62</dd>\n",
       "\t<dt>Europe</dt>\n",
       "\t\t<dd>19.7749056603774</dd>\n",
       "\t<dt>South-East Asia</dt>\n",
       "\t\t<dd>8.76909090909091</dd>\n",
       "\t<dt>Western Pacific</dt>\n",
       "\t\t<dd>10.162962962963</dd>\n",
       "</dl>\n"
      ],
      "text/latex": [
       "\\begin{description*}\n",
       "\\item[Africa] 5.22065217391304\n",
       "\\item[Americas] 10.9437142857143\n",
       "\\item[Eastern Mediterranean] 5.62\n",
       "\\item[Europe] 19.7749056603774\n",
       "\\item[South-East Asia] 8.76909090909091\n",
       "\\item[Western Pacific] 10.162962962963\n",
       "\\end{description*}\n"
      ],
      "text/markdown": [
       "Africa\n",
       ":   5.22065217391304Americas\n",
       ":   10.9437142857143Eastern Mediterranean\n",
       ":   5.62Europe\n",
       ":   19.7749056603774South-East Asia\n",
       ":   8.76909090909091Western Pacific\n",
       ":   10.162962962963\n",
       "\n"
      ],
      "text/plain": [
       "               Africa              Americas Eastern Mediterranean \n",
       "             5.220652             10.943714              5.620000 \n",
       "               Europe       South-East Asia       Western Pacific \n",
       "            19.774906              8.769091             10.162963 "
      ]
     },
     "execution_count": 13,
     "metadata": {},
     "output_type": "execute_result"
    }
   ],
   "source": [
    "tapply(WHO$Over60, WHO$Region, mean)\n"
   ]
  },
  {
   "cell_type": "markdown",
   "metadata": {},
   "source": [
    "This splits the observations by Region\n",
    "and then computes the mean of the variable Over60.\n",
    "So tapply splits the data by the second argument you give,\n",
    "and then applies the third argument function\n",
    "to the variable given as the first argument.\n",
    "This result tells us that the average percentage\n",
    "of the population over 60 in African countries is about 5%,\n",
    "while the average percentage of the population over 60\n",
    "in European countries is about 20%."
   ]
  },
  {
   "cell_type": "code",
   "execution_count": 12,
   "metadata": {
    "collapsed": false
   },
   "outputs": [
    {
     "data": {
      "text/html": [
       "<dl class=dl-horizontal>\n",
       "\t<dt>Africa</dt>\n",
       "\t\t<dd>31.1</dd>\n",
       "\t<dt>Americas</dt>\n",
       "\t\t<dd>75.2</dd>\n",
       "\t<dt>Eastern Mediterranean</dt>\n",
       "\t\t<dd>63.9</dd>\n",
       "\t<dt>Europe</dt>\n",
       "\t\t<dd>95.2</dd>\n",
       "\t<dt>South-East Asia</dt>\n",
       "\t\t<dd>56.8</dd>\n",
       "\t<dt>Western Pacific</dt>\n",
       "\t\t<dd>60.6</dd>\n",
       "</dl>\n"
      ],
      "text/latex": [
       "\\begin{description*}\n",
       "\\item[Africa] 31.1\n",
       "\\item[Americas] 75.2\n",
       "\\item[Eastern Mediterranean] 63.9\n",
       "\\item[Europe] 95.2\n",
       "\\item[South-East Asia] 56.8\n",
       "\\item[Western Pacific] 60.6\n",
       "\\end{description*}\n"
      ],
      "text/markdown": [
       "Africa\n",
       ":   31.1Americas\n",
       ":   75.2Eastern Mediterranean\n",
       ":   63.9Europe\n",
       ":   95.2South-East Asia\n",
       ":   56.8Western Pacific\n",
       ":   60.6\n",
       "\n"
      ],
      "text/plain": [
       "               Africa              Americas Eastern Mediterranean \n",
       "                 31.1                  75.2                  63.9 \n",
       "               Europe       South-East Asia       Western Pacific \n",
       "                 95.2                  56.8                  60.6 "
      ]
     },
     "execution_count": 12,
     "metadata": {},
     "output_type": "execute_result"
    }
   ],
   "source": [
    "tapply(WHO$LiteracyRate, WHO$Region, min, na.rm=TRUE)"
   ]
  },
  {
   "cell_type": "markdown",
   "metadata": {},
   "source": [
    "So we've split the data by Region again\n",
    "and computed the minimum value of LiteracyRate\n",
    "for all countries with a value in the LiteracyRate variable."
   ]
  },
  {
   "cell_type": "markdown",
   "metadata": {},
   "source": [
    "### Quick Question\n",
    "Use the `tapply` function to find the average child mortality rate of countries in each region.\n",
    "\n",
    "Which region has the lowest average child mortality rate across all countries in that region?"
   ]
  },
  {
   "cell_type": "code",
   "execution_count": 17,
   "metadata": {
    "collapsed": false
   },
   "outputs": [
    {
     "data": {
      "text/html": [
       "<dl class=dl-horizontal>\n",
       "\t<dt>Africa</dt>\n",
       "\t\t<dd>84.0369565217391</dd>\n",
       "\t<dt>Americas</dt>\n",
       "\t\t<dd>19.3228571428571</dd>\n",
       "\t<dt>Eastern Mediterranean</dt>\n",
       "\t\t<dd>40.25</dd>\n",
       "\t<dt>Europe</dt>\n",
       "\t\t<dd>10.0509433962264</dd>\n",
       "\t<dt>South-East Asia</dt>\n",
       "\t\t<dd>35.0454545454545</dd>\n",
       "\t<dt>Western Pacific</dt>\n",
       "\t\t<dd>24.7111111111111</dd>\n",
       "</dl>\n"
      ],
      "text/latex": [
       "\\begin{description*}\n",
       "\\item[Africa] 84.0369565217391\n",
       "\\item[Americas] 19.3228571428571\n",
       "\\item[Eastern Mediterranean] 40.25\n",
       "\\item[Europe] 10.0509433962264\n",
       "\\item[South-East Asia] 35.0454545454545\n",
       "\\item[Western Pacific] 24.7111111111111\n",
       "\\end{description*}\n"
      ],
      "text/markdown": [
       "Africa\n",
       ":   84.0369565217391Americas\n",
       ":   19.3228571428571Eastern Mediterranean\n",
       ":   40.25Europe\n",
       ":   10.0509433962264South-East Asia\n",
       ":   35.0454545454545Western Pacific\n",
       ":   24.7111111111111\n",
       "\n"
      ],
      "text/plain": [
       "               Africa              Americas Eastern Mediterranean \n",
       "             84.03696              19.32286              40.25000 \n",
       "               Europe       South-East Asia       Western Pacific \n",
       "             10.05094              35.04545              24.71111 "
      ]
     },
     "execution_count": 17,
     "metadata": {},
     "output_type": "execute_result"
    }
   ],
   "source": [
    "tapply(WHO$ChildMortality, WHO$Region, mean)"
   ]
  },
  {
   "cell_type": "markdown",
   "metadata": {},
   "source": [
    "# Understanding Food: Nutritional Education with Data (Recitation)"
   ]
  },
  {
   "cell_type": "markdown",
   "metadata": {},
   "source": [
    "## Video 2: Working with Data in R"
   ]
  },
  {
   "cell_type": "code",
   "execution_count": 18,
   "metadata": {
    "collapsed": false
   },
   "outputs": [
    {
     "data": {
      "text/html": [
       "'/Users/zarak/Courses/Analytics Edge'"
      ],
      "text/latex": [
       "'/Users/zarak/Courses/Analytics Edge'"
      ],
      "text/markdown": [
       "'/Users/zarak/Courses/Analytics Edge'"
      ],
      "text/plain": [
       "[1] \"/Users/zarak/Courses/Analytics Edge\""
      ]
     },
     "execution_count": 18,
     "metadata": {},
     "output_type": "execute_result"
    }
   ],
   "source": [
    "getwd()"
   ]
  },
  {
   "cell_type": "code",
   "execution_count": 20,
   "metadata": {
    "collapsed": false
   },
   "outputs": [
    {
     "name": "stdout",
     "output_type": "stream",
     "text": [
      "'data.frame':\t7058 obs. of  16 variables:\n",
      " $ ID          : int  1001 1002 1003 1004 1005 1006 1007 1008 1009 1010 ...\n",
      " $ Description : Factor w/ 7054 levels \"ABALONE,MIXED SPECIES,RAW\",..: 1303 1302 1298 2303 2304 2305 2306 2307 2308 2309 ...\n",
      " $ Calories    : int  717 717 876 353 371 334 300 376 403 387 ...\n",
      " $ Protein     : num  0.85 0.85 0.28 21.4 23.24 ...\n",
      " $ TotalFat    : num  81.1 81.1 99.5 28.7 29.7 ...\n",
      " $ Carbohydrate: num  0.06 0.06 0 2.34 2.79 0.45 0.46 3.06 1.28 4.78 ...\n",
      " $ Sodium      : int  714 827 2 1395 560 629 842 690 621 700 ...\n",
      " $ SaturatedFat: num  51.4 50.5 61.9 18.7 18.8 ...\n",
      " $ Cholesterol : int  215 219 256 75 94 100 72 93 105 103 ...\n",
      " $ Sugar       : num  0.06 0.06 0 0.5 0.51 0.45 0.46 NA 0.52 NA ...\n",
      " $ Calcium     : int  24 24 4 528 674 184 388 673 721 643 ...\n",
      " $ Iron        : num  0.02 0.16 0 0.31 0.43 0.5 0.33 0.64 0.68 0.21 ...\n",
      " $ Potassium   : int  24 26 5 256 136 152 187 93 98 95 ...\n",
      " $ VitaminC    : num  0 0 0 0 0 0 0 0 0 0 ...\n",
      " $ VitaminE    : num  2.32 2.32 2.8 0.25 0.26 0.24 0.21 NA 0.29 NA ...\n",
      " $ VitaminD    : num  1.5 1.5 1.8 0.5 0.5 0.5 0.4 NA 0.6 NA ...\n"
     ]
    }
   ],
   "source": [
    "USDA = read.csv(\"USDA.csv\")\n",
    "str(USDA)"
   ]
  },
  {
   "cell_type": "code",
   "execution_count": 21,
   "metadata": {
    "collapsed": false
   },
   "outputs": [
    {
     "data": {
      "text/plain": [
       "       ID       \n",
       " Min.   : 1001  \n",
       " 1st Qu.: 8387  \n",
       " Median :13294  \n",
       " Mean   :14260  \n",
       " 3rd Qu.:18337  \n",
       " Max.   :93600  \n",
       "                \n",
       "                                                       Description  \n",
       " BEEF,CHUCK,UNDER BLADE CNTR STEAK,BNLESS,DENVER CUT,LN,0\" FA:   2  \n",
       " CAMPBELL,CAMPBELL'S SEL MICROWAVEABLE BOWLS,HEA             :   2  \n",
       " OIL,INDUSTRIAL,PALM KERNEL (HYDROGENATED),CONFECTION FAT    :   2  \n",
       " POPCORN,OIL-POPPED,LOFAT                                    :   2  \n",
       " ABALONE,MIXED SPECIES,RAW                                   :   1  \n",
       " ABALONE,MXD SP,CKD,FRIED                                    :   1  \n",
       " (Other)                                                     :7048  \n",
       "    Calories        Protein         TotalFat       Carbohydrate   \n",
       " Min.   :  0.0   Min.   : 0.00   Min.   :  0.00   Min.   :  0.00  \n",
       " 1st Qu.: 85.0   1st Qu.: 2.29   1st Qu.:  0.72   1st Qu.:  0.00  \n",
       " Median :181.0   Median : 8.20   Median :  4.37   Median :  7.13  \n",
       " Mean   :219.7   Mean   :11.71   Mean   : 10.32   Mean   : 20.70  \n",
       " 3rd Qu.:331.0   3rd Qu.:20.43   3rd Qu.: 12.70   3rd Qu.: 28.17  \n",
       " Max.   :902.0   Max.   :88.32   Max.   :100.00   Max.   :100.00  \n",
       " NA's   :1       NA's   :1       NA's   :1        NA's   :1       \n",
       "     Sodium         SaturatedFat     Cholesterol          Sugar       \n",
       " Min.   :    0.0   Min.   : 0.000   Min.   :   0.00   Min.   : 0.000  \n",
       " 1st Qu.:   37.0   1st Qu.: 0.172   1st Qu.:   0.00   1st Qu.: 0.000  \n",
       " Median :   79.0   Median : 1.256   Median :   3.00   Median : 1.395  \n",
       " Mean   :  322.1   Mean   : 3.452   Mean   :  41.55   Mean   : 8.257  \n",
       " 3rd Qu.:  386.0   3rd Qu.: 4.028   3rd Qu.:  69.00   3rd Qu.: 7.875  \n",
       " Max.   :38758.0   Max.   :95.600   Max.   :3100.00   Max.   :99.800  \n",
       " NA's   :84        NA's   :301      NA's   :288       NA's   :1910    \n",
       "    Calcium             Iron           Potassium          VitaminC       \n",
       " Min.   :   0.00   Min.   :  0.000   Min.   :    0.0   Min.   :   0.000  \n",
       " 1st Qu.:   9.00   1st Qu.:  0.520   1st Qu.:  135.0   1st Qu.:   0.000  \n",
       " Median :  19.00   Median :  1.330   Median :  250.0   Median :   0.000  \n",
       " Mean   :  73.53   Mean   :  2.828   Mean   :  301.4   Mean   :   9.436  \n",
       " 3rd Qu.:  56.00   3rd Qu.:  2.620   3rd Qu.:  348.0   3rd Qu.:   3.100  \n",
       " Max.   :7364.00   Max.   :123.600   Max.   :16500.0   Max.   :2400.000  \n",
       " NA's   :136       NA's   :123       NA's   :409       NA's   :332       \n",
       "    VitaminE          VitaminD       \n",
       " Min.   :  0.000   Min.   :  0.0000  \n",
       " 1st Qu.:  0.120   1st Qu.:  0.0000  \n",
       " Median :  0.270   Median :  0.0000  \n",
       " Mean   :  1.488   Mean   :  0.5769  \n",
       " 3rd Qu.:  0.710   3rd Qu.:  0.1000  \n",
       " Max.   :149.400   Max.   :250.0000  \n",
       " NA's   :2720      NA's   :2834      "
      ]
     },
     "execution_count": 21,
     "metadata": {},
     "output_type": "execute_result"
    }
   ],
   "source": [
    "summary(USDA)"
   ]
  },
  {
   "cell_type": "markdown",
   "metadata": {},
   "source": [
    "## Video 3: Data Analysis"
   ]
  },
  {
   "cell_type": "code",
   "execution_count": 23,
   "metadata": {
    "collapsed": false
   },
   "outputs": [
    {
     "data": {
      "text/html": [
       "265"
      ],
      "text/latex": [
       "265"
      ],
      "text/markdown": [
       "265"
      ],
      "text/plain": [
       "[1] 265"
      ]
     },
     "execution_count": 23,
     "metadata": {},
     "output_type": "execute_result"
    }
   ],
   "source": [
    "which.max(USDA$Sodium)"
   ]
  },
  {
   "cell_type": "code",
   "execution_count": 24,
   "metadata": {
    "collapsed": false
   },
   "outputs": [
    {
     "data": {
      "text/html": [
       "<ol class=list-inline>\n",
       "\t<li>'ID'</li>\n",
       "\t<li>'Description'</li>\n",
       "\t<li>'Calories'</li>\n",
       "\t<li>'Protein'</li>\n",
       "\t<li>'TotalFat'</li>\n",
       "\t<li>'Carbohydrate'</li>\n",
       "\t<li>'Sodium'</li>\n",
       "\t<li>'SaturatedFat'</li>\n",
       "\t<li>'Cholesterol'</li>\n",
       "\t<li>'Sugar'</li>\n",
       "\t<li>'Calcium'</li>\n",
       "\t<li>'Iron'</li>\n",
       "\t<li>'Potassium'</li>\n",
       "\t<li>'VitaminC'</li>\n",
       "\t<li>'VitaminE'</li>\n",
       "\t<li>'VitaminD'</li>\n",
       "</ol>\n"
      ],
      "text/latex": [
       "\\begin{enumerate*}\n",
       "\\item 'ID'\n",
       "\\item 'Description'\n",
       "\\item 'Calories'\n",
       "\\item 'Protein'\n",
       "\\item 'TotalFat'\n",
       "\\item 'Carbohydrate'\n",
       "\\item 'Sodium'\n",
       "\\item 'SaturatedFat'\n",
       "\\item 'Cholesterol'\n",
       "\\item 'Sugar'\n",
       "\\item 'Calcium'\n",
       "\\item 'Iron'\n",
       "\\item 'Potassium'\n",
       "\\item 'VitaminC'\n",
       "\\item 'VitaminE'\n",
       "\\item 'VitaminD'\n",
       "\\end{enumerate*}\n"
      ],
      "text/markdown": [
       "1. 'ID'\n",
       "2. 'Description'\n",
       "3. 'Calories'\n",
       "4. 'Protein'\n",
       "5. 'TotalFat'\n",
       "6. 'Carbohydrate'\n",
       "7. 'Sodium'\n",
       "8. 'SaturatedFat'\n",
       "9. 'Cholesterol'\n",
       "10. 'Sugar'\n",
       "11. 'Calcium'\n",
       "12. 'Iron'\n",
       "13. 'Potassium'\n",
       "14. 'VitaminC'\n",
       "15. 'VitaminE'\n",
       "16. 'VitaminD'\n",
       "\n",
       "\n"
      ],
      "text/plain": [
       " [1] \"ID\"           \"Description\"  \"Calories\"     \"Protein\"      \"TotalFat\"    \n",
       " [6] \"Carbohydrate\" \"Sodium\"       \"SaturatedFat\" \"Cholesterol\"  \"Sugar\"       \n",
       "[11] \"Calcium\"      \"Iron\"         \"Potassium\"    \"VitaminC\"     \"VitaminE\"    \n",
       "[16] \"VitaminD\"    "
      ]
     },
     "execution_count": 24,
     "metadata": {},
     "output_type": "execute_result"
    }
   ],
   "source": [
    "names(USDA)"
   ]
  },
  {
   "cell_type": "code",
   "execution_count": 25,
   "metadata": {
    "collapsed": false
   },
   "outputs": [
    {
     "data": {
      "text/html": [
       "SALT,TABLE"
      ],
      "text/latex": [
       "SALT,TABLE"
      ],
      "text/markdown": [
       "SALT,TABLE"
      ],
      "text/plain": [
       "[1] SALT,TABLE\n",
       "7054 Levels: ABALONE,MIXED SPECIES,RAW ABALONE,MXD SP,CKD,FRIED ... ZWIEBACK"
      ]
     },
     "execution_count": 25,
     "metadata": {},
     "output_type": "execute_result"
    }
   ],
   "source": [
    "USDA$Description[265]"
   ]
  },
  {
   "cell_type": "code",
   "execution_count": 27,
   "metadata": {
    "collapsed": false
   },
   "outputs": [
    {
     "data": {
      "text/html": [
       "10"
      ],
      "text/latex": [
       "10"
      ],
      "text/markdown": [
       "10"
      ],
      "text/plain": [
       "[1] 10"
      ]
     },
     "execution_count": 27,
     "metadata": {},
     "output_type": "execute_result"
    }
   ],
   "source": [
    "HighSodium = subset(USDA, Sodium>10000)\n",
    "nrow(HighSodium)"
   ]
  },
  {
   "cell_type": "code",
   "execution_count": 28,
   "metadata": {
    "collapsed": false
   },
   "outputs": [
    {
     "data": {
      "text/html": [
       "<ol class=list-inline>\n",
       "\t<li>SALT,TABLE</li>\n",
       "\t<li>SOUP,BF BROTH OR BOUILLON,PDR,DRY</li>\n",
       "\t<li>SOUP,BEEF BROTH,CUBED,DRY</li>\n",
       "\t<li>SOUP,CHICK BROTH OR BOUILLON,DRY</li>\n",
       "\t<li>SOUP,CHICK BROTH CUBES,DRY</li>\n",
       "\t<li>GRAVY,AU JUS,DRY</li>\n",
       "\t<li>ADOBO FRESCO</li>\n",
       "\t<li>LEAVENING AGENTS,BAKING PDR,DOUBLE-ACTING,NA AL SULFATE</li>\n",
       "\t<li>LEAVENING AGENTS,BAKING SODA</li>\n",
       "\t<li>DESSERTS,RENNIN,TABLETS,UNSWTND</li>\n",
       "</ol>\n"
      ],
      "text/latex": [
       "\\begin{enumerate*}\n",
       "\\item SALT,TABLE\n",
       "\\item SOUP,BF BROTH OR BOUILLON,PDR,DRY\n",
       "\\item SOUP,BEEF BROTH,CUBED,DRY\n",
       "\\item SOUP,CHICK BROTH OR BOUILLON,DRY\n",
       "\\item SOUP,CHICK BROTH CUBES,DRY\n",
       "\\item GRAVY,AU JUS,DRY\n",
       "\\item ADOBO FRESCO\n",
       "\\item LEAVENING AGENTS,BAKING PDR,DOUBLE-ACTING,NA AL SULFATE\n",
       "\\item LEAVENING AGENTS,BAKING SODA\n",
       "\\item DESSERTS,RENNIN,TABLETS,UNSWTND\n",
       "\\end{enumerate*}\n"
      ],
      "text/markdown": [
       "1. SALT,TABLE\n",
       "2. SOUP,BF BROTH OR BOUILLON,PDR,DRY\n",
       "3. SOUP,BEEF BROTH,CUBED,DRY\n",
       "4. SOUP,CHICK BROTH OR BOUILLON,DRY\n",
       "5. SOUP,CHICK BROTH CUBES,DRY\n",
       "6. GRAVY,AU JUS,DRY\n",
       "7. ADOBO FRESCO\n",
       "8. LEAVENING AGENTS,BAKING PDR,DOUBLE-ACTING,NA AL SULFATE\n",
       "9. LEAVENING AGENTS,BAKING SODA\n",
       "10. DESSERTS,RENNIN,TABLETS,UNSWTND\n",
       "\n",
       "\n"
      ],
      "text/plain": [
       " [1] SALT,TABLE                                             \n",
       " [2] SOUP,BF BROTH OR BOUILLON,PDR,DRY                      \n",
       " [3] SOUP,BEEF BROTH,CUBED,DRY                              \n",
       " [4] SOUP,CHICK BROTH OR BOUILLON,DRY                       \n",
       " [5] SOUP,CHICK BROTH CUBES,DRY                             \n",
       " [6] GRAVY,AU JUS,DRY                                       \n",
       " [7] ADOBO FRESCO                                           \n",
       " [8] LEAVENING AGENTS,BAKING PDR,DOUBLE-ACTING,NA AL SULFATE\n",
       " [9] LEAVENING AGENTS,BAKING SODA                           \n",
       "[10] DESSERTS,RENNIN,TABLETS,UNSWTND                        \n",
       "7054 Levels: ABALONE,MIXED SPECIES,RAW ABALONE,MXD SP,CKD,FRIED ... ZWIEBACK"
      ]
     },
     "execution_count": 28,
     "metadata": {},
     "output_type": "execute_result"
    }
   ],
   "source": [
    "HighSodium$Description"
   ]
  },
  {
   "cell_type": "code",
   "execution_count": 29,
   "metadata": {
    "collapsed": false
   },
   "outputs": [
    {
     "data": {
      "text/html": [
       "4154"
      ],
      "text/latex": [
       "4154"
      ],
      "text/markdown": [
       "4154"
      ],
      "text/plain": [
       "[1] 4154"
      ]
     },
     "execution_count": 29,
     "metadata": {},
     "output_type": "execute_result"
    }
   ],
   "source": [
    "match(\"CAVIAR\", USDA$Description)"
   ]
  },
  {
   "cell_type": "code",
   "execution_count": 30,
   "metadata": {
    "collapsed": false
   },
   "outputs": [
    {
     "data": {
      "text/html": [
       "1500"
      ],
      "text/latex": [
       "1500"
      ],
      "text/markdown": [
       "1500"
      ],
      "text/plain": [
       "[1] 1500"
      ]
     },
     "execution_count": 30,
     "metadata": {},
     "output_type": "execute_result"
    }
   ],
   "source": [
    "USDA$Sodium[4154]"
   ]
  },
  {
   "cell_type": "code",
   "execution_count": 31,
   "metadata": {
    "collapsed": false
   },
   "outputs": [
    {
     "data": {
      "text/plain": [
       "   Min. 1st Qu.  Median    Mean 3rd Qu.    Max.    NA's \n",
       "    0.0    37.0    79.0   322.1   386.0 38760.0      84 "
      ]
     },
     "execution_count": 31,
     "metadata": {},
     "output_type": "execute_result"
    }
   ],
   "source": [
    "summary(USDA$Sodium)"
   ]
  },
  {
   "cell_type": "code",
   "execution_count": 33,
   "metadata": {
    "collapsed": false
   },
   "outputs": [
    {
     "data": {
      "text/html": [
       "1045.41693115788"
      ],
      "text/latex": [
       "1045.41693115788"
      ],
      "text/markdown": [
       "1045.41693115788"
      ],
      "text/plain": [
       "[1] 1045.417"
      ]
     },
     "execution_count": 33,
     "metadata": {},
     "output_type": "execute_result"
    }
   ],
   "source": [
    "sd(USDA$Sodium, na.rm=TRUE)"
   ]
  },
  {
   "cell_type": "code",
   "execution_count": null,
   "metadata": {
    "collapsed": true
   },
   "outputs": [],
   "source": []
  }
 ],
 "metadata": {
  "kernelspec": {
   "display_name": "R",
   "language": "R",
   "name": "ir"
  },
  "language_info": {
   "codemirror_mode": "r",
   "file_extension": ".r",
   "mimetype": "text/x-r-source",
   "name": "R",
   "pygments_lexer": "r",
   "version": "3.2.4"
  }
 },
 "nbformat": 4,
 "nbformat_minor": 0
}
